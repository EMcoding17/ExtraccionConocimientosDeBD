{
  "nbformat": 4,
  "nbformat_minor": 0,
  "metadata": {
    "colab": {
      "name": "Actividad(2,2).ipynb",
      "provenance": [],
      "include_colab_link": true
    },
    "kernelspec": {
      "name": "python3",
      "display_name": "Python 3"
    },
    "language_info": {
      "name": "python"
    }
  },
  "cells": [
    {
      "cell_type": "markdown",
      "metadata": {
        "id": "view-in-github",
        "colab_type": "text"
      },
      "source": [
        "<a href=\"https://colab.research.google.com/github/EMcoding17/ExtraccionConocimientosDeBD/blob/main/Actividad02/Actividad(2%2C2).ipynb\" target=\"_parent\"><img src=\"https://colab.research.google.com/assets/colab-badge.svg\" alt=\"Open In Colab\"/></a>"
      ]
    },
    {
      "cell_type": "markdown",
      "metadata": {
        "id": "API4EB1rPqOq"
      },
      "source": [
        "# **Actividad 02: Preparación de los datos**\n",
        "**Integrantes:**\n",
        "* Pérez Suarez Fernando\n",
        "* Romero Sosa Emma Yuridia\n",
        "\n",
        "**Situación:**\n",
        "\n",
        "Este conjunto de datos tiene datos de clientes que compran ropa en línea. La tienda ofrece sesiones de consejos de estilo y ropa en la tienda. Los clientes entran a la tienda, tienen sesiones / reuniones con un estilista personal, luego pueden ir a casa y ordenar en una aplicación móvil o sitio web la ropa que desean.\n",
        "\n",
        "La compañía está tratando de decidir si enfocar sus esfuerzos en su experiencia con la aplicación móvil o en su sitio web."
      ]
    },
    {
      "cell_type": "markdown",
      "metadata": {
        "id": "MFGtd3PElCFR"
      },
      "source": [
        "# Importar librerias"
      ]
    },
    {
      "cell_type": "code",
      "metadata": {
        "id": "014Dfqj2ifQ4",
        "colab": {
          "base_uri": "https://localhost:8080/"
        },
        "outputId": "44004421-41eb-40bc-89a0-3a5a0fed66f1"
      },
      "source": [
        "import numpy as np\n",
        "import pandas as pd\n",
        "\n",
        "print(np.__version__)\n",
        "print(pd.__version__)"
      ],
      "execution_count": 2,
      "outputs": [
        {
          "output_type": "stream",
          "name": "stdout",
          "text": [
            "1.19.5\n",
            "1.1.5\n"
          ]
        }
      ]
    },
    {
      "cell_type": "markdown",
      "metadata": {
        "id": "e0u58BDjlHeU"
      },
      "source": [
        "# Ver datos"
      ]
    },
    {
      "cell_type": "code",
      "metadata": {
        "colab": {
          "base_uri": "https://localhost:8080/",
          "height": 615
        },
        "id": "J0ly3gTqlJtQ",
        "outputId": "b23668b5-6f4d-4eb3-e5ce-cf8fe7e01729"
      },
      "source": [
        "datos = pd.read_csv('ecommerce_customers.csv',delimiter=',',header='infer')\n",
        "\n",
        "datos"
      ],
      "execution_count": null,
      "outputs": [
        {
          "output_type": "execute_result",
          "data": {
            "text/html": [
              "<div>\n",
              "<style scoped>\n",
              "    .dataframe tbody tr th:only-of-type {\n",
              "        vertical-align: middle;\n",
              "    }\n",
              "\n",
              "    .dataframe tbody tr th {\n",
              "        vertical-align: top;\n",
              "    }\n",
              "\n",
              "    .dataframe thead th {\n",
              "        text-align: right;\n",
              "    }\n",
              "</style>\n",
              "<table border=\"1\" class=\"dataframe\">\n",
              "  <thead>\n",
              "    <tr style=\"text-align: right;\">\n",
              "      <th></th>\n",
              "      <th>Email</th>\n",
              "      <th>Address</th>\n",
              "      <th>Avatar</th>\n",
              "      <th>Avg. Session Length</th>\n",
              "      <th>Time on App</th>\n",
              "      <th>Time on Website</th>\n",
              "      <th>Length of Membership</th>\n",
              "      <th>Yearly Amount Spent</th>\n",
              "    </tr>\n",
              "  </thead>\n",
              "  <tbody>\n",
              "    <tr>\n",
              "      <th>0</th>\n",
              "      <td>mstephenson@fernandez.com</td>\n",
              "      <td>835 Frank Tunnel\\nWrightmouth, MI 82180-9605</td>\n",
              "      <td>Violet</td>\n",
              "      <td>34.497268</td>\n",
              "      <td>12.655651</td>\n",
              "      <td>39.577668</td>\n",
              "      <td>4.082621</td>\n",
              "      <td>587.951054</td>\n",
              "    </tr>\n",
              "    <tr>\n",
              "      <th>1</th>\n",
              "      <td>hduke@hotmail.com</td>\n",
              "      <td>4547 Archer Common\\nDiazchester, CA 06566-8576</td>\n",
              "      <td>DarkGreen</td>\n",
              "      <td>31.926272</td>\n",
              "      <td>11.109461</td>\n",
              "      <td>37.268959</td>\n",
              "      <td>2.664034</td>\n",
              "      <td>392.204933</td>\n",
              "    </tr>\n",
              "    <tr>\n",
              "      <th>2</th>\n",
              "      <td>pallen@yahoo.com</td>\n",
              "      <td>24645 Valerie Unions Suite 582\\nCobbborough, D...</td>\n",
              "      <td>Bisque</td>\n",
              "      <td>33.000915</td>\n",
              "      <td>11.330278</td>\n",
              "      <td>37.110597</td>\n",
              "      <td>4.104543</td>\n",
              "      <td>487.547505</td>\n",
              "    </tr>\n",
              "    <tr>\n",
              "      <th>3</th>\n",
              "      <td>riverarebecca@gmail.com</td>\n",
              "      <td>1414 David Throughway\\nPort Jason, OH 22070-1220</td>\n",
              "      <td>SaddleBrown</td>\n",
              "      <td>34.305557</td>\n",
              "      <td>13.717514</td>\n",
              "      <td>36.721283</td>\n",
              "      <td>3.120179</td>\n",
              "      <td>581.852344</td>\n",
              "    </tr>\n",
              "    <tr>\n",
              "      <th>4</th>\n",
              "      <td>mstephens@davidson-herman.com</td>\n",
              "      <td>14023 Rodriguez Passage\\nPort Jacobville, PR 3...</td>\n",
              "      <td>MediumAquaMarine</td>\n",
              "      <td>33.330673</td>\n",
              "      <td>12.795189</td>\n",
              "      <td>37.536653</td>\n",
              "      <td>4.446308</td>\n",
              "      <td>599.406092</td>\n",
              "    </tr>\n",
              "    <tr>\n",
              "      <th>...</th>\n",
              "      <td>...</td>\n",
              "      <td>...</td>\n",
              "      <td>...</td>\n",
              "      <td>...</td>\n",
              "      <td>...</td>\n",
              "      <td>...</td>\n",
              "      <td>...</td>\n",
              "      <td>...</td>\n",
              "    </tr>\n",
              "    <tr>\n",
              "      <th>495</th>\n",
              "      <td>lewisjessica@craig-evans.com</td>\n",
              "      <td>4483 Jones Motorway Suite 872\\nLake Jamiefurt,...</td>\n",
              "      <td>Tan</td>\n",
              "      <td>33.237660</td>\n",
              "      <td>13.566160</td>\n",
              "      <td>36.417985</td>\n",
              "      <td>3.746573</td>\n",
              "      <td>573.847438</td>\n",
              "    </tr>\n",
              "    <tr>\n",
              "      <th>496</th>\n",
              "      <td>katrina56@gmail.com</td>\n",
              "      <td>172 Owen Divide Suite 497\\nWest Richard, CA 19320</td>\n",
              "      <td>PaleVioletRed</td>\n",
              "      <td>34.702529</td>\n",
              "      <td>11.695736</td>\n",
              "      <td>37.190268</td>\n",
              "      <td>3.576526</td>\n",
              "      <td>529.049004</td>\n",
              "    </tr>\n",
              "    <tr>\n",
              "      <th>497</th>\n",
              "      <td>dale88@hotmail.com</td>\n",
              "      <td>0787 Andrews Ranch Apt. 633\\nSouth Chadburgh, ...</td>\n",
              "      <td>Cornsilk</td>\n",
              "      <td>32.646777</td>\n",
              "      <td>11.499409</td>\n",
              "      <td>38.332576</td>\n",
              "      <td>4.958264</td>\n",
              "      <td>551.620146</td>\n",
              "    </tr>\n",
              "    <tr>\n",
              "      <th>498</th>\n",
              "      <td>cwilson@hotmail.com</td>\n",
              "      <td>680 Jennifer Lodge Apt. 808\\nBrendachester, TX...</td>\n",
              "      <td>Teal</td>\n",
              "      <td>33.322501</td>\n",
              "      <td>12.391423</td>\n",
              "      <td>36.840086</td>\n",
              "      <td>2.336485</td>\n",
              "      <td>456.469510</td>\n",
              "    </tr>\n",
              "    <tr>\n",
              "      <th>499</th>\n",
              "      <td>hannahwilson@davidson.com</td>\n",
              "      <td>49791 Rachel Heights Apt. 898\\nEast Drewboroug...</td>\n",
              "      <td>DarkMagenta</td>\n",
              "      <td>33.715981</td>\n",
              "      <td>12.418808</td>\n",
              "      <td>35.771016</td>\n",
              "      <td>2.735160</td>\n",
              "      <td>497.778642</td>\n",
              "    </tr>\n",
              "  </tbody>\n",
              "</table>\n",
              "<p>500 rows × 8 columns</p>\n",
              "</div>"
            ],
            "text/plain": [
              "                             Email  ... Yearly Amount Spent\n",
              "0        mstephenson@fernandez.com  ...          587.951054\n",
              "1                hduke@hotmail.com  ...          392.204933\n",
              "2                 pallen@yahoo.com  ...          487.547505\n",
              "3          riverarebecca@gmail.com  ...          581.852344\n",
              "4    mstephens@davidson-herman.com  ...          599.406092\n",
              "..                             ...  ...                 ...\n",
              "495   lewisjessica@craig-evans.com  ...          573.847438\n",
              "496            katrina56@gmail.com  ...          529.049004\n",
              "497             dale88@hotmail.com  ...          551.620146\n",
              "498            cwilson@hotmail.com  ...          456.469510\n",
              "499      hannahwilson@davidson.com  ...          497.778642\n",
              "\n",
              "[500 rows x 8 columns]"
            ]
          },
          "metadata": {},
          "execution_count": 2
        }
      ]
    },
    {
      "cell_type": "code",
      "metadata": {
        "colab": {
          "base_uri": "https://localhost:8080/"
        },
        "id": "to7jTlZJ0r38",
        "outputId": "aa88ee1a-1918-4e4d-f835-fc12d1c22825"
      },
      "source": [
        "!wget https://raw.githubusercontent.com/EMcoding17/ExtraccionConocimientosDeBD/main/Actividad02/ecommerce_customers.csv\n",
        "df_customers = pd.read_csv('ecommerce_customers.csv',delimiter=',',header='infer')\n"
      ],
      "execution_count": 6,
      "outputs": [
        {
          "output_type": "stream",
          "name": "stdout",
          "text": [
            "--2021-10-06 20:29:14--  https://raw.githubusercontent.com/EMcoding17/ExtraccionConocimientosDeBD/main/Actividad02/ecommerce_customers.csv\n",
            "Resolving raw.githubusercontent.com (raw.githubusercontent.com)... 185.199.110.133, 185.199.111.133, 185.199.108.133, ...\n",
            "Connecting to raw.githubusercontent.com (raw.githubusercontent.com)|185.199.110.133|:443... connected.\n",
            "HTTP request sent, awaiting response... 200 OK\n",
            "Length: 71638 (70K) [text/plain]\n",
            "Saving to: ‘ecommerce_customers.csv.2’\n",
            "\n",
            "\r          ecommerce   0%[                    ]       0  --.-KB/s               \recommerce_customers 100%[===================>]  69.96K  --.-KB/s    in 0.01s   \n",
            "\n",
            "2021-10-06 20:29:14 (5.35 MB/s) - ‘ecommerce_customers.csv.2’ saved [71638/71638]\n",
            "\n"
          ]
        }
      ]
    },
    {
      "cell_type": "markdown",
      "metadata": {
        "id": "QoTwjchzmHKm"
      },
      "source": [
        ""
      ]
    }
  ]
}