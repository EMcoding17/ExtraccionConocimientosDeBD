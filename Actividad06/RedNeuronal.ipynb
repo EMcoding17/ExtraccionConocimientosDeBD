{
  "nbformat": 4,
  "nbformat_minor": 0,
  "metadata": {
    "colab": {
      "name": "RedNeuronal.ipynb",
      "provenance": [],
      "collapsed_sections": [],
      "authorship_tag": "ABX9TyNjF4STHuH9es3VJ55CqFZ5",
      "include_colab_link": true
    },
    "kernelspec": {
      "name": "python3",
      "display_name": "Python 3"
    },
    "language_info": {
      "name": "python"
    }
  },
  "cells": [
    {
      "cell_type": "markdown",
      "metadata": {
        "id": "view-in-github",
        "colab_type": "text"
      },
      "source": [
        "<a href=\"https://colab.research.google.com/github/EMcoding17/ExtraccionConocimientosDeBD/blob/main/Actividad06/RedNeuronal.ipynb\" target=\"_parent\"><img src=\"https://colab.research.google.com/assets/colab-badge.svg\" alt=\"Open In Colab\"/></a>"
      ]
    },
    {
      "cell_type": "markdown",
      "metadata": {
        "id": "vAZAhU0SktHv"
      },
      "source": [
        "# **RED NERURONAL**\n",
        "## **Extraccion de conocimientos de base de datos**\n",
        "## **Romero Sosa Emma Yuridia**\n",
        "## **IDGS 91**\n",
        "\n",
        "---\n",
        "\n"
      ]
    },
    {
      "cell_type": "markdown",
      "metadata": {
        "id": "_JgAoR17lsYi"
      },
      "source": [
        "# **Importar librerias**"
      ]
    },
    {
      "cell_type": "code",
      "metadata": {
        "id": "UofuCqTNj0mt",
        "colab": {
          "base_uri": "https://localhost:8080/"
        },
        "outputId": "9a2afad7-bdb7-499e-b56e-39d248c3581f"
      },
      "source": [
        "import tensorflow as tf\n",
        "import numpy as np\n",
        "import pandas as pd\n",
        "import matplotlib.pyplot as plt\n",
        "import requests\n",
        "%load_ext tensorboard"
      ],
      "execution_count": 47,
      "outputs": [
        {
          "output_type": "stream",
          "name": "stdout",
          "text": [
            "The tensorboard extension is already loaded. To reload it, use:\n",
            "  %reload_ext tensorboard\n"
          ]
        }
      ]
    },
    {
      "cell_type": "markdown",
      "metadata": {
        "id": "1gVP3qrnmlQK"
      },
      "source": [
        "# **Cargar Dataset**"
      ]
    },
    {
      "cell_type": "code",
      "metadata": {
        "id": "dOrPmPJ5m7a7",
        "colab": {
          "base_uri": "https://localhost:8080/"
        },
        "outputId": "bfc170e4-da2a-4fa2-8f2c-84fefff353c7"
      },
      "source": [
        "#Cargar dataset desde github\n",
        "!wget https://raw.githubusercontent.com/EMcoding17/ExtraccionConocimientosDeBD/main/Actividad06/grados.csv\n",
        "df = pd.read_csv(\"grados.csv\",delimiter=',',header='infer')"
      ],
      "execution_count": 48,
      "outputs": [
        {
          "output_type": "stream",
          "name": "stdout",
          "text": [
            "--2021-12-02 03:26:33--  https://raw.githubusercontent.com/EMcoding17/ExtraccionConocimientosDeBD/main/Actividad06/grados.csv\n",
            "Resolving raw.githubusercontent.com (raw.githubusercontent.com)... 185.199.108.133, 185.199.109.133, 185.199.110.133, ...\n",
            "Connecting to raw.githubusercontent.com (raw.githubusercontent.com)|185.199.108.133|:443... connected.\n",
            "HTTP request sent, awaiting response... 200 OK\n",
            "Length: 4564 (4.5K) [text/plain]\n",
            "Saving to: ‘grados.csv.1’\n",
            "\n",
            "\rgrados.csv.1          0%[                    ]       0  --.-KB/s               \rgrados.csv.1        100%[===================>]   4.46K  --.-KB/s    in 0s      \n",
            "\n",
            "2021-12-02 03:26:33 (55.5 MB/s) - ‘grados.csv.1’ saved [4564/4564]\n",
            "\n"
          ]
        }
      ]
    },
    {
      "cell_type": "code",
      "metadata": {
        "id": "hVkqQ2n8uj4c",
        "colab": {
          "base_uri": "https://localhost:8080/"
        },
        "outputId": "47a41e3f-2180-4887-e245-63d588ed0b09"
      },
      "source": [
        "#Mostrar la forma del dataframe\n",
        "df.shape"
      ],
      "execution_count": 49,
      "outputs": [
        {
          "output_type": "execute_result",
          "data": {
            "text/plain": [
              "(499, 2)"
            ]
          },
          "metadata": {},
          "execution_count": 49
        }
      ]
    },
    {
      "cell_type": "code",
      "metadata": {
        "id": "LoXWWzYfuyNa",
        "colab": {
          "base_uri": "https://localhost:8080/",
          "height": 206
        },
        "outputId": "8ed94c29-adad-4ac5-8765-807f030ebc0c"
      },
      "source": [
        "#Mostrar los primeros 5 registros\n",
        "df.head()"
      ],
      "execution_count": 50,
      "outputs": [
        {
          "output_type": "execute_result",
          "data": {
            "text/html": [
              "<div>\n",
              "<style scoped>\n",
              "    .dataframe tbody tr th:only-of-type {\n",
              "        vertical-align: middle;\n",
              "    }\n",
              "\n",
              "    .dataframe tbody tr th {\n",
              "        vertical-align: top;\n",
              "    }\n",
              "\n",
              "    .dataframe thead th {\n",
              "        text-align: right;\n",
              "    }\n",
              "</style>\n",
              "<table border=\"1\" class=\"dataframe\">\n",
              "  <thead>\n",
              "    <tr style=\"text-align: right;\">\n",
              "      <th></th>\n",
              "      <th>Celsius</th>\n",
              "      <th>Fahrenhiet</th>\n",
              "    </tr>\n",
              "  </thead>\n",
              "  <tbody>\n",
              "    <tr>\n",
              "      <th>0</th>\n",
              "      <td>20</td>\n",
              "      <td>68.0</td>\n",
              "    </tr>\n",
              "    <tr>\n",
              "      <th>1</th>\n",
              "      <td>63</td>\n",
              "      <td>145.4</td>\n",
              "    </tr>\n",
              "    <tr>\n",
              "      <th>2</th>\n",
              "      <td>65</td>\n",
              "      <td>149.0</td>\n",
              "    </tr>\n",
              "    <tr>\n",
              "      <th>3</th>\n",
              "      <td>61</td>\n",
              "      <td>141.8</td>\n",
              "    </tr>\n",
              "    <tr>\n",
              "      <th>4</th>\n",
              "      <td>83</td>\n",
              "      <td>181.4</td>\n",
              "    </tr>\n",
              "  </tbody>\n",
              "</table>\n",
              "</div>"
            ],
            "text/plain": [
              "   Celsius  Fahrenhiet\n",
              "0       20        68.0\n",
              "1       63       145.4\n",
              "2       65       149.0\n",
              "3       61       141.8\n",
              "4       83       181.4"
            ]
          },
          "metadata": {},
          "execution_count": 50
        }
      ]
    },
    {
      "cell_type": "code",
      "metadata": {
        "id": "B1UhE2Wgu0Ez",
        "colab": {
          "base_uri": "https://localhost:8080/",
          "height": 206
        },
        "outputId": "838b0366-fd43-4d22-82dc-6902a0ed363d"
      },
      "source": [
        "#Mostrar los ultimos 5 registros\n",
        "df.tail()"
      ],
      "execution_count": 51,
      "outputs": [
        {
          "output_type": "execute_result",
          "data": {
            "text/html": [
              "<div>\n",
              "<style scoped>\n",
              "    .dataframe tbody tr th:only-of-type {\n",
              "        vertical-align: middle;\n",
              "    }\n",
              "\n",
              "    .dataframe tbody tr th {\n",
              "        vertical-align: top;\n",
              "    }\n",
              "\n",
              "    .dataframe thead th {\n",
              "        text-align: right;\n",
              "    }\n",
              "</style>\n",
              "<table border=\"1\" class=\"dataframe\">\n",
              "  <thead>\n",
              "    <tr style=\"text-align: right;\">\n",
              "      <th></th>\n",
              "      <th>Celsius</th>\n",
              "      <th>Fahrenhiet</th>\n",
              "    </tr>\n",
              "  </thead>\n",
              "  <tbody>\n",
              "    <tr>\n",
              "      <th>494</th>\n",
              "      <td>23</td>\n",
              "      <td>73.4</td>\n",
              "    </tr>\n",
              "    <tr>\n",
              "      <th>495</th>\n",
              "      <td>60</td>\n",
              "      <td>140.0</td>\n",
              "    </tr>\n",
              "    <tr>\n",
              "      <th>496</th>\n",
              "      <td>92</td>\n",
              "      <td>197.6</td>\n",
              "    </tr>\n",
              "    <tr>\n",
              "      <th>497</th>\n",
              "      <td>43</td>\n",
              "      <td>109.4</td>\n",
              "    </tr>\n",
              "    <tr>\n",
              "      <th>498</th>\n",
              "      <td>45</td>\n",
              "      <td>113.0</td>\n",
              "    </tr>\n",
              "  </tbody>\n",
              "</table>\n",
              "</div>"
            ],
            "text/plain": [
              "     Celsius  Fahrenhiet\n",
              "494       23        73.4\n",
              "495       60       140.0\n",
              "496       92       197.6\n",
              "497       43       109.4\n",
              "498       45       113.0"
            ]
          },
          "metadata": {},
          "execution_count": 51
        }
      ]
    },
    {
      "cell_type": "code",
      "metadata": {
        "id": "bQIhGI7vu2X6",
        "colab": {
          "base_uri": "https://localhost:8080/"
        },
        "outputId": "d3cb27ca-5508-4ec1-91c4-c4d5535669c7"
      },
      "source": [
        "#Mostrar la información del dataframe\n",
        "df.info()"
      ],
      "execution_count": 52,
      "outputs": [
        {
          "output_type": "stream",
          "name": "stdout",
          "text": [
            "<class 'pandas.core.frame.DataFrame'>\n",
            "RangeIndex: 499 entries, 0 to 498\n",
            "Data columns (total 2 columns):\n",
            " #   Column      Non-Null Count  Dtype  \n",
            "---  ------      --------------  -----  \n",
            " 0   Celsius     499 non-null    int64  \n",
            " 1   Fahrenhiet  499 non-null    float64\n",
            "dtypes: float64(1), int64(1)\n",
            "memory usage: 7.9 KB\n"
          ]
        }
      ]
    },
    {
      "cell_type": "code",
      "metadata": {
        "colab": {
          "base_uri": "https://localhost:8080/"
        },
        "id": "yV2t_75ww_7f",
        "outputId": "aca83166-55f1-4f85-d649-e7d1d00ad614"
      },
      "source": [
        "#Convertir columna Celsius a float64\n",
        "df['Celsius'] = df['Celsius'].astype('float64')\n",
        "#Verificar la información del dataframe\n",
        "df.info()"
      ],
      "execution_count": 53,
      "outputs": [
        {
          "output_type": "stream",
          "name": "stdout",
          "text": [
            "<class 'pandas.core.frame.DataFrame'>\n",
            "RangeIndex: 499 entries, 0 to 498\n",
            "Data columns (total 2 columns):\n",
            " #   Column      Non-Null Count  Dtype  \n",
            "---  ------      --------------  -----  \n",
            " 0   Celsius     499 non-null    float64\n",
            " 1   Fahrenhiet  499 non-null    float64\n",
            "dtypes: float64(2)\n",
            "memory usage: 7.9 KB\n"
          ]
        }
      ]
    },
    {
      "cell_type": "code",
      "metadata": {
        "colab": {
          "base_uri": "https://localhost:8080/",
          "height": 206
        },
        "id": "-4wludDIxfbp",
        "outputId": "f77fb0b2-204d-4aa1-c182-91d1c7dd34fb"
      },
      "source": [
        "#Mostrar los primeros 5 registros\n",
        "df.head()"
      ],
      "execution_count": 54,
      "outputs": [
        {
          "output_type": "execute_result",
          "data": {
            "text/html": [
              "<div>\n",
              "<style scoped>\n",
              "    .dataframe tbody tr th:only-of-type {\n",
              "        vertical-align: middle;\n",
              "    }\n",
              "\n",
              "    .dataframe tbody tr th {\n",
              "        vertical-align: top;\n",
              "    }\n",
              "\n",
              "    .dataframe thead th {\n",
              "        text-align: right;\n",
              "    }\n",
              "</style>\n",
              "<table border=\"1\" class=\"dataframe\">\n",
              "  <thead>\n",
              "    <tr style=\"text-align: right;\">\n",
              "      <th></th>\n",
              "      <th>Celsius</th>\n",
              "      <th>Fahrenhiet</th>\n",
              "    </tr>\n",
              "  </thead>\n",
              "  <tbody>\n",
              "    <tr>\n",
              "      <th>0</th>\n",
              "      <td>20.0</td>\n",
              "      <td>68.0</td>\n",
              "    </tr>\n",
              "    <tr>\n",
              "      <th>1</th>\n",
              "      <td>63.0</td>\n",
              "      <td>145.4</td>\n",
              "    </tr>\n",
              "    <tr>\n",
              "      <th>2</th>\n",
              "      <td>65.0</td>\n",
              "      <td>149.0</td>\n",
              "    </tr>\n",
              "    <tr>\n",
              "      <th>3</th>\n",
              "      <td>61.0</td>\n",
              "      <td>141.8</td>\n",
              "    </tr>\n",
              "    <tr>\n",
              "      <th>4</th>\n",
              "      <td>83.0</td>\n",
              "      <td>181.4</td>\n",
              "    </tr>\n",
              "  </tbody>\n",
              "</table>\n",
              "</div>"
            ],
            "text/plain": [
              "   Celsius  Fahrenhiet\n",
              "0     20.0        68.0\n",
              "1     63.0       145.4\n",
              "2     65.0       149.0\n",
              "3     61.0       141.8\n",
              "4     83.0       181.4"
            ]
          },
          "metadata": {},
          "execution_count": 54
        }
      ]
    },
    {
      "cell_type": "code",
      "metadata": {
        "colab": {
          "base_uri": "https://localhost:8080/",
          "height": 206
        },
        "id": "ocMe79T8BjYj",
        "outputId": "7e94eb5a-fc24-4022-ca54-71b164915ec3"
      },
      "source": [
        "#Mostrar los ultimos 5 registros\n",
        "df.tail()"
      ],
      "execution_count": 55,
      "outputs": [
        {
          "output_type": "execute_result",
          "data": {
            "text/html": [
              "<div>\n",
              "<style scoped>\n",
              "    .dataframe tbody tr th:only-of-type {\n",
              "        vertical-align: middle;\n",
              "    }\n",
              "\n",
              "    .dataframe tbody tr th {\n",
              "        vertical-align: top;\n",
              "    }\n",
              "\n",
              "    .dataframe thead th {\n",
              "        text-align: right;\n",
              "    }\n",
              "</style>\n",
              "<table border=\"1\" class=\"dataframe\">\n",
              "  <thead>\n",
              "    <tr style=\"text-align: right;\">\n",
              "      <th></th>\n",
              "      <th>Celsius</th>\n",
              "      <th>Fahrenhiet</th>\n",
              "    </tr>\n",
              "  </thead>\n",
              "  <tbody>\n",
              "    <tr>\n",
              "      <th>494</th>\n",
              "      <td>23.0</td>\n",
              "      <td>73.4</td>\n",
              "    </tr>\n",
              "    <tr>\n",
              "      <th>495</th>\n",
              "      <td>60.0</td>\n",
              "      <td>140.0</td>\n",
              "    </tr>\n",
              "    <tr>\n",
              "      <th>496</th>\n",
              "      <td>92.0</td>\n",
              "      <td>197.6</td>\n",
              "    </tr>\n",
              "    <tr>\n",
              "      <th>497</th>\n",
              "      <td>43.0</td>\n",
              "      <td>109.4</td>\n",
              "    </tr>\n",
              "    <tr>\n",
              "      <th>498</th>\n",
              "      <td>45.0</td>\n",
              "      <td>113.0</td>\n",
              "    </tr>\n",
              "  </tbody>\n",
              "</table>\n",
              "</div>"
            ],
            "text/plain": [
              "     Celsius  Fahrenhiet\n",
              "494     23.0        73.4\n",
              "495     60.0       140.0\n",
              "496     92.0       197.6\n",
              "497     43.0       109.4\n",
              "498     45.0       113.0"
            ]
          },
          "metadata": {},
          "execution_count": 55
        }
      ]
    },
    {
      "cell_type": "code",
      "metadata": {
        "id": "WbnM7RmzvHVl",
        "colab": {
          "base_uri": "https://localhost:8080/"
        },
        "outputId": "c1f4e929-d649-4245-f24e-350274600363"
      },
      "source": [
        "#Obtener la suma de los datos faltantes de cada columna\n",
        "df.isnull().sum()"
      ],
      "execution_count": 56,
      "outputs": [
        {
          "output_type": "execute_result",
          "data": {
            "text/plain": [
              "Celsius       0\n",
              "Fahrenhiet    0\n",
              "dtype: int64"
            ]
          },
          "metadata": {},
          "execution_count": 56
        }
      ]
    },
    {
      "cell_type": "markdown",
      "metadata": {
        "id": "7eOLatZkxq2H"
      },
      "source": [
        "# **Crear una NN**"
      ]
    },
    {
      "cell_type": "code",
      "metadata": {
        "id": "bFI_6-rTxt9j"
      },
      "source": [
        "#Crear capa con una neurona\n",
        "layer = tf.keras.layers.Dense(units=1, input_shape=[1])\n",
        "#Crear modelo con capa\n",
        "model = tf.keras.Sequential([layer])"
      ],
      "execution_count": 57,
      "outputs": []
    },
    {
      "cell_type": "markdown",
      "metadata": {
        "id": "AqL7ZSjfyKK3"
      },
      "source": [
        "# **Generar NN**"
      ]
    },
    {
      "cell_type": "code",
      "metadata": {
        "id": "bQ67tXVGyM70"
      },
      "source": [
        "model.compile(\n",
        "    optimizer = tf.keras.optimizers.Adam(0.01),\n",
        "    loss = \"mean_squared_error\",\n",
        "    metrics = [\"accuracy\"]\n",
        ")"
      ],
      "execution_count": 65,
      "outputs": []
    },
    {
      "cell_type": "markdown",
      "metadata": {
        "id": "a6AZfIcxIhbg"
      },
      "source": [
        "# **Configuración de callbacks**"
      ]
    },
    {
      "cell_type": "code",
      "metadata": {
        "id": "gOpIX5quIkcS"
      },
      "source": [
        "my_callback = [\n",
        "               tf.keras.callbacks.EarlyStopping(monitor='loss', patience=0.5),\n",
        "               #tf.keras.callbacks.ModelCheckpoint(filepath='model.{epoch:02d}-{val_loss:.2f}.h5'),\n",
        "               #tf.keras.callbacks.TensorBoard(log_dir='./logs'),\n",
        "\n",
        "]"
      ],
      "execution_count": 71,
      "outputs": []
    },
    {
      "cell_type": "markdown",
      "metadata": {
        "id": "8ZKiSjKd1K7C"
      },
      "source": [
        "# **Entrenamiento**"
      ]
    },
    {
      "cell_type": "code",
      "metadata": {
        "id": "issMQWYG1O6o"
      },
      "source": [
        "# Separar columnas\n",
        "celsius = df[\"Celsius\"]\n",
        "fahren= df[\"Fahrenhiet\"]\n",
        "\n",
        "# Ajustar modelo\n",
        "history = model.fit(celsius, fahren, epochs=1000, verbose=False, callbacks=my_callback)"
      ],
      "execution_count": 72,
      "outputs": []
    },
    {
      "cell_type": "code",
      "metadata": {
        "id": "cgzda9ON2hQ8",
        "colab": {
          "base_uri": "https://localhost:8080/"
        },
        "outputId": "16265cb6-1573-4a67-f2a3-303ccda130f6"
      },
      "source": [
        "#Verificar disminución en la perdida\n",
        "perdida = history.history['loss']\n",
        "print(perdida)"
      ],
      "execution_count": 73,
      "outputs": [
        {
          "output_type": "stream",
          "name": "stdout",
          "text": [
            "[2.439414226174108e-10, 1.4064907571942342e-10, 8.139157403608266e-11, 8.28496785065802e-11]\n"
          ]
        }
      ]
    },
    {
      "cell_type": "markdown",
      "metadata": {
        "id": "l6miDKfU4UdG"
      },
      "source": [
        "# **Graficar perdida**"
      ]
    },
    {
      "cell_type": "code",
      "metadata": {
        "id": "gd0N9Oo04UEx",
        "colab": {
          "base_uri": "https://localhost:8080/",
          "height": 308
        },
        "outputId": "dcdf115b-f4fe-4dd2-dbe5-8479212b8fc0"
      },
      "source": [
        "#Asignar etiqueta a X\n",
        "plt.xlabel(\"Epoch\")\n",
        "#Asignar etiqueta a Y\n",
        "plt.ylabel(\"Loss\")\n",
        "#Graficar\n",
        "plt.plot(perdida)"
      ],
      "execution_count": 74,
      "outputs": [
        {
          "output_type": "execute_result",
          "data": {
            "text/plain": [
              "[<matplotlib.lines.Line2D at 0x7fb3f32e8050>]"
            ]
          },
          "metadata": {},
          "execution_count": 74
        },
        {
          "output_type": "display_data",
          "data": {
            "image/png": "[encoded data removed]",
            "text/plain": [
              "<Figure size 432x288 with 1 Axes>"
            ]
          },
          "metadata": {
            "needs_background": "light"
          }
        }
      ]
    },
    {
      "cell_type": "markdown",
      "metadata": {
        "id": "3nTRASwj5Qaz"
      },
      "source": [
        "# **Predicción**"
      ]
    },
    {
      "cell_type": "code",
      "metadata": {
        "id": "r3F4SlKX5U5G",
        "colab": {
          "base_uri": "https://localhost:8080/"
        },
        "outputId": "aad534fc-f19a-4e34-8c8b-98701925c70b"
      },
      "source": [
        "y_hat = model.predict([150])\n",
        "y_hat"
      ],
      "execution_count": 75,
      "outputs": [
        {
          "output_type": "execute_result",
          "data": {
            "text/plain": [
              "array([[302.]], dtype=float32)"
            ]
          },
          "metadata": {},
          "execution_count": 75
        }
      ]
    }
  ]
}