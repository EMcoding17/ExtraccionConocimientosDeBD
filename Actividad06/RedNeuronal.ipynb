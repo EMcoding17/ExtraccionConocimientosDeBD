{
  "nbformat": 4,
  "nbformat_minor": 0,
  "metadata": {
    "colab": {
      "name": "RedNeuronal.ipynb",
      "provenance": [],
      "collapsed_sections": [],
      "authorship_tag": "ABX9TyOQezPAAZAMfOUwFBANOVd3",
      "include_colab_link": true
    },
    "kernelspec": {
      "name": "python3",
      "display_name": "Python 3"
    },
    "language_info": {
      "name": "python"
    }
  },
  "cells": [
    {
      "cell_type": "markdown",
      "metadata": {
        "id": "view-in-github",
        "colab_type": "text"
      },
      "source": [
        "<a href=\"https://colab.research.google.com/github/EMcoding17/ExtraccionConocimientosDeBD/blob/main/Actividad06/RedNeuronal.ipynb\" target=\"_parent\"><img src=\"https://colab.research.google.com/assets/colab-badge.svg\" alt=\"Open In Colab\"/></a>"
      ]
    },
    {
      "cell_type": "markdown",
      "metadata": {
        "id": "vAZAhU0SktHv"
      },
      "source": [
        "# **RED NERURONAL**\n",
        "## **Extraccion de conocimientos de base de datos**\n",
        "## **Romero Sosa Emma Yuridia**\n",
        "## **IDGS 91**\n",
        "\n",
        "---\n",
        "\n"
      ]
    },
    {
      "cell_type": "markdown",
      "metadata": {
        "id": "_JgAoR17lsYi"
      },
      "source": [
        "# **Importar librerias**"
      ]
    },
    {
      "cell_type": "code",
      "metadata": {
        "id": "UofuCqTNj0mt"
      },
      "source": [
        "import tensorflow as tf\n",
        "import numpy as np\n",
        "import pandas as pd\n",
        "import matplotlib.pyplot as plt\n",
        "import requests\n",
        "%load_ext tensorboard"
      ],
      "execution_count": 1,
      "outputs": []
    },
    {
      "cell_type": "markdown",
      "metadata": {
        "id": "1gVP3qrnmlQK"
      },
      "source": [
        "# **Cargar Dataset**"
      ]
    },
    {
      "cell_type": "code",
      "metadata": {
        "id": "dOrPmPJ5m7a7",
        "colab": {
          "base_uri": "https://localhost:8080/"
        },
        "outputId": "8a2fa9b6-feb7-47e6-e52a-f10b687f8755"
      },
      "source": [
        "#Cargar dataset desde github\n",
        "!wget https://raw.githubusercontent.com/EMcoding17/ExtraccionConocimientosDeBD/main/Actividad06/grados.csv\n",
        "df = pd.read_csv(\"grados.csv\",delimiter=',',header='infer')"
      ],
      "execution_count": 2,
      "outputs": [
        {
          "output_type": "stream",
          "name": "stdout",
          "text": [
            "--2021-12-02 03:08:41--  https://raw.githubusercontent.com/EMcoding17/ExtraccionConocimientosDeBD/main/Actividad06/grados.csv\n",
            "Resolving raw.githubusercontent.com (raw.githubusercontent.com)... 185.199.108.133, 185.199.110.133, 185.199.109.133, ...\n",
            "Connecting to raw.githubusercontent.com (raw.githubusercontent.com)|185.199.108.133|:443... connected.\n",
            "HTTP request sent, awaiting response... 200 OK\n",
            "Length: 4564 (4.5K) [text/plain]\n",
            "Saving to: ‘grados.csv’\n",
            "\n",
            "\rgrados.csv            0%[                    ]       0  --.-KB/s               \rgrados.csv          100%[===================>]   4.46K  --.-KB/s    in 0s      \n",
            "\n",
            "2021-12-02 03:08:41 (43.9 MB/s) - ‘grados.csv’ saved [4564/4564]\n",
            "\n"
          ]
        }
      ]
    },
    {
      "cell_type": "code",
      "metadata": {
        "id": "hVkqQ2n8uj4c",
        "colab": {
          "base_uri": "https://localhost:8080/"
        },
        "outputId": "94630558-a90e-4092-c9f0-788b54504ff3"
      },
      "source": [
        "#Mostrar la forma del dataframe\n",
        "df.shape"
      ],
      "execution_count": 3,
      "outputs": [
        {
          "output_type": "execute_result",
          "data": {
            "text/plain": [
              "(499, 2)"
            ]
          },
          "metadata": {},
          "execution_count": 3
        }
      ]
    },
    {
      "cell_type": "code",
      "metadata": {
        "id": "LoXWWzYfuyNa",
        "colab": {
          "base_uri": "https://localhost:8080/",
          "height": 206
        },
        "outputId": "a22b4c41-a778-42e9-f90a-a61ab10bea08"
      },
      "source": [
        "#Mostrar los primeros 5 registros\n",
        "df.head()"
      ],
      "execution_count": 4,
      "outputs": [
        {
          "output_type": "execute_result",
          "data": {
            "text/html": [
              "<div>\n",
              "<style scoped>\n",
              "    .dataframe tbody tr th:only-of-type {\n",
              "        vertical-align: middle;\n",
              "    }\n",
              "\n",
              "    .dataframe tbody tr th {\n",
              "        vertical-align: top;\n",
              "    }\n",
              "\n",
              "    .dataframe thead th {\n",
              "        text-align: right;\n",
              "    }\n",
              "</style>\n",
              "<table border=\"1\" class=\"dataframe\">\n",
              "  <thead>\n",
              "    <tr style=\"text-align: right;\">\n",
              "      <th></th>\n",
              "      <th>Celsius</th>\n",
              "      <th>Fahrenhiet</th>\n",
              "    </tr>\n",
              "  </thead>\n",
              "  <tbody>\n",
              "    <tr>\n",
              "      <th>0</th>\n",
              "      <td>20</td>\n",
              "      <td>68.0</td>\n",
              "    </tr>\n",
              "    <tr>\n",
              "      <th>1</th>\n",
              "      <td>63</td>\n",
              "      <td>145.4</td>\n",
              "    </tr>\n",
              "    <tr>\n",
              "      <th>2</th>\n",
              "      <td>65</td>\n",
              "      <td>149.0</td>\n",
              "    </tr>\n",
              "    <tr>\n",
              "      <th>3</th>\n",
              "      <td>61</td>\n",
              "      <td>141.8</td>\n",
              "    </tr>\n",
              "    <tr>\n",
              "      <th>4</th>\n",
              "      <td>83</td>\n",
              "      <td>181.4</td>\n",
              "    </tr>\n",
              "  </tbody>\n",
              "</table>\n",
              "</div>"
            ],
            "text/plain": [
              "   Celsius  Fahrenhiet\n",
              "0       20        68.0\n",
              "1       63       145.4\n",
              "2       65       149.0\n",
              "3       61       141.8\n",
              "4       83       181.4"
            ]
          },
          "metadata": {},
          "execution_count": 4
        }
      ]
    },
    {
      "cell_type": "code",
      "metadata": {
        "id": "B1UhE2Wgu0Ez",
        "colab": {
          "base_uri": "https://localhost:8080/",
          "height": 206
        },
        "outputId": "206a48d7-adcd-4e42-b099-650682d19c35"
      },
      "source": [
        "#Mostrar los ultimos 5 registros\n",
        "df.tail()"
      ],
      "execution_count": 5,
      "outputs": [
        {
          "output_type": "execute_result",
          "data": {
            "text/html": [
              "<div>\n",
              "<style scoped>\n",
              "    .dataframe tbody tr th:only-of-type {\n",
              "        vertical-align: middle;\n",
              "    }\n",
              "\n",
              "    .dataframe tbody tr th {\n",
              "        vertical-align: top;\n",
              "    }\n",
              "\n",
              "    .dataframe thead th {\n",
              "        text-align: right;\n",
              "    }\n",
              "</style>\n",
              "<table border=\"1\" class=\"dataframe\">\n",
              "  <thead>\n",
              "    <tr style=\"text-align: right;\">\n",
              "      <th></th>\n",
              "      <th>Celsius</th>\n",
              "      <th>Fahrenhiet</th>\n",
              "    </tr>\n",
              "  </thead>\n",
              "  <tbody>\n",
              "    <tr>\n",
              "      <th>494</th>\n",
              "      <td>23</td>\n",
              "      <td>73.4</td>\n",
              "    </tr>\n",
              "    <tr>\n",
              "      <th>495</th>\n",
              "      <td>60</td>\n",
              "      <td>140.0</td>\n",
              "    </tr>\n",
              "    <tr>\n",
              "      <th>496</th>\n",
              "      <td>92</td>\n",
              "      <td>197.6</td>\n",
              "    </tr>\n",
              "    <tr>\n",
              "      <th>497</th>\n",
              "      <td>43</td>\n",
              "      <td>109.4</td>\n",
              "    </tr>\n",
              "    <tr>\n",
              "      <th>498</th>\n",
              "      <td>45</td>\n",
              "      <td>113.0</td>\n",
              "    </tr>\n",
              "  </tbody>\n",
              "</table>\n",
              "</div>"
            ],
            "text/plain": [
              "     Celsius  Fahrenhiet\n",
              "494       23        73.4\n",
              "495       60       140.0\n",
              "496       92       197.6\n",
              "497       43       109.4\n",
              "498       45       113.0"
            ]
          },
          "metadata": {},
          "execution_count": 5
        }
      ]
    },
    {
      "cell_type": "code",
      "metadata": {
        "id": "bQIhGI7vu2X6",
        "colab": {
          "base_uri": "https://localhost:8080/"
        },
        "outputId": "6ad23329-6fd2-401e-cdd4-cff8ae3443ec"
      },
      "source": [
        "#Mostrar la información del dataframe\n",
        "df.info()"
      ],
      "execution_count": 6,
      "outputs": [
        {
          "output_type": "stream",
          "name": "stdout",
          "text": [
            "<class 'pandas.core.frame.DataFrame'>\n",
            "RangeIndex: 499 entries, 0 to 498\n",
            "Data columns (total 2 columns):\n",
            " #   Column      Non-Null Count  Dtype  \n",
            "---  ------      --------------  -----  \n",
            " 0   Celsius     499 non-null    int64  \n",
            " 1   Fahrenhiet  499 non-null    float64\n",
            "dtypes: float64(1), int64(1)\n",
            "memory usage: 7.9 KB\n"
          ]
        }
      ]
    },
    {
      "cell_type": "code",
      "metadata": {
        "colab": {
          "base_uri": "https://localhost:8080/"
        },
        "id": "yV2t_75ww_7f",
        "outputId": "05cabdbc-686c-4c1d-da78-a31c8b7ca530"
      },
      "source": [
        "#Convertir columna Celsius a float64\n",
        "df['Celsius'] = df['Celsius'].astype('float64')\n",
        "#Verificar la información del dataframe\n",
        "df.info()"
      ],
      "execution_count": 7,
      "outputs": [
        {
          "output_type": "stream",
          "name": "stdout",
          "text": [
            "<class 'pandas.core.frame.DataFrame'>\n",
            "RangeIndex: 499 entries, 0 to 498\n",
            "Data columns (total 2 columns):\n",
            " #   Column      Non-Null Count  Dtype  \n",
            "---  ------      --------------  -----  \n",
            " 0   Celsius     499 non-null    float64\n",
            " 1   Fahrenhiet  499 non-null    float64\n",
            "dtypes: float64(2)\n",
            "memory usage: 7.9 KB\n"
          ]
        }
      ]
    },
    {
      "cell_type": "code",
      "metadata": {
        "colab": {
          "base_uri": "https://localhost:8080/",
          "height": 206
        },
        "id": "-4wludDIxfbp",
        "outputId": "e9e3892e-1a66-49aa-a2c5-ca300e51f4e7"
      },
      "source": [
        "#Mostrar los primeros 5 registros\n",
        "df.head()"
      ],
      "execution_count": 8,
      "outputs": [
        {
          "output_type": "execute_result",
          "data": {
            "text/html": [
              "<div>\n",
              "<style scoped>\n",
              "    .dataframe tbody tr th:only-of-type {\n",
              "        vertical-align: middle;\n",
              "    }\n",
              "\n",
              "    .dataframe tbody tr th {\n",
              "        vertical-align: top;\n",
              "    }\n",
              "\n",
              "    .dataframe thead th {\n",
              "        text-align: right;\n",
              "    }\n",
              "</style>\n",
              "<table border=\"1\" class=\"dataframe\">\n",
              "  <thead>\n",
              "    <tr style=\"text-align: right;\">\n",
              "      <th></th>\n",
              "      <th>Celsius</th>\n",
              "      <th>Fahrenhiet</th>\n",
              "    </tr>\n",
              "  </thead>\n",
              "  <tbody>\n",
              "    <tr>\n",
              "      <th>0</th>\n",
              "      <td>20.0</td>\n",
              "      <td>68.0</td>\n",
              "    </tr>\n",
              "    <tr>\n",
              "      <th>1</th>\n",
              "      <td>63.0</td>\n",
              "      <td>145.4</td>\n",
              "    </tr>\n",
              "    <tr>\n",
              "      <th>2</th>\n",
              "      <td>65.0</td>\n",
              "      <td>149.0</td>\n",
              "    </tr>\n",
              "    <tr>\n",
              "      <th>3</th>\n",
              "      <td>61.0</td>\n",
              "      <td>141.8</td>\n",
              "    </tr>\n",
              "    <tr>\n",
              "      <th>4</th>\n",
              "      <td>83.0</td>\n",
              "      <td>181.4</td>\n",
              "    </tr>\n",
              "  </tbody>\n",
              "</table>\n",
              "</div>"
            ],
            "text/plain": [
              "   Celsius  Fahrenhiet\n",
              "0     20.0        68.0\n",
              "1     63.0       145.4\n",
              "2     65.0       149.0\n",
              "3     61.0       141.8\n",
              "4     83.0       181.4"
            ]
          },
          "metadata": {},
          "execution_count": 8
        }
      ]
    },
    {
      "cell_type": "code",
      "metadata": {
        "colab": {
          "base_uri": "https://localhost:8080/",
          "height": 206
        },
        "id": "ocMe79T8BjYj",
        "outputId": "520eb5a7-9510-425c-e921-9fdb7b7bec01"
      },
      "source": [
        "#Mostrar los ultimos 5 registros\n",
        "df.tail()"
      ],
      "execution_count": 9,
      "outputs": [
        {
          "output_type": "execute_result",
          "data": {
            "text/html": [
              "<div>\n",
              "<style scoped>\n",
              "    .dataframe tbody tr th:only-of-type {\n",
              "        vertical-align: middle;\n",
              "    }\n",
              "\n",
              "    .dataframe tbody tr th {\n",
              "        vertical-align: top;\n",
              "    }\n",
              "\n",
              "    .dataframe thead th {\n",
              "        text-align: right;\n",
              "    }\n",
              "</style>\n",
              "<table border=\"1\" class=\"dataframe\">\n",
              "  <thead>\n",
              "    <tr style=\"text-align: right;\">\n",
              "      <th></th>\n",
              "      <th>Celsius</th>\n",
              "      <th>Fahrenhiet</th>\n",
              "    </tr>\n",
              "  </thead>\n",
              "  <tbody>\n",
              "    <tr>\n",
              "      <th>494</th>\n",
              "      <td>23.0</td>\n",
              "      <td>73.4</td>\n",
              "    </tr>\n",
              "    <tr>\n",
              "      <th>495</th>\n",
              "      <td>60.0</td>\n",
              "      <td>140.0</td>\n",
              "    </tr>\n",
              "    <tr>\n",
              "      <th>496</th>\n",
              "      <td>92.0</td>\n",
              "      <td>197.6</td>\n",
              "    </tr>\n",
              "    <tr>\n",
              "      <th>497</th>\n",
              "      <td>43.0</td>\n",
              "      <td>109.4</td>\n",
              "    </tr>\n",
              "    <tr>\n",
              "      <th>498</th>\n",
              "      <td>45.0</td>\n",
              "      <td>113.0</td>\n",
              "    </tr>\n",
              "  </tbody>\n",
              "</table>\n",
              "</div>"
            ],
            "text/plain": [
              "     Celsius  Fahrenhiet\n",
              "494     23.0        73.4\n",
              "495     60.0       140.0\n",
              "496     92.0       197.6\n",
              "497     43.0       109.4\n",
              "498     45.0       113.0"
            ]
          },
          "metadata": {},
          "execution_count": 9
        }
      ]
    },
    {
      "cell_type": "code",
      "metadata": {
        "id": "WbnM7RmzvHVl",
        "colab": {
          "base_uri": "https://localhost:8080/"
        },
        "outputId": "79e8076d-157e-4286-852f-a7aec28740ee"
      },
      "source": [
        "#Obtener la suma de los datos faltantes de cada columna\n",
        "df.isnull().sum()"
      ],
      "execution_count": 10,
      "outputs": [
        {
          "output_type": "execute_result",
          "data": {
            "text/plain": [
              "Celsius       0\n",
              "Fahrenhiet    0\n",
              "dtype: int64"
            ]
          },
          "metadata": {},
          "execution_count": 10
        }
      ]
    },
    {
      "cell_type": "markdown",
      "metadata": {
        "id": "7eOLatZkxq2H"
      },
      "source": [
        "# **Crear una NN**"
      ]
    },
    {
      "cell_type": "code",
      "metadata": {
        "id": "bFI_6-rTxt9j"
      },
      "source": [
        "#Crear capa con una neurona\n",
        "layer = tf.keras.layers.Dense(units=1, input_shape=[1])\n",
        "#Crear modelo con capa\n",
        "model = tf.keras.Sequential([layer])"
      ],
      "execution_count": 36,
      "outputs": []
    },
    {
      "cell_type": "markdown",
      "metadata": {
        "id": "AqL7ZSjfyKK3"
      },
      "source": [
        "# **Generar NN**"
      ]
    },
    {
      "cell_type": "code",
      "metadata": {
        "id": "bQ67tXVGyM70"
      },
      "source": [
        "model.compile(\n",
        "    optimizer = tf.keras.optimizers.Adam(0.01),\n",
        "    loss = \"mean_squared_error\",\n",
        "    metrics = [\"accuracy\"]\n",
        ")"
      ],
      "execution_count": 37,
      "outputs": []
    },
    {
      "cell_type": "markdown",
      "metadata": {
        "id": "8ZKiSjKd1K7C"
      },
      "source": [
        "# **Entrenamiento**"
      ]
    },
    {
      "cell_type": "code",
      "metadata": {
        "id": "issMQWYG1O6o"
      },
      "source": [
        "# Separar columnas\n",
        "celsius = df[\"Celsius\"]\n",
        "fahren= df[\"Fahrenhiet\"]\n",
        "\n",
        "# Ajustar modelo\n",
        "history = model.fit(celsius, fahren, epochs=500, verbose=False)"
      ],
      "execution_count": 43,
      "outputs": []
    },
    {
      "cell_type": "code",
      "metadata": {
        "id": "cgzda9ON2hQ8",
        "colab": {
          "base_uri": "https://localhost:8080/"
        },
        "outputId": "0649d185-55f0-46bd-9b67-462290551fb0"
      },
      "source": [
        "#Verificar disminución en la perdida\n",
        "perdida = history.history['loss']\n",
        "print(perdida)"
      ],
      "execution_count": 44,
      "outputs": [
        {
          "output_type": "stream",
          "name": "stdout",
          "text": [
            "[0.3001297116279602, 0.2884317934513092, 0.2721622884273529, 0.26143234968185425, 0.24810299277305603, 0.23709210753440857, 0.22499980032444, 0.21421599388122559, 0.2032783478498459, 0.19418224692344666, 0.18502357602119446, 0.1758810132741928, 0.1659766584634781, 0.15729226171970367, 0.14957109093666077, 0.14172202348709106, 0.13432402908802032, 0.12717831134796143, 0.12027880549430847, 0.1149020865559578, 0.10781724005937576, 0.1023411899805069, 0.09710050374269485, 0.0920337438583374, 0.08619637787342072, 0.08139047026634216, 0.07719430327415466, 0.07372020184993744, 0.06859365850687027, 0.06430570781230927, 0.06052548065781593, 0.057136282324790955, 0.05412004142999649, 0.05057598277926445, 0.04752494394779205, 0.04467114061117172, 0.04192931577563286, 0.03932281211018562, 0.036926690489053726, 0.03466234728693962, 0.032500721514225006, 0.030595004558563232, 0.02859237976372242, 0.026799391955137253, 0.024872593581676483, 0.023319434374570847, 0.02176458016037941, 0.02033386193215847, 0.019079921767115593, 0.01777810975909233, 0.01646939292550087, 0.015660524368286133, 0.014802583493292332, 0.013404288329184055, 0.012408675625920296, 0.011537669226527214, 0.010697874240577221, 0.010036643594503403, 0.009219028055667877, 0.008593778125941753, 0.008153875358402729, 0.007395158056169748, 0.006874154321849346, 0.006325299385935068, 0.005811837036162615, 0.005408375058323145, 0.0049420916475355625, 0.004611144308000803, 0.004249791614711285, 0.0038718816358596087, 0.0035807564854621887, 0.0033210746478289366, 0.0030207838863134384, 0.002777132671326399, 0.0025576106272637844, 0.0023494854103773832, 0.0021450298372656107, 0.00197488721460104, 0.001797085627913475, 0.0016446701483801007, 0.0015218181069940329, 0.001390286604873836, 0.0012552449479699135, 0.001148810377344489, 0.0010576401837170124, 0.000949493027292192, 0.0008635281701572239, 0.0007901206845417619, 0.0007162343827076256, 0.0006544062052853405, 0.000588270544540137, 0.0005325921811163425, 0.00048241985496133566, 0.000436997099313885, 0.0003940642636734992, 0.00035878439666703343, 0.0003232476010452956, 0.00028986146207898855, 0.0002616177371237427, 0.00023707831860519946, 0.00021267513511702418, 0.00019577141210902482, 0.00017141895659733564, 0.0001532742753624916, 0.00013945526734460145, 0.0001236199022969231, 0.00011280789476586506, 0.0001014902227325365, 8.896378130884841e-05, 8.001603418961167e-05, 7.010796252870932e-05, 6.264016701607034e-05, 5.793850505142473e-05, 4.984072802471928e-05, 4.510122744250111e-05, 3.936795110348612e-05, 3.462599852355197e-05, 3.111409387202002e-05, 2.7429550755186938e-05, 2.4974558982648887e-05, 2.1198129616095684e-05, 1.8717228158493526e-05, 1.640017217141576e-05, 1.4489179193333257e-05, 1.2956804312125314e-05, 1.1175611689395737e-05, 9.745937859406695e-06, 8.523250471625943e-06, 7.4496015258773696e-06, 6.528295671159867e-06, 5.646563295158558e-06, 4.946653007209534e-06, 4.367836936580716e-06, 3.817628567048814e-06, 3.2612247196084354e-06, 2.8841138828283874e-06, 2.444163555992418e-06, 2.128996811734396e-06, 1.8437467588228174e-06, 1.5878296153459814e-06, 1.3562524827648303e-06, 1.1739816727640573e-06, 1.0418391411803896e-06, 8.679343181938748e-07, 7.454862611666613e-07, 6.483626293629641e-07, 5.439310371002648e-07, 4.6601181225014443e-07, 4.026356350550486e-07, 3.427388719501323e-07, 2.897373860832886e-07, 2.455570040638122e-07, 2.069276519023333e-07, 1.8244325872274203e-07, 1.5734481451090687e-07, 1.305417356434191e-07, 1.0877827349986546e-07, 9.028018865819831e-08, 7.457176565139889e-08, 6.323327284007974e-08, 5.538162284324244e-08, 4.9490342490798866e-08, 4.3361048085444054e-08, 3.707987517032052e-08, 3.144250371178714e-08, 2.6037735523232186e-08, 2.0916555598660125e-08, 1.6704593264194045e-08, 1.3017992905872688e-08, 1.0005352990560823e-08, 7.688871761502014e-09, 6.2910787690384495e-09, 5.588569607084537e-09, 5.371982414459353e-09, 5.119299650857556e-09, 4.833014877192454e-09, 4.81327200319015e-09, 4.872791947718724e-09, 4.771395278879709e-09, 4.76212136391041e-09, 4.82651163480341e-09, 4.818462961964087e-09, 4.756755878077001e-09, 4.745849047083084e-09, 4.533847519638812e-09, 4.2734438210345616e-09, 4.740519532475673e-09, 4.5253831792990695e-09, 4.331075942332063e-09, 4.269252062982787e-09, 4.229766314978178e-09, 4.2591326021579334e-09, 4.288557509113389e-09, 4.064825365190927e-09, 4.041196710602435e-09, 3.4505756030256407e-09, 3.26772875425263e-09, 3.3267237853351617e-09, 3.366005252303239e-09, 3.3041231972674723e-09, 3.450779662017567e-09, 3.3814611111182558e-09, 3.3131051235812947e-09, 3.3918430286661305e-09, 3.327015551946033e-09, 3.340984155997262e-09, 3.3454896630757958e-09, 3.417002680805581e-09, 3.14180659266583e-09, 2.9710403026683707e-09, 2.9901414677624416e-09, 2.9096831610786467e-09, 2.921639596920045e-09, 2.918256747364012e-09, 2.9440654358836582e-09, 2.942694754537456e-09, 3.0125089089949597e-09, 2.7757340870238068e-09, 2.801134213470391e-09, 2.851497260536462e-09, 2.662920328688756e-09, 2.3722683817339885e-09, 2.2657171694362432e-09, 2.2238695329690472e-09, 2.314126446023579e-09, 2.329290760272329e-09, 2.3604067589388933e-09, 2.310393654170184e-09, 2.4009128019031323e-09, 2.317552816322177e-09, 2.175234214973898e-09, 2.2480231010035823e-09, 1.9645669535606203e-09, 1.9433659126377734e-09, 1.9023347341828867e-09, 1.9699326614386337e-09, 1.9805477258216797e-09, 2.010147381881211e-09, 1.8309677107808398e-09, 1.8134412860248972e-09, 1.7929986384501717e-09, 1.8015139380267442e-09, 1.8180781324872441e-09, 1.7673651431238113e-09, 1.8062382700634316e-09, 2.2889083961530332e-09, 1.7061027035580878e-09, 1.5342501713533352e-09, 1.4969516737295407e-09, 1.5577840128955245e-09, 1.5649578299914424e-09, 1.580967912140352e-09, 1.5092581628906032e-09, 1.5376038220438204e-09, 1.6300769623001088e-09, 1.5763165217563824e-09, 1.2619338907171596e-09, 1.264383597820995e-09, 1.2722282116683914e-09, 1.3162047007853062e-09, 1.3127635645204805e-09, 1.256159842810689e-09, 1.282464134888528e-09, 1.2759318046562385e-09, 1.2742694677214672e-09, 1.3253907971133572e-09, 1.1764961227456183e-09, 1.1634241348090768e-09, 1.4192710340310555e-09, 1.1905157970559799e-09, 1.1464518223647246e-09, 1.1236761521260519e-09, 1.0446175036094019e-09, 9.858558414066465e-10, 9.729369532252008e-10, 1.0423720775420975e-09, 1.056486564898762e-09, 1.0943973505206372e-09, 1.0158345276067848e-09, 9.832895608852255e-10, 9.000826195482148e-10, 9.238206311046326e-10, 1.0240217562795806e-09, 9.21283493937608e-10, 9.596754502183558e-10, 8.115536020980585e-10, 8.054004130286785e-10, 8.142365115482164e-10, 8.56521631398266e-10, 8.424654862615455e-10, 8.264263162693908e-10, 8.059836131835141e-10, 7.96360144494912e-10, 8.767893633354618e-10, 7.748676145169497e-10, 7.835579407533544e-10, 7.575453042640845e-10, 8.161320508293102e-10, 7.655357459057655e-10, 8.5136725447299e-10, 6.923897566402104e-10, 6.4330984983485e-10, 7.543884961158653e-10, 6.580367362118977e-10, 6.618861569940293e-10, 6.645107242242432e-10, 6.801708085646396e-10, 6.388771733867316e-10, 6.390813434009601e-10, 6.815049635733317e-10, 5.696826899104224e-10, 6.215038483858848e-10, 5.380053069714563e-10, 5.296065808124695e-10, 5.354098830956389e-10, 5.294608085293362e-10, 5.630556021429811e-10, 5.353806842300912e-10, 5.219077947593576e-10, 5.154338067470121e-10, 5.043813144922638e-10, 5.421171844766093e-10, 4.438407141815759e-10, 4.0925438038463824e-10, 4.380082685440101e-10, 4.094876937532632e-10, 4.1511596937660045e-10, 4.0534667289371384e-10, 4.4658193809610225e-10, 4.090502658815609e-10, 4.5101458678864503e-10, 4.292013133788686e-10, 4.2054013049686034e-10, 3.990184849200773e-10, 4.0703806991615465e-10, 4.3666681381893113e-10, 3.815211757629555e-10, 5.012901760359512e-10, 4.908063400144158e-10, 4.226689831465791e-10, 3.6537264880287523e-10, 3.9118114303349216e-10, 3.91764398699479e-10, 3.6551844884158413e-10, 3.749086596727125e-10, 3.542983129101174e-10, 3.1386498955399134e-10, 3.28970989338373e-10, 3.0287083951918703e-10, 3.2389677051547494e-10, 3.6612357590115607e-10, 3.3629068973972664e-10, 4.282681154155199e-10, 3.0666191808137455e-10, 2.961635658937922e-10, 3.1666455568846175e-10, 3.6621106147549654e-10, 3.968385897668014e-10, 3.217169031177747e-10, 3.796620795526451e-10, 3.909770007748392e-10, 4.378989115760845e-10, 3.6222311261546736e-10, 2.3493032519361634e-10, 3.6024008776003313e-10, 2.5458560259927765e-10, 2.371174923077035e-10, 2.5149443638738944e-10, 2.5041541062975625e-10, 3.1807162459429605e-10, 2.4762314421167275e-10, 1.666544263700942e-10, 2.170757879005336e-10, 1.5402720765500533e-10, 1.8695128778389858e-10, 1.9762463887573745e-10, 1.8453082117897424e-10, 2.2669929822249912e-10, 3.636739520640475e-10, 2.7391283685673784e-10, 1.979745811730993e-10, 2.0657740795737567e-10, 2.976508206575801e-10, 2.4973739742861767e-10, 2.70821642889274e-10, 4.673308406921706e-10, 5.041626005564126e-10, 1.9929416450459314e-10, 1.484062039924794e-10, 2.0413508383665402e-10, 1.765476792536802e-10, 1.997899207184517e-10, 1.6339554709254855e-10, 1.9273267704011943e-10, 2.011897037856869e-10, 1.6995703455702227e-10, 3.5593866742900104e-10, 1.3355537509252002e-10, 1.1967418722669265e-10, 1.5595191804607111e-10, 1.3664656905998385e-10, 1.5723504442899383e-10, 1.8511406296717325e-10, 4.591435565082236e-10, 3.2474975486529445e-10, 1.161237009328353e-10, 1.0629605529111075e-10, 2.252776437616788e-10, 2.215157224316755e-10, 1.2216026801237234e-10, 1.0410889511591748e-10, 1.1084535372907212e-10, 1.3160880718565693e-10, 1.6450371620457815e-10, 1.0999964827895781e-10, 1.5590087554251397e-10, 1.571840158032245e-10, 2.422791689493664e-10, 2.1075488576549617e-10, 1.5097247063611263e-10, 1.599544247055107e-10, 1.3230869178038063e-10, 9.60601390098681e-11, 1.940741456429862e-10, 2.274939681079502e-10, 4.2706518876833854e-10, 9.716830118300379e-11, 1.6129587943058965e-10, 1.2950912564591022e-10, 9.617678875528668e-11, 5.2812663964285633e-11, 8.494936004632692e-11, 8.025424769186884e-11, 1.016301071077308e-10, 1.1186602338897345e-10, 2.9106747567730906e-10, 3.3309013880433724e-10, 9.53172318851614e-10, 2.145459782054715e-10, 2.744158789091955e-10, 3.402640114114064e-10, 7.229298409905383e-11, 1.6211242070962584e-10, 6.068061053632334e-10, 9.154219049456458e-10, 6.067988334024221e-10, 3.77700926090796e-10, 1.3314710445300193e-10, 1.3346788951817956e-10, 1.4268312920062698e-10, 1.0952576345868437e-10, 5.773377609319397e-11, 8.290071407124344e-11, 2.9942970325436136e-10, 1.0141868594937264e-10, 1.1395841215122715e-10, 2.3859744735510446e-10, 7.383128830529273e-11, 1.1503741015328472e-10, 8.100517479014968e-11, 6.39161501503338e-11, 1.0786351672953387e-10, 5.181313156299439e-10, 3.509957047231893e-10, 3.504707635215709e-10, 3.696594697011335e-10, 1.2402445737080825e-09, 3.717591512408802e-10, 4.540547451914456e-11, 6.593563195433916e-11, 2.674752919151757e-10, 8.735523415737134e-10, 1.2079256483943368e-09, 7.40922878605943e-10, 5.639960720671411e-11, 5.57784540777817e-10, 7.790961209508396e-10, 1.956197287489303e-10, 2.253943004459913e-10, 2.997869452681101e-10, 6.252657835936759e-10, 1.0094479696576286e-09, 1.5144490106422381e-09, 3.220376743051645e-10, 8.813678120667134e-10, 3.77751963043238e-09, 1.3104422436072127e-08, 8.930035377829881e-09, 7.433316628890907e-09, 1.006077532395011e-08, 5.665156788126069e-09, 7.509954436102362e-09, 4.239127271432608e-09, 2.532733189841707e-10, 6.035982824670327e-10, 1.690632189799146e-09, 3.156642947033106e-09, 2.8730846590718784e-09, 8.439527410253334e-10, 1.144993655444182e-09]\n"
          ]
        }
      ]
    },
    {
      "cell_type": "markdown",
      "metadata": {
        "id": "l6miDKfU4UdG"
      },
      "source": [
        "# **Graficar perdida**"
      ]
    },
    {
      "cell_type": "code",
      "metadata": {
        "id": "gd0N9Oo04UEx",
        "colab": {
          "base_uri": "https://localhost:8080/",
          "height": 297
        },
        "outputId": "10f54608-a0d9-4748-94d6-821dec846970"
      },
      "source": [
        "#Asignar etiqueta a X\n",
        "plt.xlabel(\"Epoch\")\n",
        "#Asignar etiqueta a Y\n",
        "plt.ylabel(\"Loss\")\n",
        "#Graficar\n",
        "plt.plot(perdida)"
      ],
      "execution_count": 45,
      "outputs": [
        {
          "output_type": "execute_result",
          "data": {
            "text/plain": [
              "[<matplotlib.lines.Line2D at 0x7fb3f1156b50>]"
            ]
          },
          "metadata": {},
          "execution_count": 45
        },
        {
          "output_type": "display_data",
          "data": {
            "image/png": "[encoded data removed]",
            "text/plain": [
              "<Figure size 432x288 with 1 Axes>"
            ]
          },
          "metadata": {
            "needs_background": "light"
          }
        }
      ]
    },
    {
      "cell_type": "markdown",
      "metadata": {
        "id": "3nTRASwj5Qaz"
      },
      "source": [
        "# **Predicción**"
      ]
    },
    {
      "cell_type": "code",
      "metadata": {
        "id": "r3F4SlKX5U5G",
        "colab": {
          "base_uri": "https://localhost:8080/"
        },
        "outputId": "578cea29-3875-4c04-aba2-e59a56d1d522"
      },
      "source": [
        "y_hat = model.predict([150])\n",
        "y_hat"
      ],
      "execution_count": 46,
      "outputs": [
        {
          "output_type": "execute_result",
          "data": {
            "text/plain": [
              "array([[301.99973]], dtype=float32)"
            ]
          },
          "metadata": {},
          "execution_count": 46
        }
      ]
    }
  ]
}