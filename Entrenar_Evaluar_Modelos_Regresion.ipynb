{
  "nbformat": 4,
  "nbformat_minor": 0,
  "metadata": {
    "colab": {
      "name": "Entrenar_Evaluar_Modelos_Regresion.ipynb",
      "provenance": [],
      "authorship_tag": "ABX9TyPrIUYTKr2Or0DomJGh0BOR",
      "include_colab_link": true
    },
    "kernelspec": {
      "name": "python3",
      "display_name": "Python 3"
    },
    "language_info": {
      "name": "python"
    }
  },
  "cells": [
    {
      "cell_type": "markdown",
      "metadata": {
        "id": "view-in-github",
        "colab_type": "text"
      },
      "source": [
        "<a href=\"https://colab.research.google.com/github/EMcoding17/ExtraccionConocimientosDeBD/blob/main/Entrenar_Evaluar_Modelos_Regresion.ipynb\" target=\"_parent\"><img src=\"https://colab.research.google.com/assets/colab-badge.svg\" alt=\"Open In Colab\"/></a>"
      ]
    },
    {
      "cell_type": "markdown",
      "metadata": {
        "id": "DtZOgZBPi4lp"
      },
      "source": [
        "# **Explorar y evaluar modelos de regresión**\n",
        "## **Extracción de Conocimientos de Base de Datos**\n",
        "**Romero Sosa Emma Yuridia**\n",
        "\n",
        "**1718110412**\n",
        "\n",
        "La regresión es un tipo de aprendizaje automático de uso común para predecir valores numéricos.\n",
        "\n",
        "**Objetivos de aprendizaje**\n",
        "\n",
        "En este modulo, aprenderá:\n",
        "* Cuando usar modelos de regresión.\n",
        "* Cómo entrenar y evaluar modelos de regresión usando el marco Scikit-Learn.\n",
        "\n",
        "**Prerrequisitos**\n",
        "\n",
        "* Conceptos matemáticos básicos.\n",
        "* Programar con Python.\n",
        "\n",
        "**Temario**\n",
        "* Introducción\n",
        "* ¿Qué es la regresión?\n",
        "* Ejercicio entrenar y evaluar un modelo de regresión\n",
        "* Descubra nuevos modelos de regresión\n",
        "* Ejercicio: experimente con modelos de regresión más potentes\n",
        "* Mejorar modelos con hiperparámetros\n",
        "* Ejercicio: optimizar y guardar modelos\n",
        "* Verificación de conocimientos\n",
        "* Resumen\n",
        "\n",
        "\n",
        "---\n",
        "\n"
      ]
    },
    {
      "cell_type": "markdown",
      "metadata": {
        "id": "hSatm7ZdkaVn"
      },
      "source": [
        "# **Introducción**\n",
        "\n",
        "La regresión es donde los modelos predicen un número.\n",
        "\n",
        "En el aprendizaje automático, el objetivo de la regresión es crear un modelo que pueda predecir un valor numérico cuantificable, como un precio, una cantidad, un tamaño u otro número escalar.\n",
        "\n",
        "La regresión es una técnica estadística de fundamental importancia para la ciencia debido a su facilidad de interpretación, robustez y rapidez en el cálculo. Los modelos de regresión proporcionan una base excelente para comprender cómo funcionan las técnicas de aprendizaje automático más complejas.\n",
        "\n",
        "En situaciones del mundo real, particularmente cuando hay pocos datos disponibles, los modelos de regresión son muy útiles para hacer predicciones. Por ejemplo, si una empresa que alquila bicicletas desea predecir el número esperado de alquileres en un día determinado en el futuro, un modelo de regresión puede predecir este número. Se podría crear un modelo utilizando datos existentes, como el número de bicicletas que se alquilaron en los días que estaban de temporada, el día de la semana, etc.\n",
        "\n",
        "\n",
        "---\n",
        "\n"
      ]
    }
  ]
}