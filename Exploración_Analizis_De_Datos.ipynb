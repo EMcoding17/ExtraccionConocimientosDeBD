{
  "nbformat": 4,
  "nbformat_minor": 0,
  "metadata": {
    "colab": {
      "name": "Exploración_Analizis_De_Datos.ipynb",
      "provenance": [],
      "collapsed_sections": [],
      "authorship_tag": "ABX9TyPWIas1cWpaCBZ2blfAnksB",
      "include_colab_link": true
    },
    "kernelspec": {
      "name": "python3",
      "display_name": "Python 3"
    },
    "language_info": {
      "name": "python"
    }
  },
  "cells": [
    {
      "cell_type": "markdown",
      "metadata": {
        "id": "view-in-github",
        "colab_type": "text"
      },
      "source": [
        "<a href=\"https://colab.research.google.com/github/EMcoding17/ExtraccionConocimientosDeBD/blob/main/Exploraci%C3%B3n_Analizis_De_Datos.ipynb\" target=\"_parent\"><img src=\"https://colab.research.google.com/assets/colab-badge.svg\" alt=\"Open In Colab\"/></a>"
      ]
    },
    {
      "cell_type": "markdown",
      "metadata": {
        "id": "UcIwrNjOEfDE"
      },
      "source": [
        "# **Exploración y análisis de datos con Python**\n",
        "## Extracción de Conocimientos de Base de Datos\n",
        "### Romero Sosa Emma Yuridia\n",
        "### 1718110412\n",
        "\n",
        "---\n",
        "\n",
        "La exploración y el análisis de datos son el núcleo de la ciencia de datos. Los científicos de datos requieren habilidades en lenguajes como Python para explorar, visualizar y manipular datos.\n",
        "\n",
        "**Objetivos de aprendizaje**\n",
        "\n",
        "En este módulo, aprenderá:\n",
        "*   Tareas comunes de exploración y análisis de datos.\n",
        "*   Cómo usar paquetes de Python como Numpy, Pandas, Matplotlib para analizar datos.\n",
        "\n",
        "**Prerrequisitos:**\n",
        "\n",
        "Conocimiento de matemáticas básicas.\n",
        "Alguna experiencia programando en Python\n",
        "\n",
        "### **Temario**\n",
        "\n",
        "*   Introducción\n",
        "*   Explore datos con NumPy y Pandas\n",
        "*   Ejercicio: explorar datos con NumPy y Pandas\n",
        "*   Ejercicio: visualizar datos con Matplotlib\n",
        "*   Examinar datos del mundo real\n",
        "*   Ejercicio: examinar datos del mundo real\n",
        "*   Verificación de conocimientos\n",
        "*   Resumen\n",
        "\n",
        "\n",
        "---\n",
        "\n",
        "\n"
      ]
    },
    {
      "cell_type": "markdown",
      "metadata": {
        "id": "0ny5nIHwH43n"
      },
      "source": [
        "# **Introducción**\n",
        "\n",
        "Como era de esperar, el papel de un científico de datos implica principalmente explorar y analizar datos. Los resultados de un análisis pueden formar la base de un informe o un modelo de machine learning, pero todo comienza con los datos, siendo Python el lenguaje de programación más popular para los científicos de datos.\n",
        "\n",
        "Después de décadas de desarrollo de código abierto, Python proporciona una amplia funcionalidad con potentes bibliotecas estadísticas y numéricas:\n",
        "\n",
        "* NumPy y Pandas simplifican el análisis y la manipulación de datos.\n",
        "* Matplotlib proporciona visualizaciones de datos atractivas.\n",
        "* Scikit-learn ofrece un análisis de datos predictivo simple y efectivo.\n",
        "* TensorFlow y PyTorch ofrecen capacidades de aprendizaje automático y aprendizaje profundo.\n",
        "\n",
        "Por lo general, un proyecto de análisis de datos está diseñado para establecer conocimientos sobre un escenario particular o para probar una hipótesis.\n",
        "\n",
        "Por ejemplo, supongamos que un profesor universitario recopila datos de sus estudiantes, incluido el número de conferencias a las que asistieron, las horas dedicadas al estudio y la calificación final obtenida en el examen de fin de trimestre. El profesor podría analizar los datos para determinar si existe una relación entre la cantidad de estudios que realiza un alumno y la nota final que obtiene. El profesor podría usar los datos para probar la hipótesis de que solo los estudiantes que estudian durante un número mínimo de horas pueden esperar obtener una calificación aprobatoria.\n",
        "\n",
        "---\n",
        "\n"
      ]
    }
  ]
}