{
  "nbformat": 4,
  "nbformat_minor": 0,
  "metadata": {
    "colab": {
      "name": "Exploración_Analizis_De_Datos.ipynb",
      "provenance": [],
      "collapsed_sections": [
        "UcIwrNjOEfDE",
        "0ny5nIHwH43n",
        "dwAmnwBbOM2_"
      ],
      "authorship_tag": "ABX9TyPktejWp95VVOA2pn0o1qTf",
      "include_colab_link": true
    },
    "kernelspec": {
      "name": "python3",
      "display_name": "Python 3"
    },
    "language_info": {
      "name": "python"
    }
  },
  "cells": [
    {
      "cell_type": "markdown",
      "metadata": {
        "id": "view-in-github",
        "colab_type": "text"
      },
      "source": [
        "<a href=\"https://colab.research.google.com/github/EMcoding17/ExtraccionConocimientosDeBD/blob/main/Exploraci%C3%B3n_Analizis_De_Datos.ipynb\" target=\"_parent\"><img src=\"https://colab.research.google.com/assets/colab-badge.svg\" alt=\"Open In Colab\"/></a>"
      ]
    },
    {
      "cell_type": "markdown",
      "metadata": {
        "id": "UcIwrNjOEfDE"
      },
      "source": [
        "# **Exploración y análisis de datos con Python**\n",
        "## Extracción de Conocimientos de Base de Datos\n",
        "### Romero Sosa Emma Yuridia\n",
        "### 1718110412\n",
        "\n",
        "---\n",
        "\n",
        "La exploración y el análisis de datos son el núcleo de la ciencia de datos. Los científicos de datos requieren habilidades en lenguajes como Python para explorar, visualizar y manipular datos.\n",
        "\n",
        "**Objetivos de aprendizaje**\n",
        "\n",
        "En este módulo, aprenderá:\n",
        "*   Tareas comunes de exploración y análisis de datos.\n",
        "*   Cómo usar paquetes de Python como Numpy, Pandas, Matplotlib para analizar datos.\n",
        "\n",
        "**Prerrequisitos:**\n",
        "\n",
        "* Conocimiento de matemáticas básicas.\n",
        "* Alguna experiencia programando en Python\n",
        "\n",
        "### **Temario**\n",
        "\n",
        "*   Introducción\n",
        "*   Explore datos con NumPy y Pandas\n",
        "*   Ejercicio: explorar datos con NumPy y Pandas\n",
        "*   Ejercicio: visualizar datos con Matplotlib\n",
        "*   Examinar datos del mundo real\n",
        "*   Ejercicio: examinar datos del mundo real\n",
        "*   Verificación de conocimientos\n",
        "*   Resumen\n",
        "\n",
        "\n",
        "---\n",
        "\n",
        "\n"
      ]
    },
    {
      "cell_type": "markdown",
      "metadata": {
        "id": "0ny5nIHwH43n"
      },
      "source": [
        "# **Introducción**\n",
        "\n",
        "Como era de esperar, el papel de un científico de datos implica principalmente explorar y analizar datos. Los resultados de un análisis pueden formar la base de un informe o un modelo de machine learning, pero todo comienza con los datos, siendo Python el lenguaje de programación más popular para los científicos de datos.\n",
        "\n",
        "Después de décadas de desarrollo de código abierto, Python proporciona una amplia funcionalidad con potentes bibliotecas estadísticas y numéricas:\n",
        "\n",
        "* NumPy y Pandas simplifican el análisis y la manipulación de datos.\n",
        "* Matplotlib proporciona visualizaciones de datos atractivas.\n",
        "* Scikit-learn ofrece un análisis de datos predictivo simple y efectivo.\n",
        "* TensorFlow y PyTorch ofrecen capacidades de *machine learning* y *deep learning*.\n",
        "\n",
        "Por lo general, un proyecto de análisis de datos está diseñado para establecer conocimientos sobre un escenario particular o para probar una hipótesis.\n",
        "\n",
        "Por ejemplo, supongamos que un profesor universitario recopila datos de sus estudiantes, incluido el número de conferencias a las que asistieron, las horas dedicadas al estudio y la calificación final obtenida en el examen de fin de trimestre. El profesor podría analizar los datos para determinar si existe una relación entre la cantidad de estudios que realiza un alumno y la nota final que obtiene. El profesor podría usar los datos para probar la hipótesis de que solo los estudiantes que estudian durante un número mínimo de horas pueden esperar obtener una calificación aprobatoria.\n",
        "\n",
        "---\n",
        "\n"
      ]
    },
    {
      "cell_type": "markdown",
      "metadata": {
        "id": "dwAmnwBbOM2_"
      },
      "source": [
        "# **Explore datos con NumPy y Pandas**\n",
        "\n",
        "Los científicos de datos pueden utilizar diversas herramientas y técnicas para explorar, visualizar y manipular datos. Una de las formas más comunes en las que los científicos de datos trabajan con datos es utilizar el lenguaje Python y algunos paquetes específicos para el procesamiento de datos.\n",
        "\n",
        "## **¿Qué es NumPy?**\n",
        "NumPy es una biblioteca de Python que brinda una funcionalidad comparable a las herramientas matemáticas como MATLAB y R. Si bien NumPy simplifica significativamente la experiencia del usuario, también ofrece funciones matemáticas integrales.\n",
        "\n",
        "## **¿Qué es Pandas?**\n",
        "Pandas es una biblioteca de Python extremadamente popular para el análisis y la manipulación de datos. Pandas es como Excel para Python: proporciona una funcionalidad fácil de usar para tablas de datos.\n",
        "\n",
        "![image.png](data:image/png;base64,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)\n",
        "\n",
        "##**Explorar los datos en un cuaderno de Jupyter**\n",
        "Los cuadernos de Jupyter son una forma popular de ejecutar scripts básicos con su navegador web. Por lo general, estos cuadernos son una sola página web, dividida en secciones de texto y secciones de código que se ejecutan en el servidor en lugar de en su máquina local. Esto significa que puede comenzar rápidamente sin necesidad de instalar Python u otras herramientas.\n",
        "\n",
        "##**Prueba de hipótesis**\n",
        "La exploración y el análisis de datos suele ser un proceso iterativo, en el que el científico de datos toma una muestra de datos y realiza los siguientes tipos de tareas para analizarlos y probar una hipótesis:\n",
        "\n",
        "* Limpiar datos para manejar errores, valores perdidos y otros problemas.\n",
        "* Aplicar técnicas estadísticas para comprender mejor los datos y cómo se puede esperar que la muestra represente la población de datos del mundo real, lo que permite una variación aleatoria.\n",
        "* Visualizar los datos para determinar las relaciones entre las variables y, en el caso de un proyecto de *machine learning*, identificar las características que son potencialmente predictivas de la etiqueta.\n",
        "* Revisar la hipótesis y repetir el proceso.\n",
        "\n",
        "\n",
        "---\n",
        "\n"
      ]
    },
    {
      "cell_type": "markdown",
      "metadata": {
        "id": "Z-oT1JZwQnbp"
      },
      "source": [
        "#**Ejercicio: Explorar datos con Numpy y Pandas**\n",
        "\n",
        "##**Explorando datos con Python**\n",
        "Una parte importante del rol de un científico de datos es explorar, analizar y visualizar datos. Existe una amplia gama de herramientas y lenguajes de programación que pueden usar para hacer esto; y uno de los enfoques más populares es usar cuadernos de Jupyter (como este) y Python.\n",
        "\n",
        "Python es un lenguaje de programación flexible que se utiliza en una amplia gama de escenarios; desde aplicaciones web hasta programación de dispositivos. Es extremadamente popular en la comunidad de ciencia de datos y aprendizaje automático debido a los muchos paquetes que admite para el análisis y la visualización de datos.\n",
        "\n",
        "En este cuaderno, se exploraran algunos de estos paquetes y aplicaran técnicas básicas para analizar datos. No se pretende que sea un ejercicio completo de programación de Python; o incluso una inmersión profunda en el análisis de datos. Más bien, está pensado como un curso acelerado sobre algunas de las formas comunes en las que los científicos de datos pueden usar Python para trabajar con datos.\n",
        "\n",
        "##**Explorando matrices de datos con NumPy**\n",
        "\n",
        "Comencemos mirando algunos datos simples.\n",
        "\n",
        "Suponga que una universidad toma una muestra de las calificaciones de los estudiantes para una clase de ciencia de datos."
      ]
    },
    {
      "cell_type": "code",
      "metadata": {
        "id": "dyg6ns2fRts2"
      },
      "source": [
        "data = [50,50,47,97,49,3,53,42,26,74,82,62,37,15,70,27,36,35,48,52,63,64]\n",
        "print(data)"
      ],
      "execution_count": null,
      "outputs": []
    },
    {
      "cell_type": "markdown",
      "metadata": {
        "id": "IxizdVMcR0Vz"
      },
      "source": [
        "Los datos se han cargado en una **lista** de Python , que es un buen tipo de datos para la manipulación de datos en general, pero no está optimizado para el análisis numérico. Para ello, vamos a utilizar el paquete de **NumPy**, que incluye los tipos de datos y funciones específicas para trabajar con *Numeros* en Python."
      ]
    },
    {
      "cell_type": "code",
      "metadata": {
        "id": "RJFUw4MRSSoV"
      },
      "source": [
        "import numpy as np\n",
        "\n",
        "grades = np.array(data)\n",
        "print(grades)"
      ],
      "execution_count": null,
      "outputs": []
    },
    {
      "cell_type": "markdown",
      "metadata": {
        "id": "pWJrPcrlSfi5"
      },
      "source": [
        "En caso de que se esté preguntando acerca de las diferencias entre una *lista* y un **array** *(matriz)* de NumPy , comparemos cómo se comportan estos tipos de datos cuando los usamos en una expresión que los multiplica por 2."
      ]
    },
    {
      "cell_type": "code",
      "metadata": {
        "id": "oIMJj2mnSryK"
      },
      "source": [
        "print (type(data),'x 2:', data * 2)\n",
        "print('---')\n",
        "print (type(grades),'x 2:', grades * 2)"
      ],
      "execution_count": null,
      "outputs": []
    },
    {
      "cell_type": "markdown",
      "metadata": {
        "id": "O-PjB5-YS3JJ"
      },
      "source": [
        "Tenga en cuenta que multiplicar una lista por 2 crea una nueva lista de dos veces la longitud con la secuencia original de elementos de la lista repetida. Al multiplicar un **array** de NumPy, por otro lado, se realiza un cálculo por elementos en el que la matriz se comporta como un vector , por lo que terminamos con un **array** del mismo tamaño en la que cada elemento se ha multiplicado por 2.\n",
        "\n",
        "La conclusión clave de esto es que los **arrays** de NumPy están diseñados específicamente para admitir operaciones matemáticas en datos numéricos, lo que las hace más útiles para el análisis de datos que una lista genérica.\n",
        "\n",
        "Es posible que haya notado que el tipo de clase para el **array** de numpy anterior es un numpy.ndarray . La **nd** indica que esta es una estructura que puede constar de múltiples dimensiones (puede tener *n* dimensiones). Nuestra instancia específica tiene una sola dimensión de calificaciones de los estudiantes."
      ]
    },
    {
      "cell_type": "code",
      "metadata": {
        "colab": {
          "base_uri": "https://localhost:8080/"
        },
        "id": "sSDih7URTrfR",
        "outputId": "772d781c-28c0-4b94-df9b-b0a8a1a21f6e"
      },
      "source": [
        "grades.shape"
      ],
      "execution_count": 15,
      "outputs": [
        {
          "output_type": "execute_result",
          "data": {
            "text/plain": [
              "(22,)"
            ]
          },
          "metadata": {},
          "execution_count": 15
        }
      ]
    },
    {
      "cell_type": "markdown",
      "metadata": {
        "id": "zWtKK202Ttpj"
      },
      "source": [
        "El **shape** confirma que este **array** tiene una sola dimensión, que contiene 22 elementos (hay 22 grados en la lista original). Puede acceder a los elementos individuales de la matriz por su posición ordinal basada en cero.\n",
        "\n",
        "Consigamos el primer elemento (el que está en la posición 0)."
      ]
    },
    {
      "cell_type": "code",
      "metadata": {
        "id": "pMEiQPQTUAj-"
      },
      "source": [
        "grades[0]"
      ],
      "execution_count": null,
      "outputs": []
    },
    {
      "cell_type": "markdown",
      "metadata": {
        "id": "4FeC0OiEUDg-"
      },
      "source": [
        "\n",
        "\n",
        "---\n",
        "\n",
        "Ahora que se conoce el camino alrededor de un **array** de NumPy, es hora de realizar un análisis de los datos de calificaciones\n",
        "\n",
        "Puede aplicar agregaciones entre los elementos de la matriz, así que busquemos la calificación promedio simple (en otras palabras, el valor **medio** de la calificación)."
      ]
    },
    {
      "cell_type": "code",
      "metadata": {
        "id": "XPCQLcRwUm_Y"
      },
      "source": [
        "grades.mean()"
      ],
      "execution_count": null,
      "outputs": []
    },
    {
      "cell_type": "markdown",
      "metadata": {
        "id": "ENtpRKBKUqnu"
      },
      "source": [
        "Entonces, la nota media esta alrededor de 50, más o menos en el medio del rango posible de 0 a 100.\n",
        "\n",
        "Agreguemos un segundo conjunto de datos para los mismos estudiantes, esta vez registrando el número típico de horas por semana que dedicaron a estudiar."
      ]
    },
    {
      "cell_type": "code",
      "metadata": {
        "id": "mL7B0_8-U2Mb"
      },
      "source": [
        "# Definir un array de horas de estudio\n",
        "study_hours = [10.0,11.5,9.0,16.0,9.25,1.0,11.5,9.0,8.5,14.5,15.5,\n",
        "               13.75,9.0,8.0,15.5,8.0,9.0,6.0,10.0,12.0,12.5,12.0]\n",
        "\n",
        "# Crear un array de dos dimensiones (un array de arrays)\n",
        "student_data = np.array([study_hours, grades])\n",
        "\n",
        "# Mostrar el array\n",
        "student_data\n"
      ],
      "execution_count": null,
      "outputs": []
    },
    {
      "cell_type": "markdown",
      "metadata": {
        "id": "-aFL0gN_VtYF"
      },
      "source": [
        "Ahora los datos consisten en un array multidimensional."
      ]
    },
    {
      "cell_type": "code",
      "metadata": {
        "id": "QgEwmlpHVuBo"
      },
      "source": [
        "# Mostrar la forma\n",
        "student_data.shape"
      ],
      "execution_count": null,
      "outputs": []
    },
    {
      "cell_type": "markdown",
      "metadata": {
        "id": "-XTxmItDV7LU"
      },
      "source": [
        "El **array** *student_data* contiene dos elementos, cada uno de los cuales es una matriz que contiene 22 elementos.\n",
        "\n",
        "Para navegar por esta estructura, debe especificar la posición de cada elemento en la jerarquía. Entonces, para encontrar el primer valor en el primer **array** (que contiene los datos de las horas de estudio), puede usar el siguiente código."
      ]
    },
    {
      "cell_type": "code",
      "metadata": {
        "id": "vHPyCoEUV_p-"
      },
      "source": [
        "# Mostrar el primer elemento de el primer elemento\n",
        "student_data[0][0]"
      ],
      "execution_count": null,
      "outputs": []
    },
    {
      "cell_type": "markdown",
      "metadata": {
        "id": "MCZuZBITWCoB"
      },
      "source": [
        "Ahora tiene un **array** multidimensional que contiene tanto el tiempo de estudio del estudiante como la información de calificaciones, que puede usar para comparar datos. Por ejemplo, *¿cómo se compara el tiempo medio de estudio con la nota media?*"
      ]
    },
    {
      "cell_type": "code",
      "metadata": {
        "id": "Pwrnpc49WGDR"
      },
      "source": [
        "# Obtener el valor medio de cada sub-array\n",
        "avg_study = student_data[0].mean()\n",
        "avg_grade = student_data[1].mean()\n",
        "\n",
        "print('Media de las horas de estudio: {:.2f}\\nMedia de calificaciones: {:.2f}'.format(avg_study, avg_grade))"
      ],
      "execution_count": null,
      "outputs": []
    },
    {
      "cell_type": "markdown",
      "metadata": {
        "id": "yYLMGe3pXiG-"
      },
      "source": [
        "## **Explorando datos tabulares con Pandas**\n",
        "\n",
        "Si bien NumPy proporciona muchas de las funciones que necesita para trabajar con números, y específicamente **arrays** de valores numéricos; Cuando comienza a trabajar con tablas de datos multidimensionales, el paquete Pandas ofrece una estructura más conveniente para trabajar: el **DataFrame**.\n",
        "\n",
        "Ejecute la siguiente celda para importar la biblioteca Pandas y cree un *DataFrame* con tres columnas. La primera columna es una lista de los nombres de los estudiantes, y la segunda y tercer columnas son los **arrays** de NumPy que contienen el tiempo de estudio y los datos de las calificaciones."
      ]
    },
    {
      "cell_type": "code",
      "metadata": {
        "id": "AMgjNA6MXnmg"
      },
      "source": [
        "import pandas as pd\n",
        "\n",
        "df_students = pd.DataFrame({'Name': ['Dan', 'Joann', 'Pedro', 'Rosie', 'Ethan', 'Vicky', 'Frederic', 'Jimmie', \n",
        "                                     'Rhonda', 'Giovanni', 'Francesca', 'Rajab', 'Naiyana', 'Kian', 'Jenny',\n",
        "                                     'Jakeem','Helena','Ismat','Anila','Skye','Daniel','Aisha'],\n",
        "                            'StudyHours':student_data[0],\n",
        "                            'Grade':student_data[1]})\n",
        "\n",
        "df_students "
      ],
      "execution_count": null,
      "outputs": []
    },
    {
      "cell_type": "markdown",
      "metadata": {
        "id": "Bcck1qfQXp2B"
      },
      "source": [
        "Tenga en cuenta que, además de las columnas que especificó, el *DataFrame* incluye un *índice* para identificar de forma única cada fila. Podríamos haber especificado el índice explícitamente y asignado cualquier tipo de valor apropiado (por ejemplo, una dirección de correo electrónico); pero como no especificamos un *índice*, se ha creado uno con un valor entero único para cada fila.\n",
        "\n",
        "### **Encontrar y filtrar datos en un DataFrame**\n",
        "Puede usar el método **loc** de *DataFrame* para recuperar datos para un valor de índice específico, como este."
      ]
    },
    {
      "cell_type": "code",
      "metadata": {
        "colab": {
          "base_uri": "https://localhost:8080/"
        },
        "id": "jNGnrQw2XycZ",
        "outputId": "df9dedc0-1a11-4c95-8a70-89f15b190301"
      },
      "source": [
        "# Obtener el dato del indice 5\n",
        "df_students.loc[5]"
      ],
      "execution_count": 23,
      "outputs": [
        {
          "output_type": "execute_result",
          "data": {
            "text/plain": [
              "Name          Vicky\n",
              "StudyHours        1\n",
              "Grade             3\n",
              "Name: 5, dtype: object"
            ]
          },
          "metadata": {},
          "execution_count": 23
        }
      ]
    },
    {
      "cell_type": "markdown",
      "metadata": {
        "id": "75_Q_ZdAX1G8"
      },
      "source": [
        "También puede obtener los datos en un rango de valores de índice, como este:"
      ]
    },
    {
      "cell_type": "code",
      "metadata": {
        "id": "d027w7pGX3tC"
      },
      "source": [
        "# Obtener las filas con indice de 0 a 5\n",
        "df_students.loc[0:5]"
      ],
      "execution_count": null,
      "outputs": []
    },
    {
      "cell_type": "markdown",
      "metadata": {
        "id": "6lU7KBFpX7lf"
      },
      "source": [
        "Además de poder usar el método **loc** para buscar filas según el *índice*, puede usar el método **iloc** para buscar filas según su posición ordinal en el *DataFrame* (independientemente del *índice*):"
      ]
    },
    {
      "cell_type": "code",
      "metadata": {
        "id": "qs9d5qOHX-mK"
      },
      "source": [
        "# Obtener los datos de las primeras 5 filas\n",
        "df_students.iloc[0:5]"
      ],
      "execution_count": null,
      "outputs": []
    },
    {
      "cell_type": "markdown",
      "metadata": {
        "id": "n7PV6PRsX_YW"
      },
      "source": [
        "Mire cuidadosamente los resultados de **iloc[0:5]** y compárelos con los resultados de **loc[0:5]** que obtuvo anteriormente. *¿Puedes ver la diferencia?*\n",
        "\n",
        "El método **loc** devolvió filas con etiqueta de *índice* en la lista de valores de 0 a 5, que incluye 0, 1, 2, 3, 4 y 5 *(seis filas)*. Sin embargo, el método **iloc** devuelve las filas en las posiciones incluidas en el rango de 0 a 5, y dado que los rangos de números enteros no incluyen el valor del límite superior, esto incluye las posiciones 0, 1, 2, 3 y 4 *(cinco filas)*.\n",
        "\n",
        "**iloc** identifica valores de datos en un *DataFrame* por posición, que se extiende más allá de las filas a las columnas. Entonces, por ejemplo, puede usarlo para encontrar los valores de las columnas en las posiciones 1 y 2 en la fila 0, así:"
      ]
    },
    {
      "cell_type": "code",
      "metadata": {
        "id": "2rPOg7ENYEDz"
      },
      "source": [
        "df_students.iloc[0,[1,2]]"
      ],
      "execution_count": null,
      "outputs": []
    },
    {
      "cell_type": "markdown",
      "metadata": {
        "id": "IU6O4X2NYGww"
      },
      "source": [
        "Volvamos al método **loc** y veamos cómo funciona con columnas. Recuerde que **loc** se usa para ubicar elementos de datos basados en valores de *índice* en lugar de posiciones. En ausencia de una columna de índice explícita, las filas en nuestro marco de datos se indexan como valores enteros, pero las columnas se identifican por su nombre:"
      ]
    },
    {
      "cell_type": "code",
      "metadata": {
        "id": "TqwpEf1lYLEw"
      },
      "source": [
        "df_students.loc[0,'Grade']"
      ],
      "execution_count": null,
      "outputs": []
    },
    {
      "cell_type": "markdown",
      "metadata": {
        "id": "O9qSN6m9YLtK"
      },
      "source": [
        "Aquí hay otro truco útil. Puede usar el método **loc** para buscar filas indexadas en función de una expresión de filtrado que haga referencia a columnas con nombre distintas del *índice*, como esta:"
      ]
    },
    {
      "cell_type": "code",
      "metadata": {
        "id": "dp_UCJzpYWIr"
      },
      "source": [
        "df_students.loc[df_students['Name']=='Aisha']"
      ],
      "execution_count": null,
      "outputs": []
    },
    {
      "cell_type": "markdown",
      "metadata": {
        "id": "AtcN2g1YYYgp"
      },
      "source": [
        "En realidad, no necesita usar explícitamente el método **loc** para hacer esto; simplemente puede aplicar una expresión de filtrado de DataFrame, como esta:"
      ]
    },
    {
      "cell_type": "code",
      "metadata": {
        "id": "eVyhMHGWYdvb"
      },
      "source": [
        "df_students[df_students['Name']=='Aisha']"
      ],
      "execution_count": null,
      "outputs": []
    },
    {
      "cell_type": "markdown",
      "metadata": {
        "id": "1aBT-4u4YebS"
      },
      "source": [
        "Y en buena medida, puede lograr los mismos resultados utilizando el método de **consulta** de *DataFrame*, como este:"
      ]
    },
    {
      "cell_type": "code",
      "metadata": {
        "id": "lMGVaeW8YiE9"
      },
      "source": [
        "df_students.query('Name==\"Aisha\"')"
      ],
      "execution_count": null,
      "outputs": []
    },
    {
      "cell_type": "markdown",
      "metadata": {
        "id": "1JzVCRI3YkE5"
      },
      "source": [
        "Los tres ejemplos anteriores subrayan una verdad ocasionalmente confusa sobre trabajar con Pandas. A menudo, hay varias formas de lograr los mismos resultados. Otro ejemplo de esto es la forma en que se refiere al nombre de una columna de *DataFrame*. Puede especificar el nombre de la columna como un valor de *índice* con nombre (como en los ejemplos de *df_students['Name']* que hemos visto hasta ahora), o puede usar la columna como una propiedad del *DataFrame*, así:"
      ]
    },
    {
      "cell_type": "code",
      "metadata": {
        "id": "yZ3fwyTuYrKx"
      },
      "source": [
        "df_students[df_students.Name == 'Aisha']"
      ],
      "execution_count": null,
      "outputs": []
    },
    {
      "cell_type": "markdown",
      "metadata": {
        "id": "PSBZdPkzYroE"
      },
      "source": [
        "### **Cargando un DataFrame desde un archivo**\n",
        "\n",
        "Construimos el *DataFrame* a partir de algunos **arrays** existentes. Sin embargo, en muchos escenarios del mundo real, los datos se cargan desde fuentes externas como archivos. Reemplacemos el *DataFrame* de calificaciones de los estudiantes con el contenido de un archivo de texto."
      ]
    },
    {
      "cell_type": "code",
      "metadata": {
        "id": "XMqtFSWFZEr5"
      },
      "source": [
        "!wget https://raw.githubusercontent.com/MicrosoftDocs/mslearn-introduction-to-machine-learning/main/Data/ml-basics/grades.csv\n",
        "df_students = pd.read_csv('grades.csv',delimiter=',',header='infer')\n",
        "df_students.head()"
      ],
      "execution_count": null,
      "outputs": []
    },
    {
      "cell_type": "markdown",
      "metadata": {
        "id": "epc5MLzGZPeS"
      },
      "source": [
        "El método **read_csv** de *DataFrame* se usa para cargar datos desde archivos de texto. Como puede ver en el código de ejemplo, puede especificar opciones como el delimitador de columna y qué fila (si hay alguna) contiene encabezados de columna (en este caso, el delimitador es una coma y la primera fila contiene los nombres de columna; estos son las configuraciones predeterminadas, por lo que los parámetros podrían haberse omitido).\n",
        "\n",
        "###**Manejo de valores perdidos**\n",
        "\n",
        "Uno de los problemas más comunes con los que deben lidiar los científicos de datos es la falta de datos o los datos incompletos. Entonces, *¿cómo sabríamos que el DataFrame contiene valores faltantes?* Puede usar el método isnull para identificar qué valores individuales son nulos, como este:"
      ]
    },
    {
      "cell_type": "code",
      "metadata": {
        "id": "XXoLjqiLZXQx"
      },
      "source": [
        "df_students.isnull()"
      ],
      "execution_count": null,
      "outputs": []
    },
    {
      "cell_type": "markdown",
      "metadata": {
        "id": "HYLA9PVbZatp"
      },
      "source": [
        "Por supuesto, con un *DataFrame* más grande, sería ineficiente revisar todas las filas y columnas individualmente; para que podamos obtener la suma de los valores perdidos para cada columna, así:"
      ]
    },
    {
      "cell_type": "code",
      "metadata": {
        "id": "8IjzwcCvZdqK"
      },
      "source": [
        "df_students.isnull().sum()"
      ],
      "execution_count": null,
      "outputs": []
    },
    {
      "cell_type": "markdown",
      "metadata": {
        "id": "eJDM73MkZhOF"
      },
      "source": [
        "Ahora sabemos que falta un valor de **StudyHours** y dos valores de **Grade**.\n",
        "\n",
        "Para verlos en contexto, podemos filtrar el marco de datos para incluir solo filas donde cualquiera de las columnas (eje 1 del marco de datos) sea nula."
      ]
    },
    {
      "cell_type": "code",
      "metadata": {
        "id": "XdpDWuoSZi6v"
      },
      "source": [
        "df_students[df_students.isnull().any(axis=1)]"
      ],
      "execution_count": null,
      "outputs": []
    },
    {
      "cell_type": "markdown",
      "metadata": {
        "id": "xwMR-l03ZmZJ"
      },
      "source": [
        "Cuando se recupera el *DataFrame*, los valores numéricos faltantes se muestran como **NaN** *( no como un número ).*\n",
        "\n",
        "Entonces, ahora que hemos encontrado los valores nulos, *¿qué podemos hacer con ellos?*\n",
        "\n",
        "Un enfoque común es imputar valores de reemplazo. Por ejemplo, si falta el número de horas de estudio, podríamos simplemente asumir que el estudiante estudió durante un tiempo promedio y reemplazar el valor faltante con la media de horas de estudio. Para hacer esto, podemos usar el método **fillna**, así:"
      ]
    },
    {
      "cell_type": "code",
      "metadata": {
        "id": "d4MtP7KCZpnY"
      },
      "source": [
        "df_students.StudyHours = df_students.StudyHours.fillna(df_students.StudyHours.mean())\n",
        "df_students"
      ],
      "execution_count": null,
      "outputs": []
    },
    {
      "cell_type": "markdown",
      "metadata": {
        "id": "o8qCL4HBZwd-"
      },
      "source": [
        "Alternativamente, puede ser importante asegurarse de que solo use datos que sepa que son absolutamente correctos; para que pueda eliminar filas o columnas que contienen valores nulos mediante el uso del método **dropna**. En este caso, eliminaremos filas (eje 0 del *DataFrame*) donde ninguna de las columnas contiene valores nulos."
      ]
    },
    {
      "cell_type": "code",
      "metadata": {
        "id": "mgrW-5tIZ2nb"
      },
      "source": [
        "df_students = df_students.dropna(axis=0, how='any')\n",
        "df_students"
      ],
      "execution_count": null,
      "outputs": []
    },
    {
      "cell_type": "markdown",
      "metadata": {
        "id": "04F5tWI_Z3wX"
      },
      "source": [
        "### **Explore los datos en el DataFrame**\n",
        "\n",
        "Ahora que hemos limpiado los valores faltantes, estamos listos para explorar los datos en el *DataFrame*. Comencemos comparando la media de horas de estudio y calificaciones."
      ]
    },
    {
      "cell_type": "code",
      "metadata": {
        "id": "409dZWcbZ8cx"
      },
      "source": [
        "# Obtener el valor medio de las horas de estudio usando el nombre de columna como un indice\n",
        "mean_study = df_students['StudyHours'].mean()\n",
        "\n",
        "# Obtener el valor medio de las calificaciones usando el nombre de columna como una propiedad\n",
        "mean_grade = df_students.Grade.mean()\n",
        "\n",
        "# Mostrar el valor medio de las horas de estudio y las calificaciones\n",
        "print('Media de horas de estudio semanal: {:.2f}\\nMedia de calificaciones: {:.2f}'.format(mean_study, mean_grade))"
      ],
      "execution_count": null,
      "outputs": []
    },
    {
      "cell_type": "markdown",
      "metadata": {
        "id": "YHkFyZRbZ_j4"
      },
      "source": [
        "Ahora, filtremos el *DataFrame* para encontrar solo los estudiantes que estudiaron por más de la cantidad de tiempo promedio."
      ]
    },
    {
      "cell_type": "code",
      "metadata": {
        "id": "3u_Q9ahcaDhQ"
      },
      "source": [
        "# Obtener los estudiantes que estudiaron mas de la cantidad de tiempo promedio\n",
        "df_students[df_students.StudyHours > mean_study]"
      ],
      "execution_count": null,
      "outputs": []
    },
    {
      "cell_type": "markdown",
      "metadata": {
        "id": "IBA6FaV0aLjY"
      },
      "source": [
        "Tenga en cuenta que el resultado filtrado es en sí mismo un *DataFrame*, por lo que puede trabajar con sus columnas como cualquier otro *DataFrame*.\n",
        "\n",
        "Por ejemplo, busquemos la calificación promedio de los estudiantes que realizaron más tiempo de estudio que el promedio."
      ]
    },
    {
      "cell_type": "code",
      "metadata": {
        "id": "ij68rVB5aTau"
      },
      "source": [
        "# Cual fue su calificacion promedio?\n",
        "df_students[df_students.StudyHours > mean_study].Grade.mean()"
      ],
      "execution_count": null,
      "outputs": []
    },
    {
      "cell_type": "markdown",
      "metadata": {
        "id": "fqodDI38aU2J"
      },
      "source": [
        "Supongamos que la calificación aprobatoria del curso es **60**.\n",
        "\n",
        "Podemos usar esa información para agregar una nueva columna al *DataFrame*, indicando si cada estudiante aprobó o no.\n",
        "\n",
        "Primero, crearemos una **Serie** Pandas que contiene el indicador de pasa / falla (Verdadero o Falso), y luego concatenamos esa serie como una nueva columna (eje 1) en el *DataFrame*."
      ]
    },
    {
      "cell_type": "code",
      "metadata": {
        "id": "dnJ3GM0UaXmc"
      },
      "source": [
        "passes  = pd.Series(df_students['Grade'] >= 60)\n",
        "df_students = pd.concat([df_students, passes.rename(\"Pass\")], axis=1)\n",
        "\n",
        "df_students"
      ],
      "execution_count": null,
      "outputs": []
    },
    {
      "cell_type": "markdown",
      "metadata": {
        "id": "MZvk8WcZabS3"
      },
      "source": [
        "Los *DataFrames* están diseñados para datos tabulares y puede utilizarlos para realizar muchos de los tipos de operaciones de análisis de datos que puede realizar en una base de datos relacional; como agrupar y agregar tablas de datos.\n",
        "\n",
        "Por ejemplo, puede usar el método **groupby** para agrupar los datos de los estudiantes en grupos según la columna de **Aprobado** que agregó anteriormente y contar el número de nombres en cada grupo; en otras palabras, puede determinar cuántos estudiantes aprobaron y reprobaron."
      ]
    },
    {
      "cell_type": "code",
      "metadata": {
        "id": "aeSmwcBca4LT"
      },
      "source": [
        "print(df_students.groupby(df_students.Pass).Name.count())"
      ],
      "execution_count": null,
      "outputs": []
    },
    {
      "cell_type": "markdown",
      "metadata": {
        "id": "u6EA_5KKbBMV"
      },
      "source": [
        "Puede agregar varios campos en un grupo utilizando cualquier función de agregación disponible. Por ejemplo, puede encontrar el tiempo medio de estudio y la calificación de los grupos de estudiantes que aprobaron y reprobaron el curso."
      ]
    },
    {
      "cell_type": "code",
      "metadata": {
        "id": "bHUREZydbCPB"
      },
      "source": [
        "print(df_students.groupby(df_students.Pass)['StudyHours', 'Grade'].mean())"
      ],
      "execution_count": null,
      "outputs": []
    },
    {
      "cell_type": "markdown",
      "metadata": {
        "id": "1EwRCs-ZbQnp"
      },
      "source": [
        "Los *DataFrames* son increíblemente versátiles y facilitan la manipulación de datos. Muchas operaciones de DataFrame devuelven una nueva copia del DataFrame; por lo que si desea modificar un DataFrame pero mantener la variable existente, debe asignar el resultado de la operación a la variable existente. Por ejemplo, el siguiente código ordena los datos de los estudiantes en orden descendente por **Grade** y asigna el *DataFrame* ordenado resultante a la variable **df_students** original. "
      ]
    },
    {
      "cell_type": "code",
      "metadata": {
        "id": "jJkvh1kKbVu9"
      },
      "source": [
        "# Crear un DataFrame con los datos ordenados descendientemente por Grade\n",
        "df_students = df_students.sort_values('Grade', ascending=False)\n",
        "\n",
        "# Mostrar el DataFrame\n",
        "df_students"
      ],
      "execution_count": null,
      "outputs": []
    }
  ]
}