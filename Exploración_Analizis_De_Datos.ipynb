{
  "nbformat": 4,
  "nbformat_minor": 0,
  "metadata": {
    "colab": {
      "name": "Exploración_Analizis_De_Datos.ipynb",
      "provenance": [],
      "collapsed_sections": [],
      "authorship_tag": "ABX9TyNis76HMiYV2w44b8iVdIE1",
      "include_colab_link": true
    },
    "kernelspec": {
      "name": "python3",
      "display_name": "Python 3"
    },
    "language_info": {
      "name": "python"
    }
  },
  "cells": [
    {
      "cell_type": "markdown",
      "metadata": {
        "id": "view-in-github",
        "colab_type": "text"
      },
      "source": [
        "<a href=\"https://colab.research.google.com/github/EMcoding17/ExtraccionConocimientosDeBD/blob/main/Exploraci%C3%B3n_Analizis_De_Datos.ipynb\" target=\"_parent\"><img src=\"https://colab.research.google.com/assets/colab-badge.svg\" alt=\"Open In Colab\"/></a>"
      ]
    },
    {
      "cell_type": "markdown",
      "metadata": {
        "id": "UcIwrNjOEfDE"
      },
      "source": [
        "# **Exploración y análisis de datos con Python**\n",
        "## Extracción de Conocimientos de Base de Datos\n",
        "### Romero Sosa Emma Yuridia\n",
        "### 1718110412\n",
        "\n",
        "---\n",
        "\n",
        "La exploración y el análisis de datos son el núcleo de la ciencia de datos. Los científicos de datos requieren habilidades en lenguajes como Python para explorar, visualizar y manipular datos.\n",
        "\n",
        "**Objetivos de aprendizaje**\n",
        "\n",
        "En este módulo, aprenderá:\n",
        "*   Tareas comunes de exploración y análisis de datos.\n",
        "*   Cómo usar paquetes de Python como Numpy, Pandas, Matplotlib para analizar datos.\n",
        "\n",
        "**Prerrequisitos:**\n",
        "\n",
        "Conocimiento de matemáticas básicas.\n",
        "Alguna experiencia programando en Python\n",
        "\n",
        "### **Temario**\n",
        "\n",
        "*   Introducción\n",
        "*   Explore datos con NumPy y Pandas\n",
        "*   Ejercicio: explorar datos con NumPy y Pandas\n",
        "*   Ejercicio: visualizar datos con Matplotlib\n",
        "*   Examinar datos del mundo real\n",
        "*   Ejercicio: examinar datos del mundo real\n",
        "*   Verificación de conocimientos\n",
        "*   Resumen\n",
        "\n"
      ]
    },
    {
      "cell_type": "markdown",
      "metadata": {
        "id": "0ny5nIHwH43n"
      },
      "source": [
        "# **Introducción**\n",
        "\n"
      ]
    }
  ]
}