{
  "nbformat": 4,
  "nbformat_minor": 0,
  "metadata": {
    "colab": {
      "name": "Exploración_Analizis_De_Datos.ipynb",
      "provenance": [],
      "collapsed_sections": [
        "UcIwrNjOEfDE",
        "0ny5nIHwH43n",
        "dwAmnwBbOM2_"
      ],
      "authorship_tag": "ABX9TyO+piLoPx9Jr5A7IXGek5Ep",
      "include_colab_link": true
    },
    "kernelspec": {
      "name": "python3",
      "display_name": "Python 3"
    },
    "language_info": {
      "name": "python"
    }
  },
  "cells": [
    {
      "cell_type": "markdown",
      "metadata": {
        "id": "view-in-github",
        "colab_type": "text"
      },
      "source": [
        "<a href=\"https://colab.research.google.com/github/EMcoding17/ExtraccionConocimientosDeBD/blob/main/Exploraci%C3%B3n_Analizis_De_Datos.ipynb\" target=\"_parent\"><img src=\"https://colab.research.google.com/assets/colab-badge.svg\" alt=\"Open In Colab\"/></a>"
      ]
    },
    {
      "cell_type": "markdown",
      "metadata": {
        "id": "UcIwrNjOEfDE"
      },
      "source": [
        "# **Exploración y análisis de datos con Python**\n",
        "## Extracción de Conocimientos de Base de Datos\n",
        "### Romero Sosa Emma Yuridia\n",
        "### 1718110412\n",
        "\n",
        "---\n",
        "\n",
        "La exploración y el análisis de datos son el núcleo de la ciencia de datos. Los científicos de datos requieren habilidades en lenguajes como Python para explorar, visualizar y manipular datos.\n",
        "\n",
        "**Objetivos de aprendizaje**\n",
        "\n",
        "En este módulo, aprenderá:\n",
        "*   Tareas comunes de exploración y análisis de datos.\n",
        "*   Cómo usar paquetes de Python como Numpy, Pandas, Matplotlib para analizar datos.\n",
        "\n",
        "**Prerrequisitos:**\n",
        "\n",
        "* Conocimiento de matemáticas básicas.\n",
        "* Alguna experiencia programando en Python\n",
        "\n",
        "### **Temario**\n",
        "\n",
        "*   Introducción\n",
        "*   Explore datos con NumPy y Pandas\n",
        "*   Ejercicio: explorar datos con NumPy y Pandas\n",
        "*   Ejercicio: visualizar datos con Matplotlib\n",
        "*   Examinar datos del mundo real\n",
        "*   Ejercicio: examinar datos del mundo real\n",
        "*   Verificación de conocimientos\n",
        "*   Resumen\n",
        "\n",
        "\n",
        "---\n",
        "\n",
        "\n"
      ]
    },
    {
      "cell_type": "markdown",
      "metadata": {
        "id": "0ny5nIHwH43n"
      },
      "source": [
        "# **Introducción**\n",
        "\n",
        "Como era de esperar, el papel de un científico de datos implica principalmente explorar y analizar datos. Los resultados de un análisis pueden formar la base de un informe o un modelo de machine learning, pero todo comienza con los datos, siendo Python el lenguaje de programación más popular para los científicos de datos.\n",
        "\n",
        "Después de décadas de desarrollo de código abierto, Python proporciona una amplia funcionalidad con potentes bibliotecas estadísticas y numéricas:\n",
        "\n",
        "* NumPy y Pandas simplifican el análisis y la manipulación de datos.\n",
        "* Matplotlib proporciona visualizaciones de datos atractivas.\n",
        "* Scikit-learn ofrece un análisis de datos predictivo simple y efectivo.\n",
        "* TensorFlow y PyTorch ofrecen capacidades de *machine learning* y *deep learning*.\n",
        "\n",
        "Por lo general, un proyecto de análisis de datos está diseñado para establecer conocimientos sobre un escenario particular o para probar una hipótesis.\n",
        "\n",
        "Por ejemplo, supongamos que un profesor universitario recopila datos de sus estudiantes, incluido el número de conferencias a las que asistieron, las horas dedicadas al estudio y la calificación final obtenida en el examen de fin de trimestre. El profesor podría analizar los datos para determinar si existe una relación entre la cantidad de estudios que realiza un alumno y la nota final que obtiene. El profesor podría usar los datos para probar la hipótesis de que solo los estudiantes que estudian durante un número mínimo de horas pueden esperar obtener una calificación aprobatoria.\n",
        "\n",
        "---\n",
        "\n"
      ]
    },
    {
      "cell_type": "markdown",
      "metadata": {
        "id": "dwAmnwBbOM2_"
      },
      "source": [
        "# **Explore datos con NumPy y Pandas**\n",
        "\n",
        "Los científicos de datos pueden utilizar diversas herramientas y técnicas para explorar, visualizar y manipular datos. Una de las formas más comunes en las que los científicos de datos trabajan con datos es utilizar el lenguaje Python y algunos paquetes específicos para el procesamiento de datos.\n",
        "\n",
        "## **¿Qué es NumPy?**\n",
        "NumPy es una biblioteca de Python que brinda una funcionalidad comparable a las herramientas matemáticas como MATLAB y R. Si bien NumPy simplifica significativamente la experiencia del usuario, también ofrece funciones matemáticas integrales.\n",
        "\n",
        "## **¿Qué es Pandas?**\n",
        "Pandas es una biblioteca de Python extremadamente popular para el análisis y la manipulación de datos. Pandas es como Excel para Python: proporciona una funcionalidad fácil de usar para tablas de datos.\n",
        "\n",
        "![image.png](data:image/png;base64,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)\n",
        "\n",
        "##**Explorar los datos en un cuaderno de Jupyter**\n",
        "Los cuadernos de Jupyter son una forma popular de ejecutar scripts básicos con su navegador web. Por lo general, estos cuadernos son una sola página web, dividida en secciones de texto y secciones de código que se ejecutan en el servidor en lugar de en su máquina local. Esto significa que puede comenzar rápidamente sin necesidad de instalar Python u otras herramientas.\n",
        "\n",
        "##**Prueba de hipótesis**\n",
        "La exploración y el análisis de datos suele ser un proceso iterativo, en el que el científico de datos toma una muestra de datos y realiza los siguientes tipos de tareas para analizarlos y probar una hipótesis:\n",
        "\n",
        "* Limpiar datos para manejar errores, valores perdidos y otros problemas.\n",
        "* Aplicar técnicas estadísticas para comprender mejor los datos y cómo se puede esperar que la muestra represente la población de datos del mundo real, lo que permite una variación aleatoria.\n",
        "* Visualizar los datos para determinar las relaciones entre las variables y, en el caso de un proyecto de *machine learning*, identificar las características que son potencialmente predictivas de la etiqueta.\n",
        "* Revisar la hipótesis y repetir el proceso.\n",
        "\n",
        "\n",
        "---\n",
        "\n"
      ]
    },
    {
      "cell_type": "markdown",
      "metadata": {
        "id": "Z-oT1JZwQnbp"
      },
      "source": [
        "#**Ejercicio: Explorar datos con Numpy y Pandas**\n",
        "\n",
        "##**Explorando datos con Python**\n",
        "Una parte importante del rol de un científico de datos es explorar, analizar y visualizar datos. Existe una amplia gama de herramientas y lenguajes de programación que pueden usar para hacer esto; y uno de los enfoques más populares es usar cuadernos de Jupyter (como este) y Python.\n",
        "\n",
        "Python es un lenguaje de programación flexible que se utiliza en una amplia gama de escenarios; desde aplicaciones web hasta programación de dispositivos. Es extremadamente popular en la comunidad de ciencia de datos y aprendizaje automático debido a los muchos paquetes que admite para el análisis y la visualización de datos.\n",
        "\n",
        "En este cuaderno, se exploraran algunos de estos paquetes y aplicaran técnicas básicas para analizar datos. No se pretende que sea un ejercicio completo de programación de Python; o incluso una inmersión profunda en el análisis de datos. Más bien, está pensado como un curso acelerado sobre algunas de las formas comunes en las que los científicos de datos pueden usar Python para trabajar con datos.\n",
        "\n",
        "##**Explorando matrices de datos con NumPy**\n",
        "\n",
        "Comencemos mirando algunos datos simples.\n",
        "\n",
        "Suponga que una universidad toma una muestra de las calificaciones de los estudiantes para una clase de ciencia de datos."
      ]
    },
    {
      "cell_type": "code",
      "metadata": {
        "id": "dyg6ns2fRts2",
        "colab": {
          "base_uri": "https://localhost:8080/"
        },
        "outputId": "74268f75-4bc6-4400-a550-80fff7372ba4"
      },
      "source": [
        "data = [50,50,47,97,49,3,53,42,26,74,82,62,37,15,70,27,36,35,48,52,63,64]\n",
        "print(data)"
      ],
      "execution_count": 1,
      "outputs": [
        {
          "output_type": "stream",
          "name": "stdout",
          "text": [
            "[50, 50, 47, 97, 49, 3, 53, 42, 26, 74, 82, 62, 37, 15, 70, 27, 36, 35, 48, 52, 63, 64]\n"
          ]
        }
      ]
    },
    {
      "cell_type": "markdown",
      "metadata": {
        "id": "IxizdVMcR0Vz"
      },
      "source": [
        "Los datos se han cargado en una **lista** de Python , que es un buen tipo de datos para la manipulación de datos en general, pero no está optimizado para el análisis numérico. Para ello, vamos a utilizar el paquete de **NumPy**, que incluye los tipos de datos y funciones específicas para trabajar con *Numeros* en Python."
      ]
    },
    {
      "cell_type": "code",
      "metadata": {
        "id": "RJFUw4MRSSoV",
        "colab": {
          "base_uri": "https://localhost:8080/"
        },
        "outputId": "8f39e12a-76e3-417a-98f9-212962cfb7fb"
      },
      "source": [
        "import numpy as np\n",
        "\n",
        "grades = np.array(data)\n",
        "print(grades)"
      ],
      "execution_count": 2,
      "outputs": [
        {
          "output_type": "stream",
          "name": "stdout",
          "text": [
            "[50 50 47 97 49  3 53 42 26 74 82 62 37 15 70 27 36 35 48 52 63 64]\n"
          ]
        }
      ]
    },
    {
      "cell_type": "markdown",
      "metadata": {
        "id": "pWJrPcrlSfi5"
      },
      "source": [
        "En caso de que se esté preguntando acerca de las diferencias entre una *lista* y un **array** *(matriz)* de NumPy , comparemos cómo se comportan estos tipos de datos cuando los usamos en una expresión que los multiplica por 2."
      ]
    },
    {
      "cell_type": "code",
      "metadata": {
        "id": "oIMJj2mnSryK",
        "colab": {
          "base_uri": "https://localhost:8080/"
        },
        "outputId": "f812e9cc-c05d-4017-ebcc-97e1d74a14f5"
      },
      "source": [
        "print (type(data),'x 2:', data * 2)\n",
        "print('---')\n",
        "print (type(grades),'x 2:', grades * 2)"
      ],
      "execution_count": 3,
      "outputs": [
        {
          "output_type": "stream",
          "name": "stdout",
          "text": [
            "<class 'list'> x 2: [50, 50, 47, 97, 49, 3, 53, 42, 26, 74, 82, 62, 37, 15, 70, 27, 36, 35, 48, 52, 63, 64, 50, 50, 47, 97, 49, 3, 53, 42, 26, 74, 82, 62, 37, 15, 70, 27, 36, 35, 48, 52, 63, 64]\n",
            "---\n",
            "<class 'numpy.ndarray'> x 2: [100 100  94 194  98   6 106  84  52 148 164 124  74  30 140  54  72  70\n",
            "  96 104 126 128]\n"
          ]
        }
      ]
    },
    {
      "cell_type": "markdown",
      "metadata": {
        "id": "O-PjB5-YS3JJ"
      },
      "source": [
        "Tenga en cuenta que multiplicar una lista por 2 crea una nueva lista de dos veces la longitud con la secuencia original de elementos de la lista repetida. Al multiplicar un **array** de NumPy, por otro lado, se realiza un cálculo por elementos en el que la matriz se comporta como un vector , por lo que terminamos con un **array** del mismo tamaño en la que cada elemento se ha multiplicado por 2.\n",
        "\n",
        "La conclusión clave de esto es que los **arrays** de NumPy están diseñados específicamente para admitir operaciones matemáticas en datos numéricos, lo que las hace más útiles para el análisis de datos que una lista genérica.\n",
        "\n",
        "Es posible que haya notado que el tipo de clase para el **array** de numpy anterior es un numpy.ndarray . La **nd** indica que esta es una estructura que puede constar de múltiples dimensiones (puede tener *n* dimensiones). Nuestra instancia específica tiene una sola dimensión de calificaciones de los estudiantes."
      ]
    },
    {
      "cell_type": "code",
      "metadata": {
        "colab": {
          "base_uri": "https://localhost:8080/"
        },
        "id": "sSDih7URTrfR",
        "outputId": "5b8aefb7-a956-493a-ffbc-d338040dbf40"
      },
      "source": [
        "grades.shape"
      ],
      "execution_count": 4,
      "outputs": [
        {
          "output_type": "execute_result",
          "data": {
            "text/plain": [
              "(22,)"
            ]
          },
          "metadata": {},
          "execution_count": 4
        }
      ]
    },
    {
      "cell_type": "markdown",
      "metadata": {
        "id": "zWtKK202Ttpj"
      },
      "source": [
        "El **shape** confirma que este **array** tiene una sola dimensión, que contiene 22 elementos (hay 22 grados en la lista original). Puede acceder a los elementos individuales de la matriz por su posición ordinal basada en cero.\n",
        "\n",
        "Consigamos el primer elemento (el que está en la posición 0)."
      ]
    },
    {
      "cell_type": "code",
      "metadata": {
        "id": "pMEiQPQTUAj-",
        "colab": {
          "base_uri": "https://localhost:8080/"
        },
        "outputId": "2d3789a2-3ad4-4d7f-af7e-70c00a329713"
      },
      "source": [
        "grades[0]"
      ],
      "execution_count": 5,
      "outputs": [
        {
          "output_type": "execute_result",
          "data": {
            "text/plain": [
              "50"
            ]
          },
          "metadata": {},
          "execution_count": 5
        }
      ]
    },
    {
      "cell_type": "markdown",
      "metadata": {
        "id": "4FeC0OiEUDg-"
      },
      "source": [
        "\n",
        "\n",
        "---\n",
        "\n",
        "Ahora que se conoce el camino alrededor de un **array** de NumPy, es hora de realizar un análisis de los datos de calificaciones\n",
        "\n",
        "Puede aplicar agregaciones entre los elementos de la matriz, así que busquemos la calificación promedio simple (en otras palabras, el valor **medio** de la calificación)."
      ]
    },
    {
      "cell_type": "code",
      "metadata": {
        "id": "XPCQLcRwUm_Y",
        "colab": {
          "base_uri": "https://localhost:8080/"
        },
        "outputId": "01eae0d5-29e2-433b-9f1a-83df66baf3f8"
      },
      "source": [
        "grades.mean()"
      ],
      "execution_count": 6,
      "outputs": [
        {
          "output_type": "execute_result",
          "data": {
            "text/plain": [
              "49.18181818181818"
            ]
          },
          "metadata": {},
          "execution_count": 6
        }
      ]
    },
    {
      "cell_type": "markdown",
      "metadata": {
        "id": "ENtpRKBKUqnu"
      },
      "source": [
        "Entonces, la nota media esta alrededor de 50, más o menos en el medio del rango posible de 0 a 100.\n",
        "\n",
        "Agreguemos un segundo conjunto de datos para los mismos estudiantes, esta vez registrando el número típico de horas por semana que dedicaron a estudiar."
      ]
    },
    {
      "cell_type": "code",
      "metadata": {
        "id": "mL7B0_8-U2Mb",
        "colab": {
          "base_uri": "https://localhost:8080/"
        },
        "outputId": "bd41d46c-7c58-445c-e36f-aa7e169162ec"
      },
      "source": [
        "# Definir un array de horas de estudio\n",
        "study_hours = [10.0,11.5,9.0,16.0,9.25,1.0,11.5,9.0,8.5,14.5,15.5,\n",
        "               13.75,9.0,8.0,15.5,8.0,9.0,6.0,10.0,12.0,12.5,12.0]\n",
        "\n",
        "# Crear un array de dos dimensiones (un array de arrays)\n",
        "student_data = np.array([study_hours, grades])\n",
        "\n",
        "# Mostrar el array\n",
        "student_data\n"
      ],
      "execution_count": 7,
      "outputs": [
        {
          "output_type": "execute_result",
          "data": {
            "text/plain": [
              "array([[10.  , 11.5 ,  9.  , 16.  ,  9.25,  1.  , 11.5 ,  9.  ,  8.5 ,\n",
              "        14.5 , 15.5 , 13.75,  9.  ,  8.  , 15.5 ,  8.  ,  9.  ,  6.  ,\n",
              "        10.  , 12.  , 12.5 , 12.  ],\n",
              "       [50.  , 50.  , 47.  , 97.  , 49.  ,  3.  , 53.  , 42.  , 26.  ,\n",
              "        74.  , 82.  , 62.  , 37.  , 15.  , 70.  , 27.  , 36.  , 35.  ,\n",
              "        48.  , 52.  , 63.  , 64.  ]])"
            ]
          },
          "metadata": {},
          "execution_count": 7
        }
      ]
    },
    {
      "cell_type": "markdown",
      "metadata": {
        "id": "-aFL0gN_VtYF"
      },
      "source": [
        "Ahora los datos consisten en un array multidimensional."
      ]
    },
    {
      "cell_type": "code",
      "metadata": {
        "id": "QgEwmlpHVuBo",
        "colab": {
          "base_uri": "https://localhost:8080/"
        },
        "outputId": "1bffb924-7a0a-48fc-883d-a12929f3dfd4"
      },
      "source": [
        "# Mostrar la forma\n",
        "student_data.shape"
      ],
      "execution_count": 8,
      "outputs": [
        {
          "output_type": "execute_result",
          "data": {
            "text/plain": [
              "(2, 22)"
            ]
          },
          "metadata": {},
          "execution_count": 8
        }
      ]
    },
    {
      "cell_type": "markdown",
      "metadata": {
        "id": "-XTxmItDV7LU"
      },
      "source": [
        "El **array** *student_data* contiene dos elementos, cada uno de los cuales es una matriz que contiene 22 elementos.\n",
        "\n",
        "Para navegar por esta estructura, debe especificar la posición de cada elemento en la jerarquía. Entonces, para encontrar el primer valor en el primer **array** (que contiene los datos de las horas de estudio), puede usar el siguiente código."
      ]
    },
    {
      "cell_type": "code",
      "metadata": {
        "id": "vHPyCoEUV_p-",
        "colab": {
          "base_uri": "https://localhost:8080/"
        },
        "outputId": "717d8d89-12f2-473b-cf11-634e810e63b0"
      },
      "source": [
        "# Mostrar el primer elemento de el primer elemento\n",
        "student_data[0][0]"
      ],
      "execution_count": 9,
      "outputs": [
        {
          "output_type": "execute_result",
          "data": {
            "text/plain": [
              "10.0"
            ]
          },
          "metadata": {},
          "execution_count": 9
        }
      ]
    },
    {
      "cell_type": "markdown",
      "metadata": {
        "id": "MCZuZBITWCoB"
      },
      "source": [
        "Ahora tiene un **array** multidimensional que contiene tanto el tiempo de estudio del estudiante como la información de calificaciones, que puede usar para comparar datos. Por ejemplo, *¿cómo se compara el tiempo medio de estudio con la nota media?*"
      ]
    },
    {
      "cell_type": "code",
      "metadata": {
        "id": "Pwrnpc49WGDR",
        "colab": {
          "base_uri": "https://localhost:8080/"
        },
        "outputId": "a0a9c616-c49f-4f75-af7d-fa6fe55a8f38"
      },
      "source": [
        "# Obtener el valor medio de cada sub-array\n",
        "avg_study = student_data[0].mean()\n",
        "avg_grade = student_data[1].mean()\n",
        "\n",
        "print('Media de las horas de estudio: {:.2f}\\nMedia de calificaciones: {:.2f}'.format(avg_study, avg_grade))"
      ],
      "execution_count": 10,
      "outputs": [
        {
          "output_type": "stream",
          "name": "stdout",
          "text": [
            "Media de las horas de estudio: 10.52\n",
            "Media de calificaciones: 49.18\n"
          ]
        }
      ]
    },
    {
      "cell_type": "markdown",
      "metadata": {
        "id": "yYLMGe3pXiG-"
      },
      "source": [
        "## **Explorando datos tabulares con Pandas**\n",
        "\n",
        "Si bien NumPy proporciona muchas de las funciones que necesita para trabajar con números, y específicamente **arrays** de valores numéricos; Cuando comienza a trabajar con tablas de datos multidimensionales, el paquete Pandas ofrece una estructura más conveniente para trabajar: el **DataFrame**.\n",
        "\n",
        "Ejecute la siguiente celda para importar la biblioteca Pandas y cree un *DataFrame* con tres columnas. La primera columna es una lista de los nombres de los estudiantes, y la segunda y tercer columnas son los **arrays** de NumPy que contienen el tiempo de estudio y los datos de las calificaciones."
      ]
    },
    {
      "cell_type": "code",
      "metadata": {
        "id": "AMgjNA6MXnmg",
        "colab": {
          "base_uri": "https://localhost:8080/",
          "height": 731
        },
        "outputId": "636b23d1-84aa-43e4-95e3-6267e9259904"
      },
      "source": [
        "import pandas as pd\n",
        "\n",
        "df_students = pd.DataFrame({'Name': ['Dan', 'Joann', 'Pedro', 'Rosie', 'Ethan', 'Vicky', 'Frederic', 'Jimmie', \n",
        "                                     'Rhonda', 'Giovanni', 'Francesca', 'Rajab', 'Naiyana', 'Kian', 'Jenny',\n",
        "                                     'Jakeem','Helena','Ismat','Anila','Skye','Daniel','Aisha'],\n",
        "                            'StudyHours':student_data[0],\n",
        "                            'Grade':student_data[1]})\n",
        "\n",
        "df_students "
      ],
      "execution_count": 11,
      "outputs": [
        {
          "output_type": "execute_result",
          "data": {
            "text/html": [
              "<div>\n",
              "<style scoped>\n",
              "    .dataframe tbody tr th:only-of-type {\n",
              "        vertical-align: middle;\n",
              "    }\n",
              "\n",
              "    .dataframe tbody tr th {\n",
              "        vertical-align: top;\n",
              "    }\n",
              "\n",
              "    .dataframe thead th {\n",
              "        text-align: right;\n",
              "    }\n",
              "</style>\n",
              "<table border=\"1\" class=\"dataframe\">\n",
              "  <thead>\n",
              "    <tr style=\"text-align: right;\">\n",
              "      <th></th>\n",
              "      <th>Name</th>\n",
              "      <th>StudyHours</th>\n",
              "      <th>Grade</th>\n",
              "    </tr>\n",
              "  </thead>\n",
              "  <tbody>\n",
              "    <tr>\n",
              "      <th>0</th>\n",
              "      <td>Dan</td>\n",
              "      <td>10.00</td>\n",
              "      <td>50.0</td>\n",
              "    </tr>\n",
              "    <tr>\n",
              "      <th>1</th>\n",
              "      <td>Joann</td>\n",
              "      <td>11.50</td>\n",
              "      <td>50.0</td>\n",
              "    </tr>\n",
              "    <tr>\n",
              "      <th>2</th>\n",
              "      <td>Pedro</td>\n",
              "      <td>9.00</td>\n",
              "      <td>47.0</td>\n",
              "    </tr>\n",
              "    <tr>\n",
              "      <th>3</th>\n",
              "      <td>Rosie</td>\n",
              "      <td>16.00</td>\n",
              "      <td>97.0</td>\n",
              "    </tr>\n",
              "    <tr>\n",
              "      <th>4</th>\n",
              "      <td>Ethan</td>\n",
              "      <td>9.25</td>\n",
              "      <td>49.0</td>\n",
              "    </tr>\n",
              "    <tr>\n",
              "      <th>5</th>\n",
              "      <td>Vicky</td>\n",
              "      <td>1.00</td>\n",
              "      <td>3.0</td>\n",
              "    </tr>\n",
              "    <tr>\n",
              "      <th>6</th>\n",
              "      <td>Frederic</td>\n",
              "      <td>11.50</td>\n",
              "      <td>53.0</td>\n",
              "    </tr>\n",
              "    <tr>\n",
              "      <th>7</th>\n",
              "      <td>Jimmie</td>\n",
              "      <td>9.00</td>\n",
              "      <td>42.0</td>\n",
              "    </tr>\n",
              "    <tr>\n",
              "      <th>8</th>\n",
              "      <td>Rhonda</td>\n",
              "      <td>8.50</td>\n",
              "      <td>26.0</td>\n",
              "    </tr>\n",
              "    <tr>\n",
              "      <th>9</th>\n",
              "      <td>Giovanni</td>\n",
              "      <td>14.50</td>\n",
              "      <td>74.0</td>\n",
              "    </tr>\n",
              "    <tr>\n",
              "      <th>10</th>\n",
              "      <td>Francesca</td>\n",
              "      <td>15.50</td>\n",
              "      <td>82.0</td>\n",
              "    </tr>\n",
              "    <tr>\n",
              "      <th>11</th>\n",
              "      <td>Rajab</td>\n",
              "      <td>13.75</td>\n",
              "      <td>62.0</td>\n",
              "    </tr>\n",
              "    <tr>\n",
              "      <th>12</th>\n",
              "      <td>Naiyana</td>\n",
              "      <td>9.00</td>\n",
              "      <td>37.0</td>\n",
              "    </tr>\n",
              "    <tr>\n",
              "      <th>13</th>\n",
              "      <td>Kian</td>\n",
              "      <td>8.00</td>\n",
              "      <td>15.0</td>\n",
              "    </tr>\n",
              "    <tr>\n",
              "      <th>14</th>\n",
              "      <td>Jenny</td>\n",
              "      <td>15.50</td>\n",
              "      <td>70.0</td>\n",
              "    </tr>\n",
              "    <tr>\n",
              "      <th>15</th>\n",
              "      <td>Jakeem</td>\n",
              "      <td>8.00</td>\n",
              "      <td>27.0</td>\n",
              "    </tr>\n",
              "    <tr>\n",
              "      <th>16</th>\n",
              "      <td>Helena</td>\n",
              "      <td>9.00</td>\n",
              "      <td>36.0</td>\n",
              "    </tr>\n",
              "    <tr>\n",
              "      <th>17</th>\n",
              "      <td>Ismat</td>\n",
              "      <td>6.00</td>\n",
              "      <td>35.0</td>\n",
              "    </tr>\n",
              "    <tr>\n",
              "      <th>18</th>\n",
              "      <td>Anila</td>\n",
              "      <td>10.00</td>\n",
              "      <td>48.0</td>\n",
              "    </tr>\n",
              "    <tr>\n",
              "      <th>19</th>\n",
              "      <td>Skye</td>\n",
              "      <td>12.00</td>\n",
              "      <td>52.0</td>\n",
              "    </tr>\n",
              "    <tr>\n",
              "      <th>20</th>\n",
              "      <td>Daniel</td>\n",
              "      <td>12.50</td>\n",
              "      <td>63.0</td>\n",
              "    </tr>\n",
              "    <tr>\n",
              "      <th>21</th>\n",
              "      <td>Aisha</td>\n",
              "      <td>12.00</td>\n",
              "      <td>64.0</td>\n",
              "    </tr>\n",
              "  </tbody>\n",
              "</table>\n",
              "</div>"
            ],
            "text/plain": [
              "         Name  StudyHours  Grade\n",
              "0         Dan       10.00   50.0\n",
              "1       Joann       11.50   50.0\n",
              "2       Pedro        9.00   47.0\n",
              "3       Rosie       16.00   97.0\n",
              "4       Ethan        9.25   49.0\n",
              "5       Vicky        1.00    3.0\n",
              "6    Frederic       11.50   53.0\n",
              "7      Jimmie        9.00   42.0\n",
              "8      Rhonda        8.50   26.0\n",
              "9    Giovanni       14.50   74.0\n",
              "10  Francesca       15.50   82.0\n",
              "11      Rajab       13.75   62.0\n",
              "12    Naiyana        9.00   37.0\n",
              "13       Kian        8.00   15.0\n",
              "14      Jenny       15.50   70.0\n",
              "15     Jakeem        8.00   27.0\n",
              "16     Helena        9.00   36.0\n",
              "17      Ismat        6.00   35.0\n",
              "18      Anila       10.00   48.0\n",
              "19       Skye       12.00   52.0\n",
              "20     Daniel       12.50   63.0\n",
              "21      Aisha       12.00   64.0"
            ]
          },
          "metadata": {},
          "execution_count": 11
        }
      ]
    },
    {
      "cell_type": "markdown",
      "metadata": {
        "id": "Bcck1qfQXp2B"
      },
      "source": [
        "Tenga en cuenta que, además de las columnas que especificó, el *DataFrame* incluye un *índice* para identificar de forma única cada fila. Podríamos haber especificado el índice explícitamente y asignado cualquier tipo de valor apropiado (por ejemplo, una dirección de correo electrónico); pero como no especificamos un *índice*, se ha creado uno con un valor entero único para cada fila.\n",
        "\n",
        "### **Encontrar y filtrar datos en un DataFrame**\n",
        "Puede usar el método **loc** de *DataFrame* para recuperar datos para un valor de índice específico, como este."
      ]
    },
    {
      "cell_type": "code",
      "metadata": {
        "colab": {
          "base_uri": "https://localhost:8080/"
        },
        "id": "jNGnrQw2XycZ",
        "outputId": "9e137855-25fd-4a4a-c4d9-20ce2d07cc75"
      },
      "source": [
        "# Obtener el dato del indice 5\n",
        "df_students.loc[5]"
      ],
      "execution_count": 12,
      "outputs": [
        {
          "output_type": "execute_result",
          "data": {
            "text/plain": [
              "Name          Vicky\n",
              "StudyHours        1\n",
              "Grade             3\n",
              "Name: 5, dtype: object"
            ]
          },
          "metadata": {},
          "execution_count": 12
        }
      ]
    },
    {
      "cell_type": "markdown",
      "metadata": {
        "id": "75_Q_ZdAX1G8"
      },
      "source": [
        "También puede obtener los datos en un rango de valores de índice, como este:"
      ]
    },
    {
      "cell_type": "code",
      "metadata": {
        "id": "d027w7pGX3tC",
        "colab": {
          "base_uri": "https://localhost:8080/",
          "height": 235
        },
        "outputId": "2bf1250a-618a-4c19-ea92-77c4a1755d4f"
      },
      "source": [
        "# Obtener las filas con indice de 0 a 5\n",
        "df_students.loc[0:5]"
      ],
      "execution_count": 13,
      "outputs": [
        {
          "output_type": "execute_result",
          "data": {
            "text/html": [
              "<div>\n",
              "<style scoped>\n",
              "    .dataframe tbody tr th:only-of-type {\n",
              "        vertical-align: middle;\n",
              "    }\n",
              "\n",
              "    .dataframe tbody tr th {\n",
              "        vertical-align: top;\n",
              "    }\n",
              "\n",
              "    .dataframe thead th {\n",
              "        text-align: right;\n",
              "    }\n",
              "</style>\n",
              "<table border=\"1\" class=\"dataframe\">\n",
              "  <thead>\n",
              "    <tr style=\"text-align: right;\">\n",
              "      <th></th>\n",
              "      <th>Name</th>\n",
              "      <th>StudyHours</th>\n",
              "      <th>Grade</th>\n",
              "    </tr>\n",
              "  </thead>\n",
              "  <tbody>\n",
              "    <tr>\n",
              "      <th>0</th>\n",
              "      <td>Dan</td>\n",
              "      <td>10.00</td>\n",
              "      <td>50.0</td>\n",
              "    </tr>\n",
              "    <tr>\n",
              "      <th>1</th>\n",
              "      <td>Joann</td>\n",
              "      <td>11.50</td>\n",
              "      <td>50.0</td>\n",
              "    </tr>\n",
              "    <tr>\n",
              "      <th>2</th>\n",
              "      <td>Pedro</td>\n",
              "      <td>9.00</td>\n",
              "      <td>47.0</td>\n",
              "    </tr>\n",
              "    <tr>\n",
              "      <th>3</th>\n",
              "      <td>Rosie</td>\n",
              "      <td>16.00</td>\n",
              "      <td>97.0</td>\n",
              "    </tr>\n",
              "    <tr>\n",
              "      <th>4</th>\n",
              "      <td>Ethan</td>\n",
              "      <td>9.25</td>\n",
              "      <td>49.0</td>\n",
              "    </tr>\n",
              "    <tr>\n",
              "      <th>5</th>\n",
              "      <td>Vicky</td>\n",
              "      <td>1.00</td>\n",
              "      <td>3.0</td>\n",
              "    </tr>\n",
              "  </tbody>\n",
              "</table>\n",
              "</div>"
            ],
            "text/plain": [
              "    Name  StudyHours  Grade\n",
              "0    Dan       10.00   50.0\n",
              "1  Joann       11.50   50.0\n",
              "2  Pedro        9.00   47.0\n",
              "3  Rosie       16.00   97.0\n",
              "4  Ethan        9.25   49.0\n",
              "5  Vicky        1.00    3.0"
            ]
          },
          "metadata": {},
          "execution_count": 13
        }
      ]
    },
    {
      "cell_type": "markdown",
      "metadata": {
        "id": "6lU7KBFpX7lf"
      },
      "source": [
        "Además de poder usar el método **loc** para buscar filas según el *índice*, puede usar el método **iloc** para buscar filas según su posición ordinal en el *DataFrame* (independientemente del *índice*):"
      ]
    },
    {
      "cell_type": "code",
      "metadata": {
        "id": "qs9d5qOHX-mK",
        "colab": {
          "base_uri": "https://localhost:8080/",
          "height": 204
        },
        "outputId": "21349377-fe0b-4a5d-e677-e770804772fd"
      },
      "source": [
        "# Obtener los datos de las primeras 5 filas\n",
        "df_students.iloc[0:5]"
      ],
      "execution_count": 14,
      "outputs": [
        {
          "output_type": "execute_result",
          "data": {
            "text/html": [
              "<div>\n",
              "<style scoped>\n",
              "    .dataframe tbody tr th:only-of-type {\n",
              "        vertical-align: middle;\n",
              "    }\n",
              "\n",
              "    .dataframe tbody tr th {\n",
              "        vertical-align: top;\n",
              "    }\n",
              "\n",
              "    .dataframe thead th {\n",
              "        text-align: right;\n",
              "    }\n",
              "</style>\n",
              "<table border=\"1\" class=\"dataframe\">\n",
              "  <thead>\n",
              "    <tr style=\"text-align: right;\">\n",
              "      <th></th>\n",
              "      <th>Name</th>\n",
              "      <th>StudyHours</th>\n",
              "      <th>Grade</th>\n",
              "    </tr>\n",
              "  </thead>\n",
              "  <tbody>\n",
              "    <tr>\n",
              "      <th>0</th>\n",
              "      <td>Dan</td>\n",
              "      <td>10.00</td>\n",
              "      <td>50.0</td>\n",
              "    </tr>\n",
              "    <tr>\n",
              "      <th>1</th>\n",
              "      <td>Joann</td>\n",
              "      <td>11.50</td>\n",
              "      <td>50.0</td>\n",
              "    </tr>\n",
              "    <tr>\n",
              "      <th>2</th>\n",
              "      <td>Pedro</td>\n",
              "      <td>9.00</td>\n",
              "      <td>47.0</td>\n",
              "    </tr>\n",
              "    <tr>\n",
              "      <th>3</th>\n",
              "      <td>Rosie</td>\n",
              "      <td>16.00</td>\n",
              "      <td>97.0</td>\n",
              "    </tr>\n",
              "    <tr>\n",
              "      <th>4</th>\n",
              "      <td>Ethan</td>\n",
              "      <td>9.25</td>\n",
              "      <td>49.0</td>\n",
              "    </tr>\n",
              "  </tbody>\n",
              "</table>\n",
              "</div>"
            ],
            "text/plain": [
              "    Name  StudyHours  Grade\n",
              "0    Dan       10.00   50.0\n",
              "1  Joann       11.50   50.0\n",
              "2  Pedro        9.00   47.0\n",
              "3  Rosie       16.00   97.0\n",
              "4  Ethan        9.25   49.0"
            ]
          },
          "metadata": {},
          "execution_count": 14
        }
      ]
    },
    {
      "cell_type": "markdown",
      "metadata": {
        "id": "n7PV6PRsX_YW"
      },
      "source": [
        "Mire cuidadosamente los resultados de **iloc[0:5]** y compárelos con los resultados de **loc[0:5]** que obtuvo anteriormente. *¿Puedes ver la diferencia?*\n",
        "\n",
        "El método **loc** devolvió filas con etiqueta de *índice* en la lista de valores de 0 a 5, que incluye 0, 1, 2, 3, 4 y 5 *(seis filas)*. Sin embargo, el método **iloc** devuelve las filas en las posiciones incluidas en el rango de 0 a 5, y dado que los rangos de números enteros no incluyen el valor del límite superior, esto incluye las posiciones 0, 1, 2, 3 y 4 *(cinco filas)*.\n",
        "\n",
        "**iloc** identifica valores de datos en un *DataFrame* por posición, que se extiende más allá de las filas a las columnas. Entonces, por ejemplo, puede usarlo para encontrar los valores de las columnas en las posiciones 1 y 2 en la fila 0, así:"
      ]
    },
    {
      "cell_type": "code",
      "metadata": {
        "id": "2rPOg7ENYEDz",
        "colab": {
          "base_uri": "https://localhost:8080/"
        },
        "outputId": "5888bbe2-b43b-4134-8d43-1bf9955980ea"
      },
      "source": [
        "df_students.iloc[0,[1,2]]"
      ],
      "execution_count": 15,
      "outputs": [
        {
          "output_type": "execute_result",
          "data": {
            "text/plain": [
              "StudyHours    10\n",
              "Grade         50\n",
              "Name: 0, dtype: object"
            ]
          },
          "metadata": {},
          "execution_count": 15
        }
      ]
    },
    {
      "cell_type": "markdown",
      "metadata": {
        "id": "IU6O4X2NYGww"
      },
      "source": [
        "Volvamos al método **loc** y veamos cómo funciona con columnas. Recuerde que **loc** se usa para ubicar elementos de datos basados en valores de *índice* en lugar de posiciones. En ausencia de una columna de índice explícita, las filas en nuestro marco de datos se indexan como valores enteros, pero las columnas se identifican por su nombre:"
      ]
    },
    {
      "cell_type": "code",
      "metadata": {
        "id": "TqwpEf1lYLEw",
        "colab": {
          "base_uri": "https://localhost:8080/"
        },
        "outputId": "eb5e75d5-d38c-4a52-f5cd-715d527b895d"
      },
      "source": [
        "df_students.loc[0,'Grade']"
      ],
      "execution_count": 16,
      "outputs": [
        {
          "output_type": "execute_result",
          "data": {
            "text/plain": [
              "50.0"
            ]
          },
          "metadata": {},
          "execution_count": 16
        }
      ]
    },
    {
      "cell_type": "markdown",
      "metadata": {
        "id": "O9qSN6m9YLtK"
      },
      "source": [
        "Aquí hay otro truco útil. Puede usar el método **loc** para buscar filas indexadas en función de una expresión de filtrado que haga referencia a columnas con nombre distintas del *índice*, como esta:"
      ]
    },
    {
      "cell_type": "code",
      "metadata": {
        "id": "dp_UCJzpYWIr",
        "colab": {
          "base_uri": "https://localhost:8080/",
          "height": 80
        },
        "outputId": "83d615d7-5cac-4f26-97b4-80d8d0628111"
      },
      "source": [
        "df_students.loc[df_students['Name']=='Aisha']"
      ],
      "execution_count": 17,
      "outputs": [
        {
          "output_type": "execute_result",
          "data": {
            "text/html": [
              "<div>\n",
              "<style scoped>\n",
              "    .dataframe tbody tr th:only-of-type {\n",
              "        vertical-align: middle;\n",
              "    }\n",
              "\n",
              "    .dataframe tbody tr th {\n",
              "        vertical-align: top;\n",
              "    }\n",
              "\n",
              "    .dataframe thead th {\n",
              "        text-align: right;\n",
              "    }\n",
              "</style>\n",
              "<table border=\"1\" class=\"dataframe\">\n",
              "  <thead>\n",
              "    <tr style=\"text-align: right;\">\n",
              "      <th></th>\n",
              "      <th>Name</th>\n",
              "      <th>StudyHours</th>\n",
              "      <th>Grade</th>\n",
              "    </tr>\n",
              "  </thead>\n",
              "  <tbody>\n",
              "    <tr>\n",
              "      <th>21</th>\n",
              "      <td>Aisha</td>\n",
              "      <td>12.0</td>\n",
              "      <td>64.0</td>\n",
              "    </tr>\n",
              "  </tbody>\n",
              "</table>\n",
              "</div>"
            ],
            "text/plain": [
              "     Name  StudyHours  Grade\n",
              "21  Aisha        12.0   64.0"
            ]
          },
          "metadata": {},
          "execution_count": 17
        }
      ]
    },
    {
      "cell_type": "markdown",
      "metadata": {
        "id": "AtcN2g1YYYgp"
      },
      "source": [
        "En realidad, no necesita usar explícitamente el método **loc** para hacer esto; simplemente puede aplicar una expresión de filtrado de DataFrame, como esta:"
      ]
    },
    {
      "cell_type": "code",
      "metadata": {
        "id": "eVyhMHGWYdvb",
        "colab": {
          "base_uri": "https://localhost:8080/",
          "height": 80
        },
        "outputId": "07dd3453-d427-4e91-ed64-a512a0c1534d"
      },
      "source": [
        "df_students[df_students['Name']=='Aisha']"
      ],
      "execution_count": 18,
      "outputs": [
        {
          "output_type": "execute_result",
          "data": {
            "text/html": [
              "<div>\n",
              "<style scoped>\n",
              "    .dataframe tbody tr th:only-of-type {\n",
              "        vertical-align: middle;\n",
              "    }\n",
              "\n",
              "    .dataframe tbody tr th {\n",
              "        vertical-align: top;\n",
              "    }\n",
              "\n",
              "    .dataframe thead th {\n",
              "        text-align: right;\n",
              "    }\n",
              "</style>\n",
              "<table border=\"1\" class=\"dataframe\">\n",
              "  <thead>\n",
              "    <tr style=\"text-align: right;\">\n",
              "      <th></th>\n",
              "      <th>Name</th>\n",
              "      <th>StudyHours</th>\n",
              "      <th>Grade</th>\n",
              "    </tr>\n",
              "  </thead>\n",
              "  <tbody>\n",
              "    <tr>\n",
              "      <th>21</th>\n",
              "      <td>Aisha</td>\n",
              "      <td>12.0</td>\n",
              "      <td>64.0</td>\n",
              "    </tr>\n",
              "  </tbody>\n",
              "</table>\n",
              "</div>"
            ],
            "text/plain": [
              "     Name  StudyHours  Grade\n",
              "21  Aisha        12.0   64.0"
            ]
          },
          "metadata": {},
          "execution_count": 18
        }
      ]
    },
    {
      "cell_type": "markdown",
      "metadata": {
        "id": "1aBT-4u4YebS"
      },
      "source": [
        "Y en buena medida, puede lograr los mismos resultados utilizando el método de **consulta** de *DataFrame*, como este:"
      ]
    },
    {
      "cell_type": "code",
      "metadata": {
        "id": "lMGVaeW8YiE9",
        "colab": {
          "base_uri": "https://localhost:8080/",
          "height": 80
        },
        "outputId": "ac62fee4-5f4f-4ea6-c001-315bbda1fcd3"
      },
      "source": [
        "df_students.query('Name==\"Aisha\"')"
      ],
      "execution_count": 19,
      "outputs": [
        {
          "output_type": "execute_result",
          "data": {
            "text/html": [
              "<div>\n",
              "<style scoped>\n",
              "    .dataframe tbody tr th:only-of-type {\n",
              "        vertical-align: middle;\n",
              "    }\n",
              "\n",
              "    .dataframe tbody tr th {\n",
              "        vertical-align: top;\n",
              "    }\n",
              "\n",
              "    .dataframe thead th {\n",
              "        text-align: right;\n",
              "    }\n",
              "</style>\n",
              "<table border=\"1\" class=\"dataframe\">\n",
              "  <thead>\n",
              "    <tr style=\"text-align: right;\">\n",
              "      <th></th>\n",
              "      <th>Name</th>\n",
              "      <th>StudyHours</th>\n",
              "      <th>Grade</th>\n",
              "    </tr>\n",
              "  </thead>\n",
              "  <tbody>\n",
              "    <tr>\n",
              "      <th>21</th>\n",
              "      <td>Aisha</td>\n",
              "      <td>12.0</td>\n",
              "      <td>64.0</td>\n",
              "    </tr>\n",
              "  </tbody>\n",
              "</table>\n",
              "</div>"
            ],
            "text/plain": [
              "     Name  StudyHours  Grade\n",
              "21  Aisha        12.0   64.0"
            ]
          },
          "metadata": {},
          "execution_count": 19
        }
      ]
    },
    {
      "cell_type": "markdown",
      "metadata": {
        "id": "1JzVCRI3YkE5"
      },
      "source": [
        "Los tres ejemplos anteriores subrayan una verdad ocasionalmente confusa sobre trabajar con Pandas. A menudo, hay varias formas de lograr los mismos resultados. Otro ejemplo de esto es la forma en que se refiere al nombre de una columna de *DataFrame*. Puede especificar el nombre de la columna como un valor de *índice* con nombre (como en los ejemplos de *df_students['Name']* que hemos visto hasta ahora), o puede usar la columna como una propiedad del *DataFrame*, así:"
      ]
    },
    {
      "cell_type": "code",
      "metadata": {
        "id": "yZ3fwyTuYrKx",
        "colab": {
          "base_uri": "https://localhost:8080/",
          "height": 80
        },
        "outputId": "87a38b08-8337-486e-b3fe-bb686bd088a1"
      },
      "source": [
        "df_students[df_students.Name == 'Aisha']"
      ],
      "execution_count": 20,
      "outputs": [
        {
          "output_type": "execute_result",
          "data": {
            "text/html": [
              "<div>\n",
              "<style scoped>\n",
              "    .dataframe tbody tr th:only-of-type {\n",
              "        vertical-align: middle;\n",
              "    }\n",
              "\n",
              "    .dataframe tbody tr th {\n",
              "        vertical-align: top;\n",
              "    }\n",
              "\n",
              "    .dataframe thead th {\n",
              "        text-align: right;\n",
              "    }\n",
              "</style>\n",
              "<table border=\"1\" class=\"dataframe\">\n",
              "  <thead>\n",
              "    <tr style=\"text-align: right;\">\n",
              "      <th></th>\n",
              "      <th>Name</th>\n",
              "      <th>StudyHours</th>\n",
              "      <th>Grade</th>\n",
              "    </tr>\n",
              "  </thead>\n",
              "  <tbody>\n",
              "    <tr>\n",
              "      <th>21</th>\n",
              "      <td>Aisha</td>\n",
              "      <td>12.0</td>\n",
              "      <td>64.0</td>\n",
              "    </tr>\n",
              "  </tbody>\n",
              "</table>\n",
              "</div>"
            ],
            "text/plain": [
              "     Name  StudyHours  Grade\n",
              "21  Aisha        12.0   64.0"
            ]
          },
          "metadata": {},
          "execution_count": 20
        }
      ]
    },
    {
      "cell_type": "markdown",
      "metadata": {
        "id": "PSBZdPkzYroE"
      },
      "source": [
        "### **Cargando un DataFrame desde un archivo**\n",
        "\n",
        "Construimos el *DataFrame* a partir de algunos **arrays** existentes. Sin embargo, en muchos escenarios del mundo real, los datos se cargan desde fuentes externas como archivos. Reemplacemos el *DataFrame* de calificaciones de los estudiantes con el contenido de un archivo de texto."
      ]
    },
    {
      "cell_type": "code",
      "metadata": {
        "id": "XMqtFSWFZEr5",
        "colab": {
          "base_uri": "https://localhost:8080/",
          "height": 391
        },
        "outputId": "3400b164-097e-4dd6-c0b3-990a46f1c75c"
      },
      "source": [
        "!wget https://raw.githubusercontent.com/MicrosoftDocs/mslearn-introduction-to-machine-learning/main/Data/ml-basics/grades.csv\n",
        "df_students = pd.read_csv('grades.csv',delimiter=',',header='infer')\n",
        "df_students.head()"
      ],
      "execution_count": 21,
      "outputs": [
        {
          "output_type": "stream",
          "name": "stdout",
          "text": [
            "--2021-10-03 01:09:09--  https://raw.githubusercontent.com/MicrosoftDocs/mslearn-introduction-to-machine-learning/main/Data/ml-basics/grades.csv\n",
            "Resolving raw.githubusercontent.com (raw.githubusercontent.com)... 185.199.111.133, 185.199.108.133, 185.199.110.133, ...\n",
            "Connecting to raw.githubusercontent.com (raw.githubusercontent.com)|185.199.111.133|:443... connected.\n",
            "HTTP request sent, awaiting response... 200 OK\n",
            "Length: 322 [text/plain]\n",
            "Saving to: ‘grades.csv’\n",
            "\n",
            "\rgrades.csv            0%[                    ]       0  --.-KB/s               \rgrades.csv          100%[===================>]     322  --.-KB/s    in 0s      \n",
            "\n",
            "2021-10-03 01:09:09 (9.61 MB/s) - ‘grades.csv’ saved [322/322]\n",
            "\n"
          ]
        },
        {
          "output_type": "execute_result",
          "data": {
            "text/html": [
              "<div>\n",
              "<style scoped>\n",
              "    .dataframe tbody tr th:only-of-type {\n",
              "        vertical-align: middle;\n",
              "    }\n",
              "\n",
              "    .dataframe tbody tr th {\n",
              "        vertical-align: top;\n",
              "    }\n",
              "\n",
              "    .dataframe thead th {\n",
              "        text-align: right;\n",
              "    }\n",
              "</style>\n",
              "<table border=\"1\" class=\"dataframe\">\n",
              "  <thead>\n",
              "    <tr style=\"text-align: right;\">\n",
              "      <th></th>\n",
              "      <th>Name</th>\n",
              "      <th>StudyHours</th>\n",
              "      <th>Grade</th>\n",
              "    </tr>\n",
              "  </thead>\n",
              "  <tbody>\n",
              "    <tr>\n",
              "      <th>0</th>\n",
              "      <td>Dan</td>\n",
              "      <td>10.00</td>\n",
              "      <td>50.0</td>\n",
              "    </tr>\n",
              "    <tr>\n",
              "      <th>1</th>\n",
              "      <td>Joann</td>\n",
              "      <td>11.50</td>\n",
              "      <td>50.0</td>\n",
              "    </tr>\n",
              "    <tr>\n",
              "      <th>2</th>\n",
              "      <td>Pedro</td>\n",
              "      <td>9.00</td>\n",
              "      <td>47.0</td>\n",
              "    </tr>\n",
              "    <tr>\n",
              "      <th>3</th>\n",
              "      <td>Rosie</td>\n",
              "      <td>16.00</td>\n",
              "      <td>97.0</td>\n",
              "    </tr>\n",
              "    <tr>\n",
              "      <th>4</th>\n",
              "      <td>Ethan</td>\n",
              "      <td>9.25</td>\n",
              "      <td>49.0</td>\n",
              "    </tr>\n",
              "  </tbody>\n",
              "</table>\n",
              "</div>"
            ],
            "text/plain": [
              "    Name  StudyHours  Grade\n",
              "0    Dan       10.00   50.0\n",
              "1  Joann       11.50   50.0\n",
              "2  Pedro        9.00   47.0\n",
              "3  Rosie       16.00   97.0\n",
              "4  Ethan        9.25   49.0"
            ]
          },
          "metadata": {},
          "execution_count": 21
        }
      ]
    },
    {
      "cell_type": "markdown",
      "metadata": {
        "id": "epc5MLzGZPeS"
      },
      "source": [
        "El método **read_csv** de *DataFrame* se usa para cargar datos desde archivos de texto. Como puede ver en el código de ejemplo, puede especificar opciones como el delimitador de columna y qué fila (si hay alguna) contiene encabezados de columna (en este caso, el delimitador es una coma y la primera fila contiene los nombres de columna; estos son las configuraciones predeterminadas, por lo que los parámetros podrían haberse omitido).\n",
        "\n",
        "###**Manejo de valores perdidos**\n",
        "\n",
        "Uno de los problemas más comunes con los que deben lidiar los científicos de datos es la falta de datos o los datos incompletos. Entonces, *¿cómo sabríamos que el DataFrame contiene valores faltantes?* Puede usar el método isnull para identificar qué valores individuales son nulos, como este:"
      ]
    },
    {
      "cell_type": "code",
      "metadata": {
        "id": "XXoLjqiLZXQx",
        "colab": {
          "base_uri": "https://localhost:8080/",
          "height": 793
        },
        "outputId": "95e111cb-486e-4150-dfd4-c253f8925d33"
      },
      "source": [
        "df_students.isnull()"
      ],
      "execution_count": 22,
      "outputs": [
        {
          "output_type": "execute_result",
          "data": {
            "text/html": [
              "<div>\n",
              "<style scoped>\n",
              "    .dataframe tbody tr th:only-of-type {\n",
              "        vertical-align: middle;\n",
              "    }\n",
              "\n",
              "    .dataframe tbody tr th {\n",
              "        vertical-align: top;\n",
              "    }\n",
              "\n",
              "    .dataframe thead th {\n",
              "        text-align: right;\n",
              "    }\n",
              "</style>\n",
              "<table border=\"1\" class=\"dataframe\">\n",
              "  <thead>\n",
              "    <tr style=\"text-align: right;\">\n",
              "      <th></th>\n",
              "      <th>Name</th>\n",
              "      <th>StudyHours</th>\n",
              "      <th>Grade</th>\n",
              "    </tr>\n",
              "  </thead>\n",
              "  <tbody>\n",
              "    <tr>\n",
              "      <th>0</th>\n",
              "      <td>False</td>\n",
              "      <td>False</td>\n",
              "      <td>False</td>\n",
              "    </tr>\n",
              "    <tr>\n",
              "      <th>1</th>\n",
              "      <td>False</td>\n",
              "      <td>False</td>\n",
              "      <td>False</td>\n",
              "    </tr>\n",
              "    <tr>\n",
              "      <th>2</th>\n",
              "      <td>False</td>\n",
              "      <td>False</td>\n",
              "      <td>False</td>\n",
              "    </tr>\n",
              "    <tr>\n",
              "      <th>3</th>\n",
              "      <td>False</td>\n",
              "      <td>False</td>\n",
              "      <td>False</td>\n",
              "    </tr>\n",
              "    <tr>\n",
              "      <th>4</th>\n",
              "      <td>False</td>\n",
              "      <td>False</td>\n",
              "      <td>False</td>\n",
              "    </tr>\n",
              "    <tr>\n",
              "      <th>5</th>\n",
              "      <td>False</td>\n",
              "      <td>False</td>\n",
              "      <td>False</td>\n",
              "    </tr>\n",
              "    <tr>\n",
              "      <th>6</th>\n",
              "      <td>False</td>\n",
              "      <td>False</td>\n",
              "      <td>False</td>\n",
              "    </tr>\n",
              "    <tr>\n",
              "      <th>7</th>\n",
              "      <td>False</td>\n",
              "      <td>False</td>\n",
              "      <td>False</td>\n",
              "    </tr>\n",
              "    <tr>\n",
              "      <th>8</th>\n",
              "      <td>False</td>\n",
              "      <td>False</td>\n",
              "      <td>False</td>\n",
              "    </tr>\n",
              "    <tr>\n",
              "      <th>9</th>\n",
              "      <td>False</td>\n",
              "      <td>False</td>\n",
              "      <td>False</td>\n",
              "    </tr>\n",
              "    <tr>\n",
              "      <th>10</th>\n",
              "      <td>False</td>\n",
              "      <td>False</td>\n",
              "      <td>False</td>\n",
              "    </tr>\n",
              "    <tr>\n",
              "      <th>11</th>\n",
              "      <td>False</td>\n",
              "      <td>False</td>\n",
              "      <td>False</td>\n",
              "    </tr>\n",
              "    <tr>\n",
              "      <th>12</th>\n",
              "      <td>False</td>\n",
              "      <td>False</td>\n",
              "      <td>False</td>\n",
              "    </tr>\n",
              "    <tr>\n",
              "      <th>13</th>\n",
              "      <td>False</td>\n",
              "      <td>False</td>\n",
              "      <td>False</td>\n",
              "    </tr>\n",
              "    <tr>\n",
              "      <th>14</th>\n",
              "      <td>False</td>\n",
              "      <td>False</td>\n",
              "      <td>False</td>\n",
              "    </tr>\n",
              "    <tr>\n",
              "      <th>15</th>\n",
              "      <td>False</td>\n",
              "      <td>False</td>\n",
              "      <td>False</td>\n",
              "    </tr>\n",
              "    <tr>\n",
              "      <th>16</th>\n",
              "      <td>False</td>\n",
              "      <td>False</td>\n",
              "      <td>False</td>\n",
              "    </tr>\n",
              "    <tr>\n",
              "      <th>17</th>\n",
              "      <td>False</td>\n",
              "      <td>False</td>\n",
              "      <td>False</td>\n",
              "    </tr>\n",
              "    <tr>\n",
              "      <th>18</th>\n",
              "      <td>False</td>\n",
              "      <td>False</td>\n",
              "      <td>False</td>\n",
              "    </tr>\n",
              "    <tr>\n",
              "      <th>19</th>\n",
              "      <td>False</td>\n",
              "      <td>False</td>\n",
              "      <td>False</td>\n",
              "    </tr>\n",
              "    <tr>\n",
              "      <th>20</th>\n",
              "      <td>False</td>\n",
              "      <td>False</td>\n",
              "      <td>False</td>\n",
              "    </tr>\n",
              "    <tr>\n",
              "      <th>21</th>\n",
              "      <td>False</td>\n",
              "      <td>False</td>\n",
              "      <td>False</td>\n",
              "    </tr>\n",
              "    <tr>\n",
              "      <th>22</th>\n",
              "      <td>False</td>\n",
              "      <td>False</td>\n",
              "      <td>True</td>\n",
              "    </tr>\n",
              "    <tr>\n",
              "      <th>23</th>\n",
              "      <td>False</td>\n",
              "      <td>True</td>\n",
              "      <td>True</td>\n",
              "    </tr>\n",
              "  </tbody>\n",
              "</table>\n",
              "</div>"
            ],
            "text/plain": [
              "     Name  StudyHours  Grade\n",
              "0   False       False  False\n",
              "1   False       False  False\n",
              "2   False       False  False\n",
              "3   False       False  False\n",
              "4   False       False  False\n",
              "5   False       False  False\n",
              "6   False       False  False\n",
              "7   False       False  False\n",
              "8   False       False  False\n",
              "9   False       False  False\n",
              "10  False       False  False\n",
              "11  False       False  False\n",
              "12  False       False  False\n",
              "13  False       False  False\n",
              "14  False       False  False\n",
              "15  False       False  False\n",
              "16  False       False  False\n",
              "17  False       False  False\n",
              "18  False       False  False\n",
              "19  False       False  False\n",
              "20  False       False  False\n",
              "21  False       False  False\n",
              "22  False       False   True\n",
              "23  False        True   True"
            ]
          },
          "metadata": {},
          "execution_count": 22
        }
      ]
    },
    {
      "cell_type": "markdown",
      "metadata": {
        "id": "HYLA9PVbZatp"
      },
      "source": [
        "Por supuesto, con un *DataFrame* más grande, sería ineficiente revisar todas las filas y columnas individualmente; para que podamos obtener la suma de los valores perdidos para cada columna, así:"
      ]
    },
    {
      "cell_type": "code",
      "metadata": {
        "id": "8IjzwcCvZdqK",
        "colab": {
          "base_uri": "https://localhost:8080/"
        },
        "outputId": "d54fc033-255d-47d6-d84e-db6d6343bc47"
      },
      "source": [
        "df_students.isnull().sum()"
      ],
      "execution_count": 23,
      "outputs": [
        {
          "output_type": "execute_result",
          "data": {
            "text/plain": [
              "Name          0\n",
              "StudyHours    1\n",
              "Grade         2\n",
              "dtype: int64"
            ]
          },
          "metadata": {},
          "execution_count": 23
        }
      ]
    },
    {
      "cell_type": "markdown",
      "metadata": {
        "id": "eJDM73MkZhOF"
      },
      "source": [
        "Ahora sabemos que falta un valor de **StudyHours** y dos valores de **Grade**.\n",
        "\n",
        "Para verlos en contexto, podemos filtrar el marco de datos para incluir solo filas donde cualquiera de las columnas (eje 1 del marco de datos) sea nula."
      ]
    },
    {
      "cell_type": "code",
      "metadata": {
        "id": "XdpDWuoSZi6v",
        "colab": {
          "base_uri": "https://localhost:8080/",
          "height": 111
        },
        "outputId": "161f72b8-fbe1-485a-cf9c-93b0049a0f61"
      },
      "source": [
        "df_students[df_students.isnull().any(axis=1)]"
      ],
      "execution_count": 24,
      "outputs": [
        {
          "output_type": "execute_result",
          "data": {
            "text/html": [
              "<div>\n",
              "<style scoped>\n",
              "    .dataframe tbody tr th:only-of-type {\n",
              "        vertical-align: middle;\n",
              "    }\n",
              "\n",
              "    .dataframe tbody tr th {\n",
              "        vertical-align: top;\n",
              "    }\n",
              "\n",
              "    .dataframe thead th {\n",
              "        text-align: right;\n",
              "    }\n",
              "</style>\n",
              "<table border=\"1\" class=\"dataframe\">\n",
              "  <thead>\n",
              "    <tr style=\"text-align: right;\">\n",
              "      <th></th>\n",
              "      <th>Name</th>\n",
              "      <th>StudyHours</th>\n",
              "      <th>Grade</th>\n",
              "    </tr>\n",
              "  </thead>\n",
              "  <tbody>\n",
              "    <tr>\n",
              "      <th>22</th>\n",
              "      <td>Bill</td>\n",
              "      <td>8.0</td>\n",
              "      <td>NaN</td>\n",
              "    </tr>\n",
              "    <tr>\n",
              "      <th>23</th>\n",
              "      <td>Ted</td>\n",
              "      <td>NaN</td>\n",
              "      <td>NaN</td>\n",
              "    </tr>\n",
              "  </tbody>\n",
              "</table>\n",
              "</div>"
            ],
            "text/plain": [
              "    Name  StudyHours  Grade\n",
              "22  Bill         8.0    NaN\n",
              "23   Ted         NaN    NaN"
            ]
          },
          "metadata": {},
          "execution_count": 24
        }
      ]
    },
    {
      "cell_type": "markdown",
      "metadata": {
        "id": "xwMR-l03ZmZJ"
      },
      "source": [
        "Cuando se recupera el *DataFrame*, los valores numéricos faltantes se muestran como **NaN** *( no como un número ).*\n",
        "\n",
        "Entonces, ahora que hemos encontrado los valores nulos, *¿qué podemos hacer con ellos?*\n",
        "\n",
        "Un enfoque común es imputar valores de reemplazo. Por ejemplo, si falta el número de horas de estudio, podríamos simplemente asumir que el estudiante estudió durante un tiempo promedio y reemplazar el valor faltante con la media de horas de estudio. Para hacer esto, podemos usar el método **fillna**, así:"
      ]
    },
    {
      "cell_type": "code",
      "metadata": {
        "id": "d4MtP7KCZpnY",
        "colab": {
          "base_uri": "https://localhost:8080/",
          "height": 793
        },
        "outputId": "fcfb2590-2b49-4021-a931-a283c5cf753d"
      },
      "source": [
        "df_students.StudyHours = df_students.StudyHours.fillna(df_students.StudyHours.mean())\n",
        "df_students"
      ],
      "execution_count": 25,
      "outputs": [
        {
          "output_type": "execute_result",
          "data": {
            "text/html": [
              "<div>\n",
              "<style scoped>\n",
              "    .dataframe tbody tr th:only-of-type {\n",
              "        vertical-align: middle;\n",
              "    }\n",
              "\n",
              "    .dataframe tbody tr th {\n",
              "        vertical-align: top;\n",
              "    }\n",
              "\n",
              "    .dataframe thead th {\n",
              "        text-align: right;\n",
              "    }\n",
              "</style>\n",
              "<table border=\"1\" class=\"dataframe\">\n",
              "  <thead>\n",
              "    <tr style=\"text-align: right;\">\n",
              "      <th></th>\n",
              "      <th>Name</th>\n",
              "      <th>StudyHours</th>\n",
              "      <th>Grade</th>\n",
              "    </tr>\n",
              "  </thead>\n",
              "  <tbody>\n",
              "    <tr>\n",
              "      <th>0</th>\n",
              "      <td>Dan</td>\n",
              "      <td>10.000000</td>\n",
              "      <td>50.0</td>\n",
              "    </tr>\n",
              "    <tr>\n",
              "      <th>1</th>\n",
              "      <td>Joann</td>\n",
              "      <td>11.500000</td>\n",
              "      <td>50.0</td>\n",
              "    </tr>\n",
              "    <tr>\n",
              "      <th>2</th>\n",
              "      <td>Pedro</td>\n",
              "      <td>9.000000</td>\n",
              "      <td>47.0</td>\n",
              "    </tr>\n",
              "    <tr>\n",
              "      <th>3</th>\n",
              "      <td>Rosie</td>\n",
              "      <td>16.000000</td>\n",
              "      <td>97.0</td>\n",
              "    </tr>\n",
              "    <tr>\n",
              "      <th>4</th>\n",
              "      <td>Ethan</td>\n",
              "      <td>9.250000</td>\n",
              "      <td>49.0</td>\n",
              "    </tr>\n",
              "    <tr>\n",
              "      <th>5</th>\n",
              "      <td>Vicky</td>\n",
              "      <td>1.000000</td>\n",
              "      <td>3.0</td>\n",
              "    </tr>\n",
              "    <tr>\n",
              "      <th>6</th>\n",
              "      <td>Frederic</td>\n",
              "      <td>11.500000</td>\n",
              "      <td>53.0</td>\n",
              "    </tr>\n",
              "    <tr>\n",
              "      <th>7</th>\n",
              "      <td>Jimmie</td>\n",
              "      <td>9.000000</td>\n",
              "      <td>42.0</td>\n",
              "    </tr>\n",
              "    <tr>\n",
              "      <th>8</th>\n",
              "      <td>Rhonda</td>\n",
              "      <td>8.500000</td>\n",
              "      <td>26.0</td>\n",
              "    </tr>\n",
              "    <tr>\n",
              "      <th>9</th>\n",
              "      <td>Giovanni</td>\n",
              "      <td>14.500000</td>\n",
              "      <td>74.0</td>\n",
              "    </tr>\n",
              "    <tr>\n",
              "      <th>10</th>\n",
              "      <td>Francesca</td>\n",
              "      <td>15.500000</td>\n",
              "      <td>82.0</td>\n",
              "    </tr>\n",
              "    <tr>\n",
              "      <th>11</th>\n",
              "      <td>Rajab</td>\n",
              "      <td>13.750000</td>\n",
              "      <td>62.0</td>\n",
              "    </tr>\n",
              "    <tr>\n",
              "      <th>12</th>\n",
              "      <td>Naiyana</td>\n",
              "      <td>9.000000</td>\n",
              "      <td>37.0</td>\n",
              "    </tr>\n",
              "    <tr>\n",
              "      <th>13</th>\n",
              "      <td>Kian</td>\n",
              "      <td>8.000000</td>\n",
              "      <td>15.0</td>\n",
              "    </tr>\n",
              "    <tr>\n",
              "      <th>14</th>\n",
              "      <td>Jenny</td>\n",
              "      <td>15.500000</td>\n",
              "      <td>70.0</td>\n",
              "    </tr>\n",
              "    <tr>\n",
              "      <th>15</th>\n",
              "      <td>Jakeem</td>\n",
              "      <td>8.000000</td>\n",
              "      <td>27.0</td>\n",
              "    </tr>\n",
              "    <tr>\n",
              "      <th>16</th>\n",
              "      <td>Helena</td>\n",
              "      <td>9.000000</td>\n",
              "      <td>36.0</td>\n",
              "    </tr>\n",
              "    <tr>\n",
              "      <th>17</th>\n",
              "      <td>Ismat</td>\n",
              "      <td>6.000000</td>\n",
              "      <td>35.0</td>\n",
              "    </tr>\n",
              "    <tr>\n",
              "      <th>18</th>\n",
              "      <td>Anila</td>\n",
              "      <td>10.000000</td>\n",
              "      <td>48.0</td>\n",
              "    </tr>\n",
              "    <tr>\n",
              "      <th>19</th>\n",
              "      <td>Skye</td>\n",
              "      <td>12.000000</td>\n",
              "      <td>52.0</td>\n",
              "    </tr>\n",
              "    <tr>\n",
              "      <th>20</th>\n",
              "      <td>Daniel</td>\n",
              "      <td>12.500000</td>\n",
              "      <td>63.0</td>\n",
              "    </tr>\n",
              "    <tr>\n",
              "      <th>21</th>\n",
              "      <td>Aisha</td>\n",
              "      <td>12.000000</td>\n",
              "      <td>64.0</td>\n",
              "    </tr>\n",
              "    <tr>\n",
              "      <th>22</th>\n",
              "      <td>Bill</td>\n",
              "      <td>8.000000</td>\n",
              "      <td>NaN</td>\n",
              "    </tr>\n",
              "    <tr>\n",
              "      <th>23</th>\n",
              "      <td>Ted</td>\n",
              "      <td>10.413043</td>\n",
              "      <td>NaN</td>\n",
              "    </tr>\n",
              "  </tbody>\n",
              "</table>\n",
              "</div>"
            ],
            "text/plain": [
              "         Name  StudyHours  Grade\n",
              "0         Dan   10.000000   50.0\n",
              "1       Joann   11.500000   50.0\n",
              "2       Pedro    9.000000   47.0\n",
              "3       Rosie   16.000000   97.0\n",
              "4       Ethan    9.250000   49.0\n",
              "5       Vicky    1.000000    3.0\n",
              "6    Frederic   11.500000   53.0\n",
              "7      Jimmie    9.000000   42.0\n",
              "8      Rhonda    8.500000   26.0\n",
              "9    Giovanni   14.500000   74.0\n",
              "10  Francesca   15.500000   82.0\n",
              "11      Rajab   13.750000   62.0\n",
              "12    Naiyana    9.000000   37.0\n",
              "13       Kian    8.000000   15.0\n",
              "14      Jenny   15.500000   70.0\n",
              "15     Jakeem    8.000000   27.0\n",
              "16     Helena    9.000000   36.0\n",
              "17      Ismat    6.000000   35.0\n",
              "18      Anila   10.000000   48.0\n",
              "19       Skye   12.000000   52.0\n",
              "20     Daniel   12.500000   63.0\n",
              "21      Aisha   12.000000   64.0\n",
              "22       Bill    8.000000    NaN\n",
              "23        Ted   10.413043    NaN"
            ]
          },
          "metadata": {},
          "execution_count": 25
        }
      ]
    },
    {
      "cell_type": "markdown",
      "metadata": {
        "id": "o8qCL4HBZwd-"
      },
      "source": [
        "Alternativamente, puede ser importante asegurarse de que solo use datos que sepa que son absolutamente correctos; para que pueda eliminar filas o columnas que contienen valores nulos mediante el uso del método **dropna**. En este caso, eliminaremos filas (eje 0 del *DataFrame*) donde ninguna de las columnas contiene valores nulos."
      ]
    },
    {
      "cell_type": "code",
      "metadata": {
        "id": "mgrW-5tIZ2nb",
        "colab": {
          "base_uri": "https://localhost:8080/",
          "height": 731
        },
        "outputId": "d2c8d8df-9228-486a-e91a-e4cbec72f0bb"
      },
      "source": [
        "df_students = df_students.dropna(axis=0, how='any')\n",
        "df_students"
      ],
      "execution_count": 26,
      "outputs": [
        {
          "output_type": "execute_result",
          "data": {
            "text/html": [
              "<div>\n",
              "<style scoped>\n",
              "    .dataframe tbody tr th:only-of-type {\n",
              "        vertical-align: middle;\n",
              "    }\n",
              "\n",
              "    .dataframe tbody tr th {\n",
              "        vertical-align: top;\n",
              "    }\n",
              "\n",
              "    .dataframe thead th {\n",
              "        text-align: right;\n",
              "    }\n",
              "</style>\n",
              "<table border=\"1\" class=\"dataframe\">\n",
              "  <thead>\n",
              "    <tr style=\"text-align: right;\">\n",
              "      <th></th>\n",
              "      <th>Name</th>\n",
              "      <th>StudyHours</th>\n",
              "      <th>Grade</th>\n",
              "    </tr>\n",
              "  </thead>\n",
              "  <tbody>\n",
              "    <tr>\n",
              "      <th>0</th>\n",
              "      <td>Dan</td>\n",
              "      <td>10.00</td>\n",
              "      <td>50.0</td>\n",
              "    </tr>\n",
              "    <tr>\n",
              "      <th>1</th>\n",
              "      <td>Joann</td>\n",
              "      <td>11.50</td>\n",
              "      <td>50.0</td>\n",
              "    </tr>\n",
              "    <tr>\n",
              "      <th>2</th>\n",
              "      <td>Pedro</td>\n",
              "      <td>9.00</td>\n",
              "      <td>47.0</td>\n",
              "    </tr>\n",
              "    <tr>\n",
              "      <th>3</th>\n",
              "      <td>Rosie</td>\n",
              "      <td>16.00</td>\n",
              "      <td>97.0</td>\n",
              "    </tr>\n",
              "    <tr>\n",
              "      <th>4</th>\n",
              "      <td>Ethan</td>\n",
              "      <td>9.25</td>\n",
              "      <td>49.0</td>\n",
              "    </tr>\n",
              "    <tr>\n",
              "      <th>5</th>\n",
              "      <td>Vicky</td>\n",
              "      <td>1.00</td>\n",
              "      <td>3.0</td>\n",
              "    </tr>\n",
              "    <tr>\n",
              "      <th>6</th>\n",
              "      <td>Frederic</td>\n",
              "      <td>11.50</td>\n",
              "      <td>53.0</td>\n",
              "    </tr>\n",
              "    <tr>\n",
              "      <th>7</th>\n",
              "      <td>Jimmie</td>\n",
              "      <td>9.00</td>\n",
              "      <td>42.0</td>\n",
              "    </tr>\n",
              "    <tr>\n",
              "      <th>8</th>\n",
              "      <td>Rhonda</td>\n",
              "      <td>8.50</td>\n",
              "      <td>26.0</td>\n",
              "    </tr>\n",
              "    <tr>\n",
              "      <th>9</th>\n",
              "      <td>Giovanni</td>\n",
              "      <td>14.50</td>\n",
              "      <td>74.0</td>\n",
              "    </tr>\n",
              "    <tr>\n",
              "      <th>10</th>\n",
              "      <td>Francesca</td>\n",
              "      <td>15.50</td>\n",
              "      <td>82.0</td>\n",
              "    </tr>\n",
              "    <tr>\n",
              "      <th>11</th>\n",
              "      <td>Rajab</td>\n",
              "      <td>13.75</td>\n",
              "      <td>62.0</td>\n",
              "    </tr>\n",
              "    <tr>\n",
              "      <th>12</th>\n",
              "      <td>Naiyana</td>\n",
              "      <td>9.00</td>\n",
              "      <td>37.0</td>\n",
              "    </tr>\n",
              "    <tr>\n",
              "      <th>13</th>\n",
              "      <td>Kian</td>\n",
              "      <td>8.00</td>\n",
              "      <td>15.0</td>\n",
              "    </tr>\n",
              "    <tr>\n",
              "      <th>14</th>\n",
              "      <td>Jenny</td>\n",
              "      <td>15.50</td>\n",
              "      <td>70.0</td>\n",
              "    </tr>\n",
              "    <tr>\n",
              "      <th>15</th>\n",
              "      <td>Jakeem</td>\n",
              "      <td>8.00</td>\n",
              "      <td>27.0</td>\n",
              "    </tr>\n",
              "    <tr>\n",
              "      <th>16</th>\n",
              "      <td>Helena</td>\n",
              "      <td>9.00</td>\n",
              "      <td>36.0</td>\n",
              "    </tr>\n",
              "    <tr>\n",
              "      <th>17</th>\n",
              "      <td>Ismat</td>\n",
              "      <td>6.00</td>\n",
              "      <td>35.0</td>\n",
              "    </tr>\n",
              "    <tr>\n",
              "      <th>18</th>\n",
              "      <td>Anila</td>\n",
              "      <td>10.00</td>\n",
              "      <td>48.0</td>\n",
              "    </tr>\n",
              "    <tr>\n",
              "      <th>19</th>\n",
              "      <td>Skye</td>\n",
              "      <td>12.00</td>\n",
              "      <td>52.0</td>\n",
              "    </tr>\n",
              "    <tr>\n",
              "      <th>20</th>\n",
              "      <td>Daniel</td>\n",
              "      <td>12.50</td>\n",
              "      <td>63.0</td>\n",
              "    </tr>\n",
              "    <tr>\n",
              "      <th>21</th>\n",
              "      <td>Aisha</td>\n",
              "      <td>12.00</td>\n",
              "      <td>64.0</td>\n",
              "    </tr>\n",
              "  </tbody>\n",
              "</table>\n",
              "</div>"
            ],
            "text/plain": [
              "         Name  StudyHours  Grade\n",
              "0         Dan       10.00   50.0\n",
              "1       Joann       11.50   50.0\n",
              "2       Pedro        9.00   47.0\n",
              "3       Rosie       16.00   97.0\n",
              "4       Ethan        9.25   49.0\n",
              "5       Vicky        1.00    3.0\n",
              "6    Frederic       11.50   53.0\n",
              "7      Jimmie        9.00   42.0\n",
              "8      Rhonda        8.50   26.0\n",
              "9    Giovanni       14.50   74.0\n",
              "10  Francesca       15.50   82.0\n",
              "11      Rajab       13.75   62.0\n",
              "12    Naiyana        9.00   37.0\n",
              "13       Kian        8.00   15.0\n",
              "14      Jenny       15.50   70.0\n",
              "15     Jakeem        8.00   27.0\n",
              "16     Helena        9.00   36.0\n",
              "17      Ismat        6.00   35.0\n",
              "18      Anila       10.00   48.0\n",
              "19       Skye       12.00   52.0\n",
              "20     Daniel       12.50   63.0\n",
              "21      Aisha       12.00   64.0"
            ]
          },
          "metadata": {},
          "execution_count": 26
        }
      ]
    },
    {
      "cell_type": "markdown",
      "metadata": {
        "id": "04F5tWI_Z3wX"
      },
      "source": [
        "### **Explore los datos en el DataFrame**\n",
        "\n",
        "Ahora que hemos limpiado los valores faltantes, estamos listos para explorar los datos en el *DataFrame*. Comencemos comparando la media de horas de estudio y calificaciones."
      ]
    },
    {
      "cell_type": "code",
      "metadata": {
        "id": "409dZWcbZ8cx",
        "colab": {
          "base_uri": "https://localhost:8080/"
        },
        "outputId": "e5c320b6-ece0-4b28-a95a-0f0976000b39"
      },
      "source": [
        "# Obtener el valor medio de las horas de estudio usando el nombre de columna como un indice\n",
        "mean_study = df_students['StudyHours'].mean()\n",
        "\n",
        "# Obtener el valor medio de las calificaciones usando el nombre de columna como una propiedad\n",
        "mean_grade = df_students.Grade.mean()\n",
        "\n",
        "# Mostrar el valor medio de las horas de estudio y las calificaciones\n",
        "print('Media de horas de estudio semanal: {:.2f}\\nMedia de calificaciones: {:.2f}'.format(mean_study, mean_grade))"
      ],
      "execution_count": 27,
      "outputs": [
        {
          "output_type": "stream",
          "name": "stdout",
          "text": [
            "Media de horas de estudio semanal: 10.52\n",
            "Media de calificaciones: 49.18\n"
          ]
        }
      ]
    },
    {
      "cell_type": "markdown",
      "metadata": {
        "id": "YHkFyZRbZ_j4"
      },
      "source": [
        "Ahora, filtremos el *DataFrame* para encontrar solo los estudiantes que estudiaron por más de la cantidad de tiempo promedio."
      ]
    },
    {
      "cell_type": "code",
      "metadata": {
        "id": "3u_Q9ahcaDhQ",
        "colab": {
          "base_uri": "https://localhost:8080/",
          "height": 359
        },
        "outputId": "1f50c11e-dec6-45f8-919f-c032df0f0f60"
      },
      "source": [
        "# Obtener los estudiantes que estudiaron mas de la cantidad de tiempo promedio\n",
        "df_students[df_students.StudyHours > mean_study]"
      ],
      "execution_count": 28,
      "outputs": [
        {
          "output_type": "execute_result",
          "data": {
            "text/html": [
              "<div>\n",
              "<style scoped>\n",
              "    .dataframe tbody tr th:only-of-type {\n",
              "        vertical-align: middle;\n",
              "    }\n",
              "\n",
              "    .dataframe tbody tr th {\n",
              "        vertical-align: top;\n",
              "    }\n",
              "\n",
              "    .dataframe thead th {\n",
              "        text-align: right;\n",
              "    }\n",
              "</style>\n",
              "<table border=\"1\" class=\"dataframe\">\n",
              "  <thead>\n",
              "    <tr style=\"text-align: right;\">\n",
              "      <th></th>\n",
              "      <th>Name</th>\n",
              "      <th>StudyHours</th>\n",
              "      <th>Grade</th>\n",
              "    </tr>\n",
              "  </thead>\n",
              "  <tbody>\n",
              "    <tr>\n",
              "      <th>1</th>\n",
              "      <td>Joann</td>\n",
              "      <td>11.50</td>\n",
              "      <td>50.0</td>\n",
              "    </tr>\n",
              "    <tr>\n",
              "      <th>3</th>\n",
              "      <td>Rosie</td>\n",
              "      <td>16.00</td>\n",
              "      <td>97.0</td>\n",
              "    </tr>\n",
              "    <tr>\n",
              "      <th>6</th>\n",
              "      <td>Frederic</td>\n",
              "      <td>11.50</td>\n",
              "      <td>53.0</td>\n",
              "    </tr>\n",
              "    <tr>\n",
              "      <th>9</th>\n",
              "      <td>Giovanni</td>\n",
              "      <td>14.50</td>\n",
              "      <td>74.0</td>\n",
              "    </tr>\n",
              "    <tr>\n",
              "      <th>10</th>\n",
              "      <td>Francesca</td>\n",
              "      <td>15.50</td>\n",
              "      <td>82.0</td>\n",
              "    </tr>\n",
              "    <tr>\n",
              "      <th>11</th>\n",
              "      <td>Rajab</td>\n",
              "      <td>13.75</td>\n",
              "      <td>62.0</td>\n",
              "    </tr>\n",
              "    <tr>\n",
              "      <th>14</th>\n",
              "      <td>Jenny</td>\n",
              "      <td>15.50</td>\n",
              "      <td>70.0</td>\n",
              "    </tr>\n",
              "    <tr>\n",
              "      <th>19</th>\n",
              "      <td>Skye</td>\n",
              "      <td>12.00</td>\n",
              "      <td>52.0</td>\n",
              "    </tr>\n",
              "    <tr>\n",
              "      <th>20</th>\n",
              "      <td>Daniel</td>\n",
              "      <td>12.50</td>\n",
              "      <td>63.0</td>\n",
              "    </tr>\n",
              "    <tr>\n",
              "      <th>21</th>\n",
              "      <td>Aisha</td>\n",
              "      <td>12.00</td>\n",
              "      <td>64.0</td>\n",
              "    </tr>\n",
              "  </tbody>\n",
              "</table>\n",
              "</div>"
            ],
            "text/plain": [
              "         Name  StudyHours  Grade\n",
              "1       Joann       11.50   50.0\n",
              "3       Rosie       16.00   97.0\n",
              "6    Frederic       11.50   53.0\n",
              "9    Giovanni       14.50   74.0\n",
              "10  Francesca       15.50   82.0\n",
              "11      Rajab       13.75   62.0\n",
              "14      Jenny       15.50   70.0\n",
              "19       Skye       12.00   52.0\n",
              "20     Daniel       12.50   63.0\n",
              "21      Aisha       12.00   64.0"
            ]
          },
          "metadata": {},
          "execution_count": 28
        }
      ]
    },
    {
      "cell_type": "markdown",
      "metadata": {
        "id": "IBA6FaV0aLjY"
      },
      "source": [
        "Tenga en cuenta que el resultado filtrado es en sí mismo un *DataFrame*, por lo que puede trabajar con sus columnas como cualquier otro *DataFrame*.\n",
        "\n",
        "Por ejemplo, busquemos la calificación promedio de los estudiantes que realizaron más tiempo de estudio que el promedio."
      ]
    },
    {
      "cell_type": "code",
      "metadata": {
        "id": "ij68rVB5aTau",
        "colab": {
          "base_uri": "https://localhost:8080/"
        },
        "outputId": "5bdb1e4b-e026-4879-819c-6b8c617ba28a"
      },
      "source": [
        "# Cual fue su calificacion promedio?\n",
        "df_students[df_students.StudyHours > mean_study].Grade.mean()"
      ],
      "execution_count": 29,
      "outputs": [
        {
          "output_type": "execute_result",
          "data": {
            "text/plain": [
              "66.7"
            ]
          },
          "metadata": {},
          "execution_count": 29
        }
      ]
    },
    {
      "cell_type": "markdown",
      "metadata": {
        "id": "fqodDI38aU2J"
      },
      "source": [
        "Supongamos que la calificación aprobatoria del curso es **60**.\n",
        "\n",
        "Podemos usar esa información para agregar una nueva columna al *DataFrame*, indicando si cada estudiante aprobó o no.\n",
        "\n",
        "Primero, crearemos una **Serie** Pandas que contiene el indicador de pasa / falla (Verdadero o Falso), y luego concatenamos esa serie como una nueva columna (eje 1) en el *DataFrame*."
      ]
    },
    {
      "cell_type": "code",
      "metadata": {
        "id": "dnJ3GM0UaXmc",
        "colab": {
          "base_uri": "https://localhost:8080/",
          "height": 731
        },
        "outputId": "aaa809a3-a8ff-4c9c-f301-f39466c34f67"
      },
      "source": [
        "passes  = pd.Series(df_students['Grade'] >= 60)\n",
        "df_students = pd.concat([df_students, passes.rename(\"Pass\")], axis=1)\n",
        "\n",
        "df_students"
      ],
      "execution_count": 30,
      "outputs": [
        {
          "output_type": "execute_result",
          "data": {
            "text/html": [
              "<div>\n",
              "<style scoped>\n",
              "    .dataframe tbody tr th:only-of-type {\n",
              "        vertical-align: middle;\n",
              "    }\n",
              "\n",
              "    .dataframe tbody tr th {\n",
              "        vertical-align: top;\n",
              "    }\n",
              "\n",
              "    .dataframe thead th {\n",
              "        text-align: right;\n",
              "    }\n",
              "</style>\n",
              "<table border=\"1\" class=\"dataframe\">\n",
              "  <thead>\n",
              "    <tr style=\"text-align: right;\">\n",
              "      <th></th>\n",
              "      <th>Name</th>\n",
              "      <th>StudyHours</th>\n",
              "      <th>Grade</th>\n",
              "      <th>Pass</th>\n",
              "    </tr>\n",
              "  </thead>\n",
              "  <tbody>\n",
              "    <tr>\n",
              "      <th>0</th>\n",
              "      <td>Dan</td>\n",
              "      <td>10.00</td>\n",
              "      <td>50.0</td>\n",
              "      <td>False</td>\n",
              "    </tr>\n",
              "    <tr>\n",
              "      <th>1</th>\n",
              "      <td>Joann</td>\n",
              "      <td>11.50</td>\n",
              "      <td>50.0</td>\n",
              "      <td>False</td>\n",
              "    </tr>\n",
              "    <tr>\n",
              "      <th>2</th>\n",
              "      <td>Pedro</td>\n",
              "      <td>9.00</td>\n",
              "      <td>47.0</td>\n",
              "      <td>False</td>\n",
              "    </tr>\n",
              "    <tr>\n",
              "      <th>3</th>\n",
              "      <td>Rosie</td>\n",
              "      <td>16.00</td>\n",
              "      <td>97.0</td>\n",
              "      <td>True</td>\n",
              "    </tr>\n",
              "    <tr>\n",
              "      <th>4</th>\n",
              "      <td>Ethan</td>\n",
              "      <td>9.25</td>\n",
              "      <td>49.0</td>\n",
              "      <td>False</td>\n",
              "    </tr>\n",
              "    <tr>\n",
              "      <th>5</th>\n",
              "      <td>Vicky</td>\n",
              "      <td>1.00</td>\n",
              "      <td>3.0</td>\n",
              "      <td>False</td>\n",
              "    </tr>\n",
              "    <tr>\n",
              "      <th>6</th>\n",
              "      <td>Frederic</td>\n",
              "      <td>11.50</td>\n",
              "      <td>53.0</td>\n",
              "      <td>False</td>\n",
              "    </tr>\n",
              "    <tr>\n",
              "      <th>7</th>\n",
              "      <td>Jimmie</td>\n",
              "      <td>9.00</td>\n",
              "      <td>42.0</td>\n",
              "      <td>False</td>\n",
              "    </tr>\n",
              "    <tr>\n",
              "      <th>8</th>\n",
              "      <td>Rhonda</td>\n",
              "      <td>8.50</td>\n",
              "      <td>26.0</td>\n",
              "      <td>False</td>\n",
              "    </tr>\n",
              "    <tr>\n",
              "      <th>9</th>\n",
              "      <td>Giovanni</td>\n",
              "      <td>14.50</td>\n",
              "      <td>74.0</td>\n",
              "      <td>True</td>\n",
              "    </tr>\n",
              "    <tr>\n",
              "      <th>10</th>\n",
              "      <td>Francesca</td>\n",
              "      <td>15.50</td>\n",
              "      <td>82.0</td>\n",
              "      <td>True</td>\n",
              "    </tr>\n",
              "    <tr>\n",
              "      <th>11</th>\n",
              "      <td>Rajab</td>\n",
              "      <td>13.75</td>\n",
              "      <td>62.0</td>\n",
              "      <td>True</td>\n",
              "    </tr>\n",
              "    <tr>\n",
              "      <th>12</th>\n",
              "      <td>Naiyana</td>\n",
              "      <td>9.00</td>\n",
              "      <td>37.0</td>\n",
              "      <td>False</td>\n",
              "    </tr>\n",
              "    <tr>\n",
              "      <th>13</th>\n",
              "      <td>Kian</td>\n",
              "      <td>8.00</td>\n",
              "      <td>15.0</td>\n",
              "      <td>False</td>\n",
              "    </tr>\n",
              "    <tr>\n",
              "      <th>14</th>\n",
              "      <td>Jenny</td>\n",
              "      <td>15.50</td>\n",
              "      <td>70.0</td>\n",
              "      <td>True</td>\n",
              "    </tr>\n",
              "    <tr>\n",
              "      <th>15</th>\n",
              "      <td>Jakeem</td>\n",
              "      <td>8.00</td>\n",
              "      <td>27.0</td>\n",
              "      <td>False</td>\n",
              "    </tr>\n",
              "    <tr>\n",
              "      <th>16</th>\n",
              "      <td>Helena</td>\n",
              "      <td>9.00</td>\n",
              "      <td>36.0</td>\n",
              "      <td>False</td>\n",
              "    </tr>\n",
              "    <tr>\n",
              "      <th>17</th>\n",
              "      <td>Ismat</td>\n",
              "      <td>6.00</td>\n",
              "      <td>35.0</td>\n",
              "      <td>False</td>\n",
              "    </tr>\n",
              "    <tr>\n",
              "      <th>18</th>\n",
              "      <td>Anila</td>\n",
              "      <td>10.00</td>\n",
              "      <td>48.0</td>\n",
              "      <td>False</td>\n",
              "    </tr>\n",
              "    <tr>\n",
              "      <th>19</th>\n",
              "      <td>Skye</td>\n",
              "      <td>12.00</td>\n",
              "      <td>52.0</td>\n",
              "      <td>False</td>\n",
              "    </tr>\n",
              "    <tr>\n",
              "      <th>20</th>\n",
              "      <td>Daniel</td>\n",
              "      <td>12.50</td>\n",
              "      <td>63.0</td>\n",
              "      <td>True</td>\n",
              "    </tr>\n",
              "    <tr>\n",
              "      <th>21</th>\n",
              "      <td>Aisha</td>\n",
              "      <td>12.00</td>\n",
              "      <td>64.0</td>\n",
              "      <td>True</td>\n",
              "    </tr>\n",
              "  </tbody>\n",
              "</table>\n",
              "</div>"
            ],
            "text/plain": [
              "         Name  StudyHours  Grade   Pass\n",
              "0         Dan       10.00   50.0  False\n",
              "1       Joann       11.50   50.0  False\n",
              "2       Pedro        9.00   47.0  False\n",
              "3       Rosie       16.00   97.0   True\n",
              "4       Ethan        9.25   49.0  False\n",
              "5       Vicky        1.00    3.0  False\n",
              "6    Frederic       11.50   53.0  False\n",
              "7      Jimmie        9.00   42.0  False\n",
              "8      Rhonda        8.50   26.0  False\n",
              "9    Giovanni       14.50   74.0   True\n",
              "10  Francesca       15.50   82.0   True\n",
              "11      Rajab       13.75   62.0   True\n",
              "12    Naiyana        9.00   37.0  False\n",
              "13       Kian        8.00   15.0  False\n",
              "14      Jenny       15.50   70.0   True\n",
              "15     Jakeem        8.00   27.0  False\n",
              "16     Helena        9.00   36.0  False\n",
              "17      Ismat        6.00   35.0  False\n",
              "18      Anila       10.00   48.0  False\n",
              "19       Skye       12.00   52.0  False\n",
              "20     Daniel       12.50   63.0   True\n",
              "21      Aisha       12.00   64.0   True"
            ]
          },
          "metadata": {},
          "execution_count": 30
        }
      ]
    },
    {
      "cell_type": "markdown",
      "metadata": {
        "id": "MZvk8WcZabS3"
      },
      "source": [
        "Los *DataFrames* están diseñados para datos tabulares y puede utilizarlos para realizar muchos de los tipos de operaciones de análisis de datos que puede realizar en una base de datos relacional; como agrupar y agregar tablas de datos.\n",
        "\n",
        "Por ejemplo, puede usar el método **groupby** para agrupar los datos de los estudiantes en grupos según la columna de **Aprobado** que agregó anteriormente y contar el número de nombres en cada grupo; en otras palabras, puede determinar cuántos estudiantes aprobaron y reprobaron."
      ]
    },
    {
      "cell_type": "code",
      "metadata": {
        "id": "aeSmwcBca4LT",
        "colab": {
          "base_uri": "https://localhost:8080/"
        },
        "outputId": "e08b9a54-bbcf-4247-979f-fa87e4a21aae"
      },
      "source": [
        "print(df_students.groupby(df_students.Pass).Name.count())"
      ],
      "execution_count": 31,
      "outputs": [
        {
          "output_type": "stream",
          "name": "stdout",
          "text": [
            "Pass\n",
            "False    15\n",
            "True      7\n",
            "Name: Name, dtype: int64\n"
          ]
        }
      ]
    },
    {
      "cell_type": "markdown",
      "metadata": {
        "id": "u6EA_5KKbBMV"
      },
      "source": [
        "Puede agregar varios campos en un grupo utilizando cualquier función de agregación disponible. Por ejemplo, puede encontrar el tiempo medio de estudio y la calificación de los grupos de estudiantes que aprobaron y reprobaron el curso."
      ]
    },
    {
      "cell_type": "code",
      "metadata": {
        "id": "bHUREZydbCPB",
        "colab": {
          "base_uri": "https://localhost:8080/"
        },
        "outputId": "317bda8c-06bf-41e3-ade7-293a8f52495e"
      },
      "source": [
        "print(df_students.groupby(df_students.Pass)['StudyHours', 'Grade'].mean())"
      ],
      "execution_count": 32,
      "outputs": [
        {
          "output_type": "stream",
          "name": "stdout",
          "text": [
            "       StudyHours      Grade\n",
            "Pass                        \n",
            "False    8.783333  38.000000\n",
            "True    14.250000  73.142857\n"
          ]
        },
        {
          "output_type": "stream",
          "name": "stderr",
          "text": [
            "/usr/local/lib/python3.7/dist-packages/ipykernel_launcher.py:1: FutureWarning: Indexing with multiple keys (implicitly converted to a tuple of keys) will be deprecated, use a list instead.\n",
            "  \"\"\"Entry point for launching an IPython kernel.\n"
          ]
        }
      ]
    },
    {
      "cell_type": "markdown",
      "metadata": {
        "id": "1EwRCs-ZbQnp"
      },
      "source": [
        "Los *DataFrames* son increíblemente versátiles y facilitan la manipulación de datos. Muchas operaciones de DataFrame devuelven una nueva copia del DataFrame; por lo que si desea modificar un DataFrame pero mantener la variable existente, debe asignar el resultado de la operación a la variable existente. Por ejemplo, el siguiente código ordena los datos de los estudiantes en orden descendente por **Grade** y asigna el *DataFrame* ordenado resultante a la variable **df_students** original. "
      ]
    },
    {
      "cell_type": "code",
      "metadata": {
        "id": "jJkvh1kKbVu9",
        "colab": {
          "base_uri": "https://localhost:8080/",
          "height": 731
        },
        "outputId": "97f535da-115c-4c2b-e8ef-1b66a830cf58"
      },
      "source": [
        "# Crear un DataFrame con los datos ordenados descendientemente por Grade\n",
        "df_students = df_students.sort_values('Grade', ascending=False)\n",
        "\n",
        "# Mostrar el DataFrame\n",
        "df_students"
      ],
      "execution_count": 33,
      "outputs": [
        {
          "output_type": "execute_result",
          "data": {
            "text/html": [
              "<div>\n",
              "<style scoped>\n",
              "    .dataframe tbody tr th:only-of-type {\n",
              "        vertical-align: middle;\n",
              "    }\n",
              "\n",
              "    .dataframe tbody tr th {\n",
              "        vertical-align: top;\n",
              "    }\n",
              "\n",
              "    .dataframe thead th {\n",
              "        text-align: right;\n",
              "    }\n",
              "</style>\n",
              "<table border=\"1\" class=\"dataframe\">\n",
              "  <thead>\n",
              "    <tr style=\"text-align: right;\">\n",
              "      <th></th>\n",
              "      <th>Name</th>\n",
              "      <th>StudyHours</th>\n",
              "      <th>Grade</th>\n",
              "      <th>Pass</th>\n",
              "    </tr>\n",
              "  </thead>\n",
              "  <tbody>\n",
              "    <tr>\n",
              "      <th>3</th>\n",
              "      <td>Rosie</td>\n",
              "      <td>16.00</td>\n",
              "      <td>97.0</td>\n",
              "      <td>True</td>\n",
              "    </tr>\n",
              "    <tr>\n",
              "      <th>10</th>\n",
              "      <td>Francesca</td>\n",
              "      <td>15.50</td>\n",
              "      <td>82.0</td>\n",
              "      <td>True</td>\n",
              "    </tr>\n",
              "    <tr>\n",
              "      <th>9</th>\n",
              "      <td>Giovanni</td>\n",
              "      <td>14.50</td>\n",
              "      <td>74.0</td>\n",
              "      <td>True</td>\n",
              "    </tr>\n",
              "    <tr>\n",
              "      <th>14</th>\n",
              "      <td>Jenny</td>\n",
              "      <td>15.50</td>\n",
              "      <td>70.0</td>\n",
              "      <td>True</td>\n",
              "    </tr>\n",
              "    <tr>\n",
              "      <th>21</th>\n",
              "      <td>Aisha</td>\n",
              "      <td>12.00</td>\n",
              "      <td>64.0</td>\n",
              "      <td>True</td>\n",
              "    </tr>\n",
              "    <tr>\n",
              "      <th>20</th>\n",
              "      <td>Daniel</td>\n",
              "      <td>12.50</td>\n",
              "      <td>63.0</td>\n",
              "      <td>True</td>\n",
              "    </tr>\n",
              "    <tr>\n",
              "      <th>11</th>\n",
              "      <td>Rajab</td>\n",
              "      <td>13.75</td>\n",
              "      <td>62.0</td>\n",
              "      <td>True</td>\n",
              "    </tr>\n",
              "    <tr>\n",
              "      <th>6</th>\n",
              "      <td>Frederic</td>\n",
              "      <td>11.50</td>\n",
              "      <td>53.0</td>\n",
              "      <td>False</td>\n",
              "    </tr>\n",
              "    <tr>\n",
              "      <th>19</th>\n",
              "      <td>Skye</td>\n",
              "      <td>12.00</td>\n",
              "      <td>52.0</td>\n",
              "      <td>False</td>\n",
              "    </tr>\n",
              "    <tr>\n",
              "      <th>1</th>\n",
              "      <td>Joann</td>\n",
              "      <td>11.50</td>\n",
              "      <td>50.0</td>\n",
              "      <td>False</td>\n",
              "    </tr>\n",
              "    <tr>\n",
              "      <th>0</th>\n",
              "      <td>Dan</td>\n",
              "      <td>10.00</td>\n",
              "      <td>50.0</td>\n",
              "      <td>False</td>\n",
              "    </tr>\n",
              "    <tr>\n",
              "      <th>4</th>\n",
              "      <td>Ethan</td>\n",
              "      <td>9.25</td>\n",
              "      <td>49.0</td>\n",
              "      <td>False</td>\n",
              "    </tr>\n",
              "    <tr>\n",
              "      <th>18</th>\n",
              "      <td>Anila</td>\n",
              "      <td>10.00</td>\n",
              "      <td>48.0</td>\n",
              "      <td>False</td>\n",
              "    </tr>\n",
              "    <tr>\n",
              "      <th>2</th>\n",
              "      <td>Pedro</td>\n",
              "      <td>9.00</td>\n",
              "      <td>47.0</td>\n",
              "      <td>False</td>\n",
              "    </tr>\n",
              "    <tr>\n",
              "      <th>7</th>\n",
              "      <td>Jimmie</td>\n",
              "      <td>9.00</td>\n",
              "      <td>42.0</td>\n",
              "      <td>False</td>\n",
              "    </tr>\n",
              "    <tr>\n",
              "      <th>12</th>\n",
              "      <td>Naiyana</td>\n",
              "      <td>9.00</td>\n",
              "      <td>37.0</td>\n",
              "      <td>False</td>\n",
              "    </tr>\n",
              "    <tr>\n",
              "      <th>16</th>\n",
              "      <td>Helena</td>\n",
              "      <td>9.00</td>\n",
              "      <td>36.0</td>\n",
              "      <td>False</td>\n",
              "    </tr>\n",
              "    <tr>\n",
              "      <th>17</th>\n",
              "      <td>Ismat</td>\n",
              "      <td>6.00</td>\n",
              "      <td>35.0</td>\n",
              "      <td>False</td>\n",
              "    </tr>\n",
              "    <tr>\n",
              "      <th>15</th>\n",
              "      <td>Jakeem</td>\n",
              "      <td>8.00</td>\n",
              "      <td>27.0</td>\n",
              "      <td>False</td>\n",
              "    </tr>\n",
              "    <tr>\n",
              "      <th>8</th>\n",
              "      <td>Rhonda</td>\n",
              "      <td>8.50</td>\n",
              "      <td>26.0</td>\n",
              "      <td>False</td>\n",
              "    </tr>\n",
              "    <tr>\n",
              "      <th>13</th>\n",
              "      <td>Kian</td>\n",
              "      <td>8.00</td>\n",
              "      <td>15.0</td>\n",
              "      <td>False</td>\n",
              "    </tr>\n",
              "    <tr>\n",
              "      <th>5</th>\n",
              "      <td>Vicky</td>\n",
              "      <td>1.00</td>\n",
              "      <td>3.0</td>\n",
              "      <td>False</td>\n",
              "    </tr>\n",
              "  </tbody>\n",
              "</table>\n",
              "</div>"
            ],
            "text/plain": [
              "         Name  StudyHours  Grade   Pass\n",
              "3       Rosie       16.00   97.0   True\n",
              "10  Francesca       15.50   82.0   True\n",
              "9    Giovanni       14.50   74.0   True\n",
              "14      Jenny       15.50   70.0   True\n",
              "21      Aisha       12.00   64.0   True\n",
              "20     Daniel       12.50   63.0   True\n",
              "11      Rajab       13.75   62.0   True\n",
              "6    Frederic       11.50   53.0  False\n",
              "19       Skye       12.00   52.0  False\n",
              "1       Joann       11.50   50.0  False\n",
              "0         Dan       10.00   50.0  False\n",
              "4       Ethan        9.25   49.0  False\n",
              "18      Anila       10.00   48.0  False\n",
              "2       Pedro        9.00   47.0  False\n",
              "7      Jimmie        9.00   42.0  False\n",
              "12    Naiyana        9.00   37.0  False\n",
              "16     Helena        9.00   36.0  False\n",
              "17      Ismat        6.00   35.0  False\n",
              "15     Jakeem        8.00   27.0  False\n",
              "8      Rhonda        8.50   26.0  False\n",
              "13       Kian        8.00   15.0  False\n",
              "5       Vicky        1.00    3.0  False"
            ]
          },
          "metadata": {},
          "execution_count": 33
        }
      ]
    },
    {
      "cell_type": "markdown",
      "metadata": {
        "id": "Ze5jFMbLLBMs"
      },
      "source": [
        "\n",
        "---\n",
        "\n",
        "\n",
        "#**Visualizar datos**\n",
        "\n",
        "Los científicos de datos visualizan los datos para comprenderlos mejor. Esto puede significar mirar los datos brutos, medidas de resumen como promedios o graficar los datos. Los gráficos son un medio poderoso para ver datos, ya que podemos discernir patrones moderadamente complejos rápidamente sin necesidad de definir medidas de resumen matemáticas.\n",
        "\n",
        "\n",
        "##**Representar datos visualmente**\n",
        "\n",
        "Representar datos visualmente normalmente significa graficarlos. Esto se hace para proporcionar una evaluación cualitativa rápida de nuestros datos, que puede ser útil para comprender los resultados, encontrar valores atípicos, comprender cómo se distribuyen los números, etc.\n",
        "\n",
        "Si bien a veces sabemos de antemano qué tipo de gráfico será más útil, otras veces los usamos de manera exploratoria. Para comprender el poder de la visualización de datos, considere los siguientes datos: la ubicación (x, y) de un automóvil autónomo. En su forma cruda, es difícil ver patrones reales. La media o promedio nos dice que su camino se centró alrededor de x = 0.2 ey = 0.3, y el rango de números parece estar entre -2 y 2.\n",
        "\n",
        "![image.png](data:image/png;base64,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)\n",
        "\n",
        "\n",
        "Si ahora graficamos la Ubicación-X a lo largo del tiempo, podemos ver que parece que tenemos algunos valores perdidos entre los tiempos 7 y 12.\n",
        "\n",
        "![image.png](data:image/png;base64,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)\n",
        "\n",
        "Si graficamos X vs Y, terminamos con un mapa de dónde ha conducido el automóvil. Al instante es obvio que el automóvil ha estado conduciendo en círculo, pero en algún momento condujo hacia el centro de ese círculo.\n",
        "\n",
        "![image.png](data:image/png;base64,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)\n",
        "\n",
        "Los gráficos no se limitan a diagramas de dispersión 2D como los anteriores, sino que se pueden usar para explorar otros tipos de datos, como proporciones, que se muestran a través de gráficos circulares, gráficos de barras apiladas, cómo se distribuyen los datos, con histogramas, diagramas de caja y bigotes, y cómo se diferencian dos conjuntos de datos. A menudo, cuando intentamos comprender datos o resultados sin procesar, es posible que experimentemos con diferentes tipos de gráficos hasta que encontremos uno que explique los datos de una manera visualmente intuitiva.\n",
        "\n",
        "\n",
        "---\n",
        "\n"
      ]
    },
    {
      "cell_type": "markdown",
      "metadata": {
        "id": "H5ycr6vENVM2"
      },
      "source": [
        "#**Explorar datos con Python: visualizar datos**\n",
        "\n",
        "En este cuaderno, aplicaremos técnicas básicas para analizar datos con estadísticas básicas y visualizar mediante gráficos.\n",
        "\n",
        "##**Cargando nuestros datos**\n"
      ]
    },
    {
      "cell_type": "code",
      "metadata": {
        "colab": {
          "base_uri": "https://localhost:8080/",
          "height": 918
        },
        "id": "0JeYLAZZNYFd",
        "outputId": "8393799f-b77c-4755-a502-5793ebcbb1f3"
      },
      "source": [
        "import pandas as pd\n",
        "\n",
        "# Cargar datos de un archivo de texto\n",
        "!wget https://raw.githubusercontent.com/MicrosoftDocs/mslearn-introduction-to-machine-learning/main/Data/ml-basics/grades.csv\n",
        "df_students = pd.read_csv('grades.csv',delimiter=',',header='infer')\n",
        "\n",
        "# Eliminar cualquier fila con datos faltantes\n",
        "df_students = df_students.dropna(axis=0, how='any')\n",
        "\n",
        "# Calcule quién aprobó, asumiendo que '60' es la calificación necesaria para aprobar\n",
        "passes  = pd.Series(df_students['Grade'] >= 60)\n",
        "\n",
        "# Guardar quién pasó al dataframe de Pandas\n",
        "df_students = pd.concat([df_students, passes.rename(\"Pass\")], axis=1)\n",
        "\n",
        "\n",
        "# Imprima el resultado en este cuaderno\n",
        "df_students\n"
      ],
      "execution_count": 34,
      "outputs": [
        {
          "output_type": "stream",
          "name": "stdout",
          "text": [
            "--2021-10-03 01:09:09--  https://raw.githubusercontent.com/MicrosoftDocs/mslearn-introduction-to-machine-learning/main/Data/ml-basics/grades.csv\n",
            "Resolving raw.githubusercontent.com (raw.githubusercontent.com)... 185.199.108.133, 185.199.109.133, 185.199.110.133, ...\n",
            "Connecting to raw.githubusercontent.com (raw.githubusercontent.com)|185.199.108.133|:443... connected.\n",
            "HTTP request sent, awaiting response... 200 OK\n",
            "Length: 322 [text/plain]\n",
            "Saving to: ‘grades.csv.1’\n",
            "\n",
            "\rgrades.csv.1          0%[                    ]       0  --.-KB/s               \rgrades.csv.1        100%[===================>]     322  --.-KB/s    in 0s      \n",
            "\n",
            "2021-10-03 01:09:10 (16.4 MB/s) - ‘grades.csv.1’ saved [322/322]\n",
            "\n"
          ]
        },
        {
          "output_type": "execute_result",
          "data": {
            "text/html": [
              "<div>\n",
              "<style scoped>\n",
              "    .dataframe tbody tr th:only-of-type {\n",
              "        vertical-align: middle;\n",
              "    }\n",
              "\n",
              "    .dataframe tbody tr th {\n",
              "        vertical-align: top;\n",
              "    }\n",
              "\n",
              "    .dataframe thead th {\n",
              "        text-align: right;\n",
              "    }\n",
              "</style>\n",
              "<table border=\"1\" class=\"dataframe\">\n",
              "  <thead>\n",
              "    <tr style=\"text-align: right;\">\n",
              "      <th></th>\n",
              "      <th>Name</th>\n",
              "      <th>StudyHours</th>\n",
              "      <th>Grade</th>\n",
              "      <th>Pass</th>\n",
              "    </tr>\n",
              "  </thead>\n",
              "  <tbody>\n",
              "    <tr>\n",
              "      <th>0</th>\n",
              "      <td>Dan</td>\n",
              "      <td>10.00</td>\n",
              "      <td>50.0</td>\n",
              "      <td>False</td>\n",
              "    </tr>\n",
              "    <tr>\n",
              "      <th>1</th>\n",
              "      <td>Joann</td>\n",
              "      <td>11.50</td>\n",
              "      <td>50.0</td>\n",
              "      <td>False</td>\n",
              "    </tr>\n",
              "    <tr>\n",
              "      <th>2</th>\n",
              "      <td>Pedro</td>\n",
              "      <td>9.00</td>\n",
              "      <td>47.0</td>\n",
              "      <td>False</td>\n",
              "    </tr>\n",
              "    <tr>\n",
              "      <th>3</th>\n",
              "      <td>Rosie</td>\n",
              "      <td>16.00</td>\n",
              "      <td>97.0</td>\n",
              "      <td>True</td>\n",
              "    </tr>\n",
              "    <tr>\n",
              "      <th>4</th>\n",
              "      <td>Ethan</td>\n",
              "      <td>9.25</td>\n",
              "      <td>49.0</td>\n",
              "      <td>False</td>\n",
              "    </tr>\n",
              "    <tr>\n",
              "      <th>5</th>\n",
              "      <td>Vicky</td>\n",
              "      <td>1.00</td>\n",
              "      <td>3.0</td>\n",
              "      <td>False</td>\n",
              "    </tr>\n",
              "    <tr>\n",
              "      <th>6</th>\n",
              "      <td>Frederic</td>\n",
              "      <td>11.50</td>\n",
              "      <td>53.0</td>\n",
              "      <td>False</td>\n",
              "    </tr>\n",
              "    <tr>\n",
              "      <th>7</th>\n",
              "      <td>Jimmie</td>\n",
              "      <td>9.00</td>\n",
              "      <td>42.0</td>\n",
              "      <td>False</td>\n",
              "    </tr>\n",
              "    <tr>\n",
              "      <th>8</th>\n",
              "      <td>Rhonda</td>\n",
              "      <td>8.50</td>\n",
              "      <td>26.0</td>\n",
              "      <td>False</td>\n",
              "    </tr>\n",
              "    <tr>\n",
              "      <th>9</th>\n",
              "      <td>Giovanni</td>\n",
              "      <td>14.50</td>\n",
              "      <td>74.0</td>\n",
              "      <td>True</td>\n",
              "    </tr>\n",
              "    <tr>\n",
              "      <th>10</th>\n",
              "      <td>Francesca</td>\n",
              "      <td>15.50</td>\n",
              "      <td>82.0</td>\n",
              "      <td>True</td>\n",
              "    </tr>\n",
              "    <tr>\n",
              "      <th>11</th>\n",
              "      <td>Rajab</td>\n",
              "      <td>13.75</td>\n",
              "      <td>62.0</td>\n",
              "      <td>True</td>\n",
              "    </tr>\n",
              "    <tr>\n",
              "      <th>12</th>\n",
              "      <td>Naiyana</td>\n",
              "      <td>9.00</td>\n",
              "      <td>37.0</td>\n",
              "      <td>False</td>\n",
              "    </tr>\n",
              "    <tr>\n",
              "      <th>13</th>\n",
              "      <td>Kian</td>\n",
              "      <td>8.00</td>\n",
              "      <td>15.0</td>\n",
              "      <td>False</td>\n",
              "    </tr>\n",
              "    <tr>\n",
              "      <th>14</th>\n",
              "      <td>Jenny</td>\n",
              "      <td>15.50</td>\n",
              "      <td>70.0</td>\n",
              "      <td>True</td>\n",
              "    </tr>\n",
              "    <tr>\n",
              "      <th>15</th>\n",
              "      <td>Jakeem</td>\n",
              "      <td>8.00</td>\n",
              "      <td>27.0</td>\n",
              "      <td>False</td>\n",
              "    </tr>\n",
              "    <tr>\n",
              "      <th>16</th>\n",
              "      <td>Helena</td>\n",
              "      <td>9.00</td>\n",
              "      <td>36.0</td>\n",
              "      <td>False</td>\n",
              "    </tr>\n",
              "    <tr>\n",
              "      <th>17</th>\n",
              "      <td>Ismat</td>\n",
              "      <td>6.00</td>\n",
              "      <td>35.0</td>\n",
              "      <td>False</td>\n",
              "    </tr>\n",
              "    <tr>\n",
              "      <th>18</th>\n",
              "      <td>Anila</td>\n",
              "      <td>10.00</td>\n",
              "      <td>48.0</td>\n",
              "      <td>False</td>\n",
              "    </tr>\n",
              "    <tr>\n",
              "      <th>19</th>\n",
              "      <td>Skye</td>\n",
              "      <td>12.00</td>\n",
              "      <td>52.0</td>\n",
              "      <td>False</td>\n",
              "    </tr>\n",
              "    <tr>\n",
              "      <th>20</th>\n",
              "      <td>Daniel</td>\n",
              "      <td>12.50</td>\n",
              "      <td>63.0</td>\n",
              "      <td>True</td>\n",
              "    </tr>\n",
              "    <tr>\n",
              "      <th>21</th>\n",
              "      <td>Aisha</td>\n",
              "      <td>12.00</td>\n",
              "      <td>64.0</td>\n",
              "      <td>True</td>\n",
              "    </tr>\n",
              "  </tbody>\n",
              "</table>\n",
              "</div>"
            ],
            "text/plain": [
              "         Name  StudyHours  Grade   Pass\n",
              "0         Dan       10.00   50.0  False\n",
              "1       Joann       11.50   50.0  False\n",
              "2       Pedro        9.00   47.0  False\n",
              "3       Rosie       16.00   97.0   True\n",
              "4       Ethan        9.25   49.0  False\n",
              "5       Vicky        1.00    3.0  False\n",
              "6    Frederic       11.50   53.0  False\n",
              "7      Jimmie        9.00   42.0  False\n",
              "8      Rhonda        8.50   26.0  False\n",
              "9    Giovanni       14.50   74.0   True\n",
              "10  Francesca       15.50   82.0   True\n",
              "11      Rajab       13.75   62.0   True\n",
              "12    Naiyana        9.00   37.0  False\n",
              "13       Kian        8.00   15.0  False\n",
              "14      Jenny       15.50   70.0   True\n",
              "15     Jakeem        8.00   27.0  False\n",
              "16     Helena        9.00   36.0  False\n",
              "17      Ismat        6.00   35.0  False\n",
              "18      Anila       10.00   48.0  False\n",
              "19       Skye       12.00   52.0  False\n",
              "20     Daniel       12.50   63.0   True\n",
              "21      Aisha       12.00   64.0   True"
            ]
          },
          "metadata": {},
          "execution_count": 34
        }
      ]
    },
    {
      "cell_type": "markdown",
      "metadata": {
        "id": "nngBcRGnNbIc"
      },
      "source": [
        "##**Visualización de datos con Matplotlib**\n",
        "\n",
        "Los DataFrames brindan una excelente manera de explorar y analizar datos tabulares, pero a veces una imagen vale más que mil filas y columnas. La biblioteca Matplotlib proporciona la base para trazar visualizaciones de datos que pueden mejorar en gran medida su capacidad para analizar los datos.\n",
        "Comencemos con una gráfica de barras simple que muestra la calificación de cada estudiante.\n"
      ]
    },
    {
      "cell_type": "code",
      "metadata": {
        "colab": {
          "base_uri": "https://localhost:8080/",
          "height": 265
        },
        "id": "hlBBXF05NfKL",
        "outputId": "aabd560d-527a-40a3-9177-d3c82e995b03"
      },
      "source": [
        "# Asegúrese de que los gráficos se muestren en línea en el bloc de notas\n",
        "%matplotlib inline\n",
        "\n",
        "from matplotlib import pyplot as plt\n",
        "\n",
        "# Crear una gráfica de barra de nombre vs grado\n",
        "plt.bar(x=df_students.Name, height=df_students.Grade)\n",
        "\n",
        "# Mostrar la trama\n",
        "plt.show()\n"
      ],
      "execution_count": 35,
      "outputs": [
        {
          "output_type": "display_data",
          "data": {
            "image/png": "[encoded data removed]",
            "text/plain": [
              "<Figure size 432x288 with 1 Axes>"
            ]
          },
          "metadata": {
            "needs_background": "light"
          }
        }
      ]
    },
    {
      "cell_type": "markdown",
      "metadata": {
        "id": "xTHArDwmNiYa"
      },
      "source": [
        "Bueno, eso funcionó; pero el gráfico podría necesitar algunas mejoras para aclarar lo que estamos viendo.\n",
        "Tenga en cuenta que utilizó la clase pyplot de Matplotlib para trazar el gráfico. Esta clase proporciona un montón de formas de mejorar los elementos visuales de la trama. Por ejemplo, el siguiente código:\n",
        "\n",
        "* Especifica el color del gráfico de barras.\n",
        "* Agrega un título al gráfico (para que sepamos lo que representa)\n",
        "* Agrega etiquetas a X e Y (para que sepamos qué eje muestra qué datos)\n",
        "* Agrega una cuadrícula (para facilitar la determinación de los valores de las barras)\n",
        "* Gira los marcadores X (para que podamos leerlos)\n"
      ]
    },
    {
      "cell_type": "code",
      "metadata": {
        "colab": {
          "base_uri": "https://localhost:8080/",
          "height": 335
        },
        "id": "B6CaVCm9Nlz5",
        "outputId": "dfdb5d01-c829-4d54-a2cf-170b96d88b84"
      },
      "source": [
        "# Crear una gráfica de barra de nombre vs grado\n",
        "plt.bar(x=df_students.Name, height=df_students.Grade, color='orange')\n",
        "\n",
        "# Personalizar el gráfico\n",
        "plt.title('Student Grades')\n",
        "plt.xlabel('Student')\n",
        "plt.ylabel('Grade')\n",
        "plt.grid(color='#95a5a6', linestyle='--', linewidth=2, axis='y', alpha=0.7)\n",
        "plt.xticks(rotation=90)\n",
        "\n",
        "# Mostrar la trama\n",
        "plt.show()\n"
      ],
      "execution_count": 36,
      "outputs": [
        {
          "output_type": "display_data",
          "data": {
            "image/png": "[encoded data removed]",
            "text/plain": [
              "<Figure size 432x288 with 1 Axes>"
            ]
          },
          "metadata": {
            "needs_background": "light"
          }
        }
      ]
    },
    {
      "cell_type": "markdown",
      "metadata": {
        "id": "vQiXp_3jNpZ2"
      },
      "source": [
        "Una trama está técnicamente contenida con una figura . En los ejemplos anteriores, la figura se creó implícitamente para usted; pero puedes crearlo explícitamente. Por ejemplo, el siguiente código crea una figura con un tamaño específico."
      ]
    },
    {
      "cell_type": "code",
      "metadata": {
        "colab": {
          "base_uri": "https://localhost:8080/",
          "height": 281
        },
        "id": "2_5VdfgRNr2h",
        "outputId": "86014af7-40cb-4382-a978-68618782295c"
      },
      "source": [
        "# Crear una figura\n",
        "fig = plt.figure(figsize=(8,3))\n",
        "\n",
        "# Crear una gráfica de barra de nombre vs grado\n",
        "plt.bar(x=df_students.Name, height=df_students.Grade, color='orange')\n",
        "\n",
        "# Personalizar el gráfico\n",
        "plt.title('Student Grades')\n",
        "plt.xlabel('Student')\n",
        "plt.ylabel('Grade')\n",
        "plt.grid(color='#95a5a6', linestyle='--', linewidth=2, axis='y', alpha=0.7)\n",
        "plt.xticks(rotation=90)\n",
        "\n",
        "# Mostrar la figura\n",
        "plt.show()\n"
      ],
      "execution_count": 37,
      "outputs": [
        {
          "output_type": "display_data",
          "data": {
            "image/png": "[encoded data removed]",
            "text/plain": [
              "<Figure size 576x216 with 1 Axes>"
            ]
          },
          "metadata": {
            "needs_background": "light"
          }
        }
      ]
    },
    {
      "cell_type": "markdown",
      "metadata": {
        "id": "i9VN5OZfNu4P"
      },
      "source": [
        "Una figura puede contener múltiples subtramas, cada una en su propio eje .\n",
        "Por ejemplo, el siguiente código crea una figura con dos subtramas: una es un gráfico de barras que muestra las calificaciones de los estudiantes y el otro es un gráfico circular que compara el número de calificaciones aprobatorias con las no aprobadas.\n"
      ]
    },
    {
      "cell_type": "code",
      "metadata": {
        "colab": {
          "base_uri": "https://localhost:8080/",
          "height": 334
        },
        "id": "7NzSaSnnNzBj",
        "outputId": "0d591380-2eb8-4e80-fe04-ada7d614f5c0"
      },
      "source": [
        "# Crear una figura para 2 subtramas (1 fila, 2 columnas)\n",
        "fig, ax = plt.subplots(1, 2, figsize = (10,4))\n",
        "\n",
        "# Crear una gráfica de barras de nombre vs grado en el primer eje\n",
        "ax[0].bar(x=df_students.Name, height=df_students.Grade, color='orange')\n",
        "ax[0].set_title('Grades')\n",
        "ax[0].set_xticklabels(df_students.Name, rotation=90)\n",
        "\n",
        "# Crear un gráfico circular de recuentos de pasadas en el segundo eje\n",
        "pass_counts = df_students['Pass'].value_counts()\n",
        "ax[1].pie(pass_counts, labels=pass_counts)\n",
        "ax[1].set_title('Passing Grades')\n",
        "ax[1].legend(pass_counts.keys().tolist())\n",
        "\n",
        "# Agregar un título a la figura\n",
        "fig.suptitle('Student Data')\n",
        "\n",
        "# Mostrar la figura\n",
        "fig.show()\n"
      ],
      "execution_count": 38,
      "outputs": [
        {
          "output_type": "display_data",
          "data": {
            "image/png": "[encoded data removed]",
            "text/plain": [
              "<Figure size 720x288 with 2 Axes>"
            ]
          },
          "metadata": {
            "needs_background": "light"
          }
        }
      ]
    },
    {
      "cell_type": "markdown",
      "metadata": {
        "id": "OHb-CWBZN1U-"
      },
      "source": [
        "Hasta ahora, ha utilizado métodos del objeto Matplotlib.pyplot para trazar gráficos. Sin embargo, Matplotlib es tan fundamental para los gráficos en Python que muchos paquetes, incluido Pandas, proporcionan métodos que abstraen las funciones subyacentes de Matplotlib y simplifican el trazado. Por ejemplo, el DataFrame proporciona sus propios métodos para trazar datos, como se muestra en el siguiente ejemplo para trazar un gráfico de barras de horas de estudio."
      ]
    },
    {
      "cell_type": "code",
      "metadata": {
        "colab": {
          "base_uri": "https://localhost:8080/",
          "height": 336
        },
        "id": "rxOr42cXN4Ai",
        "outputId": "06c09a8e-491c-408a-9342-1cc7d00af698"
      },
      "source": [
        "df_students.plot.bar(x='Name', y='StudyHours', color='teal', figsize=(6,4))"
      ],
      "execution_count": 39,
      "outputs": [
        {
          "output_type": "execute_result",
          "data": {
            "text/plain": [
              "<matplotlib.axes._subplots.AxesSubplot at 0x7f935ba6f350>"
            ]
          },
          "metadata": {},
          "execution_count": 39
        },
        {
          "output_type": "display_data",
          "data": {
            "image/png": "[encoded data removed]",
            "text/plain": [
              "<Figure size 432x288 with 1 Axes>"
            ]
          },
          "metadata": {
            "needs_background": "light"
          }
        }
      ]
    },
    {
      "cell_type": "markdown",
      "metadata": {
        "id": "jeq1PJJaN54A"
      },
      "source": [
        "##**Empezando con el análisis estadístico**\n",
        "\n",
        "Ahora que sabe cómo usar Python para manipular y visualizar datos, puede comenzar a analizarlos.\n",
        "Gran parte de la ciencia de datos tiene sus raíces en las estadísticas , por lo que exploraremos algunas técnicas estadísticas básicas.\n",
        "\n",
        "\n",
        "##**Estadística descriptiva y distribución de datos**\n",
        "\n",
        "Al examinar una variable (por ejemplo, una muestra de las calificaciones de los estudiantes), los científicos de datos están particularmente interesados en su distribución (en otras palabras, cómo se distribuyen los diferentes valores de calificación en la muestra). El punto de partida de esta exploración suele ser visualizar los datos como un histograma y ver con qué frecuencia se produce cada valor de la variable.\n"
      ]
    },
    {
      "cell_type": "code",
      "metadata": {
        "colab": {
          "base_uri": "https://localhost:8080/",
          "height": 295
        },
        "id": "zi-Old_JOA5s",
        "outputId": "57cb4dc8-db5c-4b6a-a5c0-bc98d16f2229"
      },
      "source": [
        "# Obtener la variable para examinar\n",
        "var_data = df_students['Grade']\n",
        "\n",
        "# Crear una figura\n",
        "fig = plt.figure(figsize=(10,4))\n",
        "\n",
        "# Trazar un histograma\n",
        "plt.hist(var_data)\n",
        "\n",
        "# Añadir títulos y etiquetas\n",
        "plt.title('Data Distribution')\n",
        "plt.xlabel('Value')\n",
        "plt.ylabel('Frequency')\n",
        "\n",
        "# Mostrar la figura\n",
        "fig.show()\n"
      ],
      "execution_count": 40,
      "outputs": [
        {
          "output_type": "display_data",
          "data": {
            "image/png": "[encoded data removed]",
            "text/plain": [
              "<Figure size 720x288 with 1 Axes>"
            ]
          },
          "metadata": {
            "needs_background": "light"
          }
        }
      ]
    },
    {
      "cell_type": "markdown",
      "metadata": {
        "id": "mXmAkEKUODLF"
      },
      "source": [
        "El histograma de calificaciones tiene una forma simétrica, donde las calificaciones que ocurren con más frecuencia tienden a estar en el medio del rango (alrededor de 50), con menos calificaciones en los extremos de la escala.\n",
        "\n",
        "\n",
        "##**Medidas de tendencia central**\n",
        "\n",
        "Para comprender mejor la distribución, podemos examinar las llamadas medidas de tendencia central ; que es una forma elegante de describir las estadísticas que representan el \"medio\" de los datos. El objetivo de esto es intentar encontrar un valor \"típico\". Las formas comunes de definir la mitad de los datos incluyen:\n",
        "\n",
        "* La media : Un promedio simple basado en la suma de todos los valores del conjunto de muestras y luego dividiendo el total por el número de muestras.\n",
        "* La mediana : el valor en el medio del rango de todos los valores de la muestra.\n",
        "* La moda : el valor más común en el conjunto de muestra (Por supuesto, en algunos conjuntos de muestras, puede haber un empate para el valor más común, en cuyo caso el conjunto de datos se describe como bimodal o incluso multimodal.)\n",
        "\n",
        "Calculemos estos valores, junto con los valores mínimo y máximo para la comparación, y mostrémoslos en el histograma.\n"
      ]
    },
    {
      "cell_type": "code",
      "metadata": {
        "colab": {
          "base_uri": "https://localhost:8080/",
          "height": 397
        },
        "id": "lA_rHPVYOIUC",
        "outputId": "d976c1ca-8f7b-406e-8b86-2b61154e7453"
      },
      "source": [
        "# Obtener la variable para examinar\n",
        "var = df_students['Grade']\n",
        "\n",
        "# Obtener estadísticas\n",
        "min_val = var.min()\n",
        "max_val = var.max()\n",
        "mean_val = var.mean()\n",
        "med_val = var.median()\n",
        "mod_val = var.mode()[0]\n",
        "\n",
        "print('Minimum:{:.2f}\\nMean:{:.2f}\\nMedian:{:.2f}\\nMode:{:.2f}\\nMaximum:{:.2f}\\n'.format(min_val,\n",
        "                                                                                        mean_val,\n",
        "                                                                                        med_val,\n",
        "                                                                                        mod_val,\n",
        "                                                                                        max_val))\n",
        "\n",
        "# Crear una figura\n",
        "fig = plt.figure(figsize=(10,4))\n",
        "\n",
        "# Trazar un histograma\n",
        "plt.hist(var)\n",
        "\n",
        "# Añadir líneas para las estadísticas\n",
        "plt.axvline(x=min_val, color = 'gray', linestyle='dashed', linewidth = 2)\n",
        "plt.axvline(x=mean_val, color = 'cyan', linestyle='dashed', linewidth = 2)\n",
        "plt.axvline(x=med_val, color = 'red', linestyle='dashed', linewidth = 2)\n",
        "plt.axvline(x=mod_val, color = 'yellow', linestyle='dashed', linewidth = 2)\n",
        "plt.axvline(x=max_val, color = 'gray', linestyle='dashed', linewidth = 2)\n",
        "\n",
        "# Añadir títulos y etiquetas\n",
        "plt.title('Data Distribution')\n",
        "plt.xlabel('Value')\n",
        "plt.ylabel('Frequency')\n",
        "\n",
        "# Mostrar la figura\n",
        "fig.show()\n"
      ],
      "execution_count": 41,
      "outputs": [
        {
          "output_type": "stream",
          "name": "stdout",
          "text": [
            "Minimum:3.00\n",
            "Mean:49.18\n",
            "Median:49.50\n",
            "Mode:50.00\n",
            "Maximum:97.00\n",
            "\n"
          ]
        },
        {
          "output_type": "display_data",
          "data": {
            "image/png": "[encoded data removed]",
            "text/plain": [
              "<Figure size 720x288 with 1 Axes>"
            ]
          },
          "metadata": {
            "needs_background": "light"
          }
        }
      ]
    },
    {
      "cell_type": "markdown",
      "metadata": {
        "id": "S935mwXBObLC"
      },
      "source": [
        "Para los datos de calificaciones, la media, la mediana y la moda parecen estar más o menos en el medio del mínimo y el máximo, alrededor de 50.\n",
        "\n",
        "Otra forma de visualizar la distribución de una variable es usar un diagrama de caja (a veces llamado diagrama de caja y bigotes ). Creemos uno para los datos de calificaciones.\n"
      ]
    },
    {
      "cell_type": "code",
      "metadata": {
        "colab": {
          "base_uri": "https://localhost:8080/",
          "height": 281
        },
        "id": "cTk-ZyRlOcLz",
        "outputId": "d051cb57-a46f-4a97-9e47-c2e3d03adddc"
      },
      "source": [
        "# Obtener la variable para examinar\n",
        "var = df_students['Grade']\n",
        "\n",
        "# Crear una figura\n",
        "fig = plt.figure(figsize=(10,4))\n",
        "\n",
        "# Trazar un histograma\n",
        "plt.boxplot(var)\n",
        "\n",
        "# Añadir títulos y etiquetas\n",
        "plt.title('Data Distribution')\n",
        "\n",
        "# Mostrar la figura\n",
        "fig.show()\n"
      ],
      "execution_count": 42,
      "outputs": [
        {
          "output_type": "display_data",
          "data": {
            "image/png": "[encoded data removed]",
            "text/plain": [
              "<Figure size 720x288 with 1 Axes>"
            ]
          },
          "metadata": {
            "needs_background": "light"
          }
        }
      ]
    },
    {
      "cell_type": "markdown",
      "metadata": {
        "id": "dAJhQ1H8Oe4E"
      },
      "source": [
        "El diagrama de caja muestra la distribución de los valores de calificación en un formato diferente al histograma. La parte del cuadro del gráfico muestra dónde residen los dos cuartiles internos de los datos, por lo que, en este caso, la mitad de las calificaciones están entre aproximadamente 36 y 63. Los bigotes que se extienden desde el cuadro muestran los dos cuartiles externos; por lo que la otra mitad de las calificaciones en este caso están entre 0 y 36 o 63 y 100. La línea en el cuadro indica el valor mediano .\n",
        "\n",
        "Para aprender, puede ser útil combinar histogramas y diagramas de caja, con la orientación del diagrama de caja cambiada para alinearla con el histograma (de alguna manera, puede ser útil pensar en el histograma como una vista de \"elevación frontal\" de la distribución y el diagrama de caja como una vista en \"planta\" de la distribución desde arriba).\n"
      ]
    },
    {
      "cell_type": "code",
      "metadata": {
        "colab": {
          "base_uri": "https://localhost:8080/",
          "height": 410
        },
        "id": "8AW1cqnmOiBb",
        "outputId": "1ffcb47d-f74a-48c9-b3f7-b623687ebbad"
      },
      "source": [
        "# Crear una función que podamos reutilizar\n",
        "def show_distribution(var_data):\n",
        "    from matplotlib import pyplot as plt\n",
        "\n",
        "    # Obtener estadísticas\n",
        "    min_val = var_data.min()\n",
        "    max_val = var_data.max()\n",
        "    mean_val = var_data.mean()\n",
        "    med_val = var_data.median()\n",
        "    mod_val = var_data.mode()[0]\n",
        "\n",
        "    print('Minimum:{:.2f}\\nMean:{:.2f}\\nMedian:{:.2f}\\nMode:{:.2f}\\nMaximum:{:.2f}\\n'.format(min_val,\n",
        "                                                                                            mean_val,\n",
        "                                                                                            med_val,\n",
        "                                                                                            mod_val,\n",
        "                                                                                            max_val))\n",
        "\n",
        "    # Crear una figura para 2 subtramas (2 filas, 1 columna)\n",
        "    fig, ax = plt.subplots(2, 1, figsize = (10,4))\n",
        "\n",
        "    # Trazar el histograma   \n",
        "    ax[0].hist(var_data)\n",
        "    ax[0].set_ylabel('Frequency')\n",
        "\n",
        "    # Agregar líneas para la media, la mediana y el modo\n",
        "    ax[0].axvline(x=min_val, color = 'gray', linestyle='dashed', linewidth = 2)\n",
        "    ax[0].axvline(x=mean_val, color = 'cyan', linestyle='dashed', linewidth = 2)\n",
        "    ax[0].axvline(x=med_val, color = 'red', linestyle='dashed', linewidth = 2)\n",
        "    ax[0].axvline(x=mod_val, color = 'yellow', linestyle='dashed', linewidth = 2)\n",
        "    ax[0].axvline(x=max_val, color = 'gray', linestyle='dashed', linewidth = 2)\n",
        "\n",
        "    # Traza el boxplot   \n",
        "    ax[1].boxplot(var_data, vert=False)\n",
        "    ax[1].set_xlabel('Value')\n",
        "\n",
        "    # Agregar un título a la figura\n",
        "    fig.suptitle('Data Distribution')\n",
        "\n",
        "    # Show the figure\n",
        "    fig.show()\n",
        "\n",
        "# Obtener la variable para examinar\n",
        "col = df_students['Grade']\n",
        "# Llamar a la función\n",
        "show_distribution(col)\n"
      ],
      "execution_count": 43,
      "outputs": [
        {
          "output_type": "stream",
          "name": "stdout",
          "text": [
            "Minimum:3.00\n",
            "Mean:49.18\n",
            "Median:49.50\n",
            "Mode:50.00\n",
            "Maximum:97.00\n",
            "\n"
          ]
        },
        {
          "output_type": "display_data",
          "data": {
            "image/png": "[encoded data removed]",
            "text/plain": [
              "<Figure size 720x288 with 2 Axes>"
            ]
          },
          "metadata": {
            "needs_background": "light"
          }
        }
      ]
    },
    {
      "cell_type": "markdown",
      "metadata": {
        "id": "5OKBwdN-Ooym"
      },
      "source": [
        "Todas las medidas de tendencia central están justo en el medio de la distribución de datos, que es simétrica con valores que se vuelven progresivamente más bajos en ambas direcciones desde el medio.\n",
        "\n",
        "Para explorar esta distribución con más detalle, debe comprender que la estadística se trata fundamentalmente de tomar muestras de datos y utilizar funciones de probabilidad para extrapolar información sobre la población completa de datos.\n",
        "\n",
        "¿Qué significa esto? Las muestras se refieren a los datos que tenemos a mano, como información sobre los hábitos de estudio y las calificaciones de estos 22 estudiantes. La población se refiere a todos los datos posibles que pudimos recopilar, como las calificaciones y los hábitos de estudio de cada estudiante en todas las instituciones educativas a lo largo de la historia. Por lo general, estamos interesados en la población, pero simplemente no es práctico recopilar todos esos datos. En cambio, debemos intentar estimar cómo es la población a partir de la pequeña cantidad de datos (muestras) que tenemos.\n",
        "\n",
        "Si tenemos suficientes muestras, podemos calcular algo llamado función de densidad de probabilidad , que estima la distribución de calificaciones para la población completa.\n",
        "\n",
        "La clase Pandas DataFrame proporciona una función de trazado útil para mostrar esta densidad.\n"
      ]
    },
    {
      "cell_type": "code",
      "metadata": {
        "colab": {
          "base_uri": "https://localhost:8080/",
          "height": 281
        },
        "id": "m6-olw9AOs1P",
        "outputId": "66c02f07-f82e-4b96-b6eb-a3d7cfde8bd4"
      },
      "source": [
        "def show_density(var_data):\n",
        "    from matplotlib import pyplot as plt\n",
        "\n",
        "    fig = plt.figure(figsize=(10,4))\n",
        "\n",
        "    # Densidad de la parcela\n",
        "    var_data.plot.density()\n",
        "\n",
        "    # Añadir títulos y etiquetas\n",
        "    plt.title('Data Density')\n",
        "\n",
        "    # Mostrar la media, la mediana y el modo\n",
        "    plt.axvline(x=var_data.mean(), color = 'cyan', linestyle='dashed', linewidth = 2)\n",
        "    plt.axvline(x=var_data.median(), color = 'red', linestyle='dashed', linewidth = 2)\n",
        "    plt.axvline(x=var_data.mode()[0], color = 'yellow', linestyle='dashed', linewidth = 2)\n",
        "\n",
        "    # Mostrar la figura\n",
        "    plt.show()\n",
        "\n",
        "# Obtener la densidad de grado\n",
        "col = df_students['Grade']\n",
        "show_density(col)\n"
      ],
      "execution_count": 44,
      "outputs": [
        {
          "output_type": "display_data",
          "data": {
            "image/png": "[encoded data removed]",
            "text/plain": [
              "<Figure size 720x288 with 1 Axes>"
            ]
          },
          "metadata": {
            "needs_background": "light"
          }
        }
      ]
    },
    {
      "cell_type": "markdown",
      "metadata": {
        "id": "s-3-6w6gOwAc"
      },
      "source": [
        "Como se esperaba del histograma de la muestra, la densidad muestra la característica \"curva de campana\" de lo que los estadísticos llaman una distribución normal con la media y la moda en el centro y colas simétricas.\n",
        "\n",
        "\n",
        "---\n",
        "\n"
      ]
    },
    {
      "cell_type": "markdown",
      "metadata": {
        "id": "m3Z6KmUdO4Tn"
      },
      "source": [
        "#**Examinar datos del mundo real**\n",
        "\n",
        "Los datos presentados en el material educativo suelen ser notablemente perfectos y están diseñados para mostrar a los estudiantes cómo encontrar relaciones claras entre las variables. Los datos del 'mundo real' son un poco menos simples.\n",
        "Debido a la complejidad de los datos del 'mundo real', los datos sin procesar deben inspeccionarse para detectar problemas antes de usarlos.\n",
        "Como tal, la mejor práctica es inspeccionar los datos sin procesar y procesarlos antes de usarlos, lo que reduce los errores o problemas, generalmente eliminando puntos de datos erróneos o modificando los datos en una forma más útil.\n",
        "\n",
        "\n",
        "##**Problemas de datos del mundo real**\n",
        "\n",
        "Los datos del mundo real pueden contener muchos problemas diferentes que pueden afectar la utilidad de los datos y nuestra interpretación de los resultados.\n",
        "\n",
        "Es importante darse cuenta de que la mayoría de los datos del mundo real están influenciados por factores que no se registraron en ese momento. Por ejemplo, podríamos tener una tabla de tiempos de pista de autos de carrera junto con los tamaños de los motores, pero varios otros factores que no se anotaron, como el clima, probablemente también influyeron. Si es problemático, la influencia de estos factores a menudo se puede reducir aumentando el tamaño del conjunto de datos.\n",
        "\n",
        "En otras situaciones, los puntos de datos que están claramente fuera de lo esperado, también conocidos como \" valores atípicos \", a veces se pueden eliminar de forma segura de los análisis, aunque se debe tener cuidado de no eliminar los puntos de datos que proporcionan información real.\n",
        "\n",
        "Otro problema común en los datos del mundo real es el sesgo. El sesgo se refiere a una tendencia a seleccionar ciertos tipos de valores con más frecuencia que otros, de una manera que tergiversa la población subyacente o el \"mundo real\". A veces, el sesgo se puede identificar mediante la exploración de datos teniendo en cuenta los conocimientos básicos sobre el origen de los datos.\n",
        "\n",
        "Recuerde, los datos del mundo real siempre tendrán problemas, pero este suele ser un problema superable. Recuerda:\n",
        "\n",
        "* Compruebe si faltan valores y datos mal registrados\n",
        "* Considere la eliminación de valores atípicos obvios\n",
        "* Considere qué factores del mundo real podrían afectar su análisis y considere si el tamaño de su conjunto de datos es lo suficientemente grande para manejar esto\n",
        "* Compruebe si hay datos brutos sesgados y considere sus opciones para solucionar este problema, si se encuentran.\n",
        "\n",
        "\n",
        "---\n",
        "\n"
      ]
    },
    {
      "cell_type": "markdown",
      "metadata": {
        "id": "-i_PHH4LPPqR"
      },
      "source": [
        "##**Ejercicio: Examinar datos del mundo real**\n",
        "\n",
        "La última vez, analizamos las calificaciones de los datos de nuestros estudiantes y lo investigamos visualmente con histogramas y diagramas de caja. Ahora veremos casos más complejos, describiremos los datos de manera más completa y discutiremos cómo hacer comparaciones básicas entre los datos.\n",
        "\n",
        "###**Distribuciones de datos del mundo real**\n",
        "La última vez, analizamos las calificaciones de los datos de nuestros estudiantes y estimamos a partir de esta muestra cómo se vería la población completa de calificaciones. Solo para actualizar, echemos un vistazo a estos datos nuevamente."
      ]
    },
    {
      "cell_type": "code",
      "metadata": {
        "colab": {
          "base_uri": "https://localhost:8080/",
          "height": 988
        },
        "id": "ALvsyb38Pmo5",
        "outputId": "98b61f96-ba8f-4312-b9a0-2a3d46a42f51"
      },
      "source": [
        "import pandas as pd\n",
        "from matplotlib import pyplot as plt\n",
        "\n",
        "# Cargar datos de un archivo de texto\n",
        "!wget https://raw.githubusercontent.com/MicrosoftDocs/mslearn-introduction-to-machine-learning/main/Data/ml-basics/grades.csv\n",
        "df_students = pd.read_csv('grades.csv',delimiter=',',header='infer')\n",
        "\n",
        "# Eliminar cualquier fila con datos faltantes\n",
        "df_students = df_students.dropna(axis=0, how='any')\n",
        "\n",
        "# Calcule quién aprobó, asumiendo que '60' es la calificación necesaria para aprobar\n",
        "passes  = pd.Series(df_students['Grade'] >= 60)\n",
        "\n",
        "# Guardar quién pasó al dataframe de Pandas\n",
        "df_students = pd.concat([df_students, passes.rename(\"Pass\")], axis=1)\n",
        "\n",
        "\n",
        "# Imprima el resultado en este cuaderno\n",
        "print(df_students)\n",
        "\n",
        "\n",
        "# Crear una función que podamos reutilizar\n",
        "def show_distribution(var_data):\n",
        "    '''\n",
        "    This function will make a distribution (graph) and display it\n",
        "    '''\n",
        "\n",
        "    # Obtener estadísticas\n",
        "    min_val = var_data.min()\n",
        "    max_val = var_data.max()\n",
        "    mean_val = var_data.mean()\n",
        "    med_val = var_data.median()\n",
        "    mod_val = var_data.mode()[0]\n",
        "\n",
        "    print('Minimum:{:.2f}\\nMean:{:.2f}\\nMedian:{:.2f}\\nMode:{:.2f}\\nMaximum:{:.2f}\\n'.format(min_val,\n",
        "                                                                                            mean_val,\n",
        "                                                                                            med_val,\n",
        "                                                                                            mod_val,\n",
        "                                                                                            max_val))\n",
        "\n",
        "    # Crear una figura para 2 subtramas (2 filas, 1 columna)\n",
        "    fig, ax = plt.subplots(2, 1, figsize = (10,4))\n",
        "\n",
        "    # Trazar el histograma   \n",
        "    ax[0].hist(var_data)\n",
        "    ax[0].set_ylabel('Frequency')\n",
        "\n",
        "    # Agregar líneas para la media, la mediana y el modo\n",
        "    ax[0].axvline(x=min_val, color = 'gray', linestyle='dashed', linewidth = 2)\n",
        "    ax[0].axvline(x=mean_val, color = 'cyan', linestyle='dashed', linewidth = 2)\n",
        "    ax[0].axvline(x=med_val, color = 'red', linestyle='dashed', linewidth = 2)\n",
        "    ax[0].axvline(x=mod_val, color = 'yellow', linestyle='dashed', linewidth = 2)\n",
        "    ax[0].axvline(x=max_val, color = 'gray', linestyle='dashed', linewidth = 2)\n",
        "\n",
        "    # Traza el boxplot   \n",
        "    ax[1].boxplot(var_data, vert=False)\n",
        "    ax[1].set_xlabel('Value')\n",
        "\n",
        "    # Agregar un título a la figura\n",
        "    fig.suptitle('Data Distribution')\n",
        "\n",
        "    # Mostrar la figura\n",
        "    fig.show()\n",
        "\n",
        "\n",
        "show_distribution(df_students['Grade'])\n"
      ],
      "execution_count": 45,
      "outputs": [
        {
          "output_type": "stream",
          "name": "stdout",
          "text": [
            "--2021-10-03 01:09:14--  https://raw.githubusercontent.com/MicrosoftDocs/mslearn-introduction-to-machine-learning/main/Data/ml-basics/grades.csv\n",
            "Resolving raw.githubusercontent.com (raw.githubusercontent.com)... 185.199.108.133, 185.199.109.133, 185.199.110.133, ...\n",
            "Connecting to raw.githubusercontent.com (raw.githubusercontent.com)|185.199.108.133|:443... connected.\n",
            "HTTP request sent, awaiting response... 200 OK\n",
            "Length: 322 [text/plain]\n",
            "Saving to: ‘grades.csv.2’\n",
            "\n",
            "\rgrades.csv.2          0%[                    ]       0  --.-KB/s               \rgrades.csv.2        100%[===================>]     322  --.-KB/s    in 0s      \n",
            "\n",
            "2021-10-03 01:09:14 (21.7 MB/s) - ‘grades.csv.2’ saved [322/322]\n",
            "\n",
            "         Name  StudyHours  Grade   Pass\n",
            "0         Dan       10.00   50.0  False\n",
            "1       Joann       11.50   50.0  False\n",
            "2       Pedro        9.00   47.0  False\n",
            "3       Rosie       16.00   97.0   True\n",
            "4       Ethan        9.25   49.0  False\n",
            "5       Vicky        1.00    3.0  False\n",
            "6    Frederic       11.50   53.0  False\n",
            "7      Jimmie        9.00   42.0  False\n",
            "8      Rhonda        8.50   26.0  False\n",
            "9    Giovanni       14.50   74.0   True\n",
            "10  Francesca       15.50   82.0   True\n",
            "11      Rajab       13.75   62.0   True\n",
            "12    Naiyana        9.00   37.0  False\n",
            "13       Kian        8.00   15.0  False\n",
            "14      Jenny       15.50   70.0   True\n",
            "15     Jakeem        8.00   27.0  False\n",
            "16     Helena        9.00   36.0  False\n",
            "17      Ismat        6.00   35.0  False\n",
            "18      Anila       10.00   48.0  False\n",
            "19       Skye       12.00   52.0  False\n",
            "20     Daniel       12.50   63.0   True\n",
            "21      Aisha       12.00   64.0   True\n",
            "Minimum:3.00\n",
            "Mean:49.18\n",
            "Median:49.50\n",
            "Mode:50.00\n",
            "Maximum:97.00\n",
            "\n"
          ]
        },
        {
          "output_type": "display_data",
          "data": {
            "image/png": "[encoded data removed]",
            "text/plain": [
              "<Figure size 720x288 with 2 Axes>"
            ]
          },
          "metadata": {
            "needs_background": "light"
          }
        }
      ]
    },
    {
      "cell_type": "markdown",
      "metadata": {
        "id": "QX6Og6BSPrDv"
      },
      "source": [
        "Como recordará, nuestros datos tenían la media y la moda en el centro, con datos distribuidos simétricamente desde allí.\n",
        "\n",
        "Ahora echemos un vistazo a la distribución de los datos de las horas de estudio.\n"
      ]
    },
    {
      "cell_type": "code",
      "metadata": {
        "colab": {
          "base_uri": "https://localhost:8080/",
          "height": 410
        },
        "id": "8014wyJqPtiR",
        "outputId": "96c490ab-85bd-49c6-d581-c9d1b6efdc1e"
      },
      "source": [
        "# Obtener la variable para examinar\n",
        "col = df_students['StudyHours']\n",
        "# Llamar a la función\n",
        "show_distribution(col)\n"
      ],
      "execution_count": 46,
      "outputs": [
        {
          "output_type": "stream",
          "name": "stdout",
          "text": [
            "Minimum:1.00\n",
            "Mean:10.52\n",
            "Median:10.00\n",
            "Mode:9.00\n",
            "Maximum:16.00\n",
            "\n"
          ]
        },
        {
          "output_type": "display_data",
          "data": {
            "image/png": "[encoded data removed]",
            "text/plain": [
              "<Figure size 720x288 with 2 Axes>"
            ]
          },
          "metadata": {
            "needs_background": "light"
          }
        }
      ]
    },
    {
      "cell_type": "markdown",
      "metadata": {
        "id": "xNe7DqCQPwtF"
      },
      "source": [
        "La distribución de los datos del tiempo de estudio es significativamente diferente a la de los grados.\n",
        "\n",
        "Tenga en cuenta que los bigotes del diagrama de caja solo comienzan alrededor de 6.0, lo que indica que la gran mayoría del primer trimestre de los datos está por encima de este valor. El mínimo está marcado con una o , lo que indica que es estadísticamente un valor atípico , un valor que se encuentra significativamente fuera del rango del resto de la distribución.\n",
        "\n",
        "Los valores atípicos pueden ocurrir por muchas razones. Tal vez un estudiante tenía la intención de registrar \"10\" horas de tiempo de estudio, pero ingresó \"1\" y perdió el \"0\". ¡O tal vez el estudiante era anormalmente perezoso cuando se trata de estudiar! De cualquier manera, es una anomalía estadística que no representa a un estudiante típico. Veamos cómo se ve la distribución sin él.\n"
      ]
    },
    {
      "cell_type": "code",
      "metadata": {
        "colab": {
          "base_uri": "https://localhost:8080/",
          "height": 410
        },
        "id": "NGgD60MVPz8n",
        "outputId": "06745218-7b6e-4be9-bda5-a00fdaa419e0"
      },
      "source": [
        "# Obtener la variable para examinar\n",
        "# Solo obtendremos estudiantes que hayan estudiado más de una hora\n",
        "col = df_students[df_students.StudyHours>1]['StudyHours']\n",
        "\n",
        "# Llamar a la función\n",
        "show_distribution(col)\n"
      ],
      "execution_count": 47,
      "outputs": [
        {
          "output_type": "stream",
          "name": "stdout",
          "text": [
            "Minimum:6.00\n",
            "Mean:10.98\n",
            "Median:10.00\n",
            "Mode:9.00\n",
            "Maximum:16.00\n",
            "\n"
          ]
        },
        {
          "output_type": "display_data",
          "data": {
            "image/png": "[encoded data removed]",
            "text/plain": [
              "<Figure size 720x288 with 2 Axes>"
            ]
          },
          "metadata": {
            "needs_background": "light"
          }
        }
      ]
    },
    {
      "cell_type": "markdown",
      "metadata": {
        "id": "UwSn8oMXP2ET"
      },
      "source": [
        "Para fines de aprendizaje, acabamos de tratar que el valor 1 es un valor atípico y lo excluimos. En el mundo real, sin embargo, sería inusual excluir datos en los extremos sin más justificación cuando el tamaño de nuestra muestra es tan pequeño. Esto se debe a que cuanto menor sea el tamaño de nuestra muestra, más probable es que nuestra muestra sea una mala representación de toda la población (aquí, la población significa calificaciones para todos los estudiantes, no solo para nuestros 22). Por ejemplo, si tomamos una muestra del tiempo de estudio de otros 1000 estudiantes, ¡podríamos encontrar que en realidad es bastante común no estudiar mucho!\n",
        "\n",
        "Cuando tenemos más datos disponibles, nuestra muestra se vuelve más confiable. Esto hace que sea más fácil considerar valores atípicos como valores que caen por debajo o por encima de los percentiles dentro de los cuales se encuentran la mayoría de los datos. Por ejemplo, el siguiente código usa la función de cuantil de Pandas para excluir observaciones por debajo del percentil 0.01 (el valor por encima del cual reside el 99% de los datos).\n"
      ]
    },
    {
      "cell_type": "code",
      "metadata": {
        "colab": {
          "base_uri": "https://localhost:8080/",
          "height": 410
        },
        "id": "hn6UsN7KP51q",
        "outputId": "6cac16a6-b261-4bbd-973e-5a6dd1c8613c"
      },
      "source": [
        "# calcular el percentil 0.01\n",
        "q01 = df_students.StudyHours.quantile(0.01)\n",
        "# Obtener la variable para examinar\n",
        "col = df_students[df_students.StudyHours>q01]['StudyHours']\n",
        "# Llamar a la función\n",
        "show_distribution(col)\n"
      ],
      "execution_count": 48,
      "outputs": [
        {
          "output_type": "stream",
          "name": "stdout",
          "text": [
            "Minimum:6.00\n",
            "Mean:10.98\n",
            "Median:10.00\n",
            "Mode:9.00\n",
            "Maximum:16.00\n",
            "\n"
          ]
        },
        {
          "output_type": "display_data",
          "data": {
            "image/png": "[encoded data removed]",
            "text/plain": [
              "<Figure size 720x288 with 2 Axes>"
            ]
          },
          "metadata": {
            "needs_background": "light"
          }
        }
      ]
    },
    {
      "cell_type": "markdown",
      "metadata": {
        "id": "y2Nro3MdQGN9"
      },
      "source": [
        "*Sugerencia : También puede eliminar los valores atípicos en el extremo superior de la distribución definiendo un umbral en un valor de percentil alto; por ejemplo, podría usar la función de cuantiles para encontrar el percentil 0,99 por debajo del cual reside el 99% de los datos.*\n",
        "Con los valores atípicos eliminados, el diagrama de caja muestra todos los datos dentro de los cuatro cuartiles. Sin embargo, tenga en cuenta que la distribución no es simétrica como lo es para los datos de calificaciones: hay algunos estudiantes con tiempos de estudio muy altos de alrededor de 16 horas, pero la mayor parte de los datos está entre 7 y 13 horas; Los pocos valores extremadamente altos empujan la media hacia el extremo superior de la escala.\n",
        "\n",
        "Veamos la densidad de esta distribución.\n"
      ]
    },
    {
      "cell_type": "code",
      "metadata": {
        "colab": {
          "base_uri": "https://localhost:8080/",
          "height": 281
        },
        "id": "zmXwKeFkQLw4",
        "outputId": "05260c44-8cc5-47d5-eb86-151fdb859de8"
      },
      "source": [
        "def show_density(var_data):\n",
        "    fig = plt.figure(figsize=(10,4))\n",
        "\n",
        "    # Densidad de la parcela\n",
        "    var_data.plot.density()\n",
        "\n",
        "    # Añadir títulos y etiquetas\n",
        "    plt.title('Data Density')\n",
        "\n",
        "    # Mostrar la media, la mediana y el modo\n",
        "    plt.axvline(x=var_data.mean(), color = 'cyan', linestyle='dashed', linewidth = 2)\n",
        "    plt.axvline(x=var_data.median(), color = 'red', linestyle='dashed', linewidth = 2)\n",
        "    plt.axvline(x=var_data.mode()[0], color = 'yellow', linestyle='dashed', linewidth = 2)\n",
        "\n",
        "    # Mostrar la figura\n",
        "    plt.show()\n",
        "\n",
        "# Obtener la densidad de StudyHours\n",
        "show_density(col)\n"
      ],
      "execution_count": 49,
      "outputs": [
        {
          "output_type": "display_data",
          "data": {
            "image/png": "[encoded data removed]",
            "text/plain": [
              "<Figure size 720x288 with 1 Axes>"
            ]
          },
          "metadata": {
            "needs_background": "light"
          }
        }
      ]
    },
    {
      "cell_type": "markdown",
      "metadata": {
        "id": "yrY_OLp2QSyg"
      },
      "source": [
        "Este tipo de distribución se llama sesgada a la derecha . La masa de los datos está en el lado izquierdo de la distribución, creando una cola larga a la derecha debido a los valores en el extremo superior; que tiran de la media hacia la derecha.\n",
        "\n",
        "##**Medidas de varianza**\n",
        "Así que ahora tenemos una buena idea de dónde están las distribuciones de datos de la mitad de la calificación y las horas de estudio. Sin embargo, hay otro aspecto de las distribuciones que deberíamos examinar: ¿cuánta variabilidad hay en los datos?\n",
        "\n",
        "Las estadísticas típicas que miden la variabilidad en los datos incluyen:\n",
        "\n",
        "* Rango : la diferencia entre el máximo y el mínimo. No hay incorporado en función de esto, pero es fácil de calcular utilizando el min y max funciones.\n",
        "* Varianza : el promedio de la diferencia al cuadrado de la media. Puede usar la función var incorporada para encontrar esto.\n",
        "* Desviación estándar : la raíz cuadrada de la varianza. Puede usar la función estándar incorporada para encontrar esto.\n"
      ]
    },
    {
      "cell_type": "code",
      "metadata": {
        "colab": {
          "base_uri": "https://localhost:8080/"
        },
        "id": "wPg2bl-VQULW",
        "outputId": "7c29c0bf-094c-492b-f25a-588d649d8282"
      },
      "source": [
        "for col_name in ['Grade','StudyHours']:\n",
        "    col = df_students[col_name]\n",
        "    rng = col.max() - col.min()\n",
        "    var = col.var()\n",
        "    std = col.std()\n",
        "    print('\\n{}:\\n - Range: {:.2f}\\n - Variance: {:.2f}\\n - Std.Dev: {:.2f}'.format(col_name, rng, var, std))\n"
      ],
      "execution_count": 50,
      "outputs": [
        {
          "output_type": "stream",
          "name": "stdout",
          "text": [
            "\n",
            "Grade:\n",
            " - Range: 94.00\n",
            " - Variance: 472.54\n",
            " - Std.Dev: 21.74\n",
            "\n",
            "StudyHours:\n",
            " - Range: 15.00\n",
            " - Variance: 12.16\n",
            " - Std.Dev: 3.49\n"
          ]
        }
      ]
    },
    {
      "cell_type": "markdown",
      "metadata": {
        "id": "OEocuwHHQX07"
      },
      "source": [
        "De estas estadísticas, la desviación estándar es generalmente la más útil. Proporciona una medida de la varianza de los datos en la misma escala que los propios datos (por lo tanto, puntos de calificación para la distribución de calificaciones y horas para la distribución de horas de estudio). Cuanto mayor es la desviación estándar, mayor es la varianza cuando se comparan los valores de la distribución con la media de la distribución; en otras palabras, los datos están más dispersos.\n",
        "\n",
        "Cuando se trabaja con una distribución normal , la desviación estándar trabaja con las características particulares de una distribución normal para proporcionar una comprensión aún mayor. Ejecute la celda a continuación para ver la relación entre las desviaciones estándar y los datos en la distribución normal.\n"
      ]
    },
    {
      "cell_type": "code",
      "metadata": {
        "colab": {
          "base_uri": "https://localhost:8080/",
          "height": 248
        },
        "id": "zkMO2-y8QZmw",
        "outputId": "be952d58-9aa6-49ba-ccd0-f5c000190eaa"
      },
      "source": [
        "import scipy.stats as stats\n",
        "\n",
        "# Obtener la columna Calificación\n",
        "col = df_students['Grade']\n",
        "\n",
        "# obtener la densidad\n",
        "density = stats.gaussian_kde(col)\n",
        "\n",
        "# Traza la densidad\n",
        "col.plot.density()\n",
        "\n",
        "# Obtener la media y la desviación estándar\n",
        "s = col.std()\n",
        "m = col.mean()\n",
        "\n",
        "# Anotar 1 stdev\n",
        "x1 = [m-s, m+s]\n",
        "y1 = density(x1)\n",
        "plt.plot(x1,y1, color='magenta')\n",
        "plt.annotate('1 std (68.26%)', (x1[1],y1[1]))\n",
        "\n",
        "# Anotar 2 stdevs\n",
        "x2 = [m-(s*2), m+(s*2)]\n",
        "y2 = density(x2)\n",
        "plt.plot(x2,y2, color='green')\n",
        "plt.annotate('2 std (95.45%)', (x2[1],y2[1]))\n",
        "\n",
        "# Anotar 3 stdevs\n",
        "x3 = [m-(s*3), m+(s*3)]\n",
        "y3 = density(x3)\n",
        "plt.plot(x3,y3, color='orange')\n",
        "plt.annotate('3 std (99.73%)', (x3[1],y3[1]))\n",
        "\n",
        "# Mostrar la ubicación de la media\n",
        "plt.axvline(col.mean(), color='cyan', linestyle='dashed', linewidth=1)\n",
        "\n",
        "plt.axis('off')\n",
        "\n",
        "plt.show()\n"
      ],
      "execution_count": 51,
      "outputs": [
        {
          "output_type": "display_data",
          "data": {
            "image/png": "[encoded data removed]",
            "text/plain": [
              "<Figure size 432x288 with 1 Axes>"
            ]
          },
          "metadata": {
            "needs_background": "light"
          }
        }
      ]
    },
    {
      "cell_type": "markdown",
      "metadata": {
        "id": "GFHjTi-KQkbW"
      },
      "source": [
        "Las líneas horizontales muestran el porcentaje de datos dentro de 1, 2 y 3 desviaciones estándar de la media (más o menos).\n",
        "\n",
        "En cualquier distribución normal:\n",
        "\n",
        "Aproximadamente el 68,26% de los valores se encuentran dentro de una desviación estándar de la media.\n",
        "Aproximadamente el 95,45% de los valores se encuentran dentro de dos desviaciones estándar de la media.\n",
        "Aproximadamente el 99,73% de los valores se encuentran dentro de tres desviaciones estándar de la media.\n",
        "Entonces, como sabemos que la nota media es 49,18, la desviación estándar es 21,74 y la distribución de las notas es aproximadamente normal; podemos calcular que el 68,26% de los alumnos debería alcanzar una nota entre 27,44 y 70,92.\n",
        "\n",
        "Las estadísticas descriptivas que hemos utilizado para comprender la distribución de las variables de datos de los estudiantes son la base del análisis estadístico; y debido a que son una parte tan importante de la exploración de sus datos, hay un método Describe incorporado del objeto DataFrame que devuelve las principales estadísticas descriptivas para todas las columnas numéricas.\n"
      ]
    },
    {
      "cell_type": "code",
      "metadata": {
        "colab": {
          "base_uri": "https://localhost:8080/",
          "height": 297
        },
        "id": "E7PrZAtOQoLK",
        "outputId": "c04937cd-9866-4aad-f4a3-80dd226cbf3f"
      },
      "source": [
        "df_students.describe()"
      ],
      "execution_count": 52,
      "outputs": [
        {
          "output_type": "execute_result",
          "data": {
            "text/html": [
              "<div>\n",
              "<style scoped>\n",
              "    .dataframe tbody tr th:only-of-type {\n",
              "        vertical-align: middle;\n",
              "    }\n",
              "\n",
              "    .dataframe tbody tr th {\n",
              "        vertical-align: top;\n",
              "    }\n",
              "\n",
              "    .dataframe thead th {\n",
              "        text-align: right;\n",
              "    }\n",
              "</style>\n",
              "<table border=\"1\" class=\"dataframe\">\n",
              "  <thead>\n",
              "    <tr style=\"text-align: right;\">\n",
              "      <th></th>\n",
              "      <th>StudyHours</th>\n",
              "      <th>Grade</th>\n",
              "    </tr>\n",
              "  </thead>\n",
              "  <tbody>\n",
              "    <tr>\n",
              "      <th>count</th>\n",
              "      <td>22.000000</td>\n",
              "      <td>22.000000</td>\n",
              "    </tr>\n",
              "    <tr>\n",
              "      <th>mean</th>\n",
              "      <td>10.522727</td>\n",
              "      <td>49.181818</td>\n",
              "    </tr>\n",
              "    <tr>\n",
              "      <th>std</th>\n",
              "      <td>3.487144</td>\n",
              "      <td>21.737912</td>\n",
              "    </tr>\n",
              "    <tr>\n",
              "      <th>min</th>\n",
              "      <td>1.000000</td>\n",
              "      <td>3.000000</td>\n",
              "    </tr>\n",
              "    <tr>\n",
              "      <th>25%</th>\n",
              "      <td>9.000000</td>\n",
              "      <td>36.250000</td>\n",
              "    </tr>\n",
              "    <tr>\n",
              "      <th>50%</th>\n",
              "      <td>10.000000</td>\n",
              "      <td>49.500000</td>\n",
              "    </tr>\n",
              "    <tr>\n",
              "      <th>75%</th>\n",
              "      <td>12.375000</td>\n",
              "      <td>62.750000</td>\n",
              "    </tr>\n",
              "    <tr>\n",
              "      <th>max</th>\n",
              "      <td>16.000000</td>\n",
              "      <td>97.000000</td>\n",
              "    </tr>\n",
              "  </tbody>\n",
              "</table>\n",
              "</div>"
            ],
            "text/plain": [
              "       StudyHours      Grade\n",
              "count   22.000000  22.000000\n",
              "mean    10.522727  49.181818\n",
              "std      3.487144  21.737912\n",
              "min      1.000000   3.000000\n",
              "25%      9.000000  36.250000\n",
              "50%     10.000000  49.500000\n",
              "75%     12.375000  62.750000\n",
              "max     16.000000  97.000000"
            ]
          },
          "metadata": {},
          "execution_count": 52
        }
      ]
    },
    {
      "cell_type": "markdown",
      "metadata": {
        "id": "DYEkB8GdQufQ"
      },
      "source": [
        "##**Comparando datos**\n",
        "\n",
        "Ahora que sabe algo sobre la distribución estadística de los datos en su conjunto de datos, está listo para examinar sus datos para identificar cualquier relación aparente entre las variables.\n",
        "\n",
        "En primer lugar, eliminemos las filas que contengan valores atípicos para tener una muestra que sea representativa de una clase típica de estudiantes. Identificamos que la columna StudyHours contiene algunos valores atípicos con valores extremadamente bajos, por lo que eliminaremos esas filas.\n"
      ]
    },
    {
      "cell_type": "code",
      "metadata": {
        "colab": {
          "base_uri": "https://localhost:8080/",
          "height": 700
        },
        "id": "Wm-Afp7XQxVb",
        "outputId": "a27e6fc5-4d56-482e-ccfe-647ace8c51f4"
      },
      "source": [
        "df_sample = df_students[df_students['StudyHours']>1]\n",
        "df_sample\n"
      ],
      "execution_count": 53,
      "outputs": [
        {
          "output_type": "execute_result",
          "data": {
            "text/html": [
              "<div>\n",
              "<style scoped>\n",
              "    .dataframe tbody tr th:only-of-type {\n",
              "        vertical-align: middle;\n",
              "    }\n",
              "\n",
              "    .dataframe tbody tr th {\n",
              "        vertical-align: top;\n",
              "    }\n",
              "\n",
              "    .dataframe thead th {\n",
              "        text-align: right;\n",
              "    }\n",
              "</style>\n",
              "<table border=\"1\" class=\"dataframe\">\n",
              "  <thead>\n",
              "    <tr style=\"text-align: right;\">\n",
              "      <th></th>\n",
              "      <th>Name</th>\n",
              "      <th>StudyHours</th>\n",
              "      <th>Grade</th>\n",
              "      <th>Pass</th>\n",
              "    </tr>\n",
              "  </thead>\n",
              "  <tbody>\n",
              "    <tr>\n",
              "      <th>0</th>\n",
              "      <td>Dan</td>\n",
              "      <td>10.00</td>\n",
              "      <td>50.0</td>\n",
              "      <td>False</td>\n",
              "    </tr>\n",
              "    <tr>\n",
              "      <th>1</th>\n",
              "      <td>Joann</td>\n",
              "      <td>11.50</td>\n",
              "      <td>50.0</td>\n",
              "      <td>False</td>\n",
              "    </tr>\n",
              "    <tr>\n",
              "      <th>2</th>\n",
              "      <td>Pedro</td>\n",
              "      <td>9.00</td>\n",
              "      <td>47.0</td>\n",
              "      <td>False</td>\n",
              "    </tr>\n",
              "    <tr>\n",
              "      <th>3</th>\n",
              "      <td>Rosie</td>\n",
              "      <td>16.00</td>\n",
              "      <td>97.0</td>\n",
              "      <td>True</td>\n",
              "    </tr>\n",
              "    <tr>\n",
              "      <th>4</th>\n",
              "      <td>Ethan</td>\n",
              "      <td>9.25</td>\n",
              "      <td>49.0</td>\n",
              "      <td>False</td>\n",
              "    </tr>\n",
              "    <tr>\n",
              "      <th>6</th>\n",
              "      <td>Frederic</td>\n",
              "      <td>11.50</td>\n",
              "      <td>53.0</td>\n",
              "      <td>False</td>\n",
              "    </tr>\n",
              "    <tr>\n",
              "      <th>7</th>\n",
              "      <td>Jimmie</td>\n",
              "      <td>9.00</td>\n",
              "      <td>42.0</td>\n",
              "      <td>False</td>\n",
              "    </tr>\n",
              "    <tr>\n",
              "      <th>8</th>\n",
              "      <td>Rhonda</td>\n",
              "      <td>8.50</td>\n",
              "      <td>26.0</td>\n",
              "      <td>False</td>\n",
              "    </tr>\n",
              "    <tr>\n",
              "      <th>9</th>\n",
              "      <td>Giovanni</td>\n",
              "      <td>14.50</td>\n",
              "      <td>74.0</td>\n",
              "      <td>True</td>\n",
              "    </tr>\n",
              "    <tr>\n",
              "      <th>10</th>\n",
              "      <td>Francesca</td>\n",
              "      <td>15.50</td>\n",
              "      <td>82.0</td>\n",
              "      <td>True</td>\n",
              "    </tr>\n",
              "    <tr>\n",
              "      <th>11</th>\n",
              "      <td>Rajab</td>\n",
              "      <td>13.75</td>\n",
              "      <td>62.0</td>\n",
              "      <td>True</td>\n",
              "    </tr>\n",
              "    <tr>\n",
              "      <th>12</th>\n",
              "      <td>Naiyana</td>\n",
              "      <td>9.00</td>\n",
              "      <td>37.0</td>\n",
              "      <td>False</td>\n",
              "    </tr>\n",
              "    <tr>\n",
              "      <th>13</th>\n",
              "      <td>Kian</td>\n",
              "      <td>8.00</td>\n",
              "      <td>15.0</td>\n",
              "      <td>False</td>\n",
              "    </tr>\n",
              "    <tr>\n",
              "      <th>14</th>\n",
              "      <td>Jenny</td>\n",
              "      <td>15.50</td>\n",
              "      <td>70.0</td>\n",
              "      <td>True</td>\n",
              "    </tr>\n",
              "    <tr>\n",
              "      <th>15</th>\n",
              "      <td>Jakeem</td>\n",
              "      <td>8.00</td>\n",
              "      <td>27.0</td>\n",
              "      <td>False</td>\n",
              "    </tr>\n",
              "    <tr>\n",
              "      <th>16</th>\n",
              "      <td>Helena</td>\n",
              "      <td>9.00</td>\n",
              "      <td>36.0</td>\n",
              "      <td>False</td>\n",
              "    </tr>\n",
              "    <tr>\n",
              "      <th>17</th>\n",
              "      <td>Ismat</td>\n",
              "      <td>6.00</td>\n",
              "      <td>35.0</td>\n",
              "      <td>False</td>\n",
              "    </tr>\n",
              "    <tr>\n",
              "      <th>18</th>\n",
              "      <td>Anila</td>\n",
              "      <td>10.00</td>\n",
              "      <td>48.0</td>\n",
              "      <td>False</td>\n",
              "    </tr>\n",
              "    <tr>\n",
              "      <th>19</th>\n",
              "      <td>Skye</td>\n",
              "      <td>12.00</td>\n",
              "      <td>52.0</td>\n",
              "      <td>False</td>\n",
              "    </tr>\n",
              "    <tr>\n",
              "      <th>20</th>\n",
              "      <td>Daniel</td>\n",
              "      <td>12.50</td>\n",
              "      <td>63.0</td>\n",
              "      <td>True</td>\n",
              "    </tr>\n",
              "    <tr>\n",
              "      <th>21</th>\n",
              "      <td>Aisha</td>\n",
              "      <td>12.00</td>\n",
              "      <td>64.0</td>\n",
              "      <td>True</td>\n",
              "    </tr>\n",
              "  </tbody>\n",
              "</table>\n",
              "</div>"
            ],
            "text/plain": [
              "         Name  StudyHours  Grade   Pass\n",
              "0         Dan       10.00   50.0  False\n",
              "1       Joann       11.50   50.0  False\n",
              "2       Pedro        9.00   47.0  False\n",
              "3       Rosie       16.00   97.0   True\n",
              "4       Ethan        9.25   49.0  False\n",
              "6    Frederic       11.50   53.0  False\n",
              "7      Jimmie        9.00   42.0  False\n",
              "8      Rhonda        8.50   26.0  False\n",
              "9    Giovanni       14.50   74.0   True\n",
              "10  Francesca       15.50   82.0   True\n",
              "11      Rajab       13.75   62.0   True\n",
              "12    Naiyana        9.00   37.0  False\n",
              "13       Kian        8.00   15.0  False\n",
              "14      Jenny       15.50   70.0   True\n",
              "15     Jakeem        8.00   27.0  False\n",
              "16     Helena        9.00   36.0  False\n",
              "17      Ismat        6.00   35.0  False\n",
              "18      Anila       10.00   48.0  False\n",
              "19       Skye       12.00   52.0  False\n",
              "20     Daniel       12.50   63.0   True\n",
              "21      Aisha       12.00   64.0   True"
            ]
          },
          "metadata": {},
          "execution_count": 53
        }
      ]
    },
    {
      "cell_type": "markdown",
      "metadata": {
        "id": "77da9ki5QyTQ"
      },
      "source": [
        "###**Comparación de variables numéricas y categóricas**\n",
        "Los datos incluyen dos variables numéricas ( StudyHours y Grade ) y dos variables categóricas ( Name y Pass ). Comencemos comparando la columna numérica StudyHours con la columna categórica Aprobado para ver si existe una relación aparente entre la cantidad de horas estudiadas y una calificación aprobatoria.\n",
        "\n",
        "Para hacer esta comparación, creemos diagramas de caja que muestren la distribución de StudyHours para cada posible valor de Aprobación (verdadero y falso).\n"
      ]
    },
    {
      "cell_type": "code",
      "metadata": {
        "colab": {
          "base_uri": "https://localhost:8080/",
          "height": 432
        },
        "id": "DDaIl0MrQ1HS",
        "outputId": "1cdb6a73-c4d1-44a6-b6cb-7da5da95eee1"
      },
      "source": [
        "df_sample.boxplot(column='StudyHours', by='Pass', figsize=(8,5))"
      ],
      "execution_count": 54,
      "outputs": [
        {
          "output_type": "stream",
          "name": "stderr",
          "text": [
            "/usr/local/lib/python3.7/dist-packages/numpy/core/_asarray.py:83: VisibleDeprecationWarning: Creating an ndarray from ragged nested sequences (which is a list-or-tuple of lists-or-tuples-or ndarrays with different lengths or shapes) is deprecated. If you meant to do this, you must specify 'dtype=object' when creating the ndarray\n",
            "  return array(a, dtype, copy=False, order=order)\n"
          ]
        },
        {
          "output_type": "execute_result",
          "data": {
            "text/plain": [
              "<matplotlib.axes._subplots.AxesSubplot at 0x7f934381fe10>"
            ]
          },
          "metadata": {},
          "execution_count": 54
        },
        {
          "output_type": "display_data",
          "data": {
            "image/png": "[encoded data removed]",
            "text/plain": [
              "<Figure size 576x360 with 1 Axes>"
            ]
          },
          "metadata": {
            "needs_background": "light"
          }
        }
      ]
    },
    {
      "cell_type": "markdown",
      "metadata": {
        "id": "UlhCFKaAQ43l"
      },
      "source": [
        "Al comparar las distribuciones de StudyHours, es inmediatamente evidente (si no particularmente sorprendente) que los estudiantes que aprobaron el curso tendieron a estudiar más horas que los estudiantes que no lo hicieron. Entonces, si desea predecir si es probable que un estudiante apruebe o no el curso, la cantidad de tiempo que pasa estudiando puede ser una buena característica de predicción.\n",
        "\n",
        "###**Comparar variables numéricas**\n",
        "Ahora comparemos dos variables numéricas. Comenzaremos creando un gráfico de barras que muestre las calificaciones y las horas de estudio.\n"
      ]
    },
    {
      "cell_type": "code",
      "metadata": {
        "colab": {
          "base_uri": "https://localhost:8080/",
          "height": 391
        },
        "id": "k8oasoeBQ7y0",
        "outputId": "fd66a1d5-2c7b-4def-c56d-be7d85f8c094"
      },
      "source": [
        "# Crear un gráfico de barra de nombre vs grado y horas de estudio\n",
        "df_sample.plot(x='Name', y=['Grade','StudyHours'], kind='bar', figsize=(8,5))\n"
      ],
      "execution_count": 55,
      "outputs": [
        {
          "output_type": "execute_result",
          "data": {
            "text/plain": [
              "<matplotlib.axes._subplots.AxesSubplot at 0x7f93438b7fd0>"
            ]
          },
          "metadata": {},
          "execution_count": 55
        },
        {
          "output_type": "display_data",
          "data": {
            "image/png": "[encoded data removed]",
            "text/plain": [
              "<Figure size 576x360 with 1 Axes>"
            ]
          },
          "metadata": {
            "needs_background": "light"
          }
        }
      ]
    },
    {
      "cell_type": "markdown",
      "metadata": {
        "id": "RxWgKYZ4Q8tq"
      },
      "source": [
        "El gráfico muestra barras para el grado y las horas de estudio de cada estudiante; pero no es fácil de comparar porque los valores están en diferentes escalas. Las calificaciones se miden en puntos de calificación y varían de 3 a 97; mientras que el tiempo de estudio se mide en horas y varía de 1 a 16.\n",
        "\n",
        "Una técnica común cuando se trabaja con datos numéricos en diferentes escalas es normalizar los datos para que los valores mantengan su distribución proporcional, pero se midan en la misma escala. Para lograr esto, usaremos una técnica llamada escala MinMax que distribuye los valores proporcionalmente en una escala de 0 a 1. Puede escribir el código para aplicar esta transformación; pero la biblioteca Scikit-Learn proporciona un escalador para que lo haga por usted.\n"
      ]
    },
    {
      "cell_type": "code",
      "metadata": {
        "colab": {
          "base_uri": "https://localhost:8080/",
          "height": 391
        },
        "id": "qiPb9UeCQ_US",
        "outputId": "77a1c16f-d257-4b4e-8e79-d37d00e23b0f"
      },
      "source": [
        "from sklearn.preprocessing import MinMaxScaler\n",
        "\n",
        "# Obtener un objeto de escalador\n",
        "scaler = MinMaxScaler()\n",
        "\n",
        "# Crear un nuevo marco de datos para los valores escalados\n",
        "df_normalized = df_sample[['Name', 'Grade', 'StudyHours']].copy()\n",
        "\n",
        "# Normalizar las columnas numéricas\n",
        "df_normalized[['Grade','StudyHours']] = scaler.fit_transform(df_normalized[['Grade','StudyHours']])\n",
        "\n",
        "# Trazar los valores normalizados\n",
        "df_normalized.plot(x='Name', y=['Grade','StudyHours'], kind='bar', figsize=(8,5))\n"
      ],
      "execution_count": 56,
      "outputs": [
        {
          "output_type": "execute_result",
          "data": {
            "text/plain": [
              "<matplotlib.axes._subplots.AxesSubplot at 0x7f93421df6d0>"
            ]
          },
          "metadata": {},
          "execution_count": 56
        },
        {
          "output_type": "display_data",
          "data": {
            "image/png": "[encoded data removed]",
            "text/plain": [
              "<Figure size 576x360 with 1 Axes>"
            ]
          },
          "metadata": {
            "needs_background": "light"
          }
        }
      ]
    },
    {
      "cell_type": "markdown",
      "metadata": {
        "id": "DqPxouN2RFUc"
      },
      "source": [
        "Con los datos normalizados, es más fácil ver una relación aparente entre la calificación y el tiempo de estudio. No es una coincidencia exacta, pero definitivamente parece que los estudiantes con calificaciones más altas tienden a haber estudiado más.\n",
        "\n",
        "Entonces parece haber una correlación entre el tiempo de estudio y la calificación; y de hecho, existe una medida de correlación estadística que podemos utilizar para cuantificar la relación entre estas columnas.\n"
      ]
    },
    {
      "cell_type": "code",
      "metadata": {
        "colab": {
          "base_uri": "https://localhost:8080/"
        },
        "id": "duUEK7KmRH9Q",
        "outputId": "8817695a-94ef-450b-8f67-f7fd6fc0b92d"
      },
      "source": [
        "df_normalized.Grade.corr(df_normalized.StudyHours)"
      ],
      "execution_count": 57,
      "outputs": [
        {
          "output_type": "execute_result",
          "data": {
            "text/plain": [
              "0.9117666413789677"
            ]
          },
          "metadata": {},
          "execution_count": 57
        }
      ]
    },
    {
      "cell_type": "markdown",
      "metadata": {
        "id": "IDHZg-9ERJsO"
      },
      "source": [
        "La estadística de correlación es un valor entre -1 y 1 que indica la fuerza de una relación. Los valores por encima de 0 indican una correlación positiva (los valores altos de una variable tienden a coincidir con los valores altos de la otra), mientras que los valores por debajo de 0 indican una correlación negativa (los valores altos de una variable tienden a coincidir con los valores bajos de la otra). En este caso, el valor de correlación es cercano a 1; mostrando una correlación fuertemente positiva entre el tiempo de estudio y el grado.\n",
        "\n",
        "**Nota** : Los científicos de datos suelen citar la máxima \" correlación no es causalidad \". En otras palabras, por muy tentador que sea, no debe interpretar la correlación estadística como una explicación de por qué uno de los valores es alto. En el caso de los datos de los estudiantes, las estadísticas demuestran que los estudiantes con calificaciones altas tienden a tener también una gran cantidad de tiempo de estudio; pero esto no es lo mismo que demostrar que obtuvieron calificaciones altas porque estudiaron mucho. La estadística también podría usarse como evidencia para apoyar la conclusión sin sentido de que los estudiantes estudiaron mucho porque sus calificaciones iban a ser altas.\n",
        "Otra forma de visualizar la aparente correlación entre dos columnas numéricas es usar un diagrama de dispersión .\n"
      ]
    },
    {
      "cell_type": "code",
      "metadata": {
        "colab": {
          "base_uri": "https://localhost:8080/",
          "height": 312
        },
        "id": "U-4Bc39eRNJr",
        "outputId": "94a21185-ac09-4008-8a99-f31f6350f518"
      },
      "source": [
        "# Crear un diagrama de dispersión\n",
        "df_sample.plot.scatter(title='Study Time vs Grade', x='StudyHours', y='Grade')\n"
      ],
      "execution_count": 58,
      "outputs": [
        {
          "output_type": "execute_result",
          "data": {
            "text/plain": [
              "<matplotlib.axes._subplots.AxesSubplot at 0x7f93420fafd0>"
            ]
          },
          "metadata": {},
          "execution_count": 58
        },
        {
          "output_type": "display_data",
          "data": {
            "image/png": "[encoded data removed]",
            "text/plain": [
              "<Figure size 432x288 with 1 Axes>"
            ]
          },
          "metadata": {
            "needs_background": "light"
          }
        }
      ]
    },
    {
      "cell_type": "markdown",
      "metadata": {
        "id": "I4A9kliaRPp6"
      },
      "source": [
        "Nuevamente, parece que hay un patrón discernible en el que los estudiantes que estudiaron más horas son también los estudiantes que obtuvieron las calificaciones más altas.\n",
        "\n",
        "Podemos ver esto más claramente agregando una línea de regresión (o una línea de mejor ajuste ) al gráfico que muestra la tendencia general en los datos. Para hacer esto, usaremos una técnica estadística llamada regresión de mínimos cuadrados .\n",
        "\n",
        "Advertencia: ¡matemáticas por delante!Recuerde cuando estaba aprendiendo a resolver ecuaciones lineales en la escuela y recuerde que la forma pendiente-intersección de una ecuación lineal se ve así: y =mx+b en esta ecuación, y y x son las variables de coordenadas, m es la pendiente de la línea y b es la intersección con el eje y (donde la línea pasa por el eje Y).En el caso de nuestro diagrama de dispersión para los datos de nuestros estudiantes, ya tenemos nuestros valores para x ( StudyHours ) e y ( Grade ), por lo que solo necesitamos calcular la intersección y la pendiente de la línea recta que se encuentra más cerca de esos puntos. Luego podemos formar una ecuación lineal que calcule un nuevo valor de y en esa línea para cada uno de nuestros valores de x ( StudyHours ); para evitar confusiones, llamaremos a este nuevo valor de y f (x) (porque es la salida de un valor lineal ecuación f unción basado en x ). La diferencia entre la y original ( Grado) y el valor de f (x) es el error entre nuestra línea de regresión y la calificación real alcanzada por el estudiante. Nuestro objetivo es calcular la pendiente y la intersección de una línea con el error general más bajo.Específicamente, definimos el error general tomando el error de cada punto, elevándolo al cuadrado y sumando todos los errores al cuadrado. La línea de mejor ajuste es la línea que nos da el valor más bajo para la suma de los errores al cuadrado, de ahí el nombre de regresión por mínimos cuadrados .\n",
        "Afortunadamente, no necesita codificar el cálculo de regresión usted mismo: el paquete SciPy incluye una clase de estadísticas que proporciona un método linregress para hacer el trabajo duro por usted. Esto devuelve (entre otras cosas) los coeficientes que necesita para la ecuación de pendiente: pendiente ( m ) e intersección ( b ) en función de un par de muestras variables que desea comparar.\n"
      ]
    },
    {
      "cell_type": "code",
      "metadata": {
        "colab": {
          "base_uri": "https://localhost:8080/",
          "height": 349
        },
        "id": "zLMXPTnFRUhr",
        "outputId": "18205edf-0064-4e49-d7f1-270c05f6441a"
      },
      "source": [
        "from scipy import stats\n",
        "\n",
        "df_regression = df_sample[['Grade', 'StudyHours']].copy()\n",
        "\n",
        "# Obtener la pendiente de regresión e interceptar\n",
        "m, b, r, p, se = stats.linregress(df_regression['StudyHours'], df_regression['Grade'])\n",
        "print('slope: {:.4f}\\ny-intercept: {:.4f}'.format(m,b))\n",
        "print('so...\\n f(x) = {:.4f}x + {:.4f}'.format(m,b))\n",
        "\n",
        "# Utilice la función (mx + b) para calcular f(x) para cada valor x (StudyHours)\n",
        "df_regression['fx'] = (m * df_regression['StudyHours']) + b\n",
        "\n",
        "# Calcular el error entre f(x) y el valor real de y (Grade)\n",
        "df_regression['error'] = df_regression['fx'] - df_regression['Grade']\n",
        "\n",
        "# Crear un diagrama de dispersión de Grado vs Salario\n",
        "df_regression.plot.scatter(x='StudyHours', y='Grade')\n",
        "\n",
        "# Trazar la línea de regresión\n",
        "plt.plot(df_regression['StudyHours'],df_regression['fx'], color='cyan')\n",
        "\n",
        "# Mostrar la trama\n",
        "plt.show()\n"
      ],
      "execution_count": 59,
      "outputs": [
        {
          "output_type": "stream",
          "name": "stdout",
          "text": [
            "slope: 6.3134\n",
            "y-intercept: -17.9164\n",
            "so...\n",
            " f(x) = 6.3134x + -17.9164\n"
          ]
        },
        {
          "output_type": "display_data",
          "data": {
            "image/png": "[encoded data removed]",
            "text/plain": [
              "<Figure size 432x288 with 1 Axes>"
            ]
          },
          "metadata": {
            "needs_background": "light"
          }
        }
      ]
    },
    {
      "cell_type": "markdown",
      "metadata": {
        "id": "7ZqD71rfRYqu"
      },
      "source": [
        "Tenga en cuenta que esta vez, el código trazó dos cosas distintas: el diagrama de dispersión de las horas de estudio de muestra y las calificaciones se trazan como antes, y luego se traza una línea de mejor ajuste basada en los coeficientes de regresión de mínimos cuadrados.\n",
        "\n",
        "Los coeficientes de pendiente e intersección calculados para la línea de regresión se muestran encima del gráfico.\n",
        "\n",
        "La línea se basa en los valores f (x) calculados para cada valor de StudyHours . Ejecute la siguiente celda para ver una tabla que incluye los siguientes valores:\n",
        "\n",
        "* Las horas de estudio para cada alumno.\n",
        "* La nota obtenida por cada alumno.\n",
        "* El valor de f (x) calculado utilizando los coeficientes de la línea de regresión.\n",
        "* El error entre el valor calculado de f (x) y el valor real de la calificación .\n",
        "\n",
        "Algunos de los errores, particularmente en los extremos, y bastante grandes (hasta más de 17,5 puntos); pero en general, la línea se acerca bastante a las calificaciones reales.\n",
        "\n"
      ]
    },
    {
      "cell_type": "code",
      "metadata": {
        "colab": {
          "base_uri": "https://localhost:8080/",
          "height": 700
        },
        "id": "sBIPM_YSRepf",
        "outputId": "3ff4f734-c89e-4a17-f0cb-b88a7fe3a9bc"
      },
      "source": [
        "# Mostrar los valores originales de x, y, el valor f(x) y el error\n",
        "df_regression[['StudyHours', 'Grade', 'fx', 'error']]"
      ],
      "execution_count": 60,
      "outputs": [
        {
          "output_type": "execute_result",
          "data": {
            "text/html": [
              "<div>\n",
              "<style scoped>\n",
              "    .dataframe tbody tr th:only-of-type {\n",
              "        vertical-align: middle;\n",
              "    }\n",
              "\n",
              "    .dataframe tbody tr th {\n",
              "        vertical-align: top;\n",
              "    }\n",
              "\n",
              "    .dataframe thead th {\n",
              "        text-align: right;\n",
              "    }\n",
              "</style>\n",
              "<table border=\"1\" class=\"dataframe\">\n",
              "  <thead>\n",
              "    <tr style=\"text-align: right;\">\n",
              "      <th></th>\n",
              "      <th>StudyHours</th>\n",
              "      <th>Grade</th>\n",
              "      <th>fx</th>\n",
              "      <th>error</th>\n",
              "    </tr>\n",
              "  </thead>\n",
              "  <tbody>\n",
              "    <tr>\n",
              "      <th>0</th>\n",
              "      <td>10.00</td>\n",
              "      <td>50.0</td>\n",
              "      <td>45.217846</td>\n",
              "      <td>-4.782154</td>\n",
              "    </tr>\n",
              "    <tr>\n",
              "      <th>1</th>\n",
              "      <td>11.50</td>\n",
              "      <td>50.0</td>\n",
              "      <td>54.687985</td>\n",
              "      <td>4.687985</td>\n",
              "    </tr>\n",
              "    <tr>\n",
              "      <th>2</th>\n",
              "      <td>9.00</td>\n",
              "      <td>47.0</td>\n",
              "      <td>38.904421</td>\n",
              "      <td>-8.095579</td>\n",
              "    </tr>\n",
              "    <tr>\n",
              "      <th>3</th>\n",
              "      <td>16.00</td>\n",
              "      <td>97.0</td>\n",
              "      <td>83.098400</td>\n",
              "      <td>-13.901600</td>\n",
              "    </tr>\n",
              "    <tr>\n",
              "      <th>4</th>\n",
              "      <td>9.25</td>\n",
              "      <td>49.0</td>\n",
              "      <td>40.482777</td>\n",
              "      <td>-8.517223</td>\n",
              "    </tr>\n",
              "    <tr>\n",
              "      <th>6</th>\n",
              "      <td>11.50</td>\n",
              "      <td>53.0</td>\n",
              "      <td>54.687985</td>\n",
              "      <td>1.687985</td>\n",
              "    </tr>\n",
              "    <tr>\n",
              "      <th>7</th>\n",
              "      <td>9.00</td>\n",
              "      <td>42.0</td>\n",
              "      <td>38.904421</td>\n",
              "      <td>-3.095579</td>\n",
              "    </tr>\n",
              "    <tr>\n",
              "      <th>8</th>\n",
              "      <td>8.50</td>\n",
              "      <td>26.0</td>\n",
              "      <td>35.747708</td>\n",
              "      <td>9.747708</td>\n",
              "    </tr>\n",
              "    <tr>\n",
              "      <th>9</th>\n",
              "      <td>14.50</td>\n",
              "      <td>74.0</td>\n",
              "      <td>73.628262</td>\n",
              "      <td>-0.371738</td>\n",
              "    </tr>\n",
              "    <tr>\n",
              "      <th>10</th>\n",
              "      <td>15.50</td>\n",
              "      <td>82.0</td>\n",
              "      <td>79.941687</td>\n",
              "      <td>-2.058313</td>\n",
              "    </tr>\n",
              "    <tr>\n",
              "      <th>11</th>\n",
              "      <td>13.75</td>\n",
              "      <td>62.0</td>\n",
              "      <td>68.893193</td>\n",
              "      <td>6.893193</td>\n",
              "    </tr>\n",
              "    <tr>\n",
              "      <th>12</th>\n",
              "      <td>9.00</td>\n",
              "      <td>37.0</td>\n",
              "      <td>38.904421</td>\n",
              "      <td>1.904421</td>\n",
              "    </tr>\n",
              "    <tr>\n",
              "      <th>13</th>\n",
              "      <td>8.00</td>\n",
              "      <td>15.0</td>\n",
              "      <td>32.590995</td>\n",
              "      <td>17.590995</td>\n",
              "    </tr>\n",
              "    <tr>\n",
              "      <th>14</th>\n",
              "      <td>15.50</td>\n",
              "      <td>70.0</td>\n",
              "      <td>79.941687</td>\n",
              "      <td>9.941687</td>\n",
              "    </tr>\n",
              "    <tr>\n",
              "      <th>15</th>\n",
              "      <td>8.00</td>\n",
              "      <td>27.0</td>\n",
              "      <td>32.590995</td>\n",
              "      <td>5.590995</td>\n",
              "    </tr>\n",
              "    <tr>\n",
              "      <th>16</th>\n",
              "      <td>9.00</td>\n",
              "      <td>36.0</td>\n",
              "      <td>38.904421</td>\n",
              "      <td>2.904421</td>\n",
              "    </tr>\n",
              "    <tr>\n",
              "      <th>17</th>\n",
              "      <td>6.00</td>\n",
              "      <td>35.0</td>\n",
              "      <td>19.964144</td>\n",
              "      <td>-15.035856</td>\n",
              "    </tr>\n",
              "    <tr>\n",
              "      <th>18</th>\n",
              "      <td>10.00</td>\n",
              "      <td>48.0</td>\n",
              "      <td>45.217846</td>\n",
              "      <td>-2.782154</td>\n",
              "    </tr>\n",
              "    <tr>\n",
              "      <th>19</th>\n",
              "      <td>12.00</td>\n",
              "      <td>52.0</td>\n",
              "      <td>57.844698</td>\n",
              "      <td>5.844698</td>\n",
              "    </tr>\n",
              "    <tr>\n",
              "      <th>20</th>\n",
              "      <td>12.50</td>\n",
              "      <td>63.0</td>\n",
              "      <td>61.001410</td>\n",
              "      <td>-1.998590</td>\n",
              "    </tr>\n",
              "    <tr>\n",
              "      <th>21</th>\n",
              "      <td>12.00</td>\n",
              "      <td>64.0</td>\n",
              "      <td>57.844698</td>\n",
              "      <td>-6.155302</td>\n",
              "    </tr>\n",
              "  </tbody>\n",
              "</table>\n",
              "</div>"
            ],
            "text/plain": [
              "    StudyHours  Grade         fx      error\n",
              "0        10.00   50.0  45.217846  -4.782154\n",
              "1        11.50   50.0  54.687985   4.687985\n",
              "2         9.00   47.0  38.904421  -8.095579\n",
              "3        16.00   97.0  83.098400 -13.901600\n",
              "4         9.25   49.0  40.482777  -8.517223\n",
              "6        11.50   53.0  54.687985   1.687985\n",
              "7         9.00   42.0  38.904421  -3.095579\n",
              "8         8.50   26.0  35.747708   9.747708\n",
              "9        14.50   74.0  73.628262  -0.371738\n",
              "10       15.50   82.0  79.941687  -2.058313\n",
              "11       13.75   62.0  68.893193   6.893193\n",
              "12        9.00   37.0  38.904421   1.904421\n",
              "13        8.00   15.0  32.590995  17.590995\n",
              "14       15.50   70.0  79.941687   9.941687\n",
              "15        8.00   27.0  32.590995   5.590995\n",
              "16        9.00   36.0  38.904421   2.904421\n",
              "17        6.00   35.0  19.964144 -15.035856\n",
              "18       10.00   48.0  45.217846  -2.782154\n",
              "19       12.00   52.0  57.844698   5.844698\n",
              "20       12.50   63.0  61.001410  -1.998590\n",
              "21       12.00   64.0  57.844698  -6.155302"
            ]
          },
          "metadata": {},
          "execution_count": 60
        }
      ]
    },
    {
      "cell_type": "markdown",
      "metadata": {
        "id": "uRbI-TlNRhdN"
      },
      "source": [
        "Usando los coeficientes de regresión para la predicción\n",
        "Ahora que tiene los coeficientes de regresión para el tiempo de estudio y la relación de calificaciones, puede usarlos en una función para estimar la calificación esperada para una determinada cantidad de estudio."
      ]
    },
    {
      "cell_type": "code",
      "metadata": {
        "colab": {
          "base_uri": "https://localhost:8080/"
        },
        "id": "QMuxWh6BRkG9",
        "outputId": "02d3ce59-57eb-4e86-810b-fd25bf697a52"
      },
      "source": [
        "# Definir una función basada en nuestros coeficientes de regresión\n",
        "def f(x):\n",
        "    m = 6.3134\n",
        "    b = -17.9164\n",
        "    return m*x + b\n",
        "\n",
        "study_time = 14\n",
        "\n",
        "# Obtener f(x) para el tiempo de estudio\n",
        "prediction = f(study_time)\n",
        "\n",
        "# El grado no puede ser inferior a 0 o más de 100\n",
        "expected_grade = max(0,min(100,prediction))\n",
        "\n",
        "#Print the estimated grade\n",
        "print ('Studying for {} hours per week may result in a grade of {:.0f}'.format(study_time, expected_grade))\n"
      ],
      "execution_count": 61,
      "outputs": [
        {
          "output_type": "stream",
          "name": "stdout",
          "text": [
            "Studying for 14 hours per week may result in a grade of 70\n"
          ]
        }
      ]
    },
    {
      "cell_type": "markdown",
      "metadata": {
        "id": "aAAnvBBYRnOE"
      },
      "source": [
        "Entonces, al aplicar estadísticas a los datos de muestra, ha determinado una relación entre el tiempo de estudio y la calificación; y encapsuló esa relación en una función general que puede usarse para predecir una calificación para una cantidad determinada de tiempo de estudio.\n",
        "\n",
        "Esta técnica es, de hecho, la premisa básica del aprendizaje automático. Puede tomar un conjunto de datos de muestra que incluye una o más características (en este caso, la cantidad de horas estudiadas) y un valor de etiqueta conocido (en este caso, la calificación obtenida) y usar los datos de muestra para derivar una función que calcule valores de etiqueta predichos para cualquier conjunto de características.\n",
        "\n",
        "\n",
        "---\n",
        "\n"
      ]
    },
    {
      "cell_type": "markdown",
      "metadata": {
        "id": "oBqia-CZrgp0"
      },
      "source": [
        "Verificación de conocimientos\n",
        "Terminado\n",
        "200 XP\n",
        "3 minutos\n",
        "Responda las siguientes preguntas para comprobar su aprendizaje.\n",
        "\n",
        "1. Tiene una matriz NumPy con la forma (2,20). ¿Qué te dice esto sobre los elementos de la matriz?\n",
        "\n",
        "  **a) La matriz es bidimensional y consta de dos matrices cada una con 20 elementos.**\n",
        "  \n",
        "  b) La matriz contiene 2 elementos, con los valores 2 y 20\n",
        "\n",
        "  c) La matriz contiene 20 elementos, todos con el valor 2\n",
        "\n",
        "\n",
        "2. Tiene un DataFrame de Pandas llamado df_sales que contiene datos de ventas diarias. El DataFrame contiene las siguientes columnas: año, mes, día_de_month, sales_total. Desea encontrar el valor total de ventas promedio. ¿Qué código deberías usar?\n",
        "\n",
        "  a) df_sales ['sales_total']. avg ()\n",
        "\n",
        "  **b) df_sales ['sales_total']. mean ()**\n",
        "\n",
        "  c) mean (df_sales ['sales_total'])\n",
        "\n",
        "3. Tiene un DataFrame que contiene datos sobre las ventas diarias de helados. Utiliza el método corr para comparar las columnas avg_temp y units_sold, y obtiene un resultado de 0.97. ¿Qué indica este resultado?\n",
        "\n",
        "  a) En el día con el valor máximo de unidades vendidas, el valor avg_temp fue 0.97\n",
        "\n",
        "  **b) Los días con valores altos de avg_temp tienden a coincidir con días que tienen valores altos de unit_sold**\n",
        "\n",
        "  c) El valor de unit_sold es, en promedio, el 97% del valor avg_temp\n",
        "\n",
        "\n",
        "\n",
        "---\n",
        "\n"
      ]
    },
    {
      "cell_type": "markdown",
      "metadata": {
        "id": "6Kx6ExjLsW9g"
      },
      "source": [
        "#**Resumen**\n",
        "\n",
        "En este módulo, aprendió a usar Python para explorar, visualizar y manipular datos. La exploración de datos es el núcleo de la ciencia de datos y es un elemento clave en el análisis de datos y el aprendizaje automático.\n",
        "\n",
        "El aprendizaje automático es un subconjunto de la ciencia de datos que se ocupa del modelado predictivo. En otras palabras, el aprendizaje automático utiliza datos para crear modelos predictivos, con el fin de predecir valores desconocidos. Puede utilizar el aprendizaje automático para predecir cuánta comida necesita pedir un supermercado o para identificar plantas en fotografías.\n",
        "\n",
        "El aprendizaje automático funciona identificando relaciones entre valores de datos que describen características de algo, sus características , como la altura y el color de una planta, y el valor que queremos predecir, la etiqueta , como la especie de planta. Estas relaciones se integran en un modelo a través de un proceso de formación ."
      ]
    }
  ]
}