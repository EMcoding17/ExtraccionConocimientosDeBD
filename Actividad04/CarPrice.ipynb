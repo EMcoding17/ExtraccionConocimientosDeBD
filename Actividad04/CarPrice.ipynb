{
  "nbformat": 4,
  "nbformat_minor": 0,
  "metadata": {
    "colab": {
      "name": "CarPrice.ipynb",
      "provenance": [],
      "authorship_tag": "ABX9TyMv8j3qgKQq4TzapN8u5+CG",
      "include_colab_link": true
    },
    "kernelspec": {
      "name": "python3",
      "display_name": "Python 3"
    },
    "language_info": {
      "name": "python"
    }
  },
  "cells": [
    {
      "cell_type": "markdown",
      "metadata": {
        "id": "view-in-github",
        "colab_type": "text"
      },
      "source": [
        "<a href=\"https://colab.research.google.com/github/EMcoding17/ExtraccionConocimientosDeBD/blob/main/Actividad04/CarPrice.ipynb\" target=\"_parent\"><img src=\"https://colab.research.google.com/assets/colab-badge.svg\" alt=\"Open In Colab\"/></a>"
      ]
    },
    {
      "cell_type": "markdown",
      "metadata": {
        "id": "Ha_yOcVJhnWr"
      },
      "source": [
        "# **ANÁLISIS DEL DATASET CAR PRICE**\n",
        "## **Extraccion de conocimientos de base de datos**\n",
        "## **Romero Sosa Emma Yuridia**\n",
        "## **IDGS 91** \n",
        "\n",
        "\n",
        "---\n",
        "\n"
      ]
    },
    {
      "cell_type": "code",
      "metadata": {
        "colab": {
          "base_uri": "https://localhost:8080/"
        },
        "id": "pvky2a-MTo5K",
        "outputId": "5ab61cae-c875-46d5-856b-b7e703019653"
      },
      "source": [
        "!pip install fuzzywuzzy"
      ],
      "execution_count": 177,
      "outputs": [
        {
          "output_type": "stream",
          "name": "stdout",
          "text": [
            "Requirement already satisfied: fuzzywuzzy in /usr/local/lib/python3.7/dist-packages (0.18.0)\n"
          ]
        }
      ]
    },
    {
      "cell_type": "markdown",
      "metadata": {
        "id": "zH3Z1THXjw-f"
      },
      "source": [
        "# **Librerías**"
      ]
    },
    {
      "cell_type": "code",
      "metadata": {
        "id": "vfnWgi6yjv9S"
      },
      "source": [
        "import numpy as np\n",
        "import pandas as pd\n",
        "#librerias para crear graficos\n",
        "import matplotlib.pyplot as plt\n",
        "import seaborn as sns\n",
        "import scipy.stats as stats\n",
        "#Librerias para valores que coinciden\n",
        "import fuzzywuzzy\n",
        "from fuzzywuzzy import process\n",
        "import chardet"
      ],
      "execution_count": 178,
      "outputs": []
    },
    {
      "cell_type": "markdown",
      "metadata": {
        "id": "7tD_x-AplzvQ"
      },
      "source": [
        "# **Cargar dataset**\n"
      ]
    },
    {
      "cell_type": "code",
      "metadata": {
        "colab": {
          "base_uri": "https://localhost:8080/",
          "height": 0
        },
        "id": "h_FZjot0jj4l",
        "outputId": "4b742eb8-977c-4d02-fbbe-be7877ef633a"
      },
      "source": [
        "#Cargar dataset desde github\n",
        "!wget https://raw.githubusercontent.com/EMcoding17/ExtraccionConocimientosDeBD/main/Actividad04/car_price_assignment.csv\n",
        "dfcar_price = pd.read_csv(\"car_price_assignment.csv\",delimiter=',',header='infer')\n",
        "\n",
        "#Mostrar los primeros 5 datos\n",
        "dfcar_price.head()"
      ],
      "execution_count": 179,
      "outputs": [
        {
          "output_type": "stream",
          "name": "stdout",
          "text": [
            "--2021-10-24 00:06:24--  https://raw.githubusercontent.com/EMcoding17/ExtraccionConocimientosDeBD/main/Actividad04/car_price_assignment.csv\n",
            "Resolving raw.githubusercontent.com (raw.githubusercontent.com)... 185.199.108.133, 185.199.110.133, 185.199.109.133, ...\n",
            "Connecting to raw.githubusercontent.com (raw.githubusercontent.com)|185.199.108.133|:443... connected.\n",
            "HTTP request sent, awaiting response... 200 OK\n",
            "Length: 26717 (26K) [text/plain]\n",
            "Saving to: ‘car_price_assignment.csv.10’\n",
            "\n",
            "\r          car_price   0%[                    ]       0  --.-KB/s               \rcar_price_assignmen 100%[===================>]  26.09K  --.-KB/s    in 0.001s  \n",
            "\n",
            "2021-10-24 00:06:24 (19.0 MB/s) - ‘car_price_assignment.csv.10’ saved [26717/26717]\n",
            "\n"
          ]
        },
        {
          "output_type": "execute_result",
          "data": {
            "text/html": [
              "<div>\n",
              "<style scoped>\n",
              "    .dataframe tbody tr th:only-of-type {\n",
              "        vertical-align: middle;\n",
              "    }\n",
              "\n",
              "    .dataframe tbody tr th {\n",
              "        vertical-align: top;\n",
              "    }\n",
              "\n",
              "    .dataframe thead th {\n",
              "        text-align: right;\n",
              "    }\n",
              "</style>\n",
              "<table border=\"1\" class=\"dataframe\">\n",
              "  <thead>\n",
              "    <tr style=\"text-align: right;\">\n",
              "      <th></th>\n",
              "      <th>car_ID</th>\n",
              "      <th>symboling</th>\n",
              "      <th>CarName</th>\n",
              "      <th>fueltype</th>\n",
              "      <th>aspiration</th>\n",
              "      <th>doornumber</th>\n",
              "      <th>carbody</th>\n",
              "      <th>drivewheel</th>\n",
              "      <th>enginelocation</th>\n",
              "      <th>wheelbase</th>\n",
              "      <th>carlength</th>\n",
              "      <th>carwidth</th>\n",
              "      <th>carheight</th>\n",
              "      <th>curbweight</th>\n",
              "      <th>enginetype</th>\n",
              "      <th>cylindernumber</th>\n",
              "      <th>enginesize</th>\n",
              "      <th>fuelsystem</th>\n",
              "      <th>boreratio</th>\n",
              "      <th>stroke</th>\n",
              "      <th>compressionratio</th>\n",
              "      <th>horsepower</th>\n",
              "      <th>peakrpm</th>\n",
              "      <th>citympg</th>\n",
              "      <th>highwaympg</th>\n",
              "      <th>price</th>\n",
              "    </tr>\n",
              "  </thead>\n",
              "  <tbody>\n",
              "    <tr>\n",
              "      <th>0</th>\n",
              "      <td>1</td>\n",
              "      <td>3</td>\n",
              "      <td>alfa-romero giulia</td>\n",
              "      <td>gas</td>\n",
              "      <td>std</td>\n",
              "      <td>two</td>\n",
              "      <td>convertible</td>\n",
              "      <td>rwd</td>\n",
              "      <td>front</td>\n",
              "      <td>88.6</td>\n",
              "      <td>168.8</td>\n",
              "      <td>64.1</td>\n",
              "      <td>48.8</td>\n",
              "      <td>2548</td>\n",
              "      <td>dohc</td>\n",
              "      <td>four</td>\n",
              "      <td>130</td>\n",
              "      <td>mpfi</td>\n",
              "      <td>3.47</td>\n",
              "      <td>2.68</td>\n",
              "      <td>9.0</td>\n",
              "      <td>111</td>\n",
              "      <td>5000</td>\n",
              "      <td>21</td>\n",
              "      <td>27</td>\n",
              "      <td>13495.0</td>\n",
              "    </tr>\n",
              "    <tr>\n",
              "      <th>1</th>\n",
              "      <td>2</td>\n",
              "      <td>3</td>\n",
              "      <td>alfa-romero stelvio</td>\n",
              "      <td>gas</td>\n",
              "      <td>std</td>\n",
              "      <td>two</td>\n",
              "      <td>convertible</td>\n",
              "      <td>rwd</td>\n",
              "      <td>front</td>\n",
              "      <td>88.6</td>\n",
              "      <td>168.8</td>\n",
              "      <td>64.1</td>\n",
              "      <td>48.8</td>\n",
              "      <td>2548</td>\n",
              "      <td>dohc</td>\n",
              "      <td>four</td>\n",
              "      <td>130</td>\n",
              "      <td>mpfi</td>\n",
              "      <td>3.47</td>\n",
              "      <td>2.68</td>\n",
              "      <td>9.0</td>\n",
              "      <td>111</td>\n",
              "      <td>5000</td>\n",
              "      <td>21</td>\n",
              "      <td>27</td>\n",
              "      <td>16500.0</td>\n",
              "    </tr>\n",
              "    <tr>\n",
              "      <th>2</th>\n",
              "      <td>3</td>\n",
              "      <td>1</td>\n",
              "      <td>alfa-romero Quadrifoglio</td>\n",
              "      <td>gas</td>\n",
              "      <td>std</td>\n",
              "      <td>two</td>\n",
              "      <td>hatchback</td>\n",
              "      <td>rwd</td>\n",
              "      <td>front</td>\n",
              "      <td>94.5</td>\n",
              "      <td>171.2</td>\n",
              "      <td>65.5</td>\n",
              "      <td>52.4</td>\n",
              "      <td>2823</td>\n",
              "      <td>ohcv</td>\n",
              "      <td>six</td>\n",
              "      <td>152</td>\n",
              "      <td>mpfi</td>\n",
              "      <td>2.68</td>\n",
              "      <td>3.47</td>\n",
              "      <td>9.0</td>\n",
              "      <td>154</td>\n",
              "      <td>5000</td>\n",
              "      <td>19</td>\n",
              "      <td>26</td>\n",
              "      <td>16500.0</td>\n",
              "    </tr>\n",
              "    <tr>\n",
              "      <th>3</th>\n",
              "      <td>4</td>\n",
              "      <td>2</td>\n",
              "      <td>audi 100 ls</td>\n",
              "      <td>gas</td>\n",
              "      <td>std</td>\n",
              "      <td>four</td>\n",
              "      <td>sedan</td>\n",
              "      <td>fwd</td>\n",
              "      <td>front</td>\n",
              "      <td>99.8</td>\n",
              "      <td>176.6</td>\n",
              "      <td>66.2</td>\n",
              "      <td>54.3</td>\n",
              "      <td>2337</td>\n",
              "      <td>ohc</td>\n",
              "      <td>four</td>\n",
              "      <td>109</td>\n",
              "      <td>mpfi</td>\n",
              "      <td>3.19</td>\n",
              "      <td>3.40</td>\n",
              "      <td>10.0</td>\n",
              "      <td>102</td>\n",
              "      <td>5500</td>\n",
              "      <td>24</td>\n",
              "      <td>30</td>\n",
              "      <td>13950.0</td>\n",
              "    </tr>\n",
              "    <tr>\n",
              "      <th>4</th>\n",
              "      <td>5</td>\n",
              "      <td>2</td>\n",
              "      <td>audi 100ls</td>\n",
              "      <td>gas</td>\n",
              "      <td>std</td>\n",
              "      <td>four</td>\n",
              "      <td>sedan</td>\n",
              "      <td>4wd</td>\n",
              "      <td>front</td>\n",
              "      <td>99.4</td>\n",
              "      <td>176.6</td>\n",
              "      <td>66.4</td>\n",
              "      <td>54.3</td>\n",
              "      <td>2824</td>\n",
              "      <td>ohc</td>\n",
              "      <td>five</td>\n",
              "      <td>136</td>\n",
              "      <td>mpfi</td>\n",
              "      <td>3.19</td>\n",
              "      <td>3.40</td>\n",
              "      <td>8.0</td>\n",
              "      <td>115</td>\n",
              "      <td>5500</td>\n",
              "      <td>18</td>\n",
              "      <td>22</td>\n",
              "      <td>17450.0</td>\n",
              "    </tr>\n",
              "  </tbody>\n",
              "</table>\n",
              "</div>"
            ],
            "text/plain": [
              "   car_ID  symboling                   CarName  ... citympg highwaympg    price\n",
              "0       1          3        alfa-romero giulia  ...      21         27  13495.0\n",
              "1       2          3       alfa-romero stelvio  ...      21         27  16500.0\n",
              "2       3          1  alfa-romero Quadrifoglio  ...      19         26  16500.0\n",
              "3       4          2               audi 100 ls  ...      24         30  13950.0\n",
              "4       5          2                audi 100ls  ...      18         22  17450.0\n",
              "\n",
              "[5 rows x 26 columns]"
            ]
          },
          "metadata": {},
          "execution_count": 179
        }
      ]
    },
    {
      "cell_type": "code",
      "metadata": {
        "colab": {
          "base_uri": "https://localhost:8080/"
        },
        "id": "0MytO7YYZymh",
        "outputId": "49f86a29-0dd7-4eee-fc3a-0c316a1ac669"
      },
      "source": [
        "# Obtener informacion del DataFrame\n",
        "dfcar_price.info()"
      ],
      "execution_count": 180,
      "outputs": [
        {
          "output_type": "stream",
          "name": "stdout",
          "text": [
            "<class 'pandas.core.frame.DataFrame'>\n",
            "RangeIndex: 205 entries, 0 to 204\n",
            "Data columns (total 26 columns):\n",
            " #   Column            Non-Null Count  Dtype  \n",
            "---  ------            --------------  -----  \n",
            " 0   car_ID            205 non-null    int64  \n",
            " 1   symboling         205 non-null    int64  \n",
            " 2   CarName           205 non-null    object \n",
            " 3   fueltype          205 non-null    object \n",
            " 4   aspiration        205 non-null    object \n",
            " 5   doornumber        205 non-null    object \n",
            " 6   carbody           205 non-null    object \n",
            " 7   drivewheel        205 non-null    object \n",
            " 8   enginelocation    205 non-null    object \n",
            " 9   wheelbase         205 non-null    float64\n",
            " 10  carlength         205 non-null    float64\n",
            " 11  carwidth          205 non-null    float64\n",
            " 12  carheight         205 non-null    float64\n",
            " 13  curbweight        205 non-null    int64  \n",
            " 14  enginetype        205 non-null    object \n",
            " 15  cylindernumber    205 non-null    object \n",
            " 16  enginesize        205 non-null    int64  \n",
            " 17  fuelsystem        205 non-null    object \n",
            " 18  boreratio         205 non-null    float64\n",
            " 19  stroke            205 non-null    float64\n",
            " 20  compressionratio  205 non-null    float64\n",
            " 21  horsepower        205 non-null    int64  \n",
            " 22  peakrpm           205 non-null    int64  \n",
            " 23  citympg           205 non-null    int64  \n",
            " 24  highwaympg        205 non-null    int64  \n",
            " 25  price             205 non-null    float64\n",
            "dtypes: float64(8), int64(8), object(10)\n",
            "memory usage: 41.8+ KB\n"
          ]
        }
      ]
    },
    {
      "cell_type": "markdown",
      "metadata": {
        "id": "YWtWl0UxaRQC"
      },
      "source": [
        "# **Funciones**"
      ]
    },
    {
      "cell_type": "markdown",
      "metadata": {
        "id": "y3E9OFvFa1uP"
      },
      "source": [
        "## **Funciones para la limpieza de datos**"
      ]
    },
    {
      "cell_type": "code",
      "metadata": {
        "id": "brK25vsl3MdL"
      },
      "source": [
        "# Función para conocer los valores unicos de las columnas.\n",
        "def uniqueData(df, col):\n",
        "  # Obtener todos los valores unicos en la columna\n",
        "  lista_unica = df[col].unique()\n",
        "\n",
        "  # sort them alphabetically and then take a closer look\n",
        "  lista_unica.sort()\n",
        "  print(\"Columna: \", col)\n",
        "  print(\"No. columnas unicas: \", lista_unica.size)\n",
        "  print(\"Valores unicos: \", lista_unica, \"\\n \")\n"
      ],
      "execution_count": 181,
      "outputs": []
    },
    {
      "cell_type": "code",
      "metadata": {
        "id": "YcXrm_fPOogN"
      },
      "source": [
        "#funcion para convertir valores a minusculas y eliminar espacios blancos al inicio y final de los valores\n",
        "def correctionData(df, col):\n",
        "  # Convertir los valores a minusculas de la columna CarName\n",
        "  dfcar_price['CarName'] = dfcar_price['CarName'].str.lower()\n",
        "\n",
        "  # Eliminar los espacios en blanco al inicio y final de los valores\n",
        "  dfcar_price['CarName'] = dfcar_price['CarName'].str.strip()\n",
        "  print(\"Corrección de datos realizada! \\n\")"
      ],
      "execution_count": 182,
      "outputs": []
    },
    {
      "cell_type": "code",
      "metadata": {
        "id": "w-R1zZv6O_dB"
      },
      "source": [
        "# función para mostrar los valores que coincidan con un string y reemplazarlos\n",
        "def matchData(df, col, string_to_match):\n",
        "    # Obtener lista de valores unicos\n",
        "    valores_unicos = df[col].unique()\n",
        "    \n",
        "    # Obtener las 5 coincidencias mas cercanas al string\n",
        "    matches = fuzzywuzzy.process.extract(string_to_match, valores_unicos, \n",
        "                                         limit=5, scorer=fuzzywuzzy.fuzz.token_sort_ratio)\n",
        "\n",
        "    # Obtener solo los valores con coincidencia mayor a 90\n",
        "    close_matches = [matches[0] for matches in matches if matches[1] >= 75]\n",
        "\n",
        "    # Obtener las filas de los valores que coinciden\n",
        "    rows_with_matches = df[col].isin(close_matches)\n",
        "\n",
        "    # Reemplazar todas las filas de los valores que coinciden\n",
        "    df.loc[rows_with_matches, col] = string_to_match\n",
        "    \n",
        "    #Mostrar coincidencias\n",
        "    print(\"Coincidencias: \", matches)\n",
        "    print(\"Coincidencias mayoreas a 75%: \", close_matches)\n",
        "    print(\"Filas modificadas: \", rows_with_matches.sum())\n",
        "    print(\"\\n \")"
      ],
      "execution_count": 183,
      "outputs": []
    },
    {
      "cell_type": "markdown",
      "metadata": {
        "id": "a8y2lcW_3LpU"
      },
      "source": [
        "# **Limpieza de datos**"
      ]
    },
    {
      "cell_type": "markdown",
      "metadata": {
        "id": "377GJKPJnDvC"
      },
      "source": [
        "\n",
        "## **Verificar datos faltantes**"
      ]
    },
    {
      "cell_type": "code",
      "metadata": {
        "colab": {
          "base_uri": "https://localhost:8080/"
        },
        "id": "xDCFJQF6nRrS",
        "outputId": "d420b862-87bd-405f-f8c7-f7017797026e"
      },
      "source": [
        "#Obtener la suma de los valores perdidos por cada columna\n",
        "datos_perdidos = dfcar_price.isnull().sum()\n",
        "datos_perdidos"
      ],
      "execution_count": 184,
      "outputs": [
        {
          "output_type": "execute_result",
          "data": {
            "text/plain": [
              "car_ID              0\n",
              "symboling           0\n",
              "CarName             0\n",
              "fueltype            0\n",
              "aspiration          0\n",
              "doornumber          0\n",
              "carbody             0\n",
              "drivewheel          0\n",
              "enginelocation      0\n",
              "wheelbase           0\n",
              "carlength           0\n",
              "carwidth            0\n",
              "carheight           0\n",
              "curbweight          0\n",
              "enginetype          0\n",
              "cylindernumber      0\n",
              "enginesize          0\n",
              "fuelsystem          0\n",
              "boreratio           0\n",
              "stroke              0\n",
              "compressionratio    0\n",
              "horsepower          0\n",
              "peakrpm             0\n",
              "citympg             0\n",
              "highwaympg          0\n",
              "price               0\n",
              "dtype: int64"
            ]
          },
          "metadata": {},
          "execution_count": 184
        }
      ]
    },
    {
      "cell_type": "markdown",
      "metadata": {
        "id": "-75p2GPlsUah"
      },
      "source": [
        "## **Verificar datos duplicados**"
      ]
    },
    {
      "cell_type": "code",
      "metadata": {
        "colab": {
          "base_uri": "https://localhost:8080/"
        },
        "id": "6qfjsRjksOcj",
        "outputId": "b7c59878-990c-4301-c2ee-95a19e8bdb21"
      },
      "source": [
        "#Verificar que no haya datos duplicados dentro del dataframe\n",
        "dfcar_price.duplicated().sum()"
      ],
      "execution_count": 185,
      "outputs": [
        {
          "output_type": "execute_result",
          "data": {
            "text/plain": [
              "0"
            ]
          },
          "metadata": {},
          "execution_count": 185
        }
      ]
    },
    {
      "cell_type": "markdown",
      "metadata": {
        "id": "SMOuecx73M7_"
      },
      "source": [
        "## **Corrección de entrada de datos inconsistente**"
      ]
    },
    {
      "cell_type": "code",
      "metadata": {
        "colab": {
          "base_uri": "https://localhost:8080/"
        },
        "id": "0I5FAYXBhGnn",
        "outputId": "5f209cb7-0e08-4eb4-bd21-f83df0c23ebf"
      },
      "source": [
        "colm = [\"CarName\", \"fueltype\", \"aspiration\", \"doornumber\", \"carbody\", \"drivewheel\", \"enginelocation\", \"enginetype\", \"cylindernumber\", \"fuelsystem\"]\n",
        "\n",
        "for i in range(len(colm)):\n",
        "  col = colm[i]\n",
        "  uniqueData(dfcar_price, col)"
      ],
      "execution_count": 186,
      "outputs": [
        {
          "output_type": "stream",
          "name": "stdout",
          "text": [
            "Columna:  CarName\n",
            "No. columnas unicas:  147\n",
            "Valores unicos:  ['Nissan versa' 'alfa-romero Quadrifoglio' 'alfa-romero giulia'\n",
            " 'alfa-romero stelvio' 'audi 100 ls' 'audi 100ls' 'audi 4000' 'audi 5000'\n",
            " 'audi 5000s (diesel)' 'audi fox' 'bmw 320i' 'bmw x1' 'bmw x3' 'bmw x4'\n",
            " 'bmw x5' 'bmw z4' 'buick century' 'buick century luxus (sw)'\n",
            " 'buick century special' 'buick electra 225 custom'\n",
            " 'buick opel isuzu deluxe' 'buick regal sport coupe (turbo)'\n",
            " 'buick skyhawk' 'buick skylark' 'chevrolet impala'\n",
            " 'chevrolet monte carlo' 'chevrolet vega 2300' 'dodge challenger se'\n",
            " 'dodge colt (sw)' 'dodge colt hardtop' 'dodge coronet custom'\n",
            " 'dodge coronet custom (sw)' 'dodge d200' 'dodge dart custom'\n",
            " 'dodge monaco (sw)' 'dodge rampage' 'honda accord' 'honda accord cvcc'\n",
            " 'honda accord lx' 'honda civic' 'honda civic (auto)' 'honda civic 1300'\n",
            " 'honda civic 1500 gl' 'honda civic cvcc' 'honda prelude' 'isuzu D-Max '\n",
            " 'isuzu D-Max V-Cross' 'isuzu MU-X' 'jaguar xf' 'jaguar xj' 'jaguar xk'\n",
            " 'maxda glc deluxe' 'maxda rx3' 'mazda 626' 'mazda glc' 'mazda glc 4'\n",
            " 'mazda glc custom' 'mazda glc custom l' 'mazda glc deluxe' 'mazda rx-4'\n",
            " 'mazda rx-7 gs' 'mazda rx2 coupe' 'mercury cougar' 'mitsubishi g4'\n",
            " 'mitsubishi lancer' 'mitsubishi mirage' 'mitsubishi mirage g4'\n",
            " 'mitsubishi montero' 'mitsubishi outlander' 'mitsubishi pajero'\n",
            " 'nissan clipper' 'nissan dayz' 'nissan fuga' 'nissan gt-r' 'nissan juke'\n",
            " 'nissan kicks' 'nissan latio' 'nissan leaf' 'nissan note' 'nissan nv200'\n",
            " 'nissan otti' 'nissan rogue' 'nissan teana' 'nissan titan' 'peugeot 304'\n",
            " 'peugeot 504' 'peugeot 504 (sw)' 'peugeot 505s turbo diesel'\n",
            " 'peugeot 604sl' 'plymouth cricket' 'plymouth duster'\n",
            " 'plymouth fury gran sedan' 'plymouth fury iii'\n",
            " 'plymouth satellite custom (sw)' 'plymouth valiant' 'porcshce panamera'\n",
            " 'porsche boxter' 'porsche cayenne' 'porsche macan' 'renault 12tl'\n",
            " 'renault 5 gtl' 'saab 99e' 'saab 99gle' 'saab 99le' 'subaru'\n",
            " 'subaru baja' 'subaru brz' 'subaru dl' 'subaru r1' 'subaru r2'\n",
            " 'subaru trezia' 'subaru tribeca' 'toyota carina' 'toyota celica gt'\n",
            " 'toyota celica gt liftback' 'toyota corolla' 'toyota corolla 1200'\n",
            " 'toyota corolla 1600 (sw)' 'toyota corolla liftback'\n",
            " 'toyota corolla tercel' 'toyota corona' 'toyota corona hardtop'\n",
            " 'toyota corona liftback' 'toyota corona mark ii' 'toyota cressida'\n",
            " 'toyota mark ii' 'toyota starlet' 'toyota tercel' 'toyouta tercel'\n",
            " 'vokswagen rabbit' 'volkswagen 1131 deluxe sedan' 'volkswagen 411 (sw)'\n",
            " 'volkswagen dasher' 'volkswagen model 111' 'volkswagen rabbit'\n",
            " 'volkswagen rabbit custom' 'volkswagen super beetle' 'volkswagen type 3'\n",
            " 'volvo 144ea' 'volvo 145e (sw)' 'volvo 244dl' 'volvo 245' 'volvo 246'\n",
            " 'volvo 264gl' 'volvo diesel' 'vw dasher' 'vw rabbit'] \n",
            " \n",
            "Columna:  fueltype\n",
            "No. columnas unicas:  2\n",
            "Valores unicos:  ['diesel' 'gas'] \n",
            " \n",
            "Columna:  aspiration\n",
            "No. columnas unicas:  2\n",
            "Valores unicos:  ['std' 'turbo'] \n",
            " \n",
            "Columna:  doornumber\n",
            "No. columnas unicas:  2\n",
            "Valores unicos:  ['four' 'two'] \n",
            " \n",
            "Columna:  carbody\n",
            "No. columnas unicas:  5\n",
            "Valores unicos:  ['convertible' 'hardtop' 'hatchback' 'sedan' 'wagon'] \n",
            " \n",
            "Columna:  drivewheel\n",
            "No. columnas unicas:  3\n",
            "Valores unicos:  ['4wd' 'fwd' 'rwd'] \n",
            " \n",
            "Columna:  enginelocation\n",
            "No. columnas unicas:  2\n",
            "Valores unicos:  ['front' 'rear'] \n",
            " \n",
            "Columna:  enginetype\n",
            "No. columnas unicas:  7\n",
            "Valores unicos:  ['dohc' 'dohcv' 'l' 'ohc' 'ohcf' 'ohcv' 'rotor'] \n",
            " \n",
            "Columna:  cylindernumber\n",
            "No. columnas unicas:  7\n",
            "Valores unicos:  ['eight' 'five' 'four' 'six' 'three' 'twelve' 'two'] \n",
            " \n",
            "Columna:  fuelsystem\n",
            "No. columnas unicas:  8\n",
            "Valores unicos:  ['1bbl' '2bbl' '4bbl' 'idi' 'mfi' 'mpfi' 'spdi' 'spfi'] \n",
            " \n"
          ]
        }
      ]
    },
    {
      "cell_type": "markdown",
      "metadata": {
        "id": "OzgNS2sSdB2a"
      },
      "source": [
        "> ### **Columna: CarName**"
      ]
    },
    {
      "cell_type": "markdown",
      "metadata": {
        "id": "zV-AtLOr4gM8"
      },
      "source": [
        "Podemos observar que existen algunos datos inconsistentes en la columna **CarName** como **'audi 100 ls'** y **'audi 100ls'** donde el primero cuenta con espacio entre 100 y ls, mientras que el segundo no. Otro ejemplo es con **'Nissan versa'** que comienza con mayusculas, mientras que la mayor cantidad de nombres son en minisculas \n",
        "\n",
        "Asi que corregimos estos datos de entrada de la siguiente forma:\n",
        "* Convertimos todos los valores a minusculas.\n",
        "* Eliminamos espacios en blanco al inicio y al final de los valores.\n",
        "* Reemplazamos los valores que creemos que coinciden."
      ]
    },
    {
      "cell_type": "code",
      "metadata": {
        "colab": {
          "base_uri": "https://localhost:8080/"
        },
        "id": "n19eXDKORvJp",
        "outputId": "7eb0d756-2dfa-44bb-e3fc-2a7391f403db"
      },
      "source": [
        "# Corregir datos\n",
        "correctionData(dfcar_price, \"CarName\")\n",
        "\n",
        "#Reemplazar datos que coinciden en la columna CarName\n",
        "matchData(dfcar_price, 'CarName', \"audi 100 ls\")\n",
        "\n",
        "#Verificar modificaciones\n",
        "uniqueData(dfcar_price, 'CarName')"
      ],
      "execution_count": 187,
      "outputs": [
        {
          "output_type": "stream",
          "name": "stdout",
          "text": [
            "Corrección de datos realizada! \n",
            "\n",
            "Coincidencias:  [('audi 100 ls', 100), ('audi 100ls', 76), ('audi 5000', 70), ('audi 4000', 70), ('audi 5000s (diesel)', 64)]\n",
            "Coincidencias mayoreas a 75%:  ['audi 100 ls', 'audi 100ls']\n",
            "Filas modificadas:  3\n",
            "\n",
            " \n",
            "Columna:  CarName\n",
            "No. columnas unicas:  146\n",
            "Valores unicos:  ['alfa-romero giulia' 'alfa-romero quadrifoglio' 'alfa-romero stelvio'\n",
            " 'audi 100 ls' 'audi 4000' 'audi 5000' 'audi 5000s (diesel)' 'audi fox'\n",
            " 'bmw 320i' 'bmw x1' 'bmw x3' 'bmw x4' 'bmw x5' 'bmw z4' 'buick century'\n",
            " 'buick century luxus (sw)' 'buick century special'\n",
            " 'buick electra 225 custom' 'buick opel isuzu deluxe'\n",
            " 'buick regal sport coupe (turbo)' 'buick skyhawk' 'buick skylark'\n",
            " 'chevrolet impala' 'chevrolet monte carlo' 'chevrolet vega 2300'\n",
            " 'dodge challenger se' 'dodge colt (sw)' 'dodge colt hardtop'\n",
            " 'dodge coronet custom' 'dodge coronet custom (sw)' 'dodge d200'\n",
            " 'dodge dart custom' 'dodge monaco (sw)' 'dodge rampage' 'honda accord'\n",
            " 'honda accord cvcc' 'honda accord lx' 'honda civic' 'honda civic (auto)'\n",
            " 'honda civic 1300' 'honda civic 1500 gl' 'honda civic cvcc'\n",
            " 'honda prelude' 'isuzu d-max' 'isuzu d-max v-cross' 'isuzu mu-x'\n",
            " 'jaguar xf' 'jaguar xj' 'jaguar xk' 'maxda glc deluxe' 'maxda rx3'\n",
            " 'mazda 626' 'mazda glc' 'mazda glc 4' 'mazda glc custom'\n",
            " 'mazda glc custom l' 'mazda glc deluxe' 'mazda rx-4' 'mazda rx-7 gs'\n",
            " 'mazda rx2 coupe' 'mercury cougar' 'mitsubishi g4' 'mitsubishi lancer'\n",
            " 'mitsubishi mirage' 'mitsubishi mirage g4' 'mitsubishi montero'\n",
            " 'mitsubishi outlander' 'mitsubishi pajero' 'nissan clipper' 'nissan dayz'\n",
            " 'nissan fuga' 'nissan gt-r' 'nissan juke' 'nissan kicks' 'nissan latio'\n",
            " 'nissan leaf' 'nissan note' 'nissan nv200' 'nissan otti' 'nissan rogue'\n",
            " 'nissan teana' 'nissan titan' 'nissan versa' 'peugeot 304' 'peugeot 504'\n",
            " 'peugeot 504 (sw)' 'peugeot 505s turbo diesel' 'peugeot 604sl'\n",
            " 'plymouth cricket' 'plymouth duster' 'plymouth fury gran sedan'\n",
            " 'plymouth fury iii' 'plymouth satellite custom (sw)' 'plymouth valiant'\n",
            " 'porcshce panamera' 'porsche boxter' 'porsche cayenne' 'porsche macan'\n",
            " 'renault 12tl' 'renault 5 gtl' 'saab 99e' 'saab 99gle' 'saab 99le'\n",
            " 'subaru' 'subaru baja' 'subaru brz' 'subaru dl' 'subaru r1' 'subaru r2'\n",
            " 'subaru trezia' 'subaru tribeca' 'toyota carina' 'toyota celica gt'\n",
            " 'toyota celica gt liftback' 'toyota corolla' 'toyota corolla 1200'\n",
            " 'toyota corolla 1600 (sw)' 'toyota corolla liftback'\n",
            " 'toyota corolla tercel' 'toyota corona' 'toyota corona hardtop'\n",
            " 'toyota corona liftback' 'toyota corona mark ii' 'toyota cressida'\n",
            " 'toyota mark ii' 'toyota starlet' 'toyota tercel' 'toyouta tercel'\n",
            " 'vokswagen rabbit' 'volkswagen 1131 deluxe sedan' 'volkswagen 411 (sw)'\n",
            " 'volkswagen dasher' 'volkswagen model 111' 'volkswagen rabbit'\n",
            " 'volkswagen rabbit custom' 'volkswagen super beetle' 'volkswagen type 3'\n",
            " 'volvo 144ea' 'volvo 145e (sw)' 'volvo 244dl' 'volvo 245' 'volvo 246'\n",
            " 'volvo 264gl' 'volvo diesel' 'vw dasher' 'vw rabbit'] \n",
            " \n"
          ]
        }
      ]
    },
    {
      "cell_type": "markdown",
      "metadata": {
        "id": "hLg355peqGQH"
      },
      "source": [
        "## **Verificar tipo de datos**"
      ]
    },
    {
      "cell_type": "code",
      "metadata": {
        "colab": {
          "base_uri": "https://localhost:8080/"
        },
        "id": "0M_b5FotqD2M",
        "outputId": "f4438689-4a42-4ffe-d9a4-8aabbbd2a003"
      },
      "source": [
        "#Verificacion del tipo de dato por columna\n",
        "dfcar_price.info()"
      ],
      "execution_count": 188,
      "outputs": [
        {
          "output_type": "stream",
          "name": "stdout",
          "text": [
            "<class 'pandas.core.frame.DataFrame'>\n",
            "RangeIndex: 205 entries, 0 to 204\n",
            "Data columns (total 26 columns):\n",
            " #   Column            Non-Null Count  Dtype  \n",
            "---  ------            --------------  -----  \n",
            " 0   car_ID            205 non-null    int64  \n",
            " 1   symboling         205 non-null    int64  \n",
            " 2   CarName           205 non-null    object \n",
            " 3   fueltype          205 non-null    object \n",
            " 4   aspiration        205 non-null    object \n",
            " 5   doornumber        205 non-null    object \n",
            " 6   carbody           205 non-null    object \n",
            " 7   drivewheel        205 non-null    object \n",
            " 8   enginelocation    205 non-null    object \n",
            " 9   wheelbase         205 non-null    float64\n",
            " 10  carlength         205 non-null    float64\n",
            " 11  carwidth          205 non-null    float64\n",
            " 12  carheight         205 non-null    float64\n",
            " 13  curbweight        205 non-null    int64  \n",
            " 14  enginetype        205 non-null    object \n",
            " 15  cylindernumber    205 non-null    object \n",
            " 16  enginesize        205 non-null    int64  \n",
            " 17  fuelsystem        205 non-null    object \n",
            " 18  boreratio         205 non-null    float64\n",
            " 19  stroke            205 non-null    float64\n",
            " 20  compressionratio  205 non-null    float64\n",
            " 21  horsepower        205 non-null    int64  \n",
            " 22  peakrpm           205 non-null    int64  \n",
            " 23  citympg           205 non-null    int64  \n",
            " 24  highwaympg        205 non-null    int64  \n",
            " 25  price             205 non-null    float64\n",
            "dtypes: float64(8), int64(8), object(10)\n",
            "memory usage: 41.8+ KB\n"
          ]
        }
      ]
    }
  ]
}