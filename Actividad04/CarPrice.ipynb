{
  "nbformat": 4,
  "nbformat_minor": 0,
  "metadata": {
    "colab": {
      "name": "CarPrice.ipynb",
      "provenance": [],
      "collapsed_sections": [
        "zH3Z1THXjw-f"
      ],
      "authorship_tag": "ABX9TyP4T0Quqh+8hmXtsFKU9eot",
      "include_colab_link": true
    },
    "kernelspec": {
      "name": "python3",
      "display_name": "Python 3"
    },
    "language_info": {
      "name": "python"
    }
  },
  "cells": [
    {
      "cell_type": "markdown",
      "metadata": {
        "id": "view-in-github",
        "colab_type": "text"
      },
      "source": [
        "<a href=\"https://colab.research.google.com/github/EMcoding17/ExtraccionConocimientosDeBD/blob/main/Actividad04/CarPrice.ipynb\" target=\"_parent\"><img src=\"https://colab.research.google.com/assets/colab-badge.svg\" alt=\"Open In Colab\"/></a>"
      ]
    },
    {
      "cell_type": "markdown",
      "metadata": {
        "id": "Ha_yOcVJhnWr"
      },
      "source": [
        "# **ANÁLISIS DEL DATASET CAR PRICE**\n",
        "## **Extraccion de conocimientos de base de datos**\n",
        "## **Romero Sosa Emma Yuridia**\n",
        "## **IDGS 91** \n",
        "\n",
        "\n",
        "---\n",
        "\n"
      ]
    },
    {
      "cell_type": "code",
      "metadata": {
        "colab": {
          "base_uri": "https://localhost:8080/"
        },
        "id": "pvky2a-MTo5K",
        "outputId": "b21e1e8a-fc01-4785-ca21-aa92a59771d0"
      },
      "source": [
        "!pip install fuzzywuzzy"
      ],
      "execution_count": 980,
      "outputs": [
        {
          "output_type": "stream",
          "name": "stdout",
          "text": [
            "Requirement already satisfied: fuzzywuzzy in /usr/local/lib/python3.7/dist-packages (0.18.0)\n"
          ]
        }
      ]
    },
    {
      "cell_type": "markdown",
      "metadata": {
        "id": "zH3Z1THXjw-f"
      },
      "source": [
        "# **Librerías**"
      ]
    },
    {
      "cell_type": "code",
      "metadata": {
        "id": "vfnWgi6yjv9S"
      },
      "source": [
        "import numpy as np\n",
        "import pandas as pd\n",
        "#librerias para crear graficos\n",
        "import matplotlib.pyplot as plt\n",
        "import seaborn as sns\n",
        "import scipy.stats as stats\n",
        "#Librerias para valores que coinciden\n",
        "import fuzzywuzzy\n",
        "from fuzzywuzzy import process\n",
        "import chardet"
      ],
      "execution_count": 981,
      "outputs": []
    },
    {
      "cell_type": "markdown",
      "metadata": {
        "id": "7tD_x-AplzvQ"
      },
      "source": [
        "# **Cargar dataset**\n"
      ]
    },
    {
      "cell_type": "code",
      "metadata": {
        "colab": {
          "base_uri": "https://localhost:8080/"
        },
        "id": "h_FZjot0jj4l",
        "outputId": "617cdcc8-3e81-42c3-aec0-8ba041fef9e0"
      },
      "source": [
        "#Cargar dataset desde github\n",
        "!wget https://raw.githubusercontent.com/EMcoding17/ExtraccionConocimientosDeBD/main/Actividad04/car_price_assignment.csv\n",
        "dfcar_price = pd.read_csv(\"car_price_assignment.csv\",delimiter=',',header='infer')"
      ],
      "execution_count": 982,
      "outputs": [
        {
          "output_type": "stream",
          "name": "stdout",
          "text": [
            "--2021-10-24 07:04:19--  https://raw.githubusercontent.com/EMcoding17/ExtraccionConocimientosDeBD/main/Actividad04/car_price_assignment.csv\n",
            "Resolving raw.githubusercontent.com (raw.githubusercontent.com)... 185.199.108.133, 185.199.109.133, 185.199.110.133, ...\n",
            "Connecting to raw.githubusercontent.com (raw.githubusercontent.com)|185.199.108.133|:443... connected.\n",
            "HTTP request sent, awaiting response... 200 OK\n",
            "Length: 26717 (26K) [text/plain]\n",
            "Saving to: ‘car_price_assignment.csv.43’\n",
            "\n",
            "\r          car_price   0%[                    ]       0  --.-KB/s               \rcar_price_assignmen 100%[===================>]  26.09K  --.-KB/s    in 0.001s  \n",
            "\n",
            "2021-10-24 07:04:20 (19.7 MB/s) - ‘car_price_assignment.csv.43’ saved [26717/26717]\n",
            "\n"
          ]
        }
      ]
    },
    {
      "cell_type": "code",
      "metadata": {
        "colab": {
          "base_uri": "https://localhost:8080/",
          "height": 0
        },
        "id": "ZUUwHCQ7oZUJ",
        "outputId": "c3829544-1b89-419e-b7a2-a7ceab1ef3ed"
      },
      "source": [
        "#Mostrar los primeros 5 datos\n",
        "dfcar_price.head()"
      ],
      "execution_count": 983,
      "outputs": [
        {
          "output_type": "execute_result",
          "data": {
            "text/html": [
              "<div>\n",
              "<style scoped>\n",
              "    .dataframe tbody tr th:only-of-type {\n",
              "        vertical-align: middle;\n",
              "    }\n",
              "\n",
              "    .dataframe tbody tr th {\n",
              "        vertical-align: top;\n",
              "    }\n",
              "\n",
              "    .dataframe thead th {\n",
              "        text-align: right;\n",
              "    }\n",
              "</style>\n",
              "<table border=\"1\" class=\"dataframe\">\n",
              "  <thead>\n",
              "    <tr style=\"text-align: right;\">\n",
              "      <th></th>\n",
              "      <th>car_ID</th>\n",
              "      <th>symboling</th>\n",
              "      <th>CarName</th>\n",
              "      <th>fueltype</th>\n",
              "      <th>aspiration</th>\n",
              "      <th>doornumber</th>\n",
              "      <th>carbody</th>\n",
              "      <th>drivewheel</th>\n",
              "      <th>enginelocation</th>\n",
              "      <th>wheelbase</th>\n",
              "      <th>carlength</th>\n",
              "      <th>carwidth</th>\n",
              "      <th>carheight</th>\n",
              "      <th>curbweight</th>\n",
              "      <th>enginetype</th>\n",
              "      <th>cylindernumber</th>\n",
              "      <th>enginesize</th>\n",
              "      <th>fuelsystem</th>\n",
              "      <th>boreratio</th>\n",
              "      <th>stroke</th>\n",
              "      <th>compressionratio</th>\n",
              "      <th>horsepower</th>\n",
              "      <th>peakrpm</th>\n",
              "      <th>citympg</th>\n",
              "      <th>highwaympg</th>\n",
              "      <th>price</th>\n",
              "    </tr>\n",
              "  </thead>\n",
              "  <tbody>\n",
              "    <tr>\n",
              "      <th>0</th>\n",
              "      <td>1</td>\n",
              "      <td>3</td>\n",
              "      <td>alfa-romero giulia</td>\n",
              "      <td>gas</td>\n",
              "      <td>std</td>\n",
              "      <td>two</td>\n",
              "      <td>convertible</td>\n",
              "      <td>rwd</td>\n",
              "      <td>front</td>\n",
              "      <td>88.6</td>\n",
              "      <td>168.8</td>\n",
              "      <td>64.1</td>\n",
              "      <td>48.8</td>\n",
              "      <td>2548</td>\n",
              "      <td>dohc</td>\n",
              "      <td>four</td>\n",
              "      <td>130</td>\n",
              "      <td>mpfi</td>\n",
              "      <td>3.47</td>\n",
              "      <td>2.68</td>\n",
              "      <td>9.0</td>\n",
              "      <td>111</td>\n",
              "      <td>5000</td>\n",
              "      <td>21</td>\n",
              "      <td>27</td>\n",
              "      <td>13495.0</td>\n",
              "    </tr>\n",
              "    <tr>\n",
              "      <th>1</th>\n",
              "      <td>2</td>\n",
              "      <td>3</td>\n",
              "      <td>alfa-romero stelvio</td>\n",
              "      <td>gas</td>\n",
              "      <td>std</td>\n",
              "      <td>two</td>\n",
              "      <td>convertible</td>\n",
              "      <td>rwd</td>\n",
              "      <td>front</td>\n",
              "      <td>88.6</td>\n",
              "      <td>168.8</td>\n",
              "      <td>64.1</td>\n",
              "      <td>48.8</td>\n",
              "      <td>2548</td>\n",
              "      <td>dohc</td>\n",
              "      <td>four</td>\n",
              "      <td>130</td>\n",
              "      <td>mpfi</td>\n",
              "      <td>3.47</td>\n",
              "      <td>2.68</td>\n",
              "      <td>9.0</td>\n",
              "      <td>111</td>\n",
              "      <td>5000</td>\n",
              "      <td>21</td>\n",
              "      <td>27</td>\n",
              "      <td>16500.0</td>\n",
              "    </tr>\n",
              "    <tr>\n",
              "      <th>2</th>\n",
              "      <td>3</td>\n",
              "      <td>1</td>\n",
              "      <td>alfa-romero Quadrifoglio</td>\n",
              "      <td>gas</td>\n",
              "      <td>std</td>\n",
              "      <td>two</td>\n",
              "      <td>hatchback</td>\n",
              "      <td>rwd</td>\n",
              "      <td>front</td>\n",
              "      <td>94.5</td>\n",
              "      <td>171.2</td>\n",
              "      <td>65.5</td>\n",
              "      <td>52.4</td>\n",
              "      <td>2823</td>\n",
              "      <td>ohcv</td>\n",
              "      <td>six</td>\n",
              "      <td>152</td>\n",
              "      <td>mpfi</td>\n",
              "      <td>2.68</td>\n",
              "      <td>3.47</td>\n",
              "      <td>9.0</td>\n",
              "      <td>154</td>\n",
              "      <td>5000</td>\n",
              "      <td>19</td>\n",
              "      <td>26</td>\n",
              "      <td>16500.0</td>\n",
              "    </tr>\n",
              "    <tr>\n",
              "      <th>3</th>\n",
              "      <td>4</td>\n",
              "      <td>2</td>\n",
              "      <td>audi 100 ls</td>\n",
              "      <td>gas</td>\n",
              "      <td>std</td>\n",
              "      <td>four</td>\n",
              "      <td>sedan</td>\n",
              "      <td>fwd</td>\n",
              "      <td>front</td>\n",
              "      <td>99.8</td>\n",
              "      <td>176.6</td>\n",
              "      <td>66.2</td>\n",
              "      <td>54.3</td>\n",
              "      <td>2337</td>\n",
              "      <td>ohc</td>\n",
              "      <td>four</td>\n",
              "      <td>109</td>\n",
              "      <td>mpfi</td>\n",
              "      <td>3.19</td>\n",
              "      <td>3.40</td>\n",
              "      <td>10.0</td>\n",
              "      <td>102</td>\n",
              "      <td>5500</td>\n",
              "      <td>24</td>\n",
              "      <td>30</td>\n",
              "      <td>13950.0</td>\n",
              "    </tr>\n",
              "    <tr>\n",
              "      <th>4</th>\n",
              "      <td>5</td>\n",
              "      <td>2</td>\n",
              "      <td>audi 100ls</td>\n",
              "      <td>gas</td>\n",
              "      <td>std</td>\n",
              "      <td>four</td>\n",
              "      <td>sedan</td>\n",
              "      <td>4wd</td>\n",
              "      <td>front</td>\n",
              "      <td>99.4</td>\n",
              "      <td>176.6</td>\n",
              "      <td>66.4</td>\n",
              "      <td>54.3</td>\n",
              "      <td>2824</td>\n",
              "      <td>ohc</td>\n",
              "      <td>five</td>\n",
              "      <td>136</td>\n",
              "      <td>mpfi</td>\n",
              "      <td>3.19</td>\n",
              "      <td>3.40</td>\n",
              "      <td>8.0</td>\n",
              "      <td>115</td>\n",
              "      <td>5500</td>\n",
              "      <td>18</td>\n",
              "      <td>22</td>\n",
              "      <td>17450.0</td>\n",
              "    </tr>\n",
              "  </tbody>\n",
              "</table>\n",
              "</div>"
            ],
            "text/plain": [
              "   car_ID  symboling                   CarName  ... citympg highwaympg    price\n",
              "0       1          3        alfa-romero giulia  ...      21         27  13495.0\n",
              "1       2          3       alfa-romero stelvio  ...      21         27  16500.0\n",
              "2       3          1  alfa-romero Quadrifoglio  ...      19         26  16500.0\n",
              "3       4          2               audi 100 ls  ...      24         30  13950.0\n",
              "4       5          2                audi 100ls  ...      18         22  17450.0\n",
              "\n",
              "[5 rows x 26 columns]"
            ]
          },
          "metadata": {},
          "execution_count": 983
        }
      ]
    },
    {
      "cell_type": "code",
      "metadata": {
        "colab": {
          "base_uri": "https://localhost:8080/"
        },
        "id": "0MytO7YYZymh",
        "outputId": "84410f12-85f0-4a3c-9ab9-00239c3a4939"
      },
      "source": [
        "# Obtener forma del DataFrame\n",
        "dfcar_price.shape\n"
      ],
      "execution_count": 984,
      "outputs": [
        {
          "output_type": "execute_result",
          "data": {
            "text/plain": [
              "(205, 26)"
            ]
          },
          "metadata": {},
          "execution_count": 984
        }
      ]
    },
    {
      "cell_type": "code",
      "metadata": {
        "colab": {
          "base_uri": "https://localhost:8080/"
        },
        "id": "fOtrDKpoogpS",
        "outputId": "054d0ee3-30e2-4e02-d2ce-d74ee738c222"
      },
      "source": [
        "# Obtener información del DataFrame\n",
        "dfcar_price.info()"
      ],
      "execution_count": 985,
      "outputs": [
        {
          "output_type": "stream",
          "name": "stdout",
          "text": [
            "<class 'pandas.core.frame.DataFrame'>\n",
            "RangeIndex: 205 entries, 0 to 204\n",
            "Data columns (total 26 columns):\n",
            " #   Column            Non-Null Count  Dtype  \n",
            "---  ------            --------------  -----  \n",
            " 0   car_ID            205 non-null    int64  \n",
            " 1   symboling         205 non-null    int64  \n",
            " 2   CarName           205 non-null    object \n",
            " 3   fueltype          205 non-null    object \n",
            " 4   aspiration        205 non-null    object \n",
            " 5   doornumber        205 non-null    object \n",
            " 6   carbody           205 non-null    object \n",
            " 7   drivewheel        205 non-null    object \n",
            " 8   enginelocation    205 non-null    object \n",
            " 9   wheelbase         205 non-null    float64\n",
            " 10  carlength         205 non-null    float64\n",
            " 11  carwidth          205 non-null    float64\n",
            " 12  carheight         205 non-null    float64\n",
            " 13  curbweight        205 non-null    int64  \n",
            " 14  enginetype        205 non-null    object \n",
            " 15  cylindernumber    205 non-null    object \n",
            " 16  enginesize        205 non-null    int64  \n",
            " 17  fuelsystem        205 non-null    object \n",
            " 18  boreratio         205 non-null    float64\n",
            " 19  stroke            205 non-null    float64\n",
            " 20  compressionratio  205 non-null    float64\n",
            " 21  horsepower        205 non-null    int64  \n",
            " 22  peakrpm           205 non-null    int64  \n",
            " 23  citympg           205 non-null    int64  \n",
            " 24  highwaympg        205 non-null    int64  \n",
            " 25  price             205 non-null    float64\n",
            "dtypes: float64(8), int64(8), object(10)\n",
            "memory usage: 41.8+ KB\n"
          ]
        }
      ]
    },
    {
      "cell_type": "markdown",
      "metadata": {
        "id": "YWtWl0UxaRQC"
      },
      "source": [
        "# **Funciones**"
      ]
    },
    {
      "cell_type": "markdown",
      "metadata": {
        "id": "y3E9OFvFa1uP"
      },
      "source": [
        "## **Funciones para la limpieza de datos**"
      ]
    },
    {
      "cell_type": "code",
      "metadata": {
        "id": "brK25vsl3MdL"
      },
      "source": [
        "# Función para conocer los valores unicos de las columnas.\n",
        "def uniqueData(df, col):\n",
        "  # Obtener todos los valores unicos en la columna\n",
        "  lista_unica = df[col].unique()\n",
        "\n",
        "  # sort them alphabetically and then take a closer look\n",
        "  lista_unica.sort()\n",
        "  print(\"Columna: \", col)\n",
        "  print(\"No. columnas unicas: \", lista_unica.size)\n",
        "  print(\"Valores unicos: \", lista_unica)\n"
      ],
      "execution_count": 986,
      "outputs": []
    },
    {
      "cell_type": "code",
      "metadata": {
        "id": "YcXrm_fPOogN"
      },
      "source": [
        "#funcion para convertir valores a minusculas y eliminar espacios blancos al inicio y final de los valores\n",
        "def correctionData(df, col):\n",
        "  # Convertir los valores a minusculas de la columna CarName\n",
        "  dfcar_price['CarName'] = dfcar_price['CarName'].str.lower()\n",
        "\n",
        "  # Eliminar los espacios en blanco al inicio y final de los valores\n",
        "  dfcar_price['CarName'] = dfcar_price['CarName'].str.strip()\n",
        "  print(\"Corrección de datos realizada!\")"
      ],
      "execution_count": 987,
      "outputs": []
    },
    {
      "cell_type": "code",
      "metadata": {
        "id": "w-R1zZv6O_dB"
      },
      "source": [
        "# función para remplazar los valores que coincidan con un string\n",
        "def replaceData(df, col, string_to_match, min_percent):\n",
        "    # Obtener lista de valores unicos\n",
        "    valores_unicos = df[col].unique()\n",
        "    \n",
        "    # Obtener las 5 coincidencias mas cercanas al string\n",
        "    matches = fuzzywuzzy.process.extract(string_to_match, valores_unicos, \n",
        "                                         limit=15, scorer=fuzzywuzzy.fuzz.token_sort_ratio)\n",
        "\n",
        "    # Obtener solo los valores con coincidencia mayor a la indicada\n",
        "    close_matches = [matches[0] for matches in matches if matches[1] >= min_percent]\n",
        "\n",
        "    # Obtener las filas de los valores que coinciden\n",
        "    rows_with_matches = df[col].isin(close_matches)\n",
        "\n",
        "    # Reemplazar todas las filas de los valores que coinciden\n",
        "    df.loc[rows_with_matches, col] = string_to_match\n",
        "    \n",
        "    #Mostrar coincidencias\n",
        "    print(\"Con \", string_to_match, \"se modificaron \", rows_with_matches.sum(), \" filas, donde hubo una coincidencia mayor a \", min_percent, \"%\")"
      ],
      "execution_count": 988,
      "outputs": []
    },
    {
      "cell_type": "code",
      "metadata": {
        "id": "ofPwP_dSTW43"
      },
      "source": [
        "# funcion para mostrar los valores que coincidan con un string \n",
        "def matchData(df, col, string_to_match):\n",
        "  # Obtener lista de valores unicos\n",
        "  valores_unicos = df[col].unique()\n",
        "\n",
        "  # Obtener las 10 coincidencias mas cercanas al string\n",
        "  matches = fuzzywuzzy.process.extract(string_to_match, valores_unicos,\n",
        "                                       limit=15, scorer=fuzzywuzzy.fuzz.token_sort_ratio)\n",
        "  \n",
        "  #Mostrar coincidencias\n",
        "  print(\"Coincidencias: \", matches)"
      ],
      "execution_count": 989,
      "outputs": []
    },
    {
      "cell_type": "markdown",
      "metadata": {
        "id": "R2gPRQhnL2LH"
      },
      "source": [
        "## **Funciones para explorar datos**"
      ]
    },
    {
      "cell_type": "code",
      "metadata": {
        "id": "pWr8Q83YL-DQ"
      },
      "source": [
        "#funcion para separar columnas por tipo de dato\n",
        "def separateData(df):\n",
        "  col_category = []\n",
        "  col_number = []\n",
        "  \n",
        "  for col in df:\n",
        "    #Separar columnas por tipo object \n",
        "    if df[col].dtype == \"object\":\n",
        "      col_category.append(col)\n",
        "    \n",
        "    #Separar columnas por tipo int o float\n",
        "    if df[col].dtype != \"object\":\n",
        "      col_number.append(col)\n",
        "  \n",
        "  return col_category, col_number\n"
      ],
      "execution_count": 990,
      "outputs": []
    },
    {
      "cell_type": "markdown",
      "metadata": {
        "id": "a8y2lcW_3LpU"
      },
      "source": [
        "# **Limpieza de datos**"
      ]
    },
    {
      "cell_type": "markdown",
      "metadata": {
        "id": "377GJKPJnDvC"
      },
      "source": [
        "\n",
        "## **Verificar datos faltantes**"
      ]
    },
    {
      "cell_type": "code",
      "metadata": {
        "colab": {
          "base_uri": "https://localhost:8080/"
        },
        "id": "xDCFJQF6nRrS",
        "outputId": "1c2b8fd8-ebff-4584-ded3-eeac4b00b22c"
      },
      "source": [
        "#Obtener la suma de los valores perdidos por cada columna\n",
        "datos_perdidos = dfcar_price.isnull().sum()\n",
        "datos_perdidos"
      ],
      "execution_count": 991,
      "outputs": [
        {
          "output_type": "execute_result",
          "data": {
            "text/plain": [
              "car_ID              0\n",
              "symboling           0\n",
              "CarName             0\n",
              "fueltype            0\n",
              "aspiration          0\n",
              "doornumber          0\n",
              "carbody             0\n",
              "drivewheel          0\n",
              "enginelocation      0\n",
              "wheelbase           0\n",
              "carlength           0\n",
              "carwidth            0\n",
              "carheight           0\n",
              "curbweight          0\n",
              "enginetype          0\n",
              "cylindernumber      0\n",
              "enginesize          0\n",
              "fuelsystem          0\n",
              "boreratio           0\n",
              "stroke              0\n",
              "compressionratio    0\n",
              "horsepower          0\n",
              "peakrpm             0\n",
              "citympg             0\n",
              "highwaympg          0\n",
              "price               0\n",
              "dtype: int64"
            ]
          },
          "metadata": {},
          "execution_count": 991
        }
      ]
    },
    {
      "cell_type": "markdown",
      "metadata": {
        "id": "-75p2GPlsUah"
      },
      "source": [
        "## **Verificar datos duplicados**"
      ]
    },
    {
      "cell_type": "code",
      "metadata": {
        "colab": {
          "base_uri": "https://localhost:8080/"
        },
        "id": "6qfjsRjksOcj",
        "outputId": "3d092249-3f95-4d32-c3de-c68a2e537245"
      },
      "source": [
        "#Verificar que no haya datos duplicados dentro del dataframe\n",
        "dfcar_price.duplicated().sum()"
      ],
      "execution_count": 992,
      "outputs": [
        {
          "output_type": "execute_result",
          "data": {
            "text/plain": [
              "0"
            ]
          },
          "metadata": {},
          "execution_count": 992
        }
      ]
    },
    {
      "cell_type": "markdown",
      "metadata": {
        "id": "SMOuecx73M7_"
      },
      "source": [
        "## **Corrección de entrada de datos inconsistente**"
      ]
    },
    {
      "cell_type": "code",
      "metadata": {
        "colab": {
          "base_uri": "https://localhost:8080/"
        },
        "id": "0I5FAYXBhGnn",
        "outputId": "3022aedc-6464-48d9-9518-8a715683ff1a"
      },
      "source": [
        "# Asignar columnas de tipo object (string) para verificar los datos inconsistentes\n",
        "colm = [\"CarName\", \"fueltype\", \"aspiration\", \"doornumber\", \"carbody\", \"drivewheel\", \"enginelocation\", \"enginetype\", \"cylindernumber\", \"fuelsystem\"]\n",
        "\n",
        "#Mostrar los datos unicos de cada columna\n",
        "for i in range(len(colm)):\n",
        "  col = colm[i]\n",
        "  uniqueData(dfcar_price, col)"
      ],
      "execution_count": 993,
      "outputs": [
        {
          "output_type": "stream",
          "name": "stdout",
          "text": [
            "Columna:  CarName\n",
            "No. columnas unicas:  147\n",
            "Valores unicos:  ['Nissan versa' 'alfa-romero Quadrifoglio' 'alfa-romero giulia'\n",
            " 'alfa-romero stelvio' 'audi 100 ls' 'audi 100ls' 'audi 4000' 'audi 5000'\n",
            " 'audi 5000s (diesel)' 'audi fox' 'bmw 320i' 'bmw x1' 'bmw x3' 'bmw x4'\n",
            " 'bmw x5' 'bmw z4' 'buick century' 'buick century luxus (sw)'\n",
            " 'buick century special' 'buick electra 225 custom'\n",
            " 'buick opel isuzu deluxe' 'buick regal sport coupe (turbo)'\n",
            " 'buick skyhawk' 'buick skylark' 'chevrolet impala'\n",
            " 'chevrolet monte carlo' 'chevrolet vega 2300' 'dodge challenger se'\n",
            " 'dodge colt (sw)' 'dodge colt hardtop' 'dodge coronet custom'\n",
            " 'dodge coronet custom (sw)' 'dodge d200' 'dodge dart custom'\n",
            " 'dodge monaco (sw)' 'dodge rampage' 'honda accord' 'honda accord cvcc'\n",
            " 'honda accord lx' 'honda civic' 'honda civic (auto)' 'honda civic 1300'\n",
            " 'honda civic 1500 gl' 'honda civic cvcc' 'honda prelude' 'isuzu D-Max '\n",
            " 'isuzu D-Max V-Cross' 'isuzu MU-X' 'jaguar xf' 'jaguar xj' 'jaguar xk'\n",
            " 'maxda glc deluxe' 'maxda rx3' 'mazda 626' 'mazda glc' 'mazda glc 4'\n",
            " 'mazda glc custom' 'mazda glc custom l' 'mazda glc deluxe' 'mazda rx-4'\n",
            " 'mazda rx-7 gs' 'mazda rx2 coupe' 'mercury cougar' 'mitsubishi g4'\n",
            " 'mitsubishi lancer' 'mitsubishi mirage' 'mitsubishi mirage g4'\n",
            " 'mitsubishi montero' 'mitsubishi outlander' 'mitsubishi pajero'\n",
            " 'nissan clipper' 'nissan dayz' 'nissan fuga' 'nissan gt-r' 'nissan juke'\n",
            " 'nissan kicks' 'nissan latio' 'nissan leaf' 'nissan note' 'nissan nv200'\n",
            " 'nissan otti' 'nissan rogue' 'nissan teana' 'nissan titan' 'peugeot 304'\n",
            " 'peugeot 504' 'peugeot 504 (sw)' 'peugeot 505s turbo diesel'\n",
            " 'peugeot 604sl' 'plymouth cricket' 'plymouth duster'\n",
            " 'plymouth fury gran sedan' 'plymouth fury iii'\n",
            " 'plymouth satellite custom (sw)' 'plymouth valiant' 'porcshce panamera'\n",
            " 'porsche boxter' 'porsche cayenne' 'porsche macan' 'renault 12tl'\n",
            " 'renault 5 gtl' 'saab 99e' 'saab 99gle' 'saab 99le' 'subaru'\n",
            " 'subaru baja' 'subaru brz' 'subaru dl' 'subaru r1' 'subaru r2'\n",
            " 'subaru trezia' 'subaru tribeca' 'toyota carina' 'toyota celica gt'\n",
            " 'toyota celica gt liftback' 'toyota corolla' 'toyota corolla 1200'\n",
            " 'toyota corolla 1600 (sw)' 'toyota corolla liftback'\n",
            " 'toyota corolla tercel' 'toyota corona' 'toyota corona hardtop'\n",
            " 'toyota corona liftback' 'toyota corona mark ii' 'toyota cressida'\n",
            " 'toyota mark ii' 'toyota starlet' 'toyota tercel' 'toyouta tercel'\n",
            " 'vokswagen rabbit' 'volkswagen 1131 deluxe sedan' 'volkswagen 411 (sw)'\n",
            " 'volkswagen dasher' 'volkswagen model 111' 'volkswagen rabbit'\n",
            " 'volkswagen rabbit custom' 'volkswagen super beetle' 'volkswagen type 3'\n",
            " 'volvo 144ea' 'volvo 145e (sw)' 'volvo 244dl' 'volvo 245' 'volvo 246'\n",
            " 'volvo 264gl' 'volvo diesel' 'vw dasher' 'vw rabbit']\n",
            "Columna:  fueltype\n",
            "No. columnas unicas:  2\n",
            "Valores unicos:  ['diesel' 'gas']\n",
            "Columna:  aspiration\n",
            "No. columnas unicas:  2\n",
            "Valores unicos:  ['std' 'turbo']\n",
            "Columna:  doornumber\n",
            "No. columnas unicas:  2\n",
            "Valores unicos:  ['four' 'two']\n",
            "Columna:  carbody\n",
            "No. columnas unicas:  5\n",
            "Valores unicos:  ['convertible' 'hardtop' 'hatchback' 'sedan' 'wagon']\n",
            "Columna:  drivewheel\n",
            "No. columnas unicas:  3\n",
            "Valores unicos:  ['4wd' 'fwd' 'rwd']\n",
            "Columna:  enginelocation\n",
            "No. columnas unicas:  2\n",
            "Valores unicos:  ['front' 'rear']\n",
            "Columna:  enginetype\n",
            "No. columnas unicas:  7\n",
            "Valores unicos:  ['dohc' 'dohcv' 'l' 'ohc' 'ohcf' 'ohcv' 'rotor']\n",
            "Columna:  cylindernumber\n",
            "No. columnas unicas:  7\n",
            "Valores unicos:  ['eight' 'five' 'four' 'six' 'three' 'twelve' 'two']\n",
            "Columna:  fuelsystem\n",
            "No. columnas unicas:  8\n",
            "Valores unicos:  ['1bbl' '2bbl' '4bbl' 'idi' 'mfi' 'mpfi' 'spdi' 'spfi']\n"
          ]
        }
      ]
    },
    {
      "cell_type": "markdown",
      "metadata": {
        "id": "OzgNS2sSdB2a"
      },
      "source": [
        "> ### **Columna: CarName**"
      ]
    },
    {
      "cell_type": "markdown",
      "metadata": {
        "id": "zV-AtLOr4gM8"
      },
      "source": [
        "Podemos observar que existen algunos datos inconsistentes en la columna **CarName** como **'audi 100 ls'** y **'audi 100ls'** donde el primero cuenta con espacio entre 100 y ls, mientras que el segundo no. Otro ejemplo es con **'Nissan versa'** que comienza con mayusculas, mientras que la mayor cantidad de nombres son en minisculas \n",
        "\n",
        "Asi que corregimos estos datos de entrada de la siguiente forma:\n",
        "* Convertimos todos los valores a minusculas.\n",
        "* Eliminamos espacios en blanco al inicio y al final de los valores.\n",
        "* Reemplazamos los valores que creemos que coinciden."
      ]
    },
    {
      "cell_type": "code",
      "metadata": {
        "colab": {
          "base_uri": "https://localhost:8080/"
        },
        "id": "n19eXDKORvJp",
        "outputId": "6c682d15-1d92-42ec-8d5a-20589da5be59"
      },
      "source": [
        "# Corregir datos\n",
        "correctionData(dfcar_price, \"CarName\")\n"
      ],
      "execution_count": 994,
      "outputs": [
        {
          "output_type": "stream",
          "name": "stdout",
          "text": [
            "Corrección de datos realizada!\n"
          ]
        }
      ]
    },
    {
      "cell_type": "code",
      "metadata": {
        "colab": {
          "base_uri": "https://localhost:8080/"
        },
        "id": "R_fY-IOZVxzP",
        "outputId": "6e4d139c-d5dd-43c8-e8f8-1f7a875d9fbf"
      },
      "source": [
        "#Mostrar los datos que coinciden en la columna CarName \n",
        "matchData(dfcar_price, 'CarName', \"audi 100 ls\")\n",
        "matchData(dfcar_price, 'CarName', \"mazda glc deluxe\")\n",
        "matchData(dfcar_price, 'CarName', \"mazda rx3\")\n",
        "matchData(dfcar_price, 'CarName', \"porsche panamera\")\n",
        "matchData(dfcar_price, 'CarName', \"toyota tercel\")\n",
        "matchData(dfcar_price, 'CarName', \"volkswagen rabbit\")\n"
      ],
      "execution_count": 995,
      "outputs": [
        {
          "output_type": "stream",
          "name": "stdout",
          "text": [
            "Coincidencias:  [('audi 100 ls', 100), ('audi 100ls', 76), ('audi 5000', 70), ('audi 4000', 70), ('audi 5000s (diesel)', 64), ('audi fox', 53), ('renault 12tl', 43), ('toyota corolla 1600 (sw)', 42), ('peugeot 504 (sw)', 40), ('subaru r1', 40), ('toyota corolla 1200', 40), ('dodge d200', 38), ('mazda rx-4', 38), ('honda civic 1300', 37), ('volvo diesel', 35)]\n",
            "Coincidencias:  [('mazda glc deluxe', 100), ('maxda glc deluxe', 94), ('mazda glc 4', 74), ('mazda glc', 72), ('mazda glc custom', 69), ('mazda glc custom l', 65), ('mazda rx-7 gs', 55), ('mazda 626', 48), ('mazda rx-4', 46), ('mazda rx2 coupe', 45), ('buick opel isuzu deluxe', 41), ('volkswagen 1131 deluxe sedan', 41), ('saab 99le', 40), ('toyota celica gt liftback', 39), ('chevrolet impala', 38)]\n",
            "Coincidencias:  [('maxda rx3', 89), ('mazda rx-4', 84), ('mazda rx-7 gs', 73), ('mazda rx2 coupe', 67), ('mazda 626', 56), ('mazda glc', 56), ('bmw x3', 53), ('mazda glc 4', 50), ('audi fox', 47), ('porsche macan', 45), ('jaguar xj', 44), ('jaguar xf', 44), ('jaguar xk', 44), ('honda accord lx', 42), ('bmw x1', 40)]\n",
            "Coincidencias:  [('porcshce panamera', 91), ('porsche cayenne', 71), ('porsche macan', 69), ('porsche boxter', 67), ('dodge challenger se', 46), ('mitsubishi lancer', 42), ('honda prelude', 41), ('alfa-romero stelvio', 40), ('plymouth duster', 39), ('vokswagen rabbit', 38), ('mitsubishi mirage', 36), ('nissan versa', 36), ('volkswagen rabbit', 36), ('alfa-romero giulia', 35), ('plymouth fury gran sedan', 35)]\n",
            "Coincidencias:  [('toyota tercel', 100), ('toyouta tercel', 96), ('toyota corolla tercel', 76), ('toyota celica gt', 69), ('toyota corolla', 67), ('toyota starlet', 67), ('toyota corona', 62), ('toyota carina', 62), ('toyota mark ii', 59), ('toyota cressida', 57), ('toyota corolla 1200', 56), ('toyota celica gt liftback', 53), ('toyota corolla 1600 (sw)', 51), ('toyota corona liftback', 51), ('toyota corolla liftback', 50)]\n",
            "Coincidencias:  [('volkswagen rabbit', 100), ('vokswagen rabbit', 97), ('volkswagen rabbit custom', 83), ('volkswagen type 3', 71), ('volkswagen dasher', 71), ('vw rabbit', 69), ('volkswagen 411 (sw)', 65), ('volkswagen super beetle', 60), ('volkswagen model 111', 59), ('volkswagen 1131 deluxe sedan', 53), ('nissan latio', 41), ('audi 100 ls', 36), ('nissan gt-r', 36), ('nissan leaf', 36), ('nissan dayz', 36)]\n"
          ]
        }
      ]
    },
    {
      "cell_type": "code",
      "metadata": {
        "colab": {
          "base_uri": "https://localhost:8080/"
        },
        "id": "U6FAcokxU8hA",
        "outputId": "011a3054-e3a0-47d9-ba89-86d543864904"
      },
      "source": [
        "#Reemplazar los valors incorrectos dependiento su porcentaje de coincidencia\n",
        "replaceData(dfcar_price, 'CarName', \"audi 100 ls\", 76)\n",
        "replaceData(dfcar_price, 'CarName', \"mazda glc deluxe\", 94)\n",
        "replaceData(dfcar_price, 'CarName', \"mazda rx3\", 89)\n",
        "replaceData(dfcar_price, 'CarName', \"porsche panamera\", 91)\n",
        "replaceData(dfcar_price, 'CarName', \"toyota tercel\", 96)\n",
        "replaceData(dfcar_price, 'CarName', \"volkswagen rabbit\", 97)\n"
      ],
      "execution_count": 996,
      "outputs": [
        {
          "output_type": "stream",
          "name": "stdout",
          "text": [
            "Con  audi 100 ls se modificaron  3  filas, donde hubo una coincidencia mayor a  76 %\n",
            "Con  mazda glc deluxe se modificaron  3  filas, donde hubo una coincidencia mayor a  94 %\n",
            "Con  mazda rx3 se modificaron  1  filas, donde hubo una coincidencia mayor a  89 %\n",
            "Con  porsche panamera se modificaron  1  filas, donde hubo una coincidencia mayor a  91 %\n",
            "Con  toyota tercel se modificaron  2  filas, donde hubo una coincidencia mayor a  96 %\n",
            "Con  volkswagen rabbit se modificaron  2  filas, donde hubo una coincidencia mayor a  97 %\n"
          ]
        }
      ]
    },
    {
      "cell_type": "code",
      "metadata": {
        "colab": {
          "base_uri": "https://localhost:8080/"
        },
        "id": "svoS0_3UZoEd",
        "outputId": "2b2934f4-3738-4daf-be8a-80f2aaa74695"
      },
      "source": [
        "#Verificar modificaciones\n",
        "uniqueData(dfcar_price, 'CarName')"
      ],
      "execution_count": 997,
      "outputs": [
        {
          "output_type": "stream",
          "name": "stdout",
          "text": [
            "Columna:  CarName\n",
            "No. columnas unicas:  143\n",
            "Valores unicos:  ['alfa-romero giulia' 'alfa-romero quadrifoglio' 'alfa-romero stelvio'\n",
            " 'audi 100 ls' 'audi 4000' 'audi 5000' 'audi 5000s (diesel)' 'audi fox'\n",
            " 'bmw 320i' 'bmw x1' 'bmw x3' 'bmw x4' 'bmw x5' 'bmw z4' 'buick century'\n",
            " 'buick century luxus (sw)' 'buick century special'\n",
            " 'buick electra 225 custom' 'buick opel isuzu deluxe'\n",
            " 'buick regal sport coupe (turbo)' 'buick skyhawk' 'buick skylark'\n",
            " 'chevrolet impala' 'chevrolet monte carlo' 'chevrolet vega 2300'\n",
            " 'dodge challenger se' 'dodge colt (sw)' 'dodge colt hardtop'\n",
            " 'dodge coronet custom' 'dodge coronet custom (sw)' 'dodge d200'\n",
            " 'dodge dart custom' 'dodge monaco (sw)' 'dodge rampage' 'honda accord'\n",
            " 'honda accord cvcc' 'honda accord lx' 'honda civic' 'honda civic (auto)'\n",
            " 'honda civic 1300' 'honda civic 1500 gl' 'honda civic cvcc'\n",
            " 'honda prelude' 'isuzu d-max' 'isuzu d-max v-cross' 'isuzu mu-x'\n",
            " 'jaguar xf' 'jaguar xj' 'jaguar xk' 'mazda 626' 'mazda glc' 'mazda glc 4'\n",
            " 'mazda glc custom' 'mazda glc custom l' 'mazda glc deluxe' 'mazda rx-4'\n",
            " 'mazda rx-7 gs' 'mazda rx2 coupe' 'mazda rx3' 'mercury cougar'\n",
            " 'mitsubishi g4' 'mitsubishi lancer' 'mitsubishi mirage'\n",
            " 'mitsubishi mirage g4' 'mitsubishi montero' 'mitsubishi outlander'\n",
            " 'mitsubishi pajero' 'nissan clipper' 'nissan dayz' 'nissan fuga'\n",
            " 'nissan gt-r' 'nissan juke' 'nissan kicks' 'nissan latio' 'nissan leaf'\n",
            " 'nissan note' 'nissan nv200' 'nissan otti' 'nissan rogue' 'nissan teana'\n",
            " 'nissan titan' 'nissan versa' 'peugeot 304' 'peugeot 504'\n",
            " 'peugeot 504 (sw)' 'peugeot 505s turbo diesel' 'peugeot 604sl'\n",
            " 'plymouth cricket' 'plymouth duster' 'plymouth fury gran sedan'\n",
            " 'plymouth fury iii' 'plymouth satellite custom (sw)' 'plymouth valiant'\n",
            " 'porsche boxter' 'porsche cayenne' 'porsche macan' 'porsche panamera'\n",
            " 'renault 12tl' 'renault 5 gtl' 'saab 99e' 'saab 99gle' 'saab 99le'\n",
            " 'subaru' 'subaru baja' 'subaru brz' 'subaru dl' 'subaru r1' 'subaru r2'\n",
            " 'subaru trezia' 'subaru tribeca' 'toyota carina' 'toyota celica gt'\n",
            " 'toyota celica gt liftback' 'toyota corolla' 'toyota corolla 1200'\n",
            " 'toyota corolla 1600 (sw)' 'toyota corolla liftback'\n",
            " 'toyota corolla tercel' 'toyota corona' 'toyota corona hardtop'\n",
            " 'toyota corona liftback' 'toyota corona mark ii' 'toyota cressida'\n",
            " 'toyota mark ii' 'toyota starlet' 'toyota tercel'\n",
            " 'volkswagen 1131 deluxe sedan' 'volkswagen 411 (sw)' 'volkswagen dasher'\n",
            " 'volkswagen model 111' 'volkswagen rabbit' 'volkswagen rabbit custom'\n",
            " 'volkswagen super beetle' 'volkswagen type 3' 'volvo 144ea'\n",
            " 'volvo 145e (sw)' 'volvo 244dl' 'volvo 245' 'volvo 246' 'volvo 264gl'\n",
            " 'volvo diesel' 'vw dasher' 'vw rabbit']\n"
          ]
        }
      ]
    },
    {
      "cell_type": "markdown",
      "metadata": {
        "id": "nnnR9IdySWkm"
      },
      "source": [
        "## **Reemplazar nombre de carro por marca**\n",
        "\n",
        "Aunque hicimos la corrección de los datos de entrada, y pasamos de tener 147 datos unicos a 143, considero que, en este caso, deberiamos cambiar los valores de la columna **\"CarName\"** para asignar la marca del carro y asi de esta forma normalizar la columna **\"CarName\"**. \n",
        "\n",
        "Por ejemplo: a los valores **'alfa-romero giulia', 'alfa-romero quadrifoglio'** y **'alfa-romero stelvio'** se les asignara solamente el valor **'alfa-romero'**."
      ]
    },
    {
      "cell_type": "code",
      "metadata": {
        "colab": {
          "base_uri": "https://localhost:8080/"
        },
        "id": "U_uvGK0_bsga",
        "outputId": "e56738dc-aa0f-4a68-8bd7-8859c1286b79"
      },
      "source": [
        "car_brand = [\"alfa-romero\", \"audi\", \"bmw\", \"buick\", \"chevrolet\", \"dodge\", \"honda\", \"mazda\", \"mercury\", \"mitsubishi\", \n",
        "               \"nissan\", \"peugeot\", \"plymouth\", \"porsche\", \"renault\", \"saab\", \"subaru\", \"toyota\", \"volkswagen\", \"volvo\"]\n",
        "\n",
        "#Mostrar los datos que coinciden con alguna marca de carro \n",
        "for i in range(len(car_brand)):\n",
        "    matchData(dfcar_price, \"CarName\", car_brand[i])"
      ],
      "execution_count": 998,
      "outputs": [
        {
          "output_type": "stream",
          "name": "stdout",
          "text": [
            "Coincidencias:  [('alfa-romero giulia', 76), ('alfa-romero stelvio', 73), ('alfa-romero quadrifoglio', 63), ('chevrolet monte carlo', 44), ('porsche panamera', 44), ('nissan rogue', 43), ('porsche macan', 42), ('toyota carina', 42), ('mazda rx3', 40), ('mercury cougar', 40), ('toyota corolla', 40), ('mazda rx-4', 38), ('toyota corolla tercel', 38), ('toyota celica gt', 37), ('nissan note', 36)]\n",
            "Coincidencias:  [('audi fox', 67), ('audi 5000', 62), ('audi 4000', 62), ('audi 100 ls', 53), ('subaru', 40), ('audi 5000s (diesel)', 38), ('honda prelude', 35), ('subaru trezia', 35), ('subaru tribeca', 33), ('jaguar xj', 31), ('jaguar xf', 31), ('jaguar xk', 31), ('mazda rx3', 31), ('mazda 626', 31), ('mazda glc', 31)]\n",
            "Coincidencias:  [('bmw x1', 67), ('bmw x3', 67), ('bmw z4', 67), ('bmw x4', 67), ('bmw x5', 67), ('bmw 320i', 55), ('vw rabbit', 33), ('buick skyhawk', 25), ('dodge monaco (sw)', 22), ('subaru', 22), ('volkswagen rabbit', 20), ('mitsubishi montero', 19), ('saab 99e', 18), ('mazda rx3', 17), ('mazda 626', 17)]\n",
            "Coincidencias:  [('buick century', 56), ('buick skyhawk', 56), ('buick skylark', 56), ('subaru tribeca', 42), ('buick century special', 38), ('buick century luxus (sw)', 37), ('buick opel isuzu deluxe', 36), ('subaru', 36), ('nissan kicks', 35), ('buick electra 225 custom', 34), ('subaru trezia', 33), ('audi fox', 31), ('audi 5000', 29), ('audi 4000', 29), ('honda civic (auto)', 29)]\n",
            "Coincidencias:  [('chevrolet impala', 72), ('chevrolet vega 2300', 64), ('chevrolet monte carlo', 60), ('volkswagen dasher', 46), ('toyota corolla', 43), ('toyota corolla tercel', 40), ('volvo 144ea', 40), ('volkswagen type 3', 38), ('volvo diesel', 38), ('dodge colt hardtop', 37), ('dodge colt (sw)', 36), ('honda prelude', 36), ('toyota corona', 36), ('toyota corolla 1200', 36), ('toyota carina', 36)]\n",
            "Coincidencias:  [('dodge d200', 67), ('dodge rampage', 56), ('dodge colt (sw)', 56), ('dodge monaco (sw)', 50), ('dodge dart custom', 45), ('dodge colt hardtop', 43), ('dodge challenger se', 42), ('dodge coronet custom', 40), ('dodge coronet custom (sw)', 36), ('volkswagen dasher', 36), ('honda accord', 35), ('nissan rogue', 35), ('honda prelude', 33), ('mercury cougar', 32), ('volkswagen model 111', 32)]\n",
            "Coincidencias:  [('honda civic', 62), ('honda accord', 59), ('honda prelude', 56), ('honda accord lx', 50), ('honda civic cvcc', 48), ('honda civic 1300', 48), ('honda civic (auto)', 48), ('honda accord cvcc', 45), ('honda civic 1500 gl', 42), ('nissan latio', 35), ('dodge rampage', 33), ('toyota corona', 33), ('mitsubishi outlander', 32), ('toyota corona hardtop', 31), ('dodge monaco (sw)', 30)]\n",
            "Coincidencias:  [('mazda rx3', 71), ('mazda 626', 71), ('mazda glc', 71), ('mazda rx-4', 67), ('mazda glc 4', 62), ('mazda rx-7 gs', 56), ('mazda rx2 coupe', 50), ('mazda glc deluxe', 48), ('mazda glc custom', 48), ('mazda glc custom l', 43), ('bmw z4', 36), ('honda accord', 35), ('porsche macan', 33), ('subaru trezia', 33), ('toyota mark ii', 32)]\n",
            "Coincidencias:  [('mercury cougar', 67), ('buick century', 40), ('toyota tercel', 40), ('subaru r1', 38), ('subaru r2', 38), ('porsche panamera', 35), ('subaru brz', 35), ('subaru', 31), ('buick century special', 29), ('porsche boxter', 29), ('toyota mark ii', 29), ('toyota corolla tercel', 29), ('buick century luxus (sw)', 28), ('plymouth duster', 27), ('porsche cayenne', 27)]\n",
            "Coincidencias:  [('mitsubishi g4', 87), ('mitsubishi mirage', 74), ('mitsubishi lancer', 74), ('mitsubishi pajero', 74), ('mitsubishi montero', 71), ('mitsubishi outlander', 67), ('mitsubishi mirage g4', 67), ('subaru', 38), ('nissan kicks', 36), ('subaru trezia', 35), ('subaru tribeca', 33), ('subaru dl', 32), ('subaru r1', 32), ('subaru r2', 32), ('isuzu mu-x', 30)]\n",
            "Coincidencias:  [('nissan gt-r', 71), ('nissan leaf', 71), ('nissan juke', 71), ('nissan note', 71), ('nissan dayz', 71), ('nissan fuga', 71), ('nissan otti', 71), ('nissan versa', 67), ('nissan rogue', 67), ('nissan latio', 67), ('nissan titan', 67), ('nissan nv200', 67), ('nissan teana', 67), ('nissan kicks', 67), ('nissan clipper', 60)]\n",
            "Coincidencias:  [('peugeot 504', 78), ('peugeot 304', 78), ('peugeot 604sl', 70), ('peugeot 504 (sw)', 67), ('peugeot 505s turbo diesel', 44), ('honda prelude', 40), ('toyota tercel', 40), ('toyota celica gt', 35), ('volkswagen type 3', 33), ('renault 12tl', 32), ('volvo diesel', 32), ('dodge challenger se', 31), ('dodge coronet custom', 30), ('renault 5 gtl', 30), ('chevrolet monte carlo', 29)]\n",
            "Coincidencias:  [('plymouth duster', 70), ('plymouth cricket', 67), ('plymouth valiant', 67), ('plymouth fury iii', 64), ('plymouth fury gran sedan', 50), ('plymouth satellite custom (sw)', 44), ('toyota tercel', 38), ('toyota corolla', 36), ('toyota starlet', 36), ('porsche panamera', 33), ('toyota celica gt', 33), ('mitsubishi lancer', 32), ('peugeot 504', 32), ('peugeot 304', 32), ('alfa-romero stelvio', 30)]\n",
            "Coincidencias:  [('porsche macan', 70), ('porsche boxter', 67), ('porsche cayenne', 64), ('porsche panamera', 61), ('vw dasher', 38), ('honda accord cvcc', 33), ('volkswagen type 3', 33), ('honda accord', 32), ('alfa-romero stelvio', 31), ('dodge coronet custom', 30), ('honda prelude', 30), ('chevrolet monte carlo', 29), ('mercury cougar', 29), ('nissan clipper', 29), ('peugeot 504 (sw)', 29)]\n",
            "Coincidencias:  [('renault 12tl', 74), ('renault 5 gtl', 70), ('toyota corona', 40), ('toyota carina', 40), ('subaru r1', 38), ('subaru r2', 38), ('vw rabbit', 38), ('honda accord lx', 36), ('toyota cressida', 36), ('chevrolet impala', 35), ('plymouth cricket', 35), ('subaru brz', 35), ('toyota corona liftback', 34), ('audi 100 ls', 33), ('nissan leaf', 33)]\n",
            "Coincidencias:  [('saab 99e', 67), ('saab 99le', 62), ('saab 99gle', 57), ('subaru', 40), ('nissan versa', 38), ('nissan titan', 38), ('nissan teana', 38), ('mazda rx-7 gs', 35), ('subaru trezia', 35), ('subaru tribeca', 33), ('toyota starlet', 33), ('toyota cressida', 32), ('jaguar xj', 31), ('jaguar xf', 31), ('jaguar xk', 31)]\n",
            "Coincidencias:  [('subaru', 100), ('subaru dl', 80), ('subaru r1', 80), ('subaru r2', 80), ('subaru brz', 75), ('subaru baja', 71), ('subaru trezia', 63), ('subaru tribeca', 60), ('mitsubishi pajero', 43), ('jaguar xj', 40), ('jaguar xf', 40), ('jaguar xk', 40), ('mercury cougar', 40), ('isuzu mu-x', 38), ('mitsubishi outlander', 38)]\n",
            "Coincidencias:  [('toyota corona', 63), ('toyota carina', 63), ('toyota tercel', 63), ('toyota mark ii', 60), ('toyota corolla', 60), ('toyota starlet', 60), ('toyota cressida', 57), ('toyota celica gt', 55), ('toyota corolla 1200', 48), ('toyota corona mark ii', 44), ('toyota corona hardtop', 44), ('toyota corolla tercel', 44), ('toyota corolla 1600 (sw)', 43), ('toyota corona liftback', 43), ('toyota corolla liftback', 41)]\n",
            "Coincidencias:  [('volkswagen rabbit', 74), ('volkswagen type 3', 74), ('volkswagen 411 (sw)', 74), ('volkswagen dasher', 74), ('volkswagen model 111', 67), ('volkswagen super beetle', 61), ('volkswagen rabbit custom', 59), ('volkswagen 1131 deluxe sedan', 53), ('nissan leaf', 38), ('nissan juke', 38), ('nissan latio', 36), ('nissan teana', 36), ('nissan kicks', 36), ('dodge rampage', 35), ('dodge colt (sw)', 35)]\n",
            "Coincidencias:  [('volvo 245', 71), ('volvo 246', 71), ('volvo 144ea', 62), ('volvo 244dl', 62), ('volvo 264gl', 62), ('volvo diesel', 59), ('volvo 145e (sw)', 56), ('alfa-romero stelvio', 33), ('chevrolet vega 2300', 33), ('dodge colt (sw)', 33), ('toyota corolla', 32), ('chevrolet monte carlo', 31), ('chevrolet impala', 29), ('volkswagen rabbit', 27), ('volkswagen type 3', 27)]\n"
          ]
        }
      ]
    },
    {
      "cell_type": "code",
      "metadata": {
        "colab": {
          "base_uri": "https://localhost:8080/"
        },
        "id": "o3GdsLDdb1d4",
        "outputId": "0c0323fe-f408-4132-d0d0-14d5a53bf1f6"
      },
      "source": [
        "#Reemplazar los datos que tenga una coincidencia mayor al 50% con alguna marca de carro \n",
        "for i in range(len(car_brand)):\n",
        "    replaceData(dfcar_price, \"CarName\", car_brand[i], 50)"
      ],
      "execution_count": 999,
      "outputs": [
        {
          "output_type": "stream",
          "name": "stdout",
          "text": [
            "Con  alfa-romero se modificaron  3  filas, donde hubo una coincidencia mayor a  50 %\n",
            "Con  audi se modificaron  6  filas, donde hubo una coincidencia mayor a  50 %\n",
            "Con  bmw se modificaron  8  filas, donde hubo una coincidencia mayor a  50 %\n",
            "Con  buick se modificaron  3  filas, donde hubo una coincidencia mayor a  50 %\n",
            "Con  chevrolet se modificaron  3  filas, donde hubo una coincidencia mayor a  50 %\n",
            "Con  dodge se modificaron  4  filas, donde hubo una coincidencia mayor a  50 %\n",
            "Con  honda se modificaron  7  filas, donde hubo una coincidencia mayor a  50 %\n",
            "Con  mazda se modificaron  12  filas, donde hubo una coincidencia mayor a  50 %\n",
            "Con  mercury se modificaron  1  filas, donde hubo una coincidencia mayor a  50 %\n",
            "Con  mitsubishi se modificaron  13  filas, donde hubo una coincidencia mayor a  50 %\n",
            "Con  nissan se modificaron  18  filas, donde hubo una coincidencia mayor a  50 %\n",
            "Con  peugeot se modificaron  10  filas, donde hubo una coincidencia mayor a  50 %\n",
            "Con  plymouth se modificaron  6  filas, donde hubo una coincidencia mayor a  50 %\n",
            "Con  porsche se modificaron  5  filas, donde hubo una coincidencia mayor a  50 %\n",
            "Con  renault se modificaron  2  filas, donde hubo una coincidencia mayor a  50 %\n",
            "Con  saab se modificaron  6  filas, donde hubo una coincidencia mayor a  50 %\n",
            "Con  subaru se modificaron  12  filas, donde hubo una coincidencia mayor a  50 %\n",
            "Con  toyota se modificaron  22  filas, donde hubo una coincidencia mayor a  50 %\n",
            "Con  volkswagen se modificaron  10  filas, donde hubo una coincidencia mayor a  50 %\n",
            "Con  volvo se modificaron  11  filas, donde hubo una coincidencia mayor a  50 %\n"
          ]
        }
      ]
    },
    {
      "cell_type": "code",
      "metadata": {
        "colab": {
          "base_uri": "https://localhost:8080/"
        },
        "id": "rYuqBRGceDrb",
        "outputId": "c6d809d1-e250-4a9c-95f1-bf222522f197"
      },
      "source": [
        "#Verificar modificaciones\n",
        "uniqueData(dfcar_price, 'CarName')"
      ],
      "execution_count": 1000,
      "outputs": [
        {
          "output_type": "stream",
          "name": "stdout",
          "text": [
            "Columna:  CarName\n",
            "No. columnas unicas:  57\n",
            "Valores unicos:  ['alfa-romero' 'audi' 'audi 5000s (diesel)' 'bmw' 'buick'\n",
            " 'buick century luxus (sw)' 'buick century special'\n",
            " 'buick electra 225 custom' 'buick opel isuzu deluxe'\n",
            " 'buick regal sport coupe (turbo)' 'chevrolet' 'dodge'\n",
            " 'dodge challenger se' 'dodge colt hardtop' 'dodge coronet custom'\n",
            " 'dodge coronet custom (sw)' 'dodge dart custom' 'honda'\n",
            " 'honda accord cvcc' 'honda civic (auto)' 'honda civic 1300'\n",
            " 'honda civic 1500 gl' 'honda civic cvcc' 'isuzu d-max'\n",
            " 'isuzu d-max v-cross' 'isuzu mu-x' 'jaguar xf' 'jaguar xj' 'jaguar xk'\n",
            " 'mazda' 'mazda glc custom' 'mazda glc custom l' 'mazda glc deluxe'\n",
            " 'mercury' 'mitsubishi' 'nissan' 'peugeot' 'peugeot 505s turbo diesel'\n",
            " 'plymouth' 'plymouth satellite custom (sw)' 'porsche' 'renault' 'saab'\n",
            " 'subaru' 'toyota' 'toyota celica gt liftback' 'toyota corolla 1200'\n",
            " 'toyota corolla 1600 (sw)' 'toyota corolla liftback'\n",
            " 'toyota corolla tercel' 'toyota corona hardtop' 'toyota corona liftback'\n",
            " 'toyota corona mark ii' 'volkswagen' 'volvo' 'vw dasher' 'vw rabbit']\n"
          ]
        }
      ]
    },
    {
      "cell_type": "code",
      "metadata": {
        "colab": {
          "base_uri": "https://localhost:8080/"
        },
        "id": "7mbjazks9Qdy",
        "outputId": "ee3bdddf-10cc-45e0-c2f6-aa76b1539f12"
      },
      "source": [
        "#Reemplazar los datos que tengan mayor numero de repeticiones\n",
        "matchData(dfcar_price, \"CarName\", \"dodge\")\n",
        "replaceData(dfcar_price, \"CarName\", \"dodge\", 41)\n",
        "matchData(dfcar_price, \"CarName\", \"honda\")\n",
        "replaceData(dfcar_price, \"CarName\", \"honda\", 41)\n",
        "matchData(dfcar_price, \"CarName\", \"isuzu\")\n",
        "replaceData(dfcar_price, \"CarName\", \"isuzu\", 61)\n",
        "matchData(dfcar_price, \"CarName\", \"jaguar\")\n",
        "replaceData(dfcar_price, \"CarName\", \"jaguar\", 79)\n",
        "matchData(dfcar_price, \"CarName\", \"mazda\")\n",
        "replaceData(dfcar_price, \"CarName\", \"mazda\", 47)\n",
        "matchData(dfcar_price, \"CarName\", \"peugeot\")\n",
        "replaceData(dfcar_price, \"CarName\", \"peugeot\", 44)\n",
        "matchData(dfcar_price, \"CarName\", \"plymouth\")\n",
        "replaceData(dfcar_price, \"CarName\", \"plymouth\", 44)\n",
        "matchData(dfcar_price, \"CarName\", \"toyota\")\n",
        "replaceData(dfcar_price, \"CarName\", \"toyota\", 39)"
      ],
      "execution_count": 1001,
      "outputs": [
        {
          "output_type": "stream",
          "name": "stdout",
          "text": [
            "Coincidencias:  [('dodge', 100), ('dodge dart custom', 45), ('dodge colt hardtop', 43), ('dodge challenger se', 42), ('dodge coronet custom', 40), ('volkswagen', 40), ('dodge coronet custom (sw)', 36), ('peugeot', 33), ('porsche', 33), ('chevrolet', 29), ('vw dasher', 29), ('audi 5000s (diesel)', 27), ('honda accord cvcc', 27), ('alfa-romero', 25), ('audi', 22)]\n",
            "Con  dodge se modificaron  7  filas, donde hubo una coincidencia mayor a  41 %\n",
            "Coincidencias:  [('honda', 100), ('honda civic cvcc', 48), ('honda civic 1300', 48), ('honda civic (auto)', 48), ('honda accord cvcc', 45), ('honda civic 1500 gl', 42), ('dodge', 40), ('mazda', 40), ('nissan', 36), ('toyota', 36), ('renault', 33), ('toyota corona hardtop', 31), ('chevrolet', 29), ('mazda glc custom', 29), ('vw dasher', 29)]\n",
            "Con  honda se modificaron  13  filas, donde hubo una coincidencia mayor a  41 %\n",
            "Coincidencias:  [('isuzu mu-x', 67), ('isuzu d-max', 62), ('subaru', 55), ('isuzu d-max v-cross', 42), ('buick opel isuzu deluxe', 36), ('nissan', 36), ('mitsubishi', 27), ('peugeot 505s turbo diesel', 27), ('audi', 22), ('saab', 22), ('mazda', 20), ('buick', 20), ('mazda glc deluxe', 19), ('mazda glc custom', 19), ('audi 5000s (diesel)', 18)]\n",
            "Con  isuzu se modificaron  3  filas, donde hubo una coincidencia mayor a  61 %\n",
            "Coincidencias:  [('jaguar xj', 80), ('jaguar xf', 80), ('jaguar xk', 80), ('subaru', 50), ('audi', 40), ('saab', 40), ('mazda', 36), ('alfa-romero', 35), ('mercury', 31), ('renault', 31), ('vw dasher', 27), ('volkswagen', 25), ('toyota corona mark ii', 22), ('toyota corona hardtop', 22), ('peugeot 505s turbo diesel', 19)]\n",
            "Con  jaguar se modificaron  3  filas, donde hubo una coincidencia mayor a  79 %\n",
            "Coincidencias:  [('mazda', 100), ('mazda glc deluxe', 48), ('mazda glc custom', 48), ('audi', 44), ('saab', 44), ('mazda glc custom l', 43), ('honda', 40), ('jaguar', 36), ('vw dasher', 29), ('bmw', 25), ('toyota corona mark ii', 23), ('toyota corona hardtop', 23), ('dodge', 20), ('isuzu', 20), ('audi 5000s (diesel)', 18)]\n",
            "Con  mazda se modificaron  16  filas, donde hubo una coincidencia mayor a  47 %\n",
            "Coincidencias:  [('peugeot', 100), ('peugeot 505s turbo diesel', 44), ('renault', 43), ('plymouth', 40), ('chevrolet', 38), ('dodge', 33), ('toyota', 31), ('dodge coronet custom', 30), ('mercury', 29), ('porsche', 29), ('toyota corolla tercel', 29), ('dodge coronet custom (sw)', 27), ('toyota celica gt liftback', 25), ('volkswagen', 24), ('alfa-romero', 22)]\n",
            "Con  peugeot se modificaron  11  filas, donde hubo una coincidencia mayor a  44 %\n",
            "Coincidencias:  [('plymouth', 100), ('plymouth satellite custom (sw)', 44), ('toyota', 43), ('peugeot', 40), ('porsche', 40), ('mitsubishi', 33), ('alfa-romero', 32), ('volvo', 31), ('toyota corolla 1200', 30), ('toyota corona hardtop', 28), ('toyota corolla tercel', 28), ('renault', 27), ('toyota corolla 1600 (sw)', 27), ('toyota corona liftback', 27), ('toyota corolla liftback', 26)]\n",
            "Con  plymouth se modificaron  7  filas, donde hubo una coincidencia mayor a  44 %\n",
            "Coincidencias:  [('toyota', 100), ('toyota corolla 1200', 48), ('toyota corona mark ii', 44), ('toyota corona hardtop', 44), ('toyota corolla tercel', 44), ('toyota corolla 1600 (sw)', 43), ('toyota corona liftback', 43), ('toyota corolla liftback', 41), ('toyota celica gt liftback', 39), ('honda', 36), ('volvo', 36), ('peugeot', 31), ('buick electra 225 custom', 27), ('mazda glc custom l', 25), ('volkswagen', 25)]\n",
            "Con  toyota se modificaron  32  filas, donde hubo una coincidencia mayor a  39 %\n"
          ]
        }
      ]
    },
    {
      "cell_type": "code",
      "metadata": {
        "colab": {
          "base_uri": "https://localhost:8080/"
        },
        "id": "pRIkp2Iw_nkv",
        "outputId": "f17465d1-c6b4-4ce5-c556-357eb1c26051"
      },
      "source": [
        "#Verificar modificaciones\n",
        "uniqueData(dfcar_price, 'CarName')"
      ],
      "execution_count": 1002,
      "outputs": [
        {
          "output_type": "stream",
          "name": "stdout",
          "text": [
            "Columna:  CarName\n",
            "No. columnas unicas:  34\n",
            "Valores unicos:  ['alfa-romero' 'audi' 'audi 5000s (diesel)' 'bmw' 'buick'\n",
            " 'buick century luxus (sw)' 'buick century special'\n",
            " 'buick electra 225 custom' 'buick opel isuzu deluxe'\n",
            " 'buick regal sport coupe (turbo)' 'chevrolet' 'dodge'\n",
            " 'dodge coronet custom' 'dodge coronet custom (sw)' 'honda' 'isuzu'\n",
            " 'isuzu d-max v-cross' 'jaguar' 'mazda' 'mazda glc custom l' 'mercury'\n",
            " 'mitsubishi' 'nissan' 'peugeot' 'plymouth' 'porsche' 'renault' 'saab'\n",
            " 'subaru' 'toyota' 'volkswagen' 'volvo' 'vw dasher' 'vw rabbit']\n"
          ]
        }
      ]
    },
    {
      "cell_type": "markdown",
      "metadata": {
        "id": "w5HLw8alm4AO"
      },
      "source": [
        "> Ya que convertimos la mayoria de los datos en marcas los demas datos lo hacemos con .replace()"
      ]
    },
    {
      "cell_type": "code",
      "metadata": {
        "id": "cClUhGPT4lYy"
      },
      "source": [
        "dfcar_price.CarName.replace(to_replace=['audi 5000s (diesel)'], value='audi', inplace=True)\n",
        "dfcar_price.CarName.replace(to_replace=['buick century luxus (sw)', 'buick century special', \n",
        "                                        'buick electra 225 custom', 'buick opel isuzu deluxe', \n",
        "                                        'buick regal sport coupe (turbo)'], value='buick', inplace=True)\n",
        "dfcar_price.CarName.replace(to_replace=['dodge coronet custom', 'dodge coronet custom (sw)' ], value='dodge', inplace=True)\n",
        "dfcar_price.CarName.replace(to_replace=['isuzu d-max v-cross'], value='isuzu', inplace=True)\n",
        "dfcar_price.CarName.replace(to_replace=['mazda glc custom l'], value='mazda', inplace=True)\n",
        "dfcar_price.CarName.replace(to_replace=['vw dasher', 'vw rabbit'], value='volkswagen', inplace=True)"
      ],
      "execution_count": 1003,
      "outputs": []
    },
    {
      "cell_type": "code",
      "metadata": {
        "colab": {
          "base_uri": "https://localhost:8080/"
        },
        "id": "vD3bz-GVGHmg",
        "outputId": "fb173641-7d20-49f7-c73d-33711d1a9f35"
      },
      "source": [
        "#Verificar modificaciones\n",
        "uniqueData(dfcar_price, 'CarName')"
      ],
      "execution_count": 1004,
      "outputs": [
        {
          "output_type": "stream",
          "name": "stdout",
          "text": [
            "Columna:  CarName\n",
            "No. columnas unicas:  22\n",
            "Valores unicos:  ['alfa-romero' 'audi' 'bmw' 'buick' 'chevrolet' 'dodge' 'honda' 'isuzu'\n",
            " 'jaguar' 'mazda' 'mercury' 'mitsubishi' 'nissan' 'peugeot' 'plymouth'\n",
            " 'porsche' 'renault' 'saab' 'subaru' 'toyota' 'volkswagen' 'volvo']\n"
          ]
        }
      ]
    },
    {
      "cell_type": "markdown",
      "metadata": {
        "id": "VEWDbTxr-1o_"
      },
      "source": [
        "## **Reemplazar valores string por int**\n",
        "Se cambiaran los valores string de la columna **doornumber** por valores int, por ejemplo **\"four\"** por **4**."
      ]
    },
    {
      "cell_type": "code",
      "metadata": {
        "colab": {
          "base_uri": "https://localhost:8080/"
        },
        "id": "OxhYBhBZBpgg",
        "outputId": "a1807509-ca68-4300-bac1-1e5236527239"
      },
      "source": [
        "dfcar_price.doornumber.replace(to_replace=\"four\", value=4, inplace=True)\n",
        "dfcar_price.doornumber.replace(to_replace=\"two\", value=2, inplace=True)\n",
        "dfcar_price['doornumber']"
      ],
      "execution_count": 1005,
      "outputs": [
        {
          "output_type": "execute_result",
          "data": {
            "text/plain": [
              "0      2\n",
              "1      2\n",
              "2      2\n",
              "3      4\n",
              "4      4\n",
              "      ..\n",
              "200    4\n",
              "201    4\n",
              "202    4\n",
              "203    4\n",
              "204    4\n",
              "Name: doornumber, Length: 205, dtype: int64"
            ]
          },
          "metadata": {},
          "execution_count": 1005
        }
      ]
    },
    {
      "cell_type": "markdown",
      "metadata": {
        "id": "U6C8OrraGmja"
      },
      "source": [
        "\n",
        "Se cambiaran los valores string de la columna **cylindercylindernumber** por valores int, por ejemplo **\"five\"** por **5**."
      ]
    },
    {
      "cell_type": "code",
      "metadata": {
        "colab": {
          "base_uri": "https://localhost:8080/"
        },
        "id": "NLU6z_OPGiuC",
        "outputId": "816a80e7-6dad-4643-968c-4f72ef5022fd"
      },
      "source": [
        "dfcar_price.cylindernumber.replace(to_replace=\"eight\", value=8, inplace=True)\n",
        "dfcar_price.cylindernumber.replace(to_replace=\"five\", value=5, inplace=True)\n",
        "dfcar_price.cylindernumber.replace(to_replace=\"four\", value=4, inplace=True)\n",
        "dfcar_price.cylindernumber.replace(to_replace=\"six\", value=6, inplace=True)\n",
        "dfcar_price.cylindernumber.replace(to_replace=\"three\", value=3, inplace=True)\n",
        "dfcar_price.cylindernumber.replace(to_replace=\"two\", value=2, inplace=True)\n",
        "dfcar_price.cylindernumber.replace(to_replace=\"twelve\", value=12, inplace=True)\n",
        "dfcar_price['cylindernumber']"
      ],
      "execution_count": 1006,
      "outputs": [
        {
          "output_type": "execute_result",
          "data": {
            "text/plain": [
              "0      4\n",
              "1      4\n",
              "2      6\n",
              "3      4\n",
              "4      5\n",
              "      ..\n",
              "200    4\n",
              "201    4\n",
              "202    6\n",
              "203    6\n",
              "204    4\n",
              "Name: cylindernumber, Length: 205, dtype: int64"
            ]
          },
          "metadata": {},
          "execution_count": 1006
        }
      ]
    },
    {
      "cell_type": "markdown",
      "metadata": {
        "id": "hLg355peqGQH"
      },
      "source": [
        "## **Verificar tipo de datos**"
      ]
    },
    {
      "cell_type": "code",
      "metadata": {
        "colab": {
          "base_uri": "https://localhost:8080/"
        },
        "id": "0M_b5FotqD2M",
        "outputId": "19094cb4-306d-4e84-cfa6-d0bb2d05b020"
      },
      "source": [
        "#Verificacion del tipo de dato por columna\n",
        "dfcar_price.info()"
      ],
      "execution_count": 1007,
      "outputs": [
        {
          "output_type": "stream",
          "name": "stdout",
          "text": [
            "<class 'pandas.core.frame.DataFrame'>\n",
            "RangeIndex: 205 entries, 0 to 204\n",
            "Data columns (total 26 columns):\n",
            " #   Column            Non-Null Count  Dtype  \n",
            "---  ------            --------------  -----  \n",
            " 0   car_ID            205 non-null    int64  \n",
            " 1   symboling         205 non-null    int64  \n",
            " 2   CarName           205 non-null    object \n",
            " 3   fueltype          205 non-null    object \n",
            " 4   aspiration        205 non-null    object \n",
            " 5   doornumber        205 non-null    int64  \n",
            " 6   carbody           205 non-null    object \n",
            " 7   drivewheel        205 non-null    object \n",
            " 8   enginelocation    205 non-null    object \n",
            " 9   wheelbase         205 non-null    float64\n",
            " 10  carlength         205 non-null    float64\n",
            " 11  carwidth          205 non-null    float64\n",
            " 12  carheight         205 non-null    float64\n",
            " 13  curbweight        205 non-null    int64  \n",
            " 14  enginetype        205 non-null    object \n",
            " 15  cylindernumber    205 non-null    int64  \n",
            " 16  enginesize        205 non-null    int64  \n",
            " 17  fuelsystem        205 non-null    object \n",
            " 18  boreratio         205 non-null    float64\n",
            " 19  stroke            205 non-null    float64\n",
            " 20  compressionratio  205 non-null    float64\n",
            " 21  horsepower        205 non-null    int64  \n",
            " 22  peakrpm           205 non-null    int64  \n",
            " 23  citympg           205 non-null    int64  \n",
            " 24  highwaympg        205 non-null    int64  \n",
            " 25  price             205 non-null    float64\n",
            "dtypes: float64(8), int64(10), object(8)\n",
            "memory usage: 41.8+ KB\n"
          ]
        }
      ]
    },
    {
      "cell_type": "code",
      "metadata": {
        "colab": {
          "base_uri": "https://localhost:8080/",
          "height": 275
        },
        "id": "CBUY-v-RHaDj",
        "outputId": "42cc5990-99f3-4055-e05c-fa607ac07812"
      },
      "source": [
        "#Dataframe modificado\n",
        "dfcar_price.head()"
      ],
      "execution_count": 1009,
      "outputs": [
        {
          "output_type": "execute_result",
          "data": {
            "text/html": [
              "<div>\n",
              "<style scoped>\n",
              "    .dataframe tbody tr th:only-of-type {\n",
              "        vertical-align: middle;\n",
              "    }\n",
              "\n",
              "    .dataframe tbody tr th {\n",
              "        vertical-align: top;\n",
              "    }\n",
              "\n",
              "    .dataframe thead th {\n",
              "        text-align: right;\n",
              "    }\n",
              "</style>\n",
              "<table border=\"1\" class=\"dataframe\">\n",
              "  <thead>\n",
              "    <tr style=\"text-align: right;\">\n",
              "      <th></th>\n",
              "      <th>car_ID</th>\n",
              "      <th>symboling</th>\n",
              "      <th>CarName</th>\n",
              "      <th>fueltype</th>\n",
              "      <th>aspiration</th>\n",
              "      <th>doornumber</th>\n",
              "      <th>carbody</th>\n",
              "      <th>drivewheel</th>\n",
              "      <th>enginelocation</th>\n",
              "      <th>wheelbase</th>\n",
              "      <th>carlength</th>\n",
              "      <th>carwidth</th>\n",
              "      <th>carheight</th>\n",
              "      <th>curbweight</th>\n",
              "      <th>enginetype</th>\n",
              "      <th>cylindernumber</th>\n",
              "      <th>enginesize</th>\n",
              "      <th>fuelsystem</th>\n",
              "      <th>boreratio</th>\n",
              "      <th>stroke</th>\n",
              "      <th>compressionratio</th>\n",
              "      <th>horsepower</th>\n",
              "      <th>peakrpm</th>\n",
              "      <th>citympg</th>\n",
              "      <th>highwaympg</th>\n",
              "      <th>price</th>\n",
              "    </tr>\n",
              "  </thead>\n",
              "  <tbody>\n",
              "    <tr>\n",
              "      <th>0</th>\n",
              "      <td>1</td>\n",
              "      <td>3</td>\n",
              "      <td>alfa-romero</td>\n",
              "      <td>gas</td>\n",
              "      <td>std</td>\n",
              "      <td>2</td>\n",
              "      <td>convertible</td>\n",
              "      <td>rwd</td>\n",
              "      <td>front</td>\n",
              "      <td>88.6</td>\n",
              "      <td>168.8</td>\n",
              "      <td>64.1</td>\n",
              "      <td>48.8</td>\n",
              "      <td>2548</td>\n",
              "      <td>dohc</td>\n",
              "      <td>4</td>\n",
              "      <td>130</td>\n",
              "      <td>mpfi</td>\n",
              "      <td>3.47</td>\n",
              "      <td>2.68</td>\n",
              "      <td>9.0</td>\n",
              "      <td>111</td>\n",
              "      <td>5000</td>\n",
              "      <td>21</td>\n",
              "      <td>27</td>\n",
              "      <td>13495.0</td>\n",
              "    </tr>\n",
              "    <tr>\n",
              "      <th>1</th>\n",
              "      <td>2</td>\n",
              "      <td>3</td>\n",
              "      <td>alfa-romero</td>\n",
              "      <td>gas</td>\n",
              "      <td>std</td>\n",
              "      <td>2</td>\n",
              "      <td>convertible</td>\n",
              "      <td>rwd</td>\n",
              "      <td>front</td>\n",
              "      <td>88.6</td>\n",
              "      <td>168.8</td>\n",
              "      <td>64.1</td>\n",
              "      <td>48.8</td>\n",
              "      <td>2548</td>\n",
              "      <td>dohc</td>\n",
              "      <td>4</td>\n",
              "      <td>130</td>\n",
              "      <td>mpfi</td>\n",
              "      <td>3.47</td>\n",
              "      <td>2.68</td>\n",
              "      <td>9.0</td>\n",
              "      <td>111</td>\n",
              "      <td>5000</td>\n",
              "      <td>21</td>\n",
              "      <td>27</td>\n",
              "      <td>16500.0</td>\n",
              "    </tr>\n",
              "    <tr>\n",
              "      <th>2</th>\n",
              "      <td>3</td>\n",
              "      <td>1</td>\n",
              "      <td>alfa-romero</td>\n",
              "      <td>gas</td>\n",
              "      <td>std</td>\n",
              "      <td>2</td>\n",
              "      <td>hatchback</td>\n",
              "      <td>rwd</td>\n",
              "      <td>front</td>\n",
              "      <td>94.5</td>\n",
              "      <td>171.2</td>\n",
              "      <td>65.5</td>\n",
              "      <td>52.4</td>\n",
              "      <td>2823</td>\n",
              "      <td>ohcv</td>\n",
              "      <td>6</td>\n",
              "      <td>152</td>\n",
              "      <td>mpfi</td>\n",
              "      <td>2.68</td>\n",
              "      <td>3.47</td>\n",
              "      <td>9.0</td>\n",
              "      <td>154</td>\n",
              "      <td>5000</td>\n",
              "      <td>19</td>\n",
              "      <td>26</td>\n",
              "      <td>16500.0</td>\n",
              "    </tr>\n",
              "    <tr>\n",
              "      <th>3</th>\n",
              "      <td>4</td>\n",
              "      <td>2</td>\n",
              "      <td>audi</td>\n",
              "      <td>gas</td>\n",
              "      <td>std</td>\n",
              "      <td>4</td>\n",
              "      <td>sedan</td>\n",
              "      <td>fwd</td>\n",
              "      <td>front</td>\n",
              "      <td>99.8</td>\n",
              "      <td>176.6</td>\n",
              "      <td>66.2</td>\n",
              "      <td>54.3</td>\n",
              "      <td>2337</td>\n",
              "      <td>ohc</td>\n",
              "      <td>4</td>\n",
              "      <td>109</td>\n",
              "      <td>mpfi</td>\n",
              "      <td>3.19</td>\n",
              "      <td>3.40</td>\n",
              "      <td>10.0</td>\n",
              "      <td>102</td>\n",
              "      <td>5500</td>\n",
              "      <td>24</td>\n",
              "      <td>30</td>\n",
              "      <td>13950.0</td>\n",
              "    </tr>\n",
              "    <tr>\n",
              "      <th>4</th>\n",
              "      <td>5</td>\n",
              "      <td>2</td>\n",
              "      <td>audi</td>\n",
              "      <td>gas</td>\n",
              "      <td>std</td>\n",
              "      <td>4</td>\n",
              "      <td>sedan</td>\n",
              "      <td>4wd</td>\n",
              "      <td>front</td>\n",
              "      <td>99.4</td>\n",
              "      <td>176.6</td>\n",
              "      <td>66.4</td>\n",
              "      <td>54.3</td>\n",
              "      <td>2824</td>\n",
              "      <td>ohc</td>\n",
              "      <td>5</td>\n",
              "      <td>136</td>\n",
              "      <td>mpfi</td>\n",
              "      <td>3.19</td>\n",
              "      <td>3.40</td>\n",
              "      <td>8.0</td>\n",
              "      <td>115</td>\n",
              "      <td>5500</td>\n",
              "      <td>18</td>\n",
              "      <td>22</td>\n",
              "      <td>17450.0</td>\n",
              "    </tr>\n",
              "  </tbody>\n",
              "</table>\n",
              "</div>"
            ],
            "text/plain": [
              "   car_ID  symboling      CarName  ... citympg highwaympg    price\n",
              "0       1          3  alfa-romero  ...      21         27  13495.0\n",
              "1       2          3  alfa-romero  ...      21         27  16500.0\n",
              "2       3          1  alfa-romero  ...      19         26  16500.0\n",
              "3       4          2         audi  ...      24         30  13950.0\n",
              "4       5          2         audi  ...      18         22  17450.0\n",
              "\n",
              "[5 rows x 26 columns]"
            ]
          },
          "metadata": {},
          "execution_count": 1009
        }
      ]
    },
    {
      "cell_type": "markdown",
      "metadata": {
        "id": "jSBKlI1-szCM"
      },
      "source": [
        "# **Explorar datos**"
      ]
    },
    {
      "cell_type": "code",
      "metadata": {
        "colab": {
          "base_uri": "https://localhost:8080/",
          "height": 317
        },
        "id": "CpLJ5Tn3xKuM",
        "outputId": "4fbdeaaa-984c-4d0f-abc7-4c50a4310166"
      },
      "source": [
        "# Obtener información de datos estadisticos generales del dataframe\n",
        "dfcar_price.describe()"
      ],
      "execution_count": 1010,
      "outputs": [
        {
          "output_type": "execute_result",
          "data": {
            "text/html": [
              "<div>\n",
              "<style scoped>\n",
              "    .dataframe tbody tr th:only-of-type {\n",
              "        vertical-align: middle;\n",
              "    }\n",
              "\n",
              "    .dataframe tbody tr th {\n",
              "        vertical-align: top;\n",
              "    }\n",
              "\n",
              "    .dataframe thead th {\n",
              "        text-align: right;\n",
              "    }\n",
              "</style>\n",
              "<table border=\"1\" class=\"dataframe\">\n",
              "  <thead>\n",
              "    <tr style=\"text-align: right;\">\n",
              "      <th></th>\n",
              "      <th>car_ID</th>\n",
              "      <th>symboling</th>\n",
              "      <th>doornumber</th>\n",
              "      <th>wheelbase</th>\n",
              "      <th>carlength</th>\n",
              "      <th>carwidth</th>\n",
              "      <th>carheight</th>\n",
              "      <th>curbweight</th>\n",
              "      <th>cylindernumber</th>\n",
              "      <th>enginesize</th>\n",
              "      <th>boreratio</th>\n",
              "      <th>stroke</th>\n",
              "      <th>compressionratio</th>\n",
              "      <th>horsepower</th>\n",
              "      <th>peakrpm</th>\n",
              "      <th>citympg</th>\n",
              "      <th>highwaympg</th>\n",
              "      <th>price</th>\n",
              "    </tr>\n",
              "  </thead>\n",
              "  <tbody>\n",
              "    <tr>\n",
              "      <th>count</th>\n",
              "      <td>205.000000</td>\n",
              "      <td>205.000000</td>\n",
              "      <td>205.000000</td>\n",
              "      <td>205.000000</td>\n",
              "      <td>205.000000</td>\n",
              "      <td>205.000000</td>\n",
              "      <td>205.000000</td>\n",
              "      <td>205.000000</td>\n",
              "      <td>205.000000</td>\n",
              "      <td>205.000000</td>\n",
              "      <td>205.000000</td>\n",
              "      <td>205.000000</td>\n",
              "      <td>205.000000</td>\n",
              "      <td>205.000000</td>\n",
              "      <td>205.000000</td>\n",
              "      <td>205.000000</td>\n",
              "      <td>205.000000</td>\n",
              "      <td>205.000000</td>\n",
              "    </tr>\n",
              "    <tr>\n",
              "      <th>mean</th>\n",
              "      <td>103.000000</td>\n",
              "      <td>0.834146</td>\n",
              "      <td>3.121951</td>\n",
              "      <td>98.756585</td>\n",
              "      <td>174.049268</td>\n",
              "      <td>65.907805</td>\n",
              "      <td>53.724878</td>\n",
              "      <td>2555.565854</td>\n",
              "      <td>4.380488</td>\n",
              "      <td>126.907317</td>\n",
              "      <td>3.329756</td>\n",
              "      <td>3.255415</td>\n",
              "      <td>10.142537</td>\n",
              "      <td>104.117073</td>\n",
              "      <td>5125.121951</td>\n",
              "      <td>25.219512</td>\n",
              "      <td>30.751220</td>\n",
              "      <td>13276.710571</td>\n",
              "    </tr>\n",
              "    <tr>\n",
              "      <th>std</th>\n",
              "      <td>59.322565</td>\n",
              "      <td>1.245307</td>\n",
              "      <td>0.994966</td>\n",
              "      <td>6.021776</td>\n",
              "      <td>12.337289</td>\n",
              "      <td>2.145204</td>\n",
              "      <td>2.443522</td>\n",
              "      <td>520.680204</td>\n",
              "      <td>1.080854</td>\n",
              "      <td>41.642693</td>\n",
              "      <td>0.270844</td>\n",
              "      <td>0.313597</td>\n",
              "      <td>3.972040</td>\n",
              "      <td>39.544167</td>\n",
              "      <td>476.985643</td>\n",
              "      <td>6.542142</td>\n",
              "      <td>6.886443</td>\n",
              "      <td>7988.852332</td>\n",
              "    </tr>\n",
              "    <tr>\n",
              "      <th>min</th>\n",
              "      <td>1.000000</td>\n",
              "      <td>-2.000000</td>\n",
              "      <td>2.000000</td>\n",
              "      <td>86.600000</td>\n",
              "      <td>141.100000</td>\n",
              "      <td>60.300000</td>\n",
              "      <td>47.800000</td>\n",
              "      <td>1488.000000</td>\n",
              "      <td>2.000000</td>\n",
              "      <td>61.000000</td>\n",
              "      <td>2.540000</td>\n",
              "      <td>2.070000</td>\n",
              "      <td>7.000000</td>\n",
              "      <td>48.000000</td>\n",
              "      <td>4150.000000</td>\n",
              "      <td>13.000000</td>\n",
              "      <td>16.000000</td>\n",
              "      <td>5118.000000</td>\n",
              "    </tr>\n",
              "    <tr>\n",
              "      <th>25%</th>\n",
              "      <td>52.000000</td>\n",
              "      <td>0.000000</td>\n",
              "      <td>2.000000</td>\n",
              "      <td>94.500000</td>\n",
              "      <td>166.300000</td>\n",
              "      <td>64.100000</td>\n",
              "      <td>52.000000</td>\n",
              "      <td>2145.000000</td>\n",
              "      <td>4.000000</td>\n",
              "      <td>97.000000</td>\n",
              "      <td>3.150000</td>\n",
              "      <td>3.110000</td>\n",
              "      <td>8.600000</td>\n",
              "      <td>70.000000</td>\n",
              "      <td>4800.000000</td>\n",
              "      <td>19.000000</td>\n",
              "      <td>25.000000</td>\n",
              "      <td>7788.000000</td>\n",
              "    </tr>\n",
              "    <tr>\n",
              "      <th>50%</th>\n",
              "      <td>103.000000</td>\n",
              "      <td>1.000000</td>\n",
              "      <td>4.000000</td>\n",
              "      <td>97.000000</td>\n",
              "      <td>173.200000</td>\n",
              "      <td>65.500000</td>\n",
              "      <td>54.100000</td>\n",
              "      <td>2414.000000</td>\n",
              "      <td>4.000000</td>\n",
              "      <td>120.000000</td>\n",
              "      <td>3.310000</td>\n",
              "      <td>3.290000</td>\n",
              "      <td>9.000000</td>\n",
              "      <td>95.000000</td>\n",
              "      <td>5200.000000</td>\n",
              "      <td>24.000000</td>\n",
              "      <td>30.000000</td>\n",
              "      <td>10295.000000</td>\n",
              "    </tr>\n",
              "    <tr>\n",
              "      <th>75%</th>\n",
              "      <td>154.000000</td>\n",
              "      <td>2.000000</td>\n",
              "      <td>4.000000</td>\n",
              "      <td>102.400000</td>\n",
              "      <td>183.100000</td>\n",
              "      <td>66.900000</td>\n",
              "      <td>55.500000</td>\n",
              "      <td>2935.000000</td>\n",
              "      <td>4.000000</td>\n",
              "      <td>141.000000</td>\n",
              "      <td>3.580000</td>\n",
              "      <td>3.410000</td>\n",
              "      <td>9.400000</td>\n",
              "      <td>116.000000</td>\n",
              "      <td>5500.000000</td>\n",
              "      <td>30.000000</td>\n",
              "      <td>34.000000</td>\n",
              "      <td>16503.000000</td>\n",
              "    </tr>\n",
              "    <tr>\n",
              "      <th>max</th>\n",
              "      <td>205.000000</td>\n",
              "      <td>3.000000</td>\n",
              "      <td>4.000000</td>\n",
              "      <td>120.900000</td>\n",
              "      <td>208.100000</td>\n",
              "      <td>72.300000</td>\n",
              "      <td>59.800000</td>\n",
              "      <td>4066.000000</td>\n",
              "      <td>12.000000</td>\n",
              "      <td>326.000000</td>\n",
              "      <td>3.940000</td>\n",
              "      <td>4.170000</td>\n",
              "      <td>23.000000</td>\n",
              "      <td>288.000000</td>\n",
              "      <td>6600.000000</td>\n",
              "      <td>49.000000</td>\n",
              "      <td>54.000000</td>\n",
              "      <td>45400.000000</td>\n",
              "    </tr>\n",
              "  </tbody>\n",
              "</table>\n",
              "</div>"
            ],
            "text/plain": [
              "           car_ID   symboling  doornumber  ...     citympg  highwaympg         price\n",
              "count  205.000000  205.000000  205.000000  ...  205.000000  205.000000    205.000000\n",
              "mean   103.000000    0.834146    3.121951  ...   25.219512   30.751220  13276.710571\n",
              "std     59.322565    1.245307    0.994966  ...    6.542142    6.886443   7988.852332\n",
              "min      1.000000   -2.000000    2.000000  ...   13.000000   16.000000   5118.000000\n",
              "25%     52.000000    0.000000    2.000000  ...   19.000000   25.000000   7788.000000\n",
              "50%    103.000000    1.000000    4.000000  ...   24.000000   30.000000  10295.000000\n",
              "75%    154.000000    2.000000    4.000000  ...   30.000000   34.000000  16503.000000\n",
              "max    205.000000    3.000000    4.000000  ...   49.000000   54.000000  45400.000000\n",
              "\n",
              "[8 rows x 18 columns]"
            ]
          },
          "metadata": {},
          "execution_count": 1010
        }
      ]
    },
    {
      "cell_type": "code",
      "metadata": {
        "colab": {
          "base_uri": "https://localhost:8080/",
          "height": 224
        },
        "id": "xU88oqK_ySFU",
        "outputId": "23efb082-2b02-49d0-f3b2-4d110eede859"
      },
      "source": [
        "#Seleccionar columnas\n",
        "col_estadistica= [\"doornumber\", \"wheelbase\",\t\"carlength\",\t\"carwidth\",\t\"carheight\",\t\"curbweight\", \"cylindernumber\",\t\n",
        "                  \"enginesize\",\t\"boreratio\",\t\"stroke\",\t\"compressionratio\",\t\"horsepower\",\t\"peakrpm\",\t\"citympg\",\t\"highwaympg\",\t\"price\"]\n",
        "\n",
        "#Crear dataframe\n",
        "df_estadistica = pd.DataFrame(columns=col_estadistica, index=[\"Minimo\", \"Media\", \"Mediana\", \"Moda\", \"Maximo\"])\n",
        "\n",
        "#Asignar la media, moda, mediana, minimo y maximo de algunas columnas al nuevo dataframe\n",
        "for i in range(len(col_estadistica)):\n",
        "    var = dfcar_price[col_estadistica[i]]\n",
        "    # Obtener estadísticas\n",
        "    df_estadistica.at[\"Minimo\", col_estadistica[i]] = var.min()\n",
        "    df_estadistica.at[\"Media\", col_estadistica[i]] = var.mean()\n",
        "    df_estadistica.at[\"Mediana\", col_estadistica[i]] = var.median()\n",
        "    df_estadistica.at[\"Moda\", col_estadistica[i]] = var.mode()[0]\n",
        "    df_estadistica.at[\"Maximo\", col_estadistica[i]] = var.max()\n",
        "df_estadistica"
      ],
      "execution_count": 1029,
      "outputs": [
        {
          "output_type": "execute_result",
          "data": {
            "text/html": [
              "<div>\n",
              "<style scoped>\n",
              "    .dataframe tbody tr th:only-of-type {\n",
              "        vertical-align: middle;\n",
              "    }\n",
              "\n",
              "    .dataframe tbody tr th {\n",
              "        vertical-align: top;\n",
              "    }\n",
              "\n",
              "    .dataframe thead th {\n",
              "        text-align: right;\n",
              "    }\n",
              "</style>\n",
              "<table border=\"1\" class=\"dataframe\">\n",
              "  <thead>\n",
              "    <tr style=\"text-align: right;\">\n",
              "      <th></th>\n",
              "      <th>doornumber</th>\n",
              "      <th>wheelbase</th>\n",
              "      <th>carlength</th>\n",
              "      <th>carwidth</th>\n",
              "      <th>carheight</th>\n",
              "      <th>curbweight</th>\n",
              "      <th>cylindernumber</th>\n",
              "      <th>enginesize</th>\n",
              "      <th>boreratio</th>\n",
              "      <th>stroke</th>\n",
              "      <th>compressionratio</th>\n",
              "      <th>horsepower</th>\n",
              "      <th>peakrpm</th>\n",
              "      <th>citympg</th>\n",
              "      <th>highwaympg</th>\n",
              "      <th>price</th>\n",
              "    </tr>\n",
              "  </thead>\n",
              "  <tbody>\n",
              "    <tr>\n",
              "      <th>Minimo</th>\n",
              "      <td>2</td>\n",
              "      <td>86.6</td>\n",
              "      <td>141.1</td>\n",
              "      <td>60.3</td>\n",
              "      <td>47.8</td>\n",
              "      <td>1488</td>\n",
              "      <td>2</td>\n",
              "      <td>61</td>\n",
              "      <td>2.54</td>\n",
              "      <td>2.07</td>\n",
              "      <td>7</td>\n",
              "      <td>48</td>\n",
              "      <td>4150</td>\n",
              "      <td>13</td>\n",
              "      <td>16</td>\n",
              "      <td>5118</td>\n",
              "    </tr>\n",
              "    <tr>\n",
              "      <th>Media</th>\n",
              "      <td>3.12195</td>\n",
              "      <td>98.7566</td>\n",
              "      <td>174.049</td>\n",
              "      <td>65.9078</td>\n",
              "      <td>53.7249</td>\n",
              "      <td>2555.57</td>\n",
              "      <td>4.38049</td>\n",
              "      <td>126.907</td>\n",
              "      <td>3.32976</td>\n",
              "      <td>3.25541</td>\n",
              "      <td>10.1425</td>\n",
              "      <td>104.117</td>\n",
              "      <td>5125.12</td>\n",
              "      <td>25.2195</td>\n",
              "      <td>30.7512</td>\n",
              "      <td>13276.7</td>\n",
              "    </tr>\n",
              "    <tr>\n",
              "      <th>Mediana</th>\n",
              "      <td>4</td>\n",
              "      <td>97</td>\n",
              "      <td>173.2</td>\n",
              "      <td>65.5</td>\n",
              "      <td>54.1</td>\n",
              "      <td>2414</td>\n",
              "      <td>4</td>\n",
              "      <td>120</td>\n",
              "      <td>3.31</td>\n",
              "      <td>3.29</td>\n",
              "      <td>9</td>\n",
              "      <td>95</td>\n",
              "      <td>5200</td>\n",
              "      <td>24</td>\n",
              "      <td>30</td>\n",
              "      <td>10295</td>\n",
              "    </tr>\n",
              "    <tr>\n",
              "      <th>Moda</th>\n",
              "      <td>4</td>\n",
              "      <td>94.5</td>\n",
              "      <td>157.3</td>\n",
              "      <td>63.8</td>\n",
              "      <td>50.8</td>\n",
              "      <td>2385</td>\n",
              "      <td>4</td>\n",
              "      <td>92</td>\n",
              "      <td>3.62</td>\n",
              "      <td>3.4</td>\n",
              "      <td>9</td>\n",
              "      <td>68</td>\n",
              "      <td>5500</td>\n",
              "      <td>31</td>\n",
              "      <td>25</td>\n",
              "      <td>5572</td>\n",
              "    </tr>\n",
              "    <tr>\n",
              "      <th>Maximo</th>\n",
              "      <td>4</td>\n",
              "      <td>120.9</td>\n",
              "      <td>208.1</td>\n",
              "      <td>72.3</td>\n",
              "      <td>59.8</td>\n",
              "      <td>4066</td>\n",
              "      <td>12</td>\n",
              "      <td>326</td>\n",
              "      <td>3.94</td>\n",
              "      <td>4.17</td>\n",
              "      <td>23</td>\n",
              "      <td>288</td>\n",
              "      <td>6600</td>\n",
              "      <td>49</td>\n",
              "      <td>54</td>\n",
              "      <td>45400</td>\n",
              "    </tr>\n",
              "  </tbody>\n",
              "</table>\n",
              "</div>"
            ],
            "text/plain": [
              "        doornumber wheelbase carlength  ...  citympg highwaympg    price\n",
              "Minimo           2      86.6     141.1  ...       13         16     5118\n",
              "Media      3.12195   98.7566   174.049  ...  25.2195    30.7512  13276.7\n",
              "Mediana          4        97     173.2  ...       24         30    10295\n",
              "Moda             4      94.5     157.3  ...       31         25     5572\n",
              "Maximo           4     120.9     208.1  ...       49         54    45400\n",
              "\n",
              "[5 rows x 16 columns]"
            ]
          },
          "metadata": {},
          "execution_count": 1029
        }
      ]
    },
    {
      "cell_type": "markdown",
      "metadata": {
        "id": "F1tdgrMk8iA4"
      },
      "source": [
        "## **Correlación de datos**"
      ]
    },
    {
      "cell_type": "code",
      "metadata": {
        "colab": {
          "base_uri": "https://localhost:8080/",
          "height": 627
        },
        "id": "3FcZU1TP3XAu",
        "outputId": "243b5efe-ade6-4875-8781-09f030ca317a"
      },
      "source": [
        "dfcar_price.corr()"
      ],
      "execution_count": 1030,
      "outputs": [
        {
          "output_type": "execute_result",
          "data": {
            "text/html": [
              "<div>\n",
              "<style scoped>\n",
              "    .dataframe tbody tr th:only-of-type {\n",
              "        vertical-align: middle;\n",
              "    }\n",
              "\n",
              "    .dataframe tbody tr th {\n",
              "        vertical-align: top;\n",
              "    }\n",
              "\n",
              "    .dataframe thead th {\n",
              "        text-align: right;\n",
              "    }\n",
              "</style>\n",
              "<table border=\"1\" class=\"dataframe\">\n",
              "  <thead>\n",
              "    <tr style=\"text-align: right;\">\n",
              "      <th></th>\n",
              "      <th>car_ID</th>\n",
              "      <th>symboling</th>\n",
              "      <th>doornumber</th>\n",
              "      <th>wheelbase</th>\n",
              "      <th>carlength</th>\n",
              "      <th>carwidth</th>\n",
              "      <th>carheight</th>\n",
              "      <th>curbweight</th>\n",
              "      <th>cylindernumber</th>\n",
              "      <th>enginesize</th>\n",
              "      <th>boreratio</th>\n",
              "      <th>stroke</th>\n",
              "      <th>compressionratio</th>\n",
              "      <th>horsepower</th>\n",
              "      <th>peakrpm</th>\n",
              "      <th>citympg</th>\n",
              "      <th>highwaympg</th>\n",
              "      <th>price</th>\n",
              "    </tr>\n",
              "  </thead>\n",
              "  <tbody>\n",
              "    <tr>\n",
              "      <th>car_ID</th>\n",
              "      <td>1.000000</td>\n",
              "      <td>-0.151621</td>\n",
              "      <td>0.190352</td>\n",
              "      <td>0.129729</td>\n",
              "      <td>0.170636</td>\n",
              "      <td>0.052387</td>\n",
              "      <td>0.255960</td>\n",
              "      <td>0.071962</td>\n",
              "      <td>-0.094493</td>\n",
              "      <td>-0.033930</td>\n",
              "      <td>0.260064</td>\n",
              "      <td>-0.160824</td>\n",
              "      <td>0.150276</td>\n",
              "      <td>-0.015006</td>\n",
              "      <td>-0.203789</td>\n",
              "      <td>0.015940</td>\n",
              "      <td>0.011255</td>\n",
              "      <td>-0.109093</td>\n",
              "    </tr>\n",
              "    <tr>\n",
              "      <th>symboling</th>\n",
              "      <td>-0.151621</td>\n",
              "      <td>1.000000</td>\n",
              "      <td>-0.664073</td>\n",
              "      <td>-0.531954</td>\n",
              "      <td>-0.357612</td>\n",
              "      <td>-0.232919</td>\n",
              "      <td>-0.541038</td>\n",
              "      <td>-0.227691</td>\n",
              "      <td>-0.113129</td>\n",
              "      <td>-0.105790</td>\n",
              "      <td>-0.130051</td>\n",
              "      <td>-0.008735</td>\n",
              "      <td>-0.178515</td>\n",
              "      <td>0.070873</td>\n",
              "      <td>0.273606</td>\n",
              "      <td>-0.035823</td>\n",
              "      <td>0.034606</td>\n",
              "      <td>-0.079978</td>\n",
              "    </tr>\n",
              "    <tr>\n",
              "      <th>doornumber</th>\n",
              "      <td>0.190352</td>\n",
              "      <td>-0.664073</td>\n",
              "      <td>1.000000</td>\n",
              "      <td>0.447357</td>\n",
              "      <td>0.398568</td>\n",
              "      <td>0.207168</td>\n",
              "      <td>0.552208</td>\n",
              "      <td>0.197379</td>\n",
              "      <td>-0.016009</td>\n",
              "      <td>0.020742</td>\n",
              "      <td>0.119258</td>\n",
              "      <td>-0.011082</td>\n",
              "      <td>0.177888</td>\n",
              "      <td>-0.126947</td>\n",
              "      <td>-0.247668</td>\n",
              "      <td>-0.012417</td>\n",
              "      <td>-0.036330</td>\n",
              "      <td>0.031835</td>\n",
              "    </tr>\n",
              "    <tr>\n",
              "      <th>wheelbase</th>\n",
              "      <td>0.129729</td>\n",
              "      <td>-0.531954</td>\n",
              "      <td>0.447357</td>\n",
              "      <td>1.000000</td>\n",
              "      <td>0.874587</td>\n",
              "      <td>0.795144</td>\n",
              "      <td>0.589435</td>\n",
              "      <td>0.776386</td>\n",
              "      <td>0.339507</td>\n",
              "      <td>0.569329</td>\n",
              "      <td>0.488750</td>\n",
              "      <td>0.160959</td>\n",
              "      <td>0.249786</td>\n",
              "      <td>0.353294</td>\n",
              "      <td>-0.360469</td>\n",
              "      <td>-0.470414</td>\n",
              "      <td>-0.544082</td>\n",
              "      <td>0.577816</td>\n",
              "    </tr>\n",
              "    <tr>\n",
              "      <th>carlength</th>\n",
              "      <td>0.170636</td>\n",
              "      <td>-0.357612</td>\n",
              "      <td>0.398568</td>\n",
              "      <td>0.874587</td>\n",
              "      <td>1.000000</td>\n",
              "      <td>0.841118</td>\n",
              "      <td>0.491029</td>\n",
              "      <td>0.877728</td>\n",
              "      <td>0.430672</td>\n",
              "      <td>0.683360</td>\n",
              "      <td>0.606454</td>\n",
              "      <td>0.129533</td>\n",
              "      <td>0.158414</td>\n",
              "      <td>0.552623</td>\n",
              "      <td>-0.287242</td>\n",
              "      <td>-0.670909</td>\n",
              "      <td>-0.704662</td>\n",
              "      <td>0.682920</td>\n",
              "    </tr>\n",
              "    <tr>\n",
              "      <th>carwidth</th>\n",
              "      <td>0.052387</td>\n",
              "      <td>-0.232919</td>\n",
              "      <td>0.207168</td>\n",
              "      <td>0.795144</td>\n",
              "      <td>0.841118</td>\n",
              "      <td>1.000000</td>\n",
              "      <td>0.279210</td>\n",
              "      <td>0.867032</td>\n",
              "      <td>0.545007</td>\n",
              "      <td>0.735433</td>\n",
              "      <td>0.559150</td>\n",
              "      <td>0.182942</td>\n",
              "      <td>0.181129</td>\n",
              "      <td>0.640732</td>\n",
              "      <td>-0.220012</td>\n",
              "      <td>-0.642704</td>\n",
              "      <td>-0.677218</td>\n",
              "      <td>0.759325</td>\n",
              "    </tr>\n",
              "    <tr>\n",
              "      <th>carheight</th>\n",
              "      <td>0.255960</td>\n",
              "      <td>-0.541038</td>\n",
              "      <td>0.552208</td>\n",
              "      <td>0.589435</td>\n",
              "      <td>0.491029</td>\n",
              "      <td>0.279210</td>\n",
              "      <td>1.000000</td>\n",
              "      <td>0.295572</td>\n",
              "      <td>-0.013995</td>\n",
              "      <td>0.067149</td>\n",
              "      <td>0.171071</td>\n",
              "      <td>-0.055307</td>\n",
              "      <td>0.261214</td>\n",
              "      <td>-0.108802</td>\n",
              "      <td>-0.320411</td>\n",
              "      <td>-0.048640</td>\n",
              "      <td>-0.107358</td>\n",
              "      <td>0.119336</td>\n",
              "    </tr>\n",
              "    <tr>\n",
              "      <th>curbweight</th>\n",
              "      <td>0.071962</td>\n",
              "      <td>-0.227691</td>\n",
              "      <td>0.197379</td>\n",
              "      <td>0.776386</td>\n",
              "      <td>0.877728</td>\n",
              "      <td>0.867032</td>\n",
              "      <td>0.295572</td>\n",
              "      <td>1.000000</td>\n",
              "      <td>0.609727</td>\n",
              "      <td>0.850594</td>\n",
              "      <td>0.648480</td>\n",
              "      <td>0.168790</td>\n",
              "      <td>0.151362</td>\n",
              "      <td>0.750739</td>\n",
              "      <td>-0.266243</td>\n",
              "      <td>-0.757414</td>\n",
              "      <td>-0.797465</td>\n",
              "      <td>0.835305</td>\n",
              "    </tr>\n",
              "    <tr>\n",
              "      <th>cylindernumber</th>\n",
              "      <td>-0.094493</td>\n",
              "      <td>-0.113129</td>\n",
              "      <td>-0.016009</td>\n",
              "      <td>0.339507</td>\n",
              "      <td>0.430672</td>\n",
              "      <td>0.545007</td>\n",
              "      <td>-0.013995</td>\n",
              "      <td>0.609727</td>\n",
              "      <td>1.000000</td>\n",
              "      <td>0.846031</td>\n",
              "      <td>0.231399</td>\n",
              "      <td>0.008210</td>\n",
              "      <td>-0.020002</td>\n",
              "      <td>0.692016</td>\n",
              "      <td>-0.124172</td>\n",
              "      <td>-0.445837</td>\n",
              "      <td>-0.466666</td>\n",
              "      <td>0.718305</td>\n",
              "    </tr>\n",
              "    <tr>\n",
              "      <th>enginesize</th>\n",
              "      <td>-0.033930</td>\n",
              "      <td>-0.105790</td>\n",
              "      <td>0.020742</td>\n",
              "      <td>0.569329</td>\n",
              "      <td>0.683360</td>\n",
              "      <td>0.735433</td>\n",
              "      <td>0.067149</td>\n",
              "      <td>0.850594</td>\n",
              "      <td>0.846031</td>\n",
              "      <td>1.000000</td>\n",
              "      <td>0.583774</td>\n",
              "      <td>0.203129</td>\n",
              "      <td>0.028971</td>\n",
              "      <td>0.809769</td>\n",
              "      <td>-0.244660</td>\n",
              "      <td>-0.653658</td>\n",
              "      <td>-0.677470</td>\n",
              "      <td>0.874145</td>\n",
              "    </tr>\n",
              "    <tr>\n",
              "      <th>boreratio</th>\n",
              "      <td>0.260064</td>\n",
              "      <td>-0.130051</td>\n",
              "      <td>0.119258</td>\n",
              "      <td>0.488750</td>\n",
              "      <td>0.606454</td>\n",
              "      <td>0.559150</td>\n",
              "      <td>0.171071</td>\n",
              "      <td>0.648480</td>\n",
              "      <td>0.231399</td>\n",
              "      <td>0.583774</td>\n",
              "      <td>1.000000</td>\n",
              "      <td>-0.055909</td>\n",
              "      <td>0.005197</td>\n",
              "      <td>0.573677</td>\n",
              "      <td>-0.254976</td>\n",
              "      <td>-0.584532</td>\n",
              "      <td>-0.587012</td>\n",
              "      <td>0.553173</td>\n",
              "    </tr>\n",
              "    <tr>\n",
              "      <th>stroke</th>\n",
              "      <td>-0.160824</td>\n",
              "      <td>-0.008735</td>\n",
              "      <td>-0.011082</td>\n",
              "      <td>0.160959</td>\n",
              "      <td>0.129533</td>\n",
              "      <td>0.182942</td>\n",
              "      <td>-0.055307</td>\n",
              "      <td>0.168790</td>\n",
              "      <td>0.008210</td>\n",
              "      <td>0.203129</td>\n",
              "      <td>-0.055909</td>\n",
              "      <td>1.000000</td>\n",
              "      <td>0.186110</td>\n",
              "      <td>0.080940</td>\n",
              "      <td>-0.067964</td>\n",
              "      <td>-0.042145</td>\n",
              "      <td>-0.043931</td>\n",
              "      <td>0.079443</td>\n",
              "    </tr>\n",
              "    <tr>\n",
              "      <th>compressionratio</th>\n",
              "      <td>0.150276</td>\n",
              "      <td>-0.178515</td>\n",
              "      <td>0.177888</td>\n",
              "      <td>0.249786</td>\n",
              "      <td>0.158414</td>\n",
              "      <td>0.181129</td>\n",
              "      <td>0.261214</td>\n",
              "      <td>0.151362</td>\n",
              "      <td>-0.020002</td>\n",
              "      <td>0.028971</td>\n",
              "      <td>0.005197</td>\n",
              "      <td>0.186110</td>\n",
              "      <td>1.000000</td>\n",
              "      <td>-0.204326</td>\n",
              "      <td>-0.435741</td>\n",
              "      <td>0.324701</td>\n",
              "      <td>0.265201</td>\n",
              "      <td>0.067984</td>\n",
              "    </tr>\n",
              "    <tr>\n",
              "      <th>horsepower</th>\n",
              "      <td>-0.015006</td>\n",
              "      <td>0.070873</td>\n",
              "      <td>-0.126947</td>\n",
              "      <td>0.353294</td>\n",
              "      <td>0.552623</td>\n",
              "      <td>0.640732</td>\n",
              "      <td>-0.108802</td>\n",
              "      <td>0.750739</td>\n",
              "      <td>0.692016</td>\n",
              "      <td>0.809769</td>\n",
              "      <td>0.573677</td>\n",
              "      <td>0.080940</td>\n",
              "      <td>-0.204326</td>\n",
              "      <td>1.000000</td>\n",
              "      <td>0.131073</td>\n",
              "      <td>-0.801456</td>\n",
              "      <td>-0.770544</td>\n",
              "      <td>0.808139</td>\n",
              "    </tr>\n",
              "    <tr>\n",
              "      <th>peakrpm</th>\n",
              "      <td>-0.203789</td>\n",
              "      <td>0.273606</td>\n",
              "      <td>-0.247668</td>\n",
              "      <td>-0.360469</td>\n",
              "      <td>-0.287242</td>\n",
              "      <td>-0.220012</td>\n",
              "      <td>-0.320411</td>\n",
              "      <td>-0.266243</td>\n",
              "      <td>-0.124172</td>\n",
              "      <td>-0.244660</td>\n",
              "      <td>-0.254976</td>\n",
              "      <td>-0.067964</td>\n",
              "      <td>-0.435741</td>\n",
              "      <td>0.131073</td>\n",
              "      <td>1.000000</td>\n",
              "      <td>-0.113544</td>\n",
              "      <td>-0.054275</td>\n",
              "      <td>-0.085267</td>\n",
              "    </tr>\n",
              "    <tr>\n",
              "      <th>citympg</th>\n",
              "      <td>0.015940</td>\n",
              "      <td>-0.035823</td>\n",
              "      <td>-0.012417</td>\n",
              "      <td>-0.470414</td>\n",
              "      <td>-0.670909</td>\n",
              "      <td>-0.642704</td>\n",
              "      <td>-0.048640</td>\n",
              "      <td>-0.757414</td>\n",
              "      <td>-0.445837</td>\n",
              "      <td>-0.653658</td>\n",
              "      <td>-0.584532</td>\n",
              "      <td>-0.042145</td>\n",
              "      <td>0.324701</td>\n",
              "      <td>-0.801456</td>\n",
              "      <td>-0.113544</td>\n",
              "      <td>1.000000</td>\n",
              "      <td>0.971337</td>\n",
              "      <td>-0.685751</td>\n",
              "    </tr>\n",
              "    <tr>\n",
              "      <th>highwaympg</th>\n",
              "      <td>0.011255</td>\n",
              "      <td>0.034606</td>\n",
              "      <td>-0.036330</td>\n",
              "      <td>-0.544082</td>\n",
              "      <td>-0.704662</td>\n",
              "      <td>-0.677218</td>\n",
              "      <td>-0.107358</td>\n",
              "      <td>-0.797465</td>\n",
              "      <td>-0.466666</td>\n",
              "      <td>-0.677470</td>\n",
              "      <td>-0.587012</td>\n",
              "      <td>-0.043931</td>\n",
              "      <td>0.265201</td>\n",
              "      <td>-0.770544</td>\n",
              "      <td>-0.054275</td>\n",
              "      <td>0.971337</td>\n",
              "      <td>1.000000</td>\n",
              "      <td>-0.697599</td>\n",
              "    </tr>\n",
              "    <tr>\n",
              "      <th>price</th>\n",
              "      <td>-0.109093</td>\n",
              "      <td>-0.079978</td>\n",
              "      <td>0.031835</td>\n",
              "      <td>0.577816</td>\n",
              "      <td>0.682920</td>\n",
              "      <td>0.759325</td>\n",
              "      <td>0.119336</td>\n",
              "      <td>0.835305</td>\n",
              "      <td>0.718305</td>\n",
              "      <td>0.874145</td>\n",
              "      <td>0.553173</td>\n",
              "      <td>0.079443</td>\n",
              "      <td>0.067984</td>\n",
              "      <td>0.808139</td>\n",
              "      <td>-0.085267</td>\n",
              "      <td>-0.685751</td>\n",
              "      <td>-0.697599</td>\n",
              "      <td>1.000000</td>\n",
              "    </tr>\n",
              "  </tbody>\n",
              "</table>\n",
              "</div>"
            ],
            "text/plain": [
              "                    car_ID  symboling  ...  highwaympg     price\n",
              "car_ID            1.000000  -0.151621  ...    0.011255 -0.109093\n",
              "symboling        -0.151621   1.000000  ...    0.034606 -0.079978\n",
              "doornumber        0.190352  -0.664073  ...   -0.036330  0.031835\n",
              "wheelbase         0.129729  -0.531954  ...   -0.544082  0.577816\n",
              "carlength         0.170636  -0.357612  ...   -0.704662  0.682920\n",
              "carwidth          0.052387  -0.232919  ...   -0.677218  0.759325\n",
              "carheight         0.255960  -0.541038  ...   -0.107358  0.119336\n",
              "curbweight        0.071962  -0.227691  ...   -0.797465  0.835305\n",
              "cylindernumber   -0.094493  -0.113129  ...   -0.466666  0.718305\n",
              "enginesize       -0.033930  -0.105790  ...   -0.677470  0.874145\n",
              "boreratio         0.260064  -0.130051  ...   -0.587012  0.553173\n",
              "stroke           -0.160824  -0.008735  ...   -0.043931  0.079443\n",
              "compressionratio  0.150276  -0.178515  ...    0.265201  0.067984\n",
              "horsepower       -0.015006   0.070873  ...   -0.770544  0.808139\n",
              "peakrpm          -0.203789   0.273606  ...   -0.054275 -0.085267\n",
              "citympg           0.015940  -0.035823  ...    0.971337 -0.685751\n",
              "highwaympg        0.011255   0.034606  ...    1.000000 -0.697599\n",
              "price            -0.109093  -0.079978  ...   -0.697599  1.000000\n",
              "\n",
              "[18 rows x 18 columns]"
            ]
          },
          "metadata": {},
          "execution_count": 1030
        }
      ]
    },
    {
      "cell_type": "code",
      "metadata": {
        "colab": {
          "base_uri": "https://localhost:8080/",
          "height": 509
        },
        "id": "QGTOTfOM8u1q",
        "outputId": "c5812e1a-bf68-4331-f27c-240dc85828da"
      },
      "source": [
        "plt.figure(figsize=(15,7))\n",
        "sns.heatmap(dfcar_price.corr(), cmap=\"rainbow\", annot=True)\n",
        "plt.show()"
      ],
      "execution_count": 1031,
      "outputs": [
        {
          "output_type": "display_data",
          "data": {
            "image/png": "[encoded data removed]",
            "text/plain": [
              "<Figure size 1080x504 with 2 Axes>"
            ]
          },
          "metadata": {
            "needs_background": "light"
          }
        }
      ]
    }
  ]
}