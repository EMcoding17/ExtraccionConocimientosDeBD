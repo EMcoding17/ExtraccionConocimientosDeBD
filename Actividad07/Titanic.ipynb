{
  "nbformat": 4,
  "nbformat_minor": 0,
  "metadata": {
    "colab": {
      "name": "Titanic.ipynb",
      "provenance": [],
      "authorship_tag": "ABX9TyN0igTC+0zjm49jnzJSdcMT",
      "include_colab_link": true
    },
    "kernelspec": {
      "name": "python3",
      "display_name": "Python 3"
    },
    "language_info": {
      "name": "python"
    }
  },
  "cells": [
    {
      "cell_type": "markdown",
      "metadata": {
        "id": "view-in-github",
        "colab_type": "text"
      },
      "source": [
        "<a href=\"https://colab.research.google.com/github/EMcoding17/ExtraccionConocimientosDeBD/blob/main/Actividad07/Titanic.ipynb\" target=\"_parent\"><img src=\"https://colab.research.google.com/assets/colab-badge.svg\" alt=\"Open In Colab\"/></a>"
      ]
    },
    {
      "cell_type": "markdown",
      "metadata": {
        "id": "jzRDW4zCViSE"
      },
      "source": [
        "# **Titanic**\n",
        "#**Extraccion de conocimientos de base de datos**\n",
        "# **Romero Sosa Emma Yuridia**\n",
        "# **IDGS 91**\n",
        "\n",
        "---\n",
        "\n"
      ]
    },
    {
      "cell_type": "markdown",
      "metadata": {
        "id": "eqX_G6axVzuW"
      },
      "source": [
        "# **Importar librerias**"
      ]
    },
    {
      "cell_type": "code",
      "metadata": {
        "id": "iu5UyHvYW0J2"
      },
      "source": [
        "import pandas as pd\n",
        "import numpy as np\n",
        "import matplotlib.pyplot as plt\n",
        "\n",
        "from sklearn.linear_model import LogisticRegression\n",
        "\n",
        "from sklearn.model_selection import train_test_split\n",
        "\n",
        "from sklearn.metrics import accuracy_score, precision_score, recall_score, f1_score\n",
        "from sklearn.metrics import classification_report\n",
        "from sklearn.metrics import confusion_matrix\n",
        "from sklearn.metrics import plot_confusion_matrix\n",
        "\n",
        "pd.options.display.max_columns = 10"
      ],
      "execution_count": 1,
      "outputs": []
    },
    {
      "cell_type": "markdown",
      "metadata": {
        "id": "bbJqKrE8V2Te"
      },
      "source": [
        "# **Cargar Dataset**"
      ]
    },
    {
      "cell_type": "code",
      "metadata": {
        "colab": {
          "base_uri": "https://localhost:8080/"
        },
        "id": "WGfQNVPhZUQi",
        "outputId": "50d8c488-fcfe-4225-c60a-b4601de6a295"
      },
      "source": [
        "#Cargar dataset desde github\n",
        "!wget https://raw.githubusercontent.com/EMcoding17/ExtraccionConocimientosDeBD/main/Actividad07/titanic.csv\n",
        "df = pd.read_csv(\"titanic.csv\",delimiter=',',header='infer')"
      ],
      "execution_count": 2,
      "outputs": [
        {
          "output_type": "stream",
          "name": "stdout",
          "text": [
            "--2021-12-02 14:06:19--  https://raw.githubusercontent.com/EMcoding17/ExtraccionConocimientosDeBD/main/Actividad07/titanic.csv\n",
            "Resolving raw.githubusercontent.com (raw.githubusercontent.com)... 185.199.108.133, 185.199.111.133, 185.199.110.133, ...\n",
            "Connecting to raw.githubusercontent.com (raw.githubusercontent.com)|185.199.108.133|:443... connected.\n",
            "HTTP request sent, awaiting response... 200 OK\n",
            "Length: 22018 (22K) [text/plain]\n",
            "Saving to: ‘titanic.csv’\n",
            "\n",
            "\rtitanic.csv           0%[                    ]       0  --.-KB/s               \rtitanic.csv         100%[===================>]  21.50K  --.-KB/s    in 0s      \n",
            "\n",
            "2021-12-02 14:06:19 (89.1 MB/s) - ‘titanic.csv’ saved [22018/22018]\n",
            "\n"
          ]
        }
      ]
    },
    {
      "cell_type": "code",
      "metadata": {
        "colab": {
          "base_uri": "https://localhost:8080/"
        },
        "id": "m6hYaooBZwXS",
        "outputId": "d656b219-2b87-4aa8-fdfc-2584bc51c58f"
      },
      "source": [
        "#Mostrar forma del dataframe\n",
        "df.shape"
      ],
      "execution_count": 3,
      "outputs": [
        {
          "output_type": "execute_result",
          "data": {
            "text/plain": [
              "(887, 7)"
            ]
          },
          "metadata": {},
          "execution_count": 3
        }
      ]
    },
    {
      "cell_type": "code",
      "metadata": {
        "colab": {
          "base_uri": "https://localhost:8080/",
          "height": 206
        },
        "id": "qJea9h87ZyyJ",
        "outputId": "84ce2893-f76e-4c47-8b8e-9199a0087cc4"
      },
      "source": [
        "#Mostrar los primeros 5 registros\n",
        "df.head()"
      ],
      "execution_count": 4,
      "outputs": [
        {
          "output_type": "execute_result",
          "data": {
            "text/html": [
              "<div>\n",
              "<style scoped>\n",
              "    .dataframe tbody tr th:only-of-type {\n",
              "        vertical-align: middle;\n",
              "    }\n",
              "\n",
              "    .dataframe tbody tr th {\n",
              "        vertical-align: top;\n",
              "    }\n",
              "\n",
              "    .dataframe thead th {\n",
              "        text-align: right;\n",
              "    }\n",
              "</style>\n",
              "<table border=\"1\" class=\"dataframe\">\n",
              "  <thead>\n",
              "    <tr style=\"text-align: right;\">\n",
              "      <th></th>\n",
              "      <th>Survived</th>\n",
              "      <th>Pclass</th>\n",
              "      <th>Sex</th>\n",
              "      <th>Age</th>\n",
              "      <th>Siblings/Spouses</th>\n",
              "      <th>Parents/Children</th>\n",
              "      <th>Fare</th>\n",
              "    </tr>\n",
              "  </thead>\n",
              "  <tbody>\n",
              "    <tr>\n",
              "      <th>0</th>\n",
              "      <td>0</td>\n",
              "      <td>3</td>\n",
              "      <td>male</td>\n",
              "      <td>22.0</td>\n",
              "      <td>1</td>\n",
              "      <td>0</td>\n",
              "      <td>7.2500</td>\n",
              "    </tr>\n",
              "    <tr>\n",
              "      <th>1</th>\n",
              "      <td>1</td>\n",
              "      <td>1</td>\n",
              "      <td>female</td>\n",
              "      <td>38.0</td>\n",
              "      <td>1</td>\n",
              "      <td>0</td>\n",
              "      <td>71.2833</td>\n",
              "    </tr>\n",
              "    <tr>\n",
              "      <th>2</th>\n",
              "      <td>1</td>\n",
              "      <td>3</td>\n",
              "      <td>female</td>\n",
              "      <td>26.0</td>\n",
              "      <td>0</td>\n",
              "      <td>0</td>\n",
              "      <td>7.9250</td>\n",
              "    </tr>\n",
              "    <tr>\n",
              "      <th>3</th>\n",
              "      <td>1</td>\n",
              "      <td>1</td>\n",
              "      <td>female</td>\n",
              "      <td>35.0</td>\n",
              "      <td>1</td>\n",
              "      <td>0</td>\n",
              "      <td>53.1000</td>\n",
              "    </tr>\n",
              "    <tr>\n",
              "      <th>4</th>\n",
              "      <td>0</td>\n",
              "      <td>3</td>\n",
              "      <td>male</td>\n",
              "      <td>35.0</td>\n",
              "      <td>0</td>\n",
              "      <td>0</td>\n",
              "      <td>8.0500</td>\n",
              "    </tr>\n",
              "  </tbody>\n",
              "</table>\n",
              "</div>"
            ],
            "text/plain": [
              "   Survived  Pclass     Sex   Age  Siblings/Spouses  Parents/Children     Fare\n",
              "0         0       3    male  22.0                 1                 0   7.2500\n",
              "1         1       1  female  38.0                 1                 0  71.2833\n",
              "2         1       3  female  26.0                 0                 0   7.9250\n",
              "3         1       1  female  35.0                 1                 0  53.1000\n",
              "4         0       3    male  35.0                 0                 0   8.0500"
            ]
          },
          "metadata": {},
          "execution_count": 4
        }
      ]
    },
    {
      "cell_type": "code",
      "metadata": {
        "colab": {
          "base_uri": "https://localhost:8080/",
          "height": 206
        },
        "id": "0_HwsaI2Z0l0",
        "outputId": "5a0c9120-7c2f-4f8b-a71f-1e7a6df38c9a"
      },
      "source": [
        "#Mostrar los ultimos 5 registros\n",
        "df.tail()"
      ],
      "execution_count": 5,
      "outputs": [
        {
          "output_type": "execute_result",
          "data": {
            "text/html": [
              "<div>\n",
              "<style scoped>\n",
              "    .dataframe tbody tr th:only-of-type {\n",
              "        vertical-align: middle;\n",
              "    }\n",
              "\n",
              "    .dataframe tbody tr th {\n",
              "        vertical-align: top;\n",
              "    }\n",
              "\n",
              "    .dataframe thead th {\n",
              "        text-align: right;\n",
              "    }\n",
              "</style>\n",
              "<table border=\"1\" class=\"dataframe\">\n",
              "  <thead>\n",
              "    <tr style=\"text-align: right;\">\n",
              "      <th></th>\n",
              "      <th>Survived</th>\n",
              "      <th>Pclass</th>\n",
              "      <th>Sex</th>\n",
              "      <th>Age</th>\n",
              "      <th>Siblings/Spouses</th>\n",
              "      <th>Parents/Children</th>\n",
              "      <th>Fare</th>\n",
              "    </tr>\n",
              "  </thead>\n",
              "  <tbody>\n",
              "    <tr>\n",
              "      <th>882</th>\n",
              "      <td>0</td>\n",
              "      <td>2</td>\n",
              "      <td>male</td>\n",
              "      <td>27.0</td>\n",
              "      <td>0</td>\n",
              "      <td>0</td>\n",
              "      <td>13.00</td>\n",
              "    </tr>\n",
              "    <tr>\n",
              "      <th>883</th>\n",
              "      <td>1</td>\n",
              "      <td>1</td>\n",
              "      <td>female</td>\n",
              "      <td>19.0</td>\n",
              "      <td>0</td>\n",
              "      <td>0</td>\n",
              "      <td>30.00</td>\n",
              "    </tr>\n",
              "    <tr>\n",
              "      <th>884</th>\n",
              "      <td>0</td>\n",
              "      <td>3</td>\n",
              "      <td>female</td>\n",
              "      <td>7.0</td>\n",
              "      <td>1</td>\n",
              "      <td>2</td>\n",
              "      <td>23.45</td>\n",
              "    </tr>\n",
              "    <tr>\n",
              "      <th>885</th>\n",
              "      <td>1</td>\n",
              "      <td>1</td>\n",
              "      <td>male</td>\n",
              "      <td>26.0</td>\n",
              "      <td>0</td>\n",
              "      <td>0</td>\n",
              "      <td>30.00</td>\n",
              "    </tr>\n",
              "    <tr>\n",
              "      <th>886</th>\n",
              "      <td>0</td>\n",
              "      <td>3</td>\n",
              "      <td>male</td>\n",
              "      <td>32.0</td>\n",
              "      <td>0</td>\n",
              "      <td>0</td>\n",
              "      <td>7.75</td>\n",
              "    </tr>\n",
              "  </tbody>\n",
              "</table>\n",
              "</div>"
            ],
            "text/plain": [
              "     Survived  Pclass     Sex   Age  Siblings/Spouses  Parents/Children   Fare\n",
              "882         0       2    male  27.0                 0                 0  13.00\n",
              "883         1       1  female  19.0                 0                 0  30.00\n",
              "884         0       3  female   7.0                 1                 2  23.45\n",
              "885         1       1    male  26.0                 0                 0  30.00\n",
              "886         0       3    male  32.0                 0                 0   7.75"
            ]
          },
          "metadata": {},
          "execution_count": 5
        }
      ]
    },
    {
      "cell_type": "code",
      "metadata": {
        "colab": {
          "base_uri": "https://localhost:8080/"
        },
        "id": "-ZewlqJoZ3nL",
        "outputId": "c063357e-3c95-45fc-9a12-4b04fc956e37"
      },
      "source": [
        "#Mostrar la información del dataframe\n",
        "df.info()"
      ],
      "execution_count": 6,
      "outputs": [
        {
          "output_type": "stream",
          "name": "stdout",
          "text": [
            "<class 'pandas.core.frame.DataFrame'>\n",
            "RangeIndex: 887 entries, 0 to 886\n",
            "Data columns (total 7 columns):\n",
            " #   Column            Non-Null Count  Dtype  \n",
            "---  ------            --------------  -----  \n",
            " 0   Survived          887 non-null    int64  \n",
            " 1   Pclass            887 non-null    int64  \n",
            " 2   Sex               887 non-null    object \n",
            " 3   Age               887 non-null    float64\n",
            " 4   Siblings/Spouses  887 non-null    int64  \n",
            " 5   Parents/Children  887 non-null    int64  \n",
            " 6   Fare              887 non-null    float64\n",
            "dtypes: float64(2), int64(4), object(1)\n",
            "memory usage: 48.6+ KB\n"
          ]
        }
      ]
    },
    {
      "cell_type": "markdown",
      "metadata": {
        "id": "TY1m0iXlZ9fR"
      },
      "source": [
        "# **Limpieza de datos**"
      ]
    },
    {
      "cell_type": "code",
      "metadata": {
        "colab": {
          "base_uri": "https://localhost:8080/"
        },
        "id": "_MeoW9jpZ_nS",
        "outputId": "8e78b673-b410-4f26-d055-b8a239da5c20"
      },
      "source": [
        "#Obtener la suma de los datos faltantes de cada columna\n",
        "df.isnull().sum()"
      ],
      "execution_count": 7,
      "outputs": [
        {
          "output_type": "execute_result",
          "data": {
            "text/plain": [
              "Survived            0\n",
              "Pclass              0\n",
              "Sex                 0\n",
              "Age                 0\n",
              "Siblings/Spouses    0\n",
              "Parents/Children    0\n",
              "Fare                0\n",
              "dtype: int64"
            ]
          },
          "metadata": {},
          "execution_count": 7
        }
      ]
    },
    {
      "cell_type": "markdown",
      "metadata": {
        "id": "KF6fh-Y8bJSw"
      },
      "source": [
        "## **Columna: Feature Engineering**"
      ]
    },
    {
      "cell_type": "code",
      "metadata": {
        "id": "fz6PgbxjbQaJ"
      },
      "source": [
        "# Asignar como True cuando el valor sea 'male'\n",
        "df['Male'] = df['Sex'] == 'male'"
      ],
      "execution_count": 8,
      "outputs": []
    },
    {
      "cell_type": "code",
      "metadata": {
        "colab": {
          "base_uri": "https://localhost:8080/",
          "height": 206
        },
        "id": "mDHXwxCyb6uq",
        "outputId": "a3a20edd-4c35-4c13-aaa4-4c93621b4be5"
      },
      "source": [
        "# Mostrar dataframe modificado\n",
        "df.head()"
      ],
      "execution_count": 9,
      "outputs": [
        {
          "output_type": "execute_result",
          "data": {
            "text/html": [
              "<div>\n",
              "<style scoped>\n",
              "    .dataframe tbody tr th:only-of-type {\n",
              "        vertical-align: middle;\n",
              "    }\n",
              "\n",
              "    .dataframe tbody tr th {\n",
              "        vertical-align: top;\n",
              "    }\n",
              "\n",
              "    .dataframe thead th {\n",
              "        text-align: right;\n",
              "    }\n",
              "</style>\n",
              "<table border=\"1\" class=\"dataframe\">\n",
              "  <thead>\n",
              "    <tr style=\"text-align: right;\">\n",
              "      <th></th>\n",
              "      <th>Survived</th>\n",
              "      <th>Pclass</th>\n",
              "      <th>Sex</th>\n",
              "      <th>Age</th>\n",
              "      <th>Siblings/Spouses</th>\n",
              "      <th>Parents/Children</th>\n",
              "      <th>Fare</th>\n",
              "      <th>Male</th>\n",
              "    </tr>\n",
              "  </thead>\n",
              "  <tbody>\n",
              "    <tr>\n",
              "      <th>0</th>\n",
              "      <td>0</td>\n",
              "      <td>3</td>\n",
              "      <td>male</td>\n",
              "      <td>22.0</td>\n",
              "      <td>1</td>\n",
              "      <td>0</td>\n",
              "      <td>7.2500</td>\n",
              "      <td>True</td>\n",
              "    </tr>\n",
              "    <tr>\n",
              "      <th>1</th>\n",
              "      <td>1</td>\n",
              "      <td>1</td>\n",
              "      <td>female</td>\n",
              "      <td>38.0</td>\n",
              "      <td>1</td>\n",
              "      <td>0</td>\n",
              "      <td>71.2833</td>\n",
              "      <td>False</td>\n",
              "    </tr>\n",
              "    <tr>\n",
              "      <th>2</th>\n",
              "      <td>1</td>\n",
              "      <td>3</td>\n",
              "      <td>female</td>\n",
              "      <td>26.0</td>\n",
              "      <td>0</td>\n",
              "      <td>0</td>\n",
              "      <td>7.9250</td>\n",
              "      <td>False</td>\n",
              "    </tr>\n",
              "    <tr>\n",
              "      <th>3</th>\n",
              "      <td>1</td>\n",
              "      <td>1</td>\n",
              "      <td>female</td>\n",
              "      <td>35.0</td>\n",
              "      <td>1</td>\n",
              "      <td>0</td>\n",
              "      <td>53.1000</td>\n",
              "      <td>False</td>\n",
              "    </tr>\n",
              "    <tr>\n",
              "      <th>4</th>\n",
              "      <td>0</td>\n",
              "      <td>3</td>\n",
              "      <td>male</td>\n",
              "      <td>35.0</td>\n",
              "      <td>0</td>\n",
              "      <td>0</td>\n",
              "      <td>8.0500</td>\n",
              "      <td>True</td>\n",
              "    </tr>\n",
              "  </tbody>\n",
              "</table>\n",
              "</div>"
            ],
            "text/plain": [
              "   Survived  Pclass     Sex   Age  Siblings/Spouses  Parents/Children  \\\n",
              "0         0       3    male  22.0                 1                 0   \n",
              "1         1       1  female  38.0                 1                 0   \n",
              "2         1       3  female  26.0                 0                 0   \n",
              "3         1       1  female  35.0                 1                 0   \n",
              "4         0       3    male  35.0                 0                 0   \n",
              "\n",
              "      Fare   Male  \n",
              "0   7.2500   True  \n",
              "1  71.2833  False  \n",
              "2   7.9250  False  \n",
              "3  53.1000  False  \n",
              "4   8.0500   True  "
            ]
          },
          "metadata": {},
          "execution_count": 9
        }
      ]
    },
    {
      "cell_type": "code",
      "metadata": {
        "colab": {
          "base_uri": "https://localhost:8080/"
        },
        "id": "TzIsD8EEcXQy",
        "outputId": "ae68d594-e8b1-4317-a093-f1c5ac2611b5"
      },
      "source": [
        "#Sumar el total de datos que se asigno como True para male\n",
        "df['Male'].sum()"
      ],
      "execution_count": 10,
      "outputs": [
        {
          "output_type": "execute_result",
          "data": {
            "text/plain": [
              "573"
            ]
          },
          "metadata": {},
          "execution_count": 10
        }
      ]
    },
    {
      "cell_type": "markdown",
      "metadata": {
        "id": "n9vblEQSc4bP"
      },
      "source": [
        "# **Graficar datos**"
      ]
    },
    {
      "cell_type": "code",
      "metadata": {
        "colab": {
          "base_uri": "https://localhost:8080/",
          "height": 352
        },
        "id": "l_tIHKHRc3rm",
        "outputId": "4608ca0a-e253-4d7a-ab25-7ba32ffa7eea"
      },
      "source": [
        "plt.figure(figsize=(8,5))\n",
        "#Se grafican las columnas Fare con relacion a Age y se muestra por color segun sea la columna Male\n",
        "plt.scatter(df['Fare'], df['Age'], c=df['Male'], marker='x', cmap=\"cool\")\n",
        "plt.xlabel('Fare')\n",
        "plt.ylabel('Age')"
      ],
      "execution_count": 80,
      "outputs": [
        {
          "output_type": "execute_result",
          "data": {
            "text/plain": [
              "Text(0, 0.5, 'Age')"
            ]
          },
          "metadata": {},
          "execution_count": 80
        },
        {
          "output_type": "display_data",
          "data": {
            "image/png": "[encoded data removed]",
            "text/plain": [
              "<Figure size 576x360 with 1 Axes>"
            ]
          },
          "metadata": {
            "needs_background": "light"
          }
        }
      ]
    },
    {
      "cell_type": "markdown",
      "metadata": {
        "id": "jayYejbXedDw"
      },
      "source": [
        "# **Separar caracteristicas y objetivo**"
      ]
    },
    {
      "cell_type": "code",
      "metadata": {
        "id": "R_A-daR5ejbJ"
      },
      "source": [
        "X = df[['Pclass', 'Age', 'Siblings/Spouses',\t'Parents/Children',\t'Fare',\t'Male']].values\n",
        "Y = df['Survived'].values\n"
      ],
      "execution_count": 12,
      "outputs": []
    },
    {
      "cell_type": "code",
      "metadata": {
        "colab": {
          "base_uri": "https://localhost:8080/"
        },
        "id": "vXUJ_tGvfW9A",
        "outputId": "ae24977d-53f2-41ea-a644-2c530355654f"
      },
      "source": [
        "# Mostrar el array de X\n",
        "X"
      ],
      "execution_count": 13,
      "outputs": [
        {
          "output_type": "execute_result",
          "data": {
            "text/plain": [
              "array([[3, 22.0, 1, 0, 7.25, True],\n",
              "       [1, 38.0, 1, 0, 71.2833, False],\n",
              "       [3, 26.0, 0, 0, 7.925, False],\n",
              "       ...,\n",
              "       [3, 7.0, 1, 2, 23.45, False],\n",
              "       [1, 26.0, 0, 0, 30.0, True],\n",
              "       [3, 32.0, 0, 0, 7.75, True]], dtype=object)"
            ]
          },
          "metadata": {},
          "execution_count": 13
        }
      ]
    },
    {
      "cell_type": "code",
      "metadata": {
        "colab": {
          "base_uri": "https://localhost:8080/"
        },
        "id": "rzHTkMXFfalY",
        "outputId": "56d606b0-fd8a-4038-ce3f-e3dbc05fe35e"
      },
      "source": [
        "# Mostrar el array de Y\n",
        "Y"
      ],
      "execution_count": 14,
      "outputs": [
        {
          "output_type": "execute_result",
          "data": {
            "text/plain": [
              "array([0, 1, 1, 1, 0, 0, 0, 0, 1, 1, 1, 1, 0, 0, 0, 1, 0, 1, 0, 1, 0, 1,\n",
              "       1, 1, 0, 1, 0, 0, 1, 0, 0, 1, 1, 0, 0, 0, 1, 0, 0, 1, 0, 0, 1, 1,\n",
              "       0, 0, 1, 0, 0, 0, 0, 1, 1, 0, 1, 1, 0, 1, 0, 0, 1, 0, 0, 0, 1, 1,\n",
              "       0, 1, 0, 0, 0, 0, 0, 1, 0, 0, 0, 1, 1, 0, 1, 1, 0, 1, 1, 0, 0, 1,\n",
              "       0, 0, 0, 0, 0, 0, 0, 0, 1, 1, 0, 0, 0, 0, 0, 0, 0, 1, 1, 0, 1, 0,\n",
              "       0, 0, 0, 0, 0, 0, 0, 0, 0, 0, 0, 0, 1, 0, 1, 0, 1, 1, 0, 0, 0, 0,\n",
              "       1, 0, 0, 1, 0, 0, 0, 0, 1, 1, 0, 0, 0, 1, 0, 0, 0, 0, 1, 0, 0, 0,\n",
              "       0, 1, 0, 0, 0, 0, 1, 0, 0, 0, 1, 1, 0, 0, 0, 0, 0, 1, 0, 0, 0, 0,\n",
              "       0, 0, 0, 0, 0, 0, 1, 1, 0, 1, 1, 0, 0, 1, 0, 1, 1, 1, 1, 0, 0, 1,\n",
              "       0, 0, 0, 0, 0, 1, 0, 0, 1, 1, 1, 0, 1, 0, 0, 0, 1, 1, 0, 1, 0, 1,\n",
              "       0, 0, 0, 1, 0, 1, 0, 0, 0, 1, 0, 0, 1, 0, 0, 0, 1, 0, 0, 0, 1, 0,\n",
              "       0, 0, 0, 0, 1, 1, 0, 0, 0, 0, 0, 0, 1, 1, 1, 1, 1, 1, 0, 0, 0, 0,\n",
              "       0, 1, 1, 1, 0, 1, 1, 0, 1, 1, 0, 0, 0, 1, 0, 0, 0, 1, 0, 0, 1, 0,\n",
              "       1, 1, 1, 1, 0, 0, 0, 0, 0, 0, 1, 1, 1, 1, 0, 1, 0, 1, 1, 1, 0, 1,\n",
              "       1, 1, 0, 0, 0, 1, 1, 0, 1, 1, 0, 0, 1, 1, 0, 1, 0, 1, 1, 1, 1, 0,\n",
              "       0, 0, 1, 0, 0, 1, 1, 0, 1, 1, 0, 0, 0, 1, 1, 1, 1, 0, 0, 0, 0, 0,\n",
              "       0, 0, 1, 0, 1, 1, 0, 0, 0, 0, 0, 0, 1, 1, 1, 1, 1, 0, 0, 0, 0, 1,\n",
              "       1, 0, 0, 0, 1, 1, 0, 1, 0, 0, 0, 1, 0, 1, 1, 1, 0, 1, 1, 0, 0, 0,\n",
              "       0, 1, 1, 0, 0, 0, 0, 0, 0, 1, 0, 0, 0, 0, 1, 0, 1, 0, 1, 1, 0, 0,\n",
              "       0, 0, 0, 0, 0, 1, 1, 0, 1, 1, 1, 1, 0, 0, 1, 0, 1, 0, 0, 1, 0, 0,\n",
              "       1, 1, 1, 1, 1, 1, 1, 0, 0, 0, 1, 0, 1, 0, 1, 1, 0, 1, 0, 0, 0, 0,\n",
              "       0, 0, 0, 0, 1, 0, 0, 1, 1, 0, 0, 0, 0, 0, 1, 0, 0, 0, 1, 1, 0, 1,\n",
              "       0, 0, 1, 0, 0, 0, 0, 0, 0, 1, 0, 0, 0, 0, 0, 0, 0, 1, 0, 1, 1, 0,\n",
              "       1, 1, 0, 1, 1, 0, 0, 1, 0, 1, 0, 1, 0, 0, 1, 0, 0, 1, 0, 0, 0, 1,\n",
              "       0, 0, 1, 0, 1, 0, 1, 0, 1, 1, 0, 0, 1, 0, 0, 1, 1, 0, 1, 1, 0, 0,\n",
              "       1, 1, 0, 1, 0, 1, 1, 0, 0, 0, 0, 0, 0, 0, 0, 0, 1, 1, 1, 1, 1, 0,\n",
              "       0, 1, 1, 0, 1, 1, 1, 0, 0, 0, 1, 0, 1, 0, 0, 0, 1, 0, 0, 0, 0, 1,\n",
              "       0, 0, 1, 1, 0, 0, 0, 1, 0, 0, 1, 1, 1, 0, 0, 1, 0, 0, 1, 0, 0, 1,\n",
              "       0, 0, 1, 1, 0, 0, 0, 0, 1, 0, 0, 1, 0, 1, 0, 0, 1, 0, 0, 0, 0, 0,\n",
              "       1, 0, 1, 1, 1, 0, 1, 0, 1, 0, 1, 0, 1, 0, 0, 0, 0, 0, 0, 1, 0, 0,\n",
              "       0, 1, 0, 0, 0, 0, 1, 1, 0, 0, 1, 0, 0, 0, 1, 0, 1, 0, 1, 0, 0, 0,\n",
              "       0, 0, 0, 0, 1, 1, 1, 1, 0, 0, 0, 0, 1, 0, 0, 1, 1, 0, 0, 0, 0, 1,\n",
              "       1, 1, 1, 1, 0, 1, 0, 0, 0, 1, 1, 0, 1, 0, 0, 0, 1, 0, 1, 1, 0, 0,\n",
              "       1, 0, 0, 0, 0, 0, 0, 1, 0, 0, 1, 0, 1, 0, 1, 0, 0, 1, 0, 0, 1, 1,\n",
              "       0, 0, 1, 1, 0, 0, 0, 1, 0, 0, 1, 1, 0, 1, 0, 0, 0, 0, 0, 0, 0, 0,\n",
              "       1, 0, 0, 1, 0, 1, 1, 1, 0, 0, 0, 0, 1, 0, 1, 0, 0, 0, 0, 0, 0, 0,\n",
              "       1, 1, 0, 0, 0, 1, 1, 1, 1, 0, 0, 0, 0, 1, 0, 0, 0, 0, 0, 0, 0, 0,\n",
              "       0, 0, 1, 1, 0, 1, 0, 0, 0, 1, 1, 1, 1, 1, 0, 0, 0, 1, 0, 0, 1, 1,\n",
              "       0, 0, 1, 0, 0, 0, 0, 0, 0, 1, 0, 0, 0, 1, 0, 1, 1, 1, 1, 0, 0, 0,\n",
              "       1, 0, 0, 1, 1, 0, 0, 1, 0, 1, 0, 0, 1, 1, 0, 0, 0, 1, 1, 0, 0, 0,\n",
              "       0, 0, 0, 1, 0, 1, 0])"
            ]
          },
          "metadata": {},
          "execution_count": 14
        }
      ]
    },
    {
      "cell_type": "markdown",
      "metadata": {
        "id": "kzLXASwiffHG"
      },
      "source": [
        "# **Configurar el modelo**"
      ]
    },
    {
      "cell_type": "code",
      "metadata": {
        "id": "2rSikVTlfeN3"
      },
      "source": [
        "model = LogisticRegression()"
      ],
      "execution_count": 15,
      "outputs": []
    },
    {
      "cell_type": "markdown",
      "metadata": {
        "id": "3gpwbKqcfnvf"
      },
      "source": [
        "# **Dividir en Train y Test**"
      ]
    },
    {
      "cell_type": "code",
      "metadata": {
        "id": "1InHROmBftHq"
      },
      "source": [
        "X_train, X_test, Y_train, Y_test = train_test_split(X,Y, test_size=0.2, random_state=1234)"
      ],
      "execution_count": 16,
      "outputs": []
    },
    {
      "cell_type": "markdown",
      "metadata": {
        "id": "BHeiFrGaf8kA"
      },
      "source": [
        "# **Entrenamiento del modelo**"
      ]
    },
    {
      "cell_type": "code",
      "metadata": {
        "colab": {
          "base_uri": "https://localhost:8080/"
        },
        "id": "fE7S46tRgBFV",
        "outputId": "26347539-f213-4c45-cacb-57dc5a9d27b8"
      },
      "source": [
        "model.fit(X_train, Y_train)"
      ],
      "execution_count": 17,
      "outputs": [
        {
          "output_type": "execute_result",
          "data": {
            "text/plain": [
              "LogisticRegression()"
            ]
          },
          "metadata": {},
          "execution_count": 17
        }
      ]
    },
    {
      "cell_type": "markdown",
      "metadata": {
        "id": "OF4NfQOZgU84"
      },
      "source": [
        "# **Predicciones**"
      ]
    },
    {
      "cell_type": "code",
      "metadata": {
        "id": "m48uAB19gX2P"
      },
      "source": [
        "y_pred = model.predict(X_test)"
      ],
      "execution_count": 18,
      "outputs": []
    },
    {
      "cell_type": "markdown",
      "metadata": {
        "id": "LSTK83MaggvO"
      },
      "source": [
        "# **Analizar las predicciones**"
      ]
    },
    {
      "cell_type": "code",
      "metadata": {
        "colab": {
          "base_uri": "https://localhost:8080/"
        },
        "id": "WAChsTcigmlr",
        "outputId": "2d2170d5-ac1d-4e8c-e0c1-16b6d3dc349f"
      },
      "source": [
        "X_test.shape"
      ],
      "execution_count": 19,
      "outputs": [
        {
          "output_type": "execute_result",
          "data": {
            "text/plain": [
              "(178, 6)"
            ]
          },
          "metadata": {},
          "execution_count": 19
        }
      ]
    },
    {
      "cell_type": "code",
      "metadata": {
        "colab": {
          "base_uri": "https://localhost:8080/"
        },
        "id": "J6qK0zRfgqfl",
        "outputId": "da3d3680-8214-4553-d796-dd0e8c767db8"
      },
      "source": [
        "#Mostrar todos los registros\n",
        "X_test[0:9]"
      ],
      "execution_count": 20,
      "outputs": [
        {
          "output_type": "execute_result",
          "data": {
            "text/plain": [
              "array([[3, 19.0, 0, 0, 7.8958, True],\n",
              "       [3, 22.0, 0, 0, 7.8958, True],\n",
              "       [1, 47.0, 1, 1, 52.5542, False],\n",
              "       [2, 29.0, 0, 0, 10.5, True],\n",
              "       [3, 18.0, 0, 0, 7.7958, True],\n",
              "       [3, 39.0, 0, 0, 7.925, True],\n",
              "       [3, 14.0, 5, 2, 46.9, True],\n",
              "       [2, 24.0, 1, 2, 65.0, False],\n",
              "       [3, 36.0, 1, 0, 15.55, True]], dtype=object)"
            ]
          },
          "metadata": {},
          "execution_count": 20
        }
      ]
    },
    {
      "cell_type": "code",
      "metadata": {
        "colab": {
          "base_uri": "https://localhost:8080/"
        },
        "id": "z4NtFGpIg7uv",
        "outputId": "e2451877-f6fa-4e7e-e4f3-0ac358278350"
      },
      "source": [
        "#Datos esperados\n",
        "Y_test[9:20]"
      ],
      "execution_count": 21,
      "outputs": [
        {
          "output_type": "execute_result",
          "data": {
            "text/plain": [
              "array([1, 0, 1, 1, 0, 1, 0, 0, 0, 0, 0])"
            ]
          },
          "metadata": {},
          "execution_count": 21
        }
      ]
    },
    {
      "cell_type": "code",
      "metadata": {
        "colab": {
          "base_uri": "https://localhost:8080/"
        },
        "id": "R1L6jLdShKJ0",
        "outputId": "56317a27-9c82-4e48-e1bf-af94d91d0f0d"
      },
      "source": [
        "#Datos obtenidos\n",
        "y_pred[9:20]"
      ],
      "execution_count": 22,
      "outputs": [
        {
          "output_type": "execute_result",
          "data": {
            "text/plain": [
              "array([1, 0, 0, 1, 0, 1, 0, 1, 0, 0, 0])"
            ]
          },
          "metadata": {},
          "execution_count": 22
        }
      ]
    },
    {
      "cell_type": "markdown",
      "metadata": {
        "id": "Qp1DcM-Qh2Ds"
      },
      "source": [
        "En este caso solo dos valores obtenidos no coincidieron con los valores esperados"
      ]
    },
    {
      "cell_type": "markdown",
      "metadata": {
        "id": "m_OzWrcUiMdQ"
      },
      "source": [
        "# **Probabilidad de predicción**"
      ]
    },
    {
      "cell_type": "code",
      "metadata": {
        "colab": {
          "base_uri": "https://localhost:8080/"
        },
        "id": "Z35fHvoviQtT",
        "outputId": "4369e9ed-9abe-41e0-d654-164192151cf0"
      },
      "source": [
        "#Mostrar probabilidad de \"no sobrevivio\"\n",
        "model.predict_proba(X_test)[9:20,0]"
      ],
      "execution_count": 23,
      "outputs": [
        {
          "output_type": "execute_result",
          "data": {
            "text/plain": [
              "array([0.07951965, 0.89632751, 0.91037562, 0.29282373, 0.72591669,\n",
              "       0.48655704, 0.87166001, 0.13670495, 0.71597703, 0.93827604,\n",
              "       0.75619016])"
            ]
          },
          "metadata": {},
          "execution_count": 23
        }
      ]
    },
    {
      "cell_type": "code",
      "metadata": {
        "colab": {
          "base_uri": "https://localhost:8080/"
        },
        "id": "2SZfZ1_Ui5vg",
        "outputId": "20c009d7-edfb-4170-adf1-42b992ed5189"
      },
      "source": [
        "#Mostrar probabilidad de \"sobrevivio\"\n",
        "model.predict_proba(X_test)[9:20,1]"
      ],
      "execution_count": 24,
      "outputs": [
        {
          "output_type": "execute_result",
          "data": {
            "text/plain": [
              "array([0.92048035, 0.10367249, 0.08962438, 0.70717627, 0.27408331,\n",
              "       0.51344296, 0.12833999, 0.86329505, 0.28402297, 0.06172396,\n",
              "       0.24380984])"
            ]
          },
          "metadata": {},
          "execution_count": 24
        }
      ]
    },
    {
      "cell_type": "code",
      "metadata": {
        "id": "SpSoEutpjT-3"
      },
      "source": [
        "#Total de personas\n",
        "personas = Y.shape"
      ],
      "execution_count": 25,
      "outputs": []
    },
    {
      "cell_type": "code",
      "metadata": {
        "id": "fSYAO0rxjZyv"
      },
      "source": [
        "#Total de sobrevivientes\n",
        "sobrevivientes = Y.sum()"
      ],
      "execution_count": 26,
      "outputs": []
    },
    {
      "cell_type": "code",
      "metadata": {
        "colab": {
          "base_uri": "https://localhost:8080/"
        },
        "id": "31SArETrjmQK",
        "outputId": "cd491b3f-2297-4ba0-dd26-44c0b0bd5ae8"
      },
      "source": [
        "no_sobrevivio = (sobrevivientes/personas)*100\n",
        "print(\"Existe una probabilidad que el \", no_sobrevivio[0], \"% de personas no haya sobrevivido\")"
      ],
      "execution_count": 27,
      "outputs": [
        {
          "output_type": "stream",
          "name": "stdout",
          "text": [
            "Existe una probabilidad que el  38.55693348365276 % de personas no haya sobrevivido\n"
          ]
        }
      ]
    },
    {
      "cell_type": "markdown",
      "metadata": {
        "id": "q_VsfMrrkuSo"
      },
      "source": [
        "# **Metricas**\n",
        "\n",
        "Accuracy = numero de predicciones correctas / total de predicciones"
      ]
    },
    {
      "cell_type": "code",
      "metadata": {
        "colab": {
          "base_uri": "https://localhost:8080/"
        },
        "id": "_wL6nmcBkwEz",
        "outputId": "cb84d856-9889-4b5c-b4bc-2115c5da3943"
      },
      "source": [
        "y_pred == Y_test"
      ],
      "execution_count": 28,
      "outputs": [
        {
          "output_type": "execute_result",
          "data": {
            "text/plain": [
              "array([ True,  True,  True,  True,  True,  True,  True,  True,  True,\n",
              "        True,  True, False,  True,  True,  True,  True, False,  True,\n",
              "        True,  True,  True, False, False, False, False, False, False,\n",
              "        True,  True,  True,  True,  True,  True,  True,  True,  True,\n",
              "        True,  True,  True,  True, False,  True,  True, False,  True,\n",
              "        True,  True,  True,  True,  True,  True,  True, False,  True,\n",
              "        True,  True,  True,  True,  True,  True, False,  True,  True,\n",
              "        True,  True,  True,  True,  True,  True,  True,  True,  True,\n",
              "        True,  True,  True, False, False,  True,  True,  True,  True,\n",
              "        True,  True,  True,  True,  True,  True, False,  True,  True,\n",
              "        True,  True,  True,  True,  True,  True,  True,  True,  True,\n",
              "        True,  True,  True, False, False, False,  True,  True,  True,\n",
              "       False, False,  True,  True,  True,  True,  True,  True,  True,\n",
              "        True,  True,  True,  True,  True, False,  True, False,  True,\n",
              "        True,  True,  True,  True,  True, False, False,  True,  True,\n",
              "        True, False,  True,  True, False,  True,  True, False,  True,\n",
              "        True,  True,  True,  True,  True,  True,  True,  True, False,\n",
              "        True,  True,  True,  True,  True,  True, False,  True,  True,\n",
              "        True, False, False,  True,  True,  True,  True,  True, False,\n",
              "        True,  True,  True,  True, False,  True,  True])"
            ]
          },
          "metadata": {},
          "execution_count": 28
        }
      ]
    },
    {
      "cell_type": "code",
      "metadata": {
        "colab": {
          "base_uri": "https://localhost:8080/"
        },
        "id": "4Hvhg2BllLI4",
        "outputId": "5313ccdb-d3bf-4123-ccc6-1b332179c4d2"
      },
      "source": [
        "#Total de valores correctos\n",
        "(y_pred == Y_test).sum()"
      ],
      "execution_count": 29,
      "outputs": [
        {
          "output_type": "execute_result",
          "data": {
            "text/plain": [
              "145"
            ]
          },
          "metadata": {},
          "execution_count": 29
        }
      ]
    },
    {
      "cell_type": "code",
      "metadata": {
        "colab": {
          "base_uri": "https://localhost:8080/"
        },
        "id": "s02u7qGkldI9",
        "outputId": "dbf9128c-f552-432b-e280-c08b15b0d97c"
      },
      "source": [
        "#Exactitud del modelo\n",
        "accuracy = (y_pred == Y_test).sum() / Y_test.shape\n",
        "accuracy"
      ],
      "execution_count": 30,
      "outputs": [
        {
          "output_type": "execute_result",
          "data": {
            "text/plain": [
              "array([0.81460674])"
            ]
          },
          "metadata": {},
          "execution_count": 30
        }
      ]
    },
    {
      "cell_type": "markdown",
      "metadata": {
        "id": "9tPYz5folwZ8"
      },
      "source": [
        "El modelo cuenta con un 81% de exactitud"
      ]
    },
    {
      "cell_type": "markdown",
      "metadata": {
        "id": "js6C6mTGl_5u"
      },
      "source": [
        "# **Matriz de confusión**\n",
        "Exactitud del modelo"
      ]
    },
    {
      "cell_type": "code",
      "metadata": {
        "colab": {
          "base_uri": "https://localhost:8080/"
        },
        "id": "zJFxGp84mDXh",
        "outputId": "0e28c692-1541-4172-888e-ff5f06e4085e"
      },
      "source": [
        "cm = confusion_matrix(Y_test, y_pred)\n",
        "cm"
      ],
      "execution_count": 35,
      "outputs": [
        {
          "output_type": "execute_result",
          "data": {
            "text/plain": [
              "array([[95, 15],\n",
              "       [18, 50]])"
            ]
          },
          "metadata": {},
          "execution_count": 35
        }
      ]
    },
    {
      "cell_type": "code",
      "metadata": {
        "colab": {
          "base_uri": "https://localhost:8080/",
          "height": 354
        },
        "id": "RXjs-46pmISd",
        "outputId": "731222f9-6253-4191-c6ca-dd24d7fefff8"
      },
      "source": [
        "labels =[\"NS - Not Survived\", \"S- Survived\"]\n",
        "plot_confusion_matrix(model, X_test, Y_test, display_labels=labels, cmap=\"cool\")"
      ],
      "execution_count": 79,
      "outputs": [
        {
          "output_type": "stream",
          "name": "stderr",
          "text": [
            "/usr/local/lib/python3.7/dist-packages/sklearn/utils/deprecation.py:87: FutureWarning: Function plot_confusion_matrix is deprecated; Function `plot_confusion_matrix` is deprecated in 1.0 and will be removed in 1.2. Use one of the class methods: ConfusionMatrixDisplay.from_predictions or ConfusionMatrixDisplay.from_estimator.\n",
            "  warnings.warn(msg, category=FutureWarning)\n"
          ]
        },
        {
          "output_type": "execute_result",
          "data": {
            "text/plain": [
              "<sklearn.metrics._plot.confusion_matrix.ConfusionMatrixDisplay at 0x7f9941beb510>"
            ]
          },
          "metadata": {},
          "execution_count": 79
        },
        {
          "output_type": "display_data",
          "data": {
            "image/png": "[encoded data removed]",
            "text/plain": [
              "<Figure size 432x288 with 2 Axes>"
            ]
          },
          "metadata": {
            "needs_background": "light"
          }
        }
      ]
    },
    {
      "cell_type": "markdown",
      "metadata": {
        "id": "T2AyBA2RnS97"
      },
      "source": [
        "* **NS + NS =** Predichos correctamente\n",
        "* **NS + S =** Predichos como NS pero realmente no lo son\n",
        "* **S + NS =** Predichos como S pero realmente son NS\n",
        "* **S + S =** Predichos correctamente"
      ]
    },
    {
      "cell_type": "code",
      "metadata": {
        "colab": {
          "base_uri": "https://localhost:8080/"
        },
        "id": "GegmP0RxpyZe",
        "outputId": "a8cc3d8c-9e3a-4f85-89f4-3abd7815c4a8"
      },
      "source": [
        "print(classification_report(Y_test, y_pred, target_names=labels))"
      ],
      "execution_count": 37,
      "outputs": [
        {
          "output_type": "stream",
          "name": "stdout",
          "text": [
            "                   precision    recall  f1-score   support\n",
            "\n",
            "NS - Not Survived       0.84      0.86      0.85       110\n",
            "      S- Survived       0.77      0.74      0.75        68\n",
            "\n",
            "         accuracy                           0.81       178\n",
            "        macro avg       0.80      0.80      0.80       178\n",
            "     weighted avg       0.81      0.81      0.81       178\n",
            "\n"
          ]
        }
      ]
    },
    {
      "cell_type": "markdown",
      "metadata": {
        "id": "owX5f6HfdStG"
      },
      "source": [
        "> **Nota:** *f1-score* es la media de la *precision* y el *recall*\n",
        "\n",
        "# **Accuracy: Matriz de confusion**\n",
        "\n",
        "accuracy = suma de presicciones correctas / total de predicciones"
      ]
    },
    {
      "cell_type": "code",
      "metadata": {
        "colab": {
          "base_uri": "https://localhost:8080/"
        },
        "id": "oO5BveBod0tF",
        "outputId": "c66c524c-6ece-4f28-ef3d-c428f2c91072"
      },
      "source": [
        "pred_correctas = cm[0][0] + cm[1][1]\n",
        "pred_totales = cm[0][0] + cm[0][1] + cm[1][0] + cm[1][1]\n",
        "accuracy_matriz = pred_correctas / pred_totales\n",
        "accuracy_matriz"
      ],
      "execution_count": 72,
      "outputs": [
        {
          "output_type": "execute_result",
          "data": {
            "text/plain": [
              "0.8146067415730337"
            ]
          },
          "metadata": {},
          "execution_count": 72
        }
      ]
    },
    {
      "cell_type": "markdown",
      "metadata": {
        "id": "9urLVKQRfhBP"
      },
      "source": [
        "# **Precision**\n",
        "\n",
        "*¿Qué proporción de identificaciones positivas fue realmente correcta?*\n",
        "\n",
        "Precision = positivos predichos correctamente / predicciones positivas"
      ]
    },
    {
      "cell_type": "code",
      "metadata": {
        "colab": {
          "base_uri": "https://localhost:8080/"
        },
        "id": "ugas9_1SgEXw",
        "outputId": "6a187f7e-32b3-4340-a6a5-5875b0957570"
      },
      "source": [
        "precision = cm[1][1] / (cm[1][1] + cm[0][1])\n",
        "precision"
      ],
      "execution_count": 49,
      "outputs": [
        {
          "output_type": "execute_result",
          "data": {
            "text/plain": [
              "0.7692307692307693"
            ]
          },
          "metadata": {},
          "execution_count": 49
        }
      ]
    },
    {
      "cell_type": "markdown",
      "metadata": {
        "id": "L3YTcWGhgy5n"
      },
      "source": [
        "# **Recall**\n",
        "\n",
        "¿Qué proporción de positivos reales se identificaron correctamente?\n",
        "\n",
        "Recall = True positive / (True positive + False Negative)"
      ]
    },
    {
      "cell_type": "code",
      "metadata": {
        "colab": {
          "base_uri": "https://localhost:8080/"
        },
        "id": "34OlYJmahRxE",
        "outputId": "a498a5dc-c748-4793-9ac1-745f8e16f3aa"
      },
      "source": [
        "recall = cm[1][1] / (cm[1][1] + cm[1][0])\n",
        "recall"
      ],
      "execution_count": 50,
      "outputs": [
        {
          "output_type": "execute_result",
          "data": {
            "text/plain": [
              "0.7352941176470589"
            ]
          },
          "metadata": {},
          "execution_count": 50
        }
      ]
    },
    {
      "cell_type": "markdown",
      "metadata": {
        "id": "aNT9mU8ehqOW"
      },
      "source": [
        "# **F1_score**\n",
        "\n",
        "Es el promedio de precision y recall\n",
        "\n",
        "f1_score = 2 * ((precision*recall) / (precision + recall))"
      ]
    },
    {
      "cell_type": "code",
      "metadata": {
        "colab": {
          "base_uri": "https://localhost:8080/"
        },
        "id": "Qfx7TEjUh8dn",
        "outputId": "1dbe5e03-cf4f-483e-b547-34efc35e98dc"
      },
      "source": [
        "f1 = 2*((precision*recall) / (precision+recall))\n",
        "f1"
      ],
      "execution_count": 51,
      "outputs": [
        {
          "output_type": "execute_result",
          "data": {
            "text/plain": [
              "0.7518796992481205"
            ]
          },
          "metadata": {},
          "execution_count": 51
        }
      ]
    },
    {
      "cell_type": "markdown",
      "metadata": {
        "id": "kgznYfXxiUFd"
      },
      "source": [
        "# **SKLearn Metrics**\n",
        "\n",
        "Comparar resultados manuales con los devueltos por el classification_report"
      ]
    },
    {
      "cell_type": "code",
      "metadata": {
        "colab": {
          "base_uri": "https://localhost:8080/"
        },
        "id": "JBxpmAshivV9",
        "outputId": "b8e9a68d-a336-4739-e279-072dbd72794d"
      },
      "source": [
        "#Accuracy\n",
        "print(\"Accuracy: {} : {}\".format(accuracy_matriz, accuracy_score(Y_test,y_pred)))"
      ],
      "execution_count": 53,
      "outputs": [
        {
          "output_type": "stream",
          "name": "stdout",
          "text": [
            "Accuracy: 0.8146067415730337 : 0.8146067415730337\n"
          ]
        }
      ]
    },
    {
      "cell_type": "code",
      "metadata": {
        "colab": {
          "base_uri": "https://localhost:8080/"
        },
        "id": "G_uku3s8jeOn",
        "outputId": "a1d55556-0a49-40a7-828a-1f73284f9f0b"
      },
      "source": [
        "#Precision\n",
        "print(\"Precision: {} : {}\".format(precision, precision_score(Y_test,y_pred)))"
      ],
      "execution_count": 55,
      "outputs": [
        {
          "output_type": "stream",
          "name": "stdout",
          "text": [
            "Precision: 0.7692307692307693 : 0.7692307692307693\n"
          ]
        }
      ]
    },
    {
      "cell_type": "code",
      "metadata": {
        "colab": {
          "base_uri": "https://localhost:8080/"
        },
        "id": "r-hhYDNSjv25",
        "outputId": "1f4e62c0-c48f-4b28-fbd8-8b0b80c42718"
      },
      "source": [
        "#Recall\n",
        "print(\"Recall: {} : {}\".format(recall, recall_score(Y_test,y_pred)))"
      ],
      "execution_count": 56,
      "outputs": [
        {
          "output_type": "stream",
          "name": "stdout",
          "text": [
            "Recall: 0.7352941176470589 : 0.7352941176470589\n"
          ]
        }
      ]
    },
    {
      "cell_type": "code",
      "metadata": {
        "colab": {
          "base_uri": "https://localhost:8080/"
        },
        "id": "W330ortDj9eT",
        "outputId": "3445733c-9bda-41c8-ab59-efac2d730634"
      },
      "source": [
        "#F1_score\n",
        "print(\"F1_score: {} : {}\".format(f1, f1_score(Y_test,y_pred)))"
      ],
      "execution_count": 57,
      "outputs": [
        {
          "output_type": "stream",
          "name": "stdout",
          "text": [
            "F1_score: 0.7518796992481205 : 0.7518796992481205\n"
          ]
        }
      ]
    },
    {
      "cell_type": "code",
      "metadata": {
        "colab": {
          "base_uri": "https://localhost:8080/"
        },
        "id": "-i5Mgc85kEuo",
        "outputId": "78573741-d725-4942-fafc-759303831ca4"
      },
      "source": [
        "#Mostrar valores\n",
        "print(classification_report(Y_test,y_pred))"
      ],
      "execution_count": 58,
      "outputs": [
        {
          "output_type": "stream",
          "name": "stdout",
          "text": [
            "              precision    recall  f1-score   support\n",
            "\n",
            "           0       0.84      0.86      0.85       110\n",
            "           1       0.77      0.74      0.75        68\n",
            "\n",
            "    accuracy                           0.81       178\n",
            "   macro avg       0.80      0.80      0.80       178\n",
            "weighted avg       0.81      0.81      0.81       178\n",
            "\n"
          ]
        }
      ]
    },
    {
      "cell_type": "markdown",
      "metadata": {
        "id": "kIn83lcCkh_c"
      },
      "source": [
        "# **Cambiar el umbral (Thresold)**\n",
        "\n",
        "Cambiar a que clase pertenece"
      ]
    },
    {
      "cell_type": "code",
      "metadata": {
        "colab": {
          "base_uri": "https://localhost:8080/"
        },
        "id": "mW-_HlTOkYnO",
        "outputId": "48b1bbed-03cc-4f49-c310-eaecb3dbdcc9"
      },
      "source": [
        "#Cambiar sesgo indicar que la persona sobrevivio si su probabilidad es mayor a 0.75\n",
        "y_pred2=model.predict_proba(X_test)[:,1] >= 0.60\n",
        "(y_pred2).sum()"
      ],
      "execution_count": 70,
      "outputs": [
        {
          "output_type": "execute_result",
          "data": {
            "text/plain": [
              "55"
            ]
          },
          "metadata": {},
          "execution_count": 70
        }
      ]
    },
    {
      "cell_type": "code",
      "metadata": {
        "colab": {
          "base_uri": "https://localhost:8080/"
        },
        "id": "VgCF4ZXZldak",
        "outputId": "912fd925-46b1-486e-81a5-a73ffbb44f3f"
      },
      "source": [
        "print(classification_report(Y_test, y_pred2))"
      ],
      "execution_count": 71,
      "outputs": [
        {
          "output_type": "stream",
          "name": "stdout",
          "text": [
            "              precision    recall  f1-score   support\n",
            "\n",
            "           0       0.82      0.92      0.87       110\n",
            "           1       0.84      0.68      0.75        68\n",
            "\n",
            "    accuracy                           0.83       178\n",
            "   macro avg       0.83      0.80      0.81       178\n",
            "weighted avg       0.83      0.83      0.82       178\n",
            "\n"
          ]
        }
      ]
    },
    {
      "cell_type": "markdown",
      "metadata": {
        "id": "9e69s6w3mQ21"
      },
      "source": [
        "\n",
        "\n",
        "---\n",
        "\n",
        "# **Conclusión**\n",
        "\n",
        "Durante esta actividad aprendimos sobre feature engineering que se basa en seleccionar y transformar columnas categoricas para convertirlas a columnas numericas, dondole un mayor valor a nuestros modelos predictivos.\n",
        "\n",
        "Por otro lado, analizamos la matriz de confusion y la funcion classification_report, además, aprendimos a realizar las formulas para acurracy, precisión, recall y f1_score.\n",
        "\n",
        "Finalmente, realizamos un Thresold o cambio de umbral, que se basa en cambiar el sesgo del modelo predictivo, para mejorar los niveles de probabilidad."
      ]
    }
  ]
}